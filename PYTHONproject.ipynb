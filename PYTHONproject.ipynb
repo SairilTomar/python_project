{
  "nbformat": 4,
  "nbformat_minor": 0,
  "metadata": {
    "colab": {
      "provenance": [],
      "authorship_tag": "ABX9TyPWm4tjh1ymU5KMid5M1X5W",
      "include_colab_link": true
    },
    "kernelspec": {
      "name": "python3",
      "display_name": "Python 3"
    },
    "language_info": {
      "name": "python"
    }
  },
  "cells": [
    {
      "cell_type": "markdown",
      "metadata": {
        "id": "view-in-github",
        "colab_type": "text"
      },
      "source": [
        "<a href=\"https://colab.research.google.com/github/SairilTomar/python_project/blob/main/PYTHONproject.ipynb\" target=\"_parent\"><img src=\"https://colab.research.google.com/assets/colab-badge.svg\" alt=\"Open In Colab\"/></a>"
      ]
    },
    {
      "cell_type": "code",
      "execution_count": null,
      "metadata": {
        "id": "rU7q-ifAu6mP"
      },
      "outputs": [],
      "source": []
    },
    {
      "cell_type": "markdown",
      "source": [
        "**MOVIE RECOMMENDATION SYSTEM**\n",
        "\n",
        "\n",
        "\n",
        "**Recommender System** is a system that seeks to predict or filter preferences according to the user's choices. Recommendation systems are utilized on a variety of areas including movies,music,news,books,research articles,search queries, social tags, and products in general.\n",
        "Recommender systems produce a list of recommendations in any of the two ways-\n",
        "\n",
        "**Collaborative filtering**: Collaborative filtering appproaches build a model from the user's past behaviour(i.e. items purchased or seached by the user)as well as similar decisions made by other users. This model is then used to predict items(or ratings for items)that users may have an interest in.\n",
        "\n",
        "**Content- based filtering**: Content-based filtering approaches a series of discrete characteristics of an item in order to recommend additional items with similar properites. Contest-based filtering methods are totally based on a description of the item and a profile of the user's preferences. It recommends items based on the user's past preferences."
      ],
      "metadata": {
        "id": "2T4dw3i_iX6K"
      }
    },
    {
      "cell_type": "markdown",
      "source": [
        "**Import Library**"
      ],
      "metadata": {
        "id": "Ubz-Gb-7q7cW"
      }
    },
    {
      "cell_type": "code",
      "source": [
        "import pandas as pd"
      ],
      "metadata": {
        "id": "TC0-eSucrU25"
      },
      "execution_count": null,
      "outputs": []
    },
    {
      "cell_type": "code",
      "source": [
        "import numpy as np"
      ],
      "metadata": {
        "id": "VeUigJEVxmWE"
      },
      "execution_count": null,
      "outputs": []
    },
    {
      "cell_type": "markdown",
      "source": [
        "**Import Dataset**"
      ],
      "metadata": {
        "id": "G9iel8iyrd0F"
      }
    },
    {
      "cell_type": "code",
      "source": [
        "df = pd.read_csv('https://github.com/YBI-Foundation/Dataset/raw/main/Movies%20Recommendation.csv')"
      ],
      "metadata": {
        "id": "fdTE2MgJzjsa"
      },
      "execution_count": null,
      "outputs": []
    },
    {
      "cell_type": "code",
      "source": [
        "df.head()"
      ],
      "metadata": {
        "colab": {
          "base_uri": "https://localhost:8080/",
          "height": 672
        },
        "id": "PfpXC3MzlWhP",
        "outputId": "51754b7b-9337-482f-b630-48902bb297c5"
      },
      "execution_count": null,
      "outputs": [
        {
          "output_type": "execute_result",
          "data": {
            "text/plain": [
              "   Movie_ID      Movie_Title                       Movie_Genre Movie_Language  \\\n",
              "0         1       Four Rooms                      Crime Comedy             en   \n",
              "1         2        Star Wars  Adventure Action Science Fiction             en   \n",
              "2         3     Finding Nemo                  Animation Family             en   \n",
              "3         4     Forrest Gump              Comedy Drama Romance             en   \n",
              "4         5  American Beauty                             Drama             en   \n",
              "\n",
              "   Movie_Budget  Movie_Popularity Movie_Release_Date  Movie_Revenue  \\\n",
              "0       4000000         22.876230         09-12-1995        4300000   \n",
              "1      11000000        126.393695         25-05-1977      775398007   \n",
              "2      94000000         85.688789         30-05-2003      940335536   \n",
              "3      55000000        138.133331         06-07-1994      677945399   \n",
              "4      15000000         80.878605         15-09-1999      356296601   \n",
              "\n",
              "   Movie_Runtime  Movie_Vote  ...  \\\n",
              "0           98.0         6.5  ...   \n",
              "1          121.0         8.1  ...   \n",
              "2          100.0         7.6  ...   \n",
              "3          142.0         8.2  ...   \n",
              "4          122.0         7.9  ...   \n",
              "\n",
              "                                      Movie_Homepage  \\\n",
              "0                                                NaN   \n",
              "1  http://www.starwars.com/films/star-wars-episod...   \n",
              "2              http://movies.disney.com/finding-nemo   \n",
              "3                                                NaN   \n",
              "4                      http://www.dreamworks.com/ab/   \n",
              "\n",
              "                                      Movie_Keywords  \\\n",
              "0          hotel new year's eve witch bet hotel room   \n",
              "1        android galaxy hermit death star lightsaber   \n",
              "2  father son relationship harbor underwater fish...   \n",
              "3  vietnam veteran hippie mentally disabled runni...   \n",
              "4  male nudity female nudity adultery midlife cri...   \n",
              "\n",
              "                                      Movie_Overview  \\\n",
              "0  It's Ted the Bellhop's first night on the job....   \n",
              "1  Princess Leia is captured and held hostage by ...   \n",
              "2  Nemo, an adventurous young clownfish, is unexp...   \n",
              "3  A man with a low IQ has accomplished great thi...   \n",
              "4  Lester Burnham, a depressed suburban father in...   \n",
              "\n",
              "                              Movie_Production_House  \\\n",
              "0  [{\"name\": \"Miramax Films\", \"id\": 14}, {\"name\":...   \n",
              "1  [{\"name\": \"Lucasfilm\", \"id\": 1}, {\"name\": \"Twe...   \n",
              "2     [{\"name\": \"Pixar Animation Studios\", \"id\": 3}]   \n",
              "3          [{\"name\": \"Paramount Pictures\", \"id\": 4}]   \n",
              "4  [{\"name\": \"DreamWorks SKG\", \"id\": 27}, {\"name\"...   \n",
              "\n",
              "                            Movie_Production_Country  \\\n",
              "0  [{\"iso_3166_1\": \"US\", \"name\": \"United States o...   \n",
              "1  [{\"iso_3166_1\": \"US\", \"name\": \"United States o...   \n",
              "2  [{\"iso_3166_1\": \"US\", \"name\": \"United States o...   \n",
              "3  [{\"iso_3166_1\": \"US\", \"name\": \"United States o...   \n",
              "4  [{\"iso_3166_1\": \"US\", \"name\": \"United States o...   \n",
              "\n",
              "                      Movie_Spoken_Language  \\\n",
              "0  [{\"iso_639_1\": \"en\", \"name\": \"English\"}]   \n",
              "1  [{\"iso_639_1\": \"en\", \"name\": \"English\"}]   \n",
              "2  [{\"iso_639_1\": \"en\", \"name\": \"English\"}]   \n",
              "3  [{\"iso_639_1\": \"en\", \"name\": \"English\"}]   \n",
              "4  [{\"iso_639_1\": \"en\", \"name\": \"English\"}]   \n",
              "\n",
              "                                       Movie_Tagline  \\\n",
              "0  Twelve outrageous guests. Four scandalous requ...   \n",
              "1       A long time ago in a galaxy far, far away...   \n",
              "2  There are 3.7 trillion fish in the ocean, they...   \n",
              "3  The world will never be the same, once you've ...   \n",
              "4                                       Look closer.   \n",
              "\n",
              "                                          Movie_Cast  \\\n",
              "0  Tim Roth Antonio Banderas Jennifer Beals Madon...   \n",
              "1  Mark Hamill Harrison Ford Carrie Fisher Peter ...   \n",
              "2  Albert Brooks Ellen DeGeneres Alexander Gould ...   \n",
              "3  Tom Hanks Robin Wright Gary Sinise Mykelti Wil...   \n",
              "4  Kevin Spacey Annette Bening Thora Birch Wes Be...   \n",
              "\n",
              "                                          Movie_Crew   Movie_Director  \n",
              "0  [{'name': 'Allison Anders', 'gender': 1, 'depa...   Allison Anders  \n",
              "1  [{'name': 'George Lucas', 'gender': 2, 'depart...     George Lucas  \n",
              "2  [{'name': 'Andrew Stanton', 'gender': 2, 'depa...   Andrew Stanton  \n",
              "3  [{'name': 'Alan Silvestri', 'gender': 2, 'depa...  Robert Zemeckis  \n",
              "4  [{'name': 'Thomas Newman', 'gender': 2, 'depar...       Sam Mendes  \n",
              "\n",
              "[5 rows x 21 columns]"
            ],
            "text/html": [
              "\n",
              "  <div id=\"df-60734109-ff22-4354-94cb-2fba64c3b446\" class=\"colab-df-container\">\n",
              "    <div>\n",
              "<style scoped>\n",
              "    .dataframe tbody tr th:only-of-type {\n",
              "        vertical-align: middle;\n",
              "    }\n",
              "\n",
              "    .dataframe tbody tr th {\n",
              "        vertical-align: top;\n",
              "    }\n",
              "\n",
              "    .dataframe thead th {\n",
              "        text-align: right;\n",
              "    }\n",
              "</style>\n",
              "<table border=\"1\" class=\"dataframe\">\n",
              "  <thead>\n",
              "    <tr style=\"text-align: right;\">\n",
              "      <th></th>\n",
              "      <th>Movie_ID</th>\n",
              "      <th>Movie_Title</th>\n",
              "      <th>Movie_Genre</th>\n",
              "      <th>Movie_Language</th>\n",
              "      <th>Movie_Budget</th>\n",
              "      <th>Movie_Popularity</th>\n",
              "      <th>Movie_Release_Date</th>\n",
              "      <th>Movie_Revenue</th>\n",
              "      <th>Movie_Runtime</th>\n",
              "      <th>Movie_Vote</th>\n",
              "      <th>...</th>\n",
              "      <th>Movie_Homepage</th>\n",
              "      <th>Movie_Keywords</th>\n",
              "      <th>Movie_Overview</th>\n",
              "      <th>Movie_Production_House</th>\n",
              "      <th>Movie_Production_Country</th>\n",
              "      <th>Movie_Spoken_Language</th>\n",
              "      <th>Movie_Tagline</th>\n",
              "      <th>Movie_Cast</th>\n",
              "      <th>Movie_Crew</th>\n",
              "      <th>Movie_Director</th>\n",
              "    </tr>\n",
              "  </thead>\n",
              "  <tbody>\n",
              "    <tr>\n",
              "      <th>0</th>\n",
              "      <td>1</td>\n",
              "      <td>Four Rooms</td>\n",
              "      <td>Crime Comedy</td>\n",
              "      <td>en</td>\n",
              "      <td>4000000</td>\n",
              "      <td>22.876230</td>\n",
              "      <td>09-12-1995</td>\n",
              "      <td>4300000</td>\n",
              "      <td>98.0</td>\n",
              "      <td>6.5</td>\n",
              "      <td>...</td>\n",
              "      <td>NaN</td>\n",
              "      <td>hotel new year's eve witch bet hotel room</td>\n",
              "      <td>It's Ted the Bellhop's first night on the job....</td>\n",
              "      <td>[{\"name\": \"Miramax Films\", \"id\": 14}, {\"name\":...</td>\n",
              "      <td>[{\"iso_3166_1\": \"US\", \"name\": \"United States o...</td>\n",
              "      <td>[{\"iso_639_1\": \"en\", \"name\": \"English\"}]</td>\n",
              "      <td>Twelve outrageous guests. Four scandalous requ...</td>\n",
              "      <td>Tim Roth Antonio Banderas Jennifer Beals Madon...</td>\n",
              "      <td>[{'name': 'Allison Anders', 'gender': 1, 'depa...</td>\n",
              "      <td>Allison Anders</td>\n",
              "    </tr>\n",
              "    <tr>\n",
              "      <th>1</th>\n",
              "      <td>2</td>\n",
              "      <td>Star Wars</td>\n",
              "      <td>Adventure Action Science Fiction</td>\n",
              "      <td>en</td>\n",
              "      <td>11000000</td>\n",
              "      <td>126.393695</td>\n",
              "      <td>25-05-1977</td>\n",
              "      <td>775398007</td>\n",
              "      <td>121.0</td>\n",
              "      <td>8.1</td>\n",
              "      <td>...</td>\n",
              "      <td>http://www.starwars.com/films/star-wars-episod...</td>\n",
              "      <td>android galaxy hermit death star lightsaber</td>\n",
              "      <td>Princess Leia is captured and held hostage by ...</td>\n",
              "      <td>[{\"name\": \"Lucasfilm\", \"id\": 1}, {\"name\": \"Twe...</td>\n",
              "      <td>[{\"iso_3166_1\": \"US\", \"name\": \"United States o...</td>\n",
              "      <td>[{\"iso_639_1\": \"en\", \"name\": \"English\"}]</td>\n",
              "      <td>A long time ago in a galaxy far, far away...</td>\n",
              "      <td>Mark Hamill Harrison Ford Carrie Fisher Peter ...</td>\n",
              "      <td>[{'name': 'George Lucas', 'gender': 2, 'depart...</td>\n",
              "      <td>George Lucas</td>\n",
              "    </tr>\n",
              "    <tr>\n",
              "      <th>2</th>\n",
              "      <td>3</td>\n",
              "      <td>Finding Nemo</td>\n",
              "      <td>Animation Family</td>\n",
              "      <td>en</td>\n",
              "      <td>94000000</td>\n",
              "      <td>85.688789</td>\n",
              "      <td>30-05-2003</td>\n",
              "      <td>940335536</td>\n",
              "      <td>100.0</td>\n",
              "      <td>7.6</td>\n",
              "      <td>...</td>\n",
              "      <td>http://movies.disney.com/finding-nemo</td>\n",
              "      <td>father son relationship harbor underwater fish...</td>\n",
              "      <td>Nemo, an adventurous young clownfish, is unexp...</td>\n",
              "      <td>[{\"name\": \"Pixar Animation Studios\", \"id\": 3}]</td>\n",
              "      <td>[{\"iso_3166_1\": \"US\", \"name\": \"United States o...</td>\n",
              "      <td>[{\"iso_639_1\": \"en\", \"name\": \"English\"}]</td>\n",
              "      <td>There are 3.7 trillion fish in the ocean, they...</td>\n",
              "      <td>Albert Brooks Ellen DeGeneres Alexander Gould ...</td>\n",
              "      <td>[{'name': 'Andrew Stanton', 'gender': 2, 'depa...</td>\n",
              "      <td>Andrew Stanton</td>\n",
              "    </tr>\n",
              "    <tr>\n",
              "      <th>3</th>\n",
              "      <td>4</td>\n",
              "      <td>Forrest Gump</td>\n",
              "      <td>Comedy Drama Romance</td>\n",
              "      <td>en</td>\n",
              "      <td>55000000</td>\n",
              "      <td>138.133331</td>\n",
              "      <td>06-07-1994</td>\n",
              "      <td>677945399</td>\n",
              "      <td>142.0</td>\n",
              "      <td>8.2</td>\n",
              "      <td>...</td>\n",
              "      <td>NaN</td>\n",
              "      <td>vietnam veteran hippie mentally disabled runni...</td>\n",
              "      <td>A man with a low IQ has accomplished great thi...</td>\n",
              "      <td>[{\"name\": \"Paramount Pictures\", \"id\": 4}]</td>\n",
              "      <td>[{\"iso_3166_1\": \"US\", \"name\": \"United States o...</td>\n",
              "      <td>[{\"iso_639_1\": \"en\", \"name\": \"English\"}]</td>\n",
              "      <td>The world will never be the same, once you've ...</td>\n",
              "      <td>Tom Hanks Robin Wright Gary Sinise Mykelti Wil...</td>\n",
              "      <td>[{'name': 'Alan Silvestri', 'gender': 2, 'depa...</td>\n",
              "      <td>Robert Zemeckis</td>\n",
              "    </tr>\n",
              "    <tr>\n",
              "      <th>4</th>\n",
              "      <td>5</td>\n",
              "      <td>American Beauty</td>\n",
              "      <td>Drama</td>\n",
              "      <td>en</td>\n",
              "      <td>15000000</td>\n",
              "      <td>80.878605</td>\n",
              "      <td>15-09-1999</td>\n",
              "      <td>356296601</td>\n",
              "      <td>122.0</td>\n",
              "      <td>7.9</td>\n",
              "      <td>...</td>\n",
              "      <td>http://www.dreamworks.com/ab/</td>\n",
              "      <td>male nudity female nudity adultery midlife cri...</td>\n",
              "      <td>Lester Burnham, a depressed suburban father in...</td>\n",
              "      <td>[{\"name\": \"DreamWorks SKG\", \"id\": 27}, {\"name\"...</td>\n",
              "      <td>[{\"iso_3166_1\": \"US\", \"name\": \"United States o...</td>\n",
              "      <td>[{\"iso_639_1\": \"en\", \"name\": \"English\"}]</td>\n",
              "      <td>Look closer.</td>\n",
              "      <td>Kevin Spacey Annette Bening Thora Birch Wes Be...</td>\n",
              "      <td>[{'name': 'Thomas Newman', 'gender': 2, 'depar...</td>\n",
              "      <td>Sam Mendes</td>\n",
              "    </tr>\n",
              "  </tbody>\n",
              "</table>\n",
              "<p>5 rows × 21 columns</p>\n",
              "</div>\n",
              "    <div class=\"colab-df-buttons\">\n",
              "\n",
              "  <div class=\"colab-df-container\">\n",
              "    <button class=\"colab-df-convert\" onclick=\"convertToInteractive('df-60734109-ff22-4354-94cb-2fba64c3b446')\"\n",
              "            title=\"Convert this dataframe to an interactive table.\"\n",
              "            style=\"display:none;\">\n",
              "\n",
              "  <svg xmlns=\"http://www.w3.org/2000/svg\" height=\"24px\" viewBox=\"0 -960 960 960\">\n",
              "    <path d=\"M120-120v-720h720v720H120Zm60-500h600v-160H180v160Zm220 220h160v-160H400v160Zm0 220h160v-160H400v160ZM180-400h160v-160H180v160Zm440 0h160v-160H620v160ZM180-180h160v-160H180v160Zm440 0h160v-160H620v160Z\"/>\n",
              "  </svg>\n",
              "    </button>\n",
              "\n",
              "  <style>\n",
              "    .colab-df-container {\n",
              "      display:flex;\n",
              "      gap: 12px;\n",
              "    }\n",
              "\n",
              "    .colab-df-convert {\n",
              "      background-color: #E8F0FE;\n",
              "      border: none;\n",
              "      border-radius: 50%;\n",
              "      cursor: pointer;\n",
              "      display: none;\n",
              "      fill: #1967D2;\n",
              "      height: 32px;\n",
              "      padding: 0 0 0 0;\n",
              "      width: 32px;\n",
              "    }\n",
              "\n",
              "    .colab-df-convert:hover {\n",
              "      background-color: #E2EBFA;\n",
              "      box-shadow: 0px 1px 2px rgba(60, 64, 67, 0.3), 0px 1px 3px 1px rgba(60, 64, 67, 0.15);\n",
              "      fill: #174EA6;\n",
              "    }\n",
              "\n",
              "    .colab-df-buttons div {\n",
              "      margin-bottom: 4px;\n",
              "    }\n",
              "\n",
              "    [theme=dark] .colab-df-convert {\n",
              "      background-color: #3B4455;\n",
              "      fill: #D2E3FC;\n",
              "    }\n",
              "\n",
              "    [theme=dark] .colab-df-convert:hover {\n",
              "      background-color: #434B5C;\n",
              "      box-shadow: 0px 1px 3px 1px rgba(0, 0, 0, 0.15);\n",
              "      filter: drop-shadow(0px 1px 2px rgba(0, 0, 0, 0.3));\n",
              "      fill: #FFFFFF;\n",
              "    }\n",
              "  </style>\n",
              "\n",
              "    <script>\n",
              "      const buttonEl =\n",
              "        document.querySelector('#df-60734109-ff22-4354-94cb-2fba64c3b446 button.colab-df-convert');\n",
              "      buttonEl.style.display =\n",
              "        google.colab.kernel.accessAllowed ? 'block' : 'none';\n",
              "\n",
              "      async function convertToInteractive(key) {\n",
              "        const element = document.querySelector('#df-60734109-ff22-4354-94cb-2fba64c3b446');\n",
              "        const dataTable =\n",
              "          await google.colab.kernel.invokeFunction('convertToInteractive',\n",
              "                                                    [key], {});\n",
              "        if (!dataTable) return;\n",
              "\n",
              "        const docLinkHtml = 'Like what you see? Visit the ' +\n",
              "          '<a target=\"_blank\" href=https://colab.research.google.com/notebooks/data_table.ipynb>data table notebook</a>'\n",
              "          + ' to learn more about interactive tables.';\n",
              "        element.innerHTML = '';\n",
              "        dataTable['output_type'] = 'display_data';\n",
              "        await google.colab.output.renderOutput(dataTable, element);\n",
              "        const docLink = document.createElement('div');\n",
              "        docLink.innerHTML = docLinkHtml;\n",
              "        element.appendChild(docLink);\n",
              "      }\n",
              "    </script>\n",
              "  </div>\n",
              "\n",
              "\n",
              "<div id=\"df-eebfedd5-0e2d-487b-8b41-71576f3bbd73\">\n",
              "  <button class=\"colab-df-quickchart\" onclick=\"quickchart('df-eebfedd5-0e2d-487b-8b41-71576f3bbd73')\"\n",
              "            title=\"Suggest charts.\"\n",
              "            style=\"display:none;\">\n",
              "\n",
              "<svg xmlns=\"http://www.w3.org/2000/svg\" height=\"24px\"viewBox=\"0 0 24 24\"\n",
              "     width=\"24px\">\n",
              "    <g>\n",
              "        <path d=\"M19 3H5c-1.1 0-2 .9-2 2v14c0 1.1.9 2 2 2h14c1.1 0 2-.9 2-2V5c0-1.1-.9-2-2-2zM9 17H7v-7h2v7zm4 0h-2V7h2v10zm4 0h-2v-4h2v4z\"/>\n",
              "    </g>\n",
              "</svg>\n",
              "  </button>\n",
              "\n",
              "<style>\n",
              "  .colab-df-quickchart {\n",
              "      --bg-color: #E8F0FE;\n",
              "      --fill-color: #1967D2;\n",
              "      --hover-bg-color: #E2EBFA;\n",
              "      --hover-fill-color: #174EA6;\n",
              "      --disabled-fill-color: #AAA;\n",
              "      --disabled-bg-color: #DDD;\n",
              "  }\n",
              "\n",
              "  [theme=dark] .colab-df-quickchart {\n",
              "      --bg-color: #3B4455;\n",
              "      --fill-color: #D2E3FC;\n",
              "      --hover-bg-color: #434B5C;\n",
              "      --hover-fill-color: #FFFFFF;\n",
              "      --disabled-bg-color: #3B4455;\n",
              "      --disabled-fill-color: #666;\n",
              "  }\n",
              "\n",
              "  .colab-df-quickchart {\n",
              "    background-color: var(--bg-color);\n",
              "    border: none;\n",
              "    border-radius: 50%;\n",
              "    cursor: pointer;\n",
              "    display: none;\n",
              "    fill: var(--fill-color);\n",
              "    height: 32px;\n",
              "    padding: 0;\n",
              "    width: 32px;\n",
              "  }\n",
              "\n",
              "  .colab-df-quickchart:hover {\n",
              "    background-color: var(--hover-bg-color);\n",
              "    box-shadow: 0 1px 2px rgba(60, 64, 67, 0.3), 0 1px 3px 1px rgba(60, 64, 67, 0.15);\n",
              "    fill: var(--button-hover-fill-color);\n",
              "  }\n",
              "\n",
              "  .colab-df-quickchart-complete:disabled,\n",
              "  .colab-df-quickchart-complete:disabled:hover {\n",
              "    background-color: var(--disabled-bg-color);\n",
              "    fill: var(--disabled-fill-color);\n",
              "    box-shadow: none;\n",
              "  }\n",
              "\n",
              "  .colab-df-spinner {\n",
              "    border: 2px solid var(--fill-color);\n",
              "    border-color: transparent;\n",
              "    border-bottom-color: var(--fill-color);\n",
              "    animation:\n",
              "      spin 1s steps(1) infinite;\n",
              "  }\n",
              "\n",
              "  @keyframes spin {\n",
              "    0% {\n",
              "      border-color: transparent;\n",
              "      border-bottom-color: var(--fill-color);\n",
              "      border-left-color: var(--fill-color);\n",
              "    }\n",
              "    20% {\n",
              "      border-color: transparent;\n",
              "      border-left-color: var(--fill-color);\n",
              "      border-top-color: var(--fill-color);\n",
              "    }\n",
              "    30% {\n",
              "      border-color: transparent;\n",
              "      border-left-color: var(--fill-color);\n",
              "      border-top-color: var(--fill-color);\n",
              "      border-right-color: var(--fill-color);\n",
              "    }\n",
              "    40% {\n",
              "      border-color: transparent;\n",
              "      border-right-color: var(--fill-color);\n",
              "      border-top-color: var(--fill-color);\n",
              "    }\n",
              "    60% {\n",
              "      border-color: transparent;\n",
              "      border-right-color: var(--fill-color);\n",
              "    }\n",
              "    80% {\n",
              "      border-color: transparent;\n",
              "      border-right-color: var(--fill-color);\n",
              "      border-bottom-color: var(--fill-color);\n",
              "    }\n",
              "    90% {\n",
              "      border-color: transparent;\n",
              "      border-bottom-color: var(--fill-color);\n",
              "    }\n",
              "  }\n",
              "</style>\n",
              "\n",
              "  <script>\n",
              "    async function quickchart(key) {\n",
              "      const quickchartButtonEl =\n",
              "        document.querySelector('#' + key + ' button');\n",
              "      quickchartButtonEl.disabled = true;  // To prevent multiple clicks.\n",
              "      quickchartButtonEl.classList.add('colab-df-spinner');\n",
              "      try {\n",
              "        const charts = await google.colab.kernel.invokeFunction(\n",
              "            'suggestCharts', [key], {});\n",
              "      } catch (error) {\n",
              "        console.error('Error during call to suggestCharts:', error);\n",
              "      }\n",
              "      quickchartButtonEl.classList.remove('colab-df-spinner');\n",
              "      quickchartButtonEl.classList.add('colab-df-quickchart-complete');\n",
              "    }\n",
              "    (() => {\n",
              "      let quickchartButtonEl =\n",
              "        document.querySelector('#df-eebfedd5-0e2d-487b-8b41-71576f3bbd73 button');\n",
              "      quickchartButtonEl.style.display =\n",
              "        google.colab.kernel.accessAllowed ? 'block' : 'none';\n",
              "    })();\n",
              "  </script>\n",
              "</div>\n",
              "    </div>\n",
              "  </div>\n"
            ]
          },
          "metadata": {},
          "execution_count": 195
        }
      ]
    },
    {
      "cell_type": "code",
      "source": [
        "df.info()"
      ],
      "metadata": {
        "colab": {
          "base_uri": "https://localhost:8080/"
        },
        "id": "fy4u_OUxl6RX",
        "outputId": "7584f495-a3eb-4beb-a545-38b00f98c459"
      },
      "execution_count": null,
      "outputs": [
        {
          "output_type": "stream",
          "name": "stdout",
          "text": [
            "<class 'pandas.core.frame.DataFrame'>\n",
            "RangeIndex: 4760 entries, 0 to 4759\n",
            "Data columns (total 21 columns):\n",
            " #   Column                    Non-Null Count  Dtype  \n",
            "---  ------                    --------------  -----  \n",
            " 0   Movie_ID                  4760 non-null   int64  \n",
            " 1   Movie_Title               4760 non-null   object \n",
            " 2   Movie_Genre               4760 non-null   object \n",
            " 3   Movie_Language            4760 non-null   object \n",
            " 4   Movie_Budget              4760 non-null   int64  \n",
            " 5   Movie_Popularity          4760 non-null   float64\n",
            " 6   Movie_Release_Date        4760 non-null   object \n",
            " 7   Movie_Revenue             4760 non-null   int64  \n",
            " 8   Movie_Runtime             4758 non-null   float64\n",
            " 9   Movie_Vote                4760 non-null   float64\n",
            " 10  Movie_Vote_Count          4760 non-null   int64  \n",
            " 11  Movie_Homepage            1699 non-null   object \n",
            " 12  Movie_Keywords            4373 non-null   object \n",
            " 13  Movie_Overview            4757 non-null   object \n",
            " 14  Movie_Production_House    4760 non-null   object \n",
            " 15  Movie_Production_Country  4760 non-null   object \n",
            " 16  Movie_Spoken_Language     4760 non-null   object \n",
            " 17  Movie_Tagline             3942 non-null   object \n",
            " 18  Movie_Cast                4733 non-null   object \n",
            " 19  Movie_Crew                4760 non-null   object \n",
            " 20  Movie_Director            4738 non-null   object \n",
            "dtypes: float64(3), int64(4), object(14)\n",
            "memory usage: 781.1+ KB\n"
          ]
        }
      ]
    },
    {
      "cell_type": "code",
      "source": [
        "df.shape"
      ],
      "metadata": {
        "colab": {
          "base_uri": "https://localhost:8080/"
        },
        "id": "ClieOqclmGHP",
        "outputId": "9682e546-8b92-4462-b0c1-6b322d7df46a"
      },
      "execution_count": null,
      "outputs": [
        {
          "output_type": "execute_result",
          "data": {
            "text/plain": [
              "(4760, 21)"
            ]
          },
          "metadata": {},
          "execution_count": 130
        }
      ]
    },
    {
      "cell_type": "markdown",
      "source": [
        "**Target Variable (y) and Featute Variable (x)**"
      ],
      "metadata": {
        "id": "zg_OKcjl3SCe"
      }
    },
    {
      "cell_type": "code",
      "source": [
        "df.columns"
      ],
      "metadata": {
        "colab": {
          "base_uri": "https://localhost:8080/"
        },
        "id": "URLDoW3VmRII",
        "outputId": "dee75afc-eca3-4117-b12e-4ac1bb14382e"
      },
      "execution_count": null,
      "outputs": [
        {
          "output_type": "execute_result",
          "data": {
            "text/plain": [
              "Index(['Movie_ID', 'Movie_Title', 'Movie_Genre', 'Movie_Language',\n",
              "       'Movie_Budget', 'Movie_Popularity', 'Movie_Release_Date',\n",
              "       'Movie_Revenue', 'Movie_Runtime', 'Movie_Vote', 'Movie_Vote_Count',\n",
              "       'Movie_Homepage', 'Movie_Keywords', 'Movie_Overview',\n",
              "       'Movie_Production_House', 'Movie_Production_Country',\n",
              "       'Movie_Spoken_Language', 'Movie_Tagline', 'Movie_Cast', 'Movie_Crew',\n",
              "       'Movie_Director'],\n",
              "      dtype='object')"
            ]
          },
          "metadata": {},
          "execution_count": 131
        }
      ]
    },
    {
      "cell_type": "markdown",
      "source": [
        "**Get Feature Selection**"
      ],
      "metadata": {
        "id": "WU6kglwnsWQ_"
      }
    },
    {
      "cell_type": "code",
      "source": [
        "df_features = df[['Movie_Director','Movie_Cast','Movie_Tagline','Movie_Language','Movie_Overview']].fillna('')"
      ],
      "metadata": {
        "id": "-g53kjxrmT62"
      },
      "execution_count": null,
      "outputs": []
    },
    {
      "cell_type": "code",
      "source": [
        "df_features.shape"
      ],
      "metadata": {
        "colab": {
          "base_uri": "https://localhost:8080/"
        },
        "id": "8c2M80pjnWy9",
        "outputId": "11711756-ddf0-4418-bf20-58f094fa1387"
      },
      "execution_count": null,
      "outputs": [
        {
          "output_type": "execute_result",
          "data": {
            "text/plain": [
              "(4760, 5)"
            ]
          },
          "metadata": {},
          "execution_count": 157
        }
      ]
    },
    {
      "cell_type": "markdown",
      "source": [
        "**Data Visualization**"
      ],
      "metadata": {
        "id": "TWbKCaPP5tVb"
      }
    },
    {
      "cell_type": "code",
      "source": [
        "df_features"
      ],
      "metadata": {
        "colab": {
          "base_uri": "https://localhost:8080/",
          "height": 2957
        },
        "id": "yHt72bDGns0B",
        "outputId": "9352ba68-6b4d-4751-cb37-8d736cc80530"
      },
      "execution_count": null,
      "outputs": [
        {
          "output_type": "execute_result",
          "data": {
            "text/plain": [
              "         Movie_Director                                         Movie_Cast  \\\n",
              "0        Allison Anders  Tim Roth Antonio Banderas Jennifer Beals Madon...   \n",
              "1          George Lucas  Mark Hamill Harrison Ford Carrie Fisher Peter ...   \n",
              "2        Andrew Stanton  Albert Brooks Ellen DeGeneres Alexander Gould ...   \n",
              "3       Robert Zemeckis  Tom Hanks Robin Wright Gary Sinise Mykelti Wil...   \n",
              "4            Sam Mendes  Kevin Spacey Annette Bening Thora Birch Wes Be...   \n",
              "...                 ...                                                ...   \n",
              "4755         Pece Dingo  Lisa Hart Carroll Michael Des Barres Paul Drak...   \n",
              "4756       Frank Lotito  Roni Akurati Brighton Sharbino Jason Lee Anjul...   \n",
              "4757       Jaco Booyens  Nicole Smolen Kim Baldwin Ariana Stephens Brys...   \n",
              "4758                                                                         \n",
              "4759  Simon Napier-Bell                                    Tony Oppedisano   \n",
              "\n",
              "                                          Movie_Tagline Movie_Language  \\\n",
              "0     Twelve outrageous guests. Four scandalous requ...             en   \n",
              "1          A long time ago in a galaxy far, far away...             en   \n",
              "2     There are 3.7 trillion fish in the ocean, they...             en   \n",
              "3     The world will never be the same, once you've ...             en   \n",
              "4                                          Look closer.             en   \n",
              "...                                                 ...            ...   \n",
              "4755                The hot spot where Satan's waitin'.             en   \n",
              "4756           It’s better to stand out than to fit in.             en   \n",
              "4757           She never knew it could happen to her...             en   \n",
              "4758                                                                en   \n",
              "4759                                                                en   \n",
              "\n",
              "                                         Movie_Overview  \n",
              "0     It's Ted the Bellhop's first night on the job....  \n",
              "1     Princess Leia is captured and held hostage by ...  \n",
              "2     Nemo, an adventurous young clownfish, is unexp...  \n",
              "3     A man with a low IQ has accomplished great thi...  \n",
              "4     Lester Burnham, a depressed suburban father in...  \n",
              "...                                                 ...  \n",
              "4755  A Broadway producer puts on a play with a Devi...  \n",
              "4756  In 1979, an Indian family moves to America wit...  \n",
              "4757  After sneaking to a party with her friends, 16...  \n",
              "4758  After being estranged since her mother's death...  \n",
              "4759                                                     \n",
              "\n",
              "[4760 rows x 5 columns]"
            ],
            "text/html": [
              "\n",
              "  <div id=\"df-d5a4c812-0a91-4f36-a0eb-b6ba27a7725c\" class=\"colab-df-container\">\n",
              "    <div>\n",
              "<style scoped>\n",
              "    .dataframe tbody tr th:only-of-type {\n",
              "        vertical-align: middle;\n",
              "    }\n",
              "\n",
              "    .dataframe tbody tr th {\n",
              "        vertical-align: top;\n",
              "    }\n",
              "\n",
              "    .dataframe thead th {\n",
              "        text-align: right;\n",
              "    }\n",
              "</style>\n",
              "<table border=\"1\" class=\"dataframe\">\n",
              "  <thead>\n",
              "    <tr style=\"text-align: right;\">\n",
              "      <th></th>\n",
              "      <th>Movie_Director</th>\n",
              "      <th>Movie_Cast</th>\n",
              "      <th>Movie_Tagline</th>\n",
              "      <th>Movie_Language</th>\n",
              "      <th>Movie_Overview</th>\n",
              "    </tr>\n",
              "  </thead>\n",
              "  <tbody>\n",
              "    <tr>\n",
              "      <th>0</th>\n",
              "      <td>Allison Anders</td>\n",
              "      <td>Tim Roth Antonio Banderas Jennifer Beals Madon...</td>\n",
              "      <td>Twelve outrageous guests. Four scandalous requ...</td>\n",
              "      <td>en</td>\n",
              "      <td>It's Ted the Bellhop's first night on the job....</td>\n",
              "    </tr>\n",
              "    <tr>\n",
              "      <th>1</th>\n",
              "      <td>George Lucas</td>\n",
              "      <td>Mark Hamill Harrison Ford Carrie Fisher Peter ...</td>\n",
              "      <td>A long time ago in a galaxy far, far away...</td>\n",
              "      <td>en</td>\n",
              "      <td>Princess Leia is captured and held hostage by ...</td>\n",
              "    </tr>\n",
              "    <tr>\n",
              "      <th>2</th>\n",
              "      <td>Andrew Stanton</td>\n",
              "      <td>Albert Brooks Ellen DeGeneres Alexander Gould ...</td>\n",
              "      <td>There are 3.7 trillion fish in the ocean, they...</td>\n",
              "      <td>en</td>\n",
              "      <td>Nemo, an adventurous young clownfish, is unexp...</td>\n",
              "    </tr>\n",
              "    <tr>\n",
              "      <th>3</th>\n",
              "      <td>Robert Zemeckis</td>\n",
              "      <td>Tom Hanks Robin Wright Gary Sinise Mykelti Wil...</td>\n",
              "      <td>The world will never be the same, once you've ...</td>\n",
              "      <td>en</td>\n",
              "      <td>A man with a low IQ has accomplished great thi...</td>\n",
              "    </tr>\n",
              "    <tr>\n",
              "      <th>4</th>\n",
              "      <td>Sam Mendes</td>\n",
              "      <td>Kevin Spacey Annette Bening Thora Birch Wes Be...</td>\n",
              "      <td>Look closer.</td>\n",
              "      <td>en</td>\n",
              "      <td>Lester Burnham, a depressed suburban father in...</td>\n",
              "    </tr>\n",
              "    <tr>\n",
              "      <th>...</th>\n",
              "      <td>...</td>\n",
              "      <td>...</td>\n",
              "      <td>...</td>\n",
              "      <td>...</td>\n",
              "      <td>...</td>\n",
              "    </tr>\n",
              "    <tr>\n",
              "      <th>4755</th>\n",
              "      <td>Pece Dingo</td>\n",
              "      <td>Lisa Hart Carroll Michael Des Barres Paul Drak...</td>\n",
              "      <td>The hot spot where Satan's waitin'.</td>\n",
              "      <td>en</td>\n",
              "      <td>A Broadway producer puts on a play with a Devi...</td>\n",
              "    </tr>\n",
              "    <tr>\n",
              "      <th>4756</th>\n",
              "      <td>Frank Lotito</td>\n",
              "      <td>Roni Akurati Brighton Sharbino Jason Lee Anjul...</td>\n",
              "      <td>It’s better to stand out than to fit in.</td>\n",
              "      <td>en</td>\n",
              "      <td>In 1979, an Indian family moves to America wit...</td>\n",
              "    </tr>\n",
              "    <tr>\n",
              "      <th>4757</th>\n",
              "      <td>Jaco Booyens</td>\n",
              "      <td>Nicole Smolen Kim Baldwin Ariana Stephens Brys...</td>\n",
              "      <td>She never knew it could happen to her...</td>\n",
              "      <td>en</td>\n",
              "      <td>After sneaking to a party with her friends, 16...</td>\n",
              "    </tr>\n",
              "    <tr>\n",
              "      <th>4758</th>\n",
              "      <td></td>\n",
              "      <td></td>\n",
              "      <td></td>\n",
              "      <td>en</td>\n",
              "      <td>After being estranged since her mother's death...</td>\n",
              "    </tr>\n",
              "    <tr>\n",
              "      <th>4759</th>\n",
              "      <td>Simon Napier-Bell</td>\n",
              "      <td>Tony Oppedisano</td>\n",
              "      <td></td>\n",
              "      <td>en</td>\n",
              "      <td></td>\n",
              "    </tr>\n",
              "  </tbody>\n",
              "</table>\n",
              "<p>4760 rows × 5 columns</p>\n",
              "</div>\n",
              "    <div class=\"colab-df-buttons\">\n",
              "\n",
              "  <div class=\"colab-df-container\">\n",
              "    <button class=\"colab-df-convert\" onclick=\"convertToInteractive('df-d5a4c812-0a91-4f36-a0eb-b6ba27a7725c')\"\n",
              "            title=\"Convert this dataframe to an interactive table.\"\n",
              "            style=\"display:none;\">\n",
              "\n",
              "  <svg xmlns=\"http://www.w3.org/2000/svg\" height=\"24px\" viewBox=\"0 -960 960 960\">\n",
              "    <path d=\"M120-120v-720h720v720H120Zm60-500h600v-160H180v160Zm220 220h160v-160H400v160Zm0 220h160v-160H400v160ZM180-400h160v-160H180v160Zm440 0h160v-160H620v160ZM180-180h160v-160H180v160Zm440 0h160v-160H620v160Z\"/>\n",
              "  </svg>\n",
              "    </button>\n",
              "\n",
              "  <style>\n",
              "    .colab-df-container {\n",
              "      display:flex;\n",
              "      gap: 12px;\n",
              "    }\n",
              "\n",
              "    .colab-df-convert {\n",
              "      background-color: #E8F0FE;\n",
              "      border: none;\n",
              "      border-radius: 50%;\n",
              "      cursor: pointer;\n",
              "      display: none;\n",
              "      fill: #1967D2;\n",
              "      height: 32px;\n",
              "      padding: 0 0 0 0;\n",
              "      width: 32px;\n",
              "    }\n",
              "\n",
              "    .colab-df-convert:hover {\n",
              "      background-color: #E2EBFA;\n",
              "      box-shadow: 0px 1px 2px rgba(60, 64, 67, 0.3), 0px 1px 3px 1px rgba(60, 64, 67, 0.15);\n",
              "      fill: #174EA6;\n",
              "    }\n",
              "\n",
              "    .colab-df-buttons div {\n",
              "      margin-bottom: 4px;\n",
              "    }\n",
              "\n",
              "    [theme=dark] .colab-df-convert {\n",
              "      background-color: #3B4455;\n",
              "      fill: #D2E3FC;\n",
              "    }\n",
              "\n",
              "    [theme=dark] .colab-df-convert:hover {\n",
              "      background-color: #434B5C;\n",
              "      box-shadow: 0px 1px 3px 1px rgba(0, 0, 0, 0.15);\n",
              "      filter: drop-shadow(0px 1px 2px rgba(0, 0, 0, 0.3));\n",
              "      fill: #FFFFFF;\n",
              "    }\n",
              "  </style>\n",
              "\n",
              "    <script>\n",
              "      const buttonEl =\n",
              "        document.querySelector('#df-d5a4c812-0a91-4f36-a0eb-b6ba27a7725c button.colab-df-convert');\n",
              "      buttonEl.style.display =\n",
              "        google.colab.kernel.accessAllowed ? 'block' : 'none';\n",
              "\n",
              "      async function convertToInteractive(key) {\n",
              "        const element = document.querySelector('#df-d5a4c812-0a91-4f36-a0eb-b6ba27a7725c');\n",
              "        const dataTable =\n",
              "          await google.colab.kernel.invokeFunction('convertToInteractive',\n",
              "                                                    [key], {});\n",
              "        if (!dataTable) return;\n",
              "\n",
              "        const docLinkHtml = 'Like what you see? Visit the ' +\n",
              "          '<a target=\"_blank\" href=https://colab.research.google.com/notebooks/data_table.ipynb>data table notebook</a>'\n",
              "          + ' to learn more about interactive tables.';\n",
              "        element.innerHTML = '';\n",
              "        dataTable['output_type'] = 'display_data';\n",
              "        await google.colab.output.renderOutput(dataTable, element);\n",
              "        const docLink = document.createElement('div');\n",
              "        docLink.innerHTML = docLinkHtml;\n",
              "        element.appendChild(docLink);\n",
              "      }\n",
              "    </script>\n",
              "  </div>\n",
              "\n",
              "\n",
              "<div id=\"df-cba36071-0ee7-4be9-a4a5-9de711a847e2\">\n",
              "  <button class=\"colab-df-quickchart\" onclick=\"quickchart('df-cba36071-0ee7-4be9-a4a5-9de711a847e2')\"\n",
              "            title=\"Suggest charts.\"\n",
              "            style=\"display:none;\">\n",
              "\n",
              "<svg xmlns=\"http://www.w3.org/2000/svg\" height=\"24px\"viewBox=\"0 0 24 24\"\n",
              "     width=\"24px\">\n",
              "    <g>\n",
              "        <path d=\"M19 3H5c-1.1 0-2 .9-2 2v14c0 1.1.9 2 2 2h14c1.1 0 2-.9 2-2V5c0-1.1-.9-2-2-2zM9 17H7v-7h2v7zm4 0h-2V7h2v10zm4 0h-2v-4h2v4z\"/>\n",
              "    </g>\n",
              "</svg>\n",
              "  </button>\n",
              "\n",
              "<style>\n",
              "  .colab-df-quickchart {\n",
              "      --bg-color: #E8F0FE;\n",
              "      --fill-color: #1967D2;\n",
              "      --hover-bg-color: #E2EBFA;\n",
              "      --hover-fill-color: #174EA6;\n",
              "      --disabled-fill-color: #AAA;\n",
              "      --disabled-bg-color: #DDD;\n",
              "  }\n",
              "\n",
              "  [theme=dark] .colab-df-quickchart {\n",
              "      --bg-color: #3B4455;\n",
              "      --fill-color: #D2E3FC;\n",
              "      --hover-bg-color: #434B5C;\n",
              "      --hover-fill-color: #FFFFFF;\n",
              "      --disabled-bg-color: #3B4455;\n",
              "      --disabled-fill-color: #666;\n",
              "  }\n",
              "\n",
              "  .colab-df-quickchart {\n",
              "    background-color: var(--bg-color);\n",
              "    border: none;\n",
              "    border-radius: 50%;\n",
              "    cursor: pointer;\n",
              "    display: none;\n",
              "    fill: var(--fill-color);\n",
              "    height: 32px;\n",
              "    padding: 0;\n",
              "    width: 32px;\n",
              "  }\n",
              "\n",
              "  .colab-df-quickchart:hover {\n",
              "    background-color: var(--hover-bg-color);\n",
              "    box-shadow: 0 1px 2px rgba(60, 64, 67, 0.3), 0 1px 3px 1px rgba(60, 64, 67, 0.15);\n",
              "    fill: var(--button-hover-fill-color);\n",
              "  }\n",
              "\n",
              "  .colab-df-quickchart-complete:disabled,\n",
              "  .colab-df-quickchart-complete:disabled:hover {\n",
              "    background-color: var(--disabled-bg-color);\n",
              "    fill: var(--disabled-fill-color);\n",
              "    box-shadow: none;\n",
              "  }\n",
              "\n",
              "  .colab-df-spinner {\n",
              "    border: 2px solid var(--fill-color);\n",
              "    border-color: transparent;\n",
              "    border-bottom-color: var(--fill-color);\n",
              "    animation:\n",
              "      spin 1s steps(1) infinite;\n",
              "  }\n",
              "\n",
              "  @keyframes spin {\n",
              "    0% {\n",
              "      border-color: transparent;\n",
              "      border-bottom-color: var(--fill-color);\n",
              "      border-left-color: var(--fill-color);\n",
              "    }\n",
              "    20% {\n",
              "      border-color: transparent;\n",
              "      border-left-color: var(--fill-color);\n",
              "      border-top-color: var(--fill-color);\n",
              "    }\n",
              "    30% {\n",
              "      border-color: transparent;\n",
              "      border-left-color: var(--fill-color);\n",
              "      border-top-color: var(--fill-color);\n",
              "      border-right-color: var(--fill-color);\n",
              "    }\n",
              "    40% {\n",
              "      border-color: transparent;\n",
              "      border-right-color: var(--fill-color);\n",
              "      border-top-color: var(--fill-color);\n",
              "    }\n",
              "    60% {\n",
              "      border-color: transparent;\n",
              "      border-right-color: var(--fill-color);\n",
              "    }\n",
              "    80% {\n",
              "      border-color: transparent;\n",
              "      border-right-color: var(--fill-color);\n",
              "      border-bottom-color: var(--fill-color);\n",
              "    }\n",
              "    90% {\n",
              "      border-color: transparent;\n",
              "      border-bottom-color: var(--fill-color);\n",
              "    }\n",
              "  }\n",
              "</style>\n",
              "\n",
              "  <script>\n",
              "    async function quickchart(key) {\n",
              "      const quickchartButtonEl =\n",
              "        document.querySelector('#' + key + ' button');\n",
              "      quickchartButtonEl.disabled = true;  // To prevent multiple clicks.\n",
              "      quickchartButtonEl.classList.add('colab-df-spinner');\n",
              "      try {\n",
              "        const charts = await google.colab.kernel.invokeFunction(\n",
              "            'suggestCharts', [key], {});\n",
              "      } catch (error) {\n",
              "        console.error('Error during call to suggestCharts:', error);\n",
              "      }\n",
              "      quickchartButtonEl.classList.remove('colab-df-spinner');\n",
              "      quickchartButtonEl.classList.add('colab-df-quickchart-complete');\n",
              "    }\n",
              "    (() => {\n",
              "      let quickchartButtonEl =\n",
              "        document.querySelector('#df-cba36071-0ee7-4be9-a4a5-9de711a847e2 button');\n",
              "      quickchartButtonEl.style.display =\n",
              "        google.colab.kernel.accessAllowed ? 'block' : 'none';\n",
              "    })();\n",
              "  </script>\n",
              "</div>\n",
              "    </div>\n",
              "  </div>\n"
            ]
          },
          "metadata": {},
          "execution_count": 158
        },
        {
          "output_type": "display_data",
          "data": {
            "text/plain": [
              "<google.colab._quickchart_helpers.SectionTitle at 0x79b766efc850>"
            ],
            "text/html": [
              "<h4 class=\"colab-quickchart-section-title\">Values</h4>\n",
              "<style>\n",
              "  .colab-quickchart-section-title {\n",
              "      clear: both;\n",
              "  }\n",
              "</style>"
            ]
          },
          "metadata": {}
        },
        {
          "output_type": "display_data",
          "data": {
            "text/plain": [
              "import numpy as np\n",
              "from google.colab import autoviz\n",
              "\n",
              "def value_plot(df, y, figscale=1):\n",
              "  from matplotlib import pyplot as plt\n",
              "  df[y].plot(kind='line', figsize=(8 * figscale, 4 * figscale), title=y)\n",
              "  plt.gca().spines[['top', 'right']].set_visible(False)\n",
              "  plt.tight_layout()\n",
              "  return autoviz.MplChart.from_current_mpl_state()\n",
              "\n",
              "chart = value_plot(_df_0, *['index'], **{})\n",
              "chart"
            ],
            "text/html": [
              "      <div class=\"colab-quickchart-chart-with-code\" id=\"chart-28bbdaff-ea93-4761-baa8-425ded70d079\">\n",
              "        <img src=\"data:image/png;base64,iVBORw0KGgoAAAANSUhEUgAAAYwAAADECAYAAACMRRb/AAAAOXRFWHRTb2Z0d2FyZQBNYXRwbG90\n",
              "bGliIHZlcnNpb24zLjcuMSwgaHR0cHM6Ly9tYXRwbG90bGliLm9yZy/bCgiHAAAACXBIWXMAAA9h\n",
              "AAAPYQGoP6dpAAAhH0lEQVR4nO3de1BTd/438HcgEAUJKnIPJ9SC1oqgICTVttZau7ZdV+ulWwkt\n",
              "7GzHzjzP/rq7dn5rfXad1nWm/ro/66zt/ma2T3ceapdYq0Xd3rQXa7XuNgFv9dKqoJITkIBcRYEA\n",
              "yff5I/ZYutaGcEkg79dMZ+TzBfI9aeTtyeF8PiohhAAREdGPCPH3BoiIaHhgYBARkVcYGERE5BUG\n",
              "BhEReYWBQUREXmFgEBGRVxgYRETkFQYGERF5hYFBREReYWAQ3cJDDz2E9evX+/z1d999N1544YWB\n",
              "2xCRH6n9vQGiQLZnzx5/b4EoYPAMg4iIvMLAILqF++67D3/4wx8AACqVCq+++ipmz56NMWPGYNq0\n",
              "aTh06JDyuT09Pfjd736HhIQExMbGYs2aNf/2/WpqapCfn4/k5GTExcVhxYoVuHz5MgDg888/R2Rk\n",
              "JMrLywEAQgg88sgjWLhwIdgjlAIBA4OoD/72t79hy5YtaGlpwbx582AymZS1P/3pT9i+fTs+++wz\n",
              "VFdXQ61Ww2q1KutOpxPz5s1DUlISzp07hwsXLkCtViM/Px+AJ5xeeOEFLFu2DI2NjVi/fj3OnDmD\n",
              "v//971CpVEN+rET/RhDRD5ozZ474/e9/L4QQAoDYsmWLsnbq1CkBQDgcDiGEEGlpaeKVV15R1nt6\n",
              "ekRsbKx4/vnnhRBClJaWiqSkJOF2u5XPqa6uFgCE3W5XakuXLhVZWVkiMjJSHDt2bBCPjqhveNGb\n",
              "qA+SkpKUP0dGRgIA2traEB8fj+rqatx2223KemhoKCRJUj6uqKhAXV0dxo0b1+t7ajQayLIMnU4H\n",
              "AFi1ahVmz56NFStWYPr06YN4NER9w8AgGiA6nQ5VVVXKxy6XC3a7Xfk4ISEBer0e58+f/8Hv0dra\n",
              "isLCQvzyl7/E9u3b8d5772HhwoWDuW0ir/EaBtEAKSwsxMsvv4wzZ87A6XTij3/8I5qampT1JUuW\n",
              "oLu7G2vXrkVraysAoL6+Hm+//TYAz0XuwsJCTJ48Ga+//jpee+01PPnkk7hw4YJfjofo+xgYRANk\n",
              "9erVWLJkCebMmQOdToeuri4YDAZlPSoqCl9++SVkWca0adOg1Woxa9YsHDx4EADw0ksv4cSJE8pF\n",
              "7hUrVqCgoABLly5FR0eHvw6LSKESgr+vR0REP45nGERE5BUGBhEReYWBQUREXmFgEBGRVxgYRETk\n",
              "FQYGERF5hYFBREReGfaBsXnzZn9vgYgoKAz7wLDZbP7eAhFRUBj2gUFEREODgUFERF5hYBARkVcY\n",
              "GEREw9jlNif+Z38l/lXZMOiPxQFKRETDjBAClgtNMFtt+Oi0A90ugfsmx2JW2oRBfVwGBhHRMNHa\n",
              "3o3So9UwW204f/maUp+eMhYLM5Nu8ZUDg4FBRBTAhBA4Ud2KEosN7524hM5uNwAgIjwUi6Ynw2SQ\n",
              "kJEcPSR7YWAQEQWg9q4e/OP4JZitNpyquaLUJ8dHocAoYfGMZESNChvSPTEwiIgCyFlHG8xWG3Yd\n",
              "rUGbswcAEB4agkcyE2EySMjRj4NKpfLL3hgYRER+5uxxYe8pB0osNpRXNSt1fUwETAYJy3JSMD4y\n",
              "3I879GBgEBH5ia3xGrZaZew4Uo2ma10AgNAQFeZPiYfJKGH27RMQEuKfs4mbYWAQEQ2hHpcb+87U\n",
              "o8RiwxcVN+6dSNCOwoo8CT/PTUFC9Cg/7vCHMTCIiIaAo7UT28plbCuzw3GlEwCgUgH3psfCZJBw\n",
              "/x1xUIcG9r3UDAwiokHidgscqmxAicWGfWfq4XILAMD4yHA8NjMF+XkSpJgIP+/SewwMIqIB1njV\n",
              "iXeOVGNrmQxbY7tSz7ttPEwGCQsyEqBRh/pxh75hYBARDQAhBA7bmmG22PDhSQe6XJ4b7KI0aizN\n",
              "0SHfIGFSfJSfd9k/DAwion640tmN3cdqYLbIOFvXptSnJUejwChhYVYSIsJHxo/akXEURERD7FRN\n",
              "K8xWG/5x/BLau1wAgFFhIfhZVhIKjHpk6sb6d4ODgIFBROSlji4X3jtxCWarjK/sLUo9LW4MCgwS\n",
              "Hs3WIXr00LbrGEoMDCKiH1FZ3wazVUbpkWpc6fS06wgLVWFBRiIKDBLybhvvt3YdQ4mBQUR0E109\n",
              "bnx02gGz1QbLhSalrhs3GvkGCY/NTMGEMRo/7nDo+XyXSHFxMVQqFXbv3g0AqK+vx4IFC5Ceno6M\n",
              "jAwcPHhQ+Vxf14iIhpq9qR1/2nsGs/5rH/7jrWOwXGhCiAp4YEo83vhFLg7+51z8r/vSgi4sAB/P\n",
              "MKqqqvD666/DaDQqteeeew5GoxF79+5FeXk5Hn30UVy8eBFhYWE+rxERDQWXW+Dzs552HZ+fuwzh\n",
              "ub8OcVEaPJ6bgsfzJCSNHe3fTQaAPgeG2+3GU089hVdffRXPPvusUt++fTsqKysBALm5uUhKSsKB\n",
              "AwfwwAMP+LxGRDSY6q904u1yO94qk3GptVOp3502AQVGCfOmxCMswNt1DKU+B8amTZswe/Zs5OTk\n",
              "KLXGxkZ0d3cjISFBqaWmpkKWZZ/XbsbpdMLpdPaquVyuvh4CEQUxIQS+PN+IEqsNH5+uQ8/1dh1j\n",
              "I8KwPEeHfIMet02I9PMuA1OfAuPUqVMoLS3123WGDRs2YN26db1q331bjIjoh7S0d3nadVhlXGi4\n",
              "MQ87Rz8OJoOEh6clYlTY8GvXMZT6FBhffPEFqqqqkJ6eDgBwOBxYuXIl1q1bB7VaDYfDoZwtVFVV\n",
              "QZIkxMTE+LR2M2vWrMGqVat61dauXdu3IyaioCGEwDF7C0osNrx/ohZdPZ52HZHhoXg0Oxkmgx5T\n",
              "ErV+3uXwoRLi28s7fXfffffhN7/5DRYvXoyioiKkpqbihRdeQHl5ORYvXoyqqiqEhYX5vOaNVatW\n",
              "YdOmTb4eAhGNQFedPfjH8RqUWGR8U3tjHvaURC0KjBIWTU/GGA3vKuirAXvGXnrpJTzxxBNIT09H\n",
              "eHg4SkpKlB/6vq4REfXFN7VXUGKxYfexGly73q5Dow7BTzOTYDJKmJEyNihusBss/TrDCAQ8wyAK\n",
              "bp3dLnx4shYlFhuOyi1KfeKESOQbJCzL0WFshP/nYY8EPCcjomHpYsM1bLXasONINVrauwEA6hAV\n",
              "fjI1ASaDhLtuj+HZxABjYBDRsNHtcuPTr+tgtso4VHljHnby2NFYkZeCx2amIE4bmPOwRwIGBhEF\n",
              "vEstHdhWJmNbuR31bZ57sVQq4L5JsSgw6nHf5DiEhvBsYrAxMIgoILndAgcqLsNskfHZmTpcv78O\n",
              "E8aE4+e5KXg8V0LK+OEzD3skYGAQUUBpuOrE9sN2bLXKqG7uUOp3TYyBySjhwTsTEK5muw5/YGAQ\n",
              "kd8JIWC92ASzVcbeU7XodnlOJ7Sj1FiWk4J8g4S0uDF+3iUxMIjIb1o7urHzaDXMVhmV9VeVelbK\n",
              "WBQYJPw0Mwmjw9muI1AwMIhoyH1lb4HZasO7X11CZ7enXcfosFAsnpEEk0GPjORoP++QboaBQURD\n",
              "or2rB+8e98zDPlnTqtQnx0d52nXMSIZ2FLs8BDIGBhENqnN1bTBbbNh5tAZtTs887PDQEDw8LQEF\n",
              "Rj1y9ON4g90wwcAgogHn7HFh7ykHzBYZZVU35mHrYyKQnydh+cwUjI9ku47hhoFBRANGbmyHucyG\n",
              "HYer0XStCwAQGqLCA1PiYDLocXfaBITwBrthi4FBRP3S43LjszP1KLHKOHjuslJP0I7C43meG+wS\n",
              "otmuYyRgYBCRTxytndhWLmNbmR2OKzfmYd87KRYmg4R5d8RBzXnYIwoDg4i85nYL/PN8A0osNnz6\n",
              "TT1c1/t1jI8Mx/KZOuTnSdDHcB72SMXAIKIf1XStC+8c8bTrqGpsV+p5qeNhMkpYkJEAjZo32I10\n",
              "DAwiuikhBI7YmlFiseHDkw50uTw32EVp1FiSnYx8gx6TE6L8vEsaSn0OjAcffBAOhwMhISGIiorC\n",
              "K6+8ghkzZqCiogKFhYVoaGhAdHQ03njjDUydOhUAfF4joqHX1tmN3cdqYLbKOONoU+oZyVoUGPRY\n",
              "mJWESM7DDk6ij5qbm5U/79y5U2RmZgohhJg7d64oLi4WQgixY8cOMXPmTOXzfF3zxm9/+9u+HgIR\n",
              "3cTJ6hbxXOkJMWXtHqFf/b7Qr35fTP7Dh+I/dxwXx+Vmf2+PAkC/Znq/8cYb+POf/4yPP/4YaWlp\n",
              "aGpqglqthhACiYmJOHToELRarU9raWlpXu2BM72JfNfR5cL7JzztOo7bW5R6WtwYmAwSlszQITqC\n",
              "7TrIw6fzyieffBL79+8HAHz44Yew2+1ITEyEWu35diqVCpIkQZZlREdH+7R2s8BwOp1wOp29ai6X\n",
              "y5dDIApqlfVXsdUq450jdlzp9LTrCAv1zMMuMOphuG0823XQv/EpMN58800AwJYtW7B69WqsX79+\n",
              "QDf1QzZs2IB169b1qhmNxiF5bKLhrqvHjY+/9rTr+PJCo1LXjRuNfIOE5TkpiI3S+HGHFOj69ZYU\n",
              "AIwePRpVVVVIT08f9LekbnaGsXbtWmzevLk/h0A0otmb2rGtXMbb5dVouOr5+xOiAu6/Iw4mox73\n",
              "psdyHjZ5pU9nGC0tLWhvb0dSUhIAYPfu3YiJiUFcXByys7NRUlKCoqIilJaWQqfTKT/0fV37Po1G\n",
              "A42m97+AQkP5u99E3+dyC3x+th5mq4z9Z+vx7T8LY6M0eDw3BY/nSUgeO9q/m6Rhp09nGDabDcuX\n",
              "L0dHRwdCQkIQGxuLjRs3Yvr06Th79iyKiorQ2NgIrVaL4uJiTJs2DQB8XvMGL3oT3VDf1ont5Xa8\n",
              "VWZHTcuNediz02JQYNDjgTvjEcZ2HeSjfr8l5W8MDAp2Qgh8eaERZouMj0470HO9XUf06DAsz9Eh\n",
              "3yBhYiznYVP/8e4bomGqpb0L7xypxlarjAsN15R6tjQWBUY9Hp6WiFFhfMuWBg4Dg2gYEULguL0F\n",
              "JRYZ75+4BGePp11HZHgoFs9Ihsmgx51JWj/vkkYqBgbRMHDN2YPdx2tgtsj4uvaKUr8jIQoFRj0W\n",
              "z0jGGLbroEHGVxhRADvjuIISiw27j13C1W/nYatD8NPMRJgMemRLY3mDHQ0ZBgZRgOnsdmHPqVqU\n",
              "WGQcsTUr9dsmRMJkkLA0W4dxnIdNfsDAIAoQFxuuYavVhh1HqtHS3g0AUIeo8ODUeJgMesy6PYZn\n",
              "E+RXDAwiP+p2ubHvmzqUWGQcqmxQ6knRo7AiT8LPc1MQp+U8bAoMDAwiP7jU0oFt5XZsK5NR3+Zp\n",
              "16FSAfdNioXJoMfcO+LYroMCDgODaIi43QIHKy7DbJWx75s6XL+/DhPGhOOxmSlYkSchZXyEfzdJ\n",
              "dAsMDKJB1nDViR2Hq7G1zAZ70412HcaJ42Ey6PGTqQkIV7NdBwU+BgbRIBBCoOxiE0qsMvaeqkW3\n",
              "y3M6ETVKjWU5OpgMEtLiOA+bhhcGBtEAau3oxq6j1TBbZVTUX1XqWSljYTJIWJiZhNHhbNdBwxMD\n",
              "g2gAnKhugdki492vLqGj2zMFcnRYKBZNT4LJoMc0XbSfd0jUfwwMIh+1d/Xgva8887BPVLcq9Unx\n",
              "Y5R2HdpRnIdNIwcDg6iPKuraYLbKKD1ajbbr87DDQ0Pw0DTPPOyZ+nG8wY5GJAYGkRecPS7sPeWA\n",
              "2Sqj7GKTUpfGR8BkkLAsR4eYMZyHTSMbA4PoFuxN7TBbZew4bEfjtS4AnnnYD0yJR4FRj7vTJiCE\n",
              "N9hRkOjTL393dnZi8eLFmDRpErKysjB//nxUVlYCAOrr67FgwQKkp6cjIyMDBw8eVL7O1zUif+hx\n",
              "ufHxaQcK/18Z7v3v/fjrgfNovNaFeK0Gv56Xjn8+dz/+75Mzce+kWIYFBZU+n2GsXLkSDz30EFQq\n",
              "Ff7yl7/gqaeewueff47nnnsORqMRe/fuRXl5OR599FFcvHgRYWFhPq8RDaW6K53YVmbHtnIZta2d\n",
              "Sv2e9AkwGfR4YEoc1JyHTUGsT4ExatQoPPzww8rHRqMRGzduBABs375dOdvIzc1FUlISDhw4gAce\n",
              "eMDnNaLB5nYL/Ot8I0osNnzyTR1c1/t1jIsIU9p1pE6I9PMuiQJDv65hbN68GYsWLUJjYyO6u7uR\n",
              "kJCgrKWmpkKWZZ/XbsbpdMLpdPaquVyu/hwCBanma13YccSOrVYZVY3tSj03dRxMBj0WZCRwHjbR\n",
              "9/gcGC+++CIqKyuxb98+dHR0/PgXDIANGzZg3bp1vWpGo3FIHpuGPyEEjsrNKLHI+OBkLbquz8Me\n",
              "o1FjSbZnHvbkBLbrIPohPgXGxo0bsXPnTnz66aeIiIhAREQE1Go1HA6HcrZQVVUFSZIQExPj09rN\n",
              "rFmzBqtWrepVW7t2rS+HQEGkrbMbu49fgtliwxlHm1KfmqRFgVGPn2UlIZLzsIl+VJ+v4G3atAlv\n",
              "vfUWPvnkE4wdO1apL1++HH/9618BAOXl5aipqcGcOXP6tfZ9Go0GWq2213+hoXzbgG7u9KVWrNl5\n",
              "EoYX92Ht7lM442iDRh2C5Tk67P7fs/H+f9yNFXkSw4LIS336m1JdXY1nn30WEydOxNy5cwF4fohb\n",
              "rVa89NJLeOKJJ5Ceno7w8HCUlJQov+nk6xpRX3V2u/D+iVqUWGw4bm9R6rfHRsJk0GNptg7REXx9\n",
              "EflCJYQQ/t5Ef6xatQqbNm3y9zbIz85fvoqtVhnvHKlGa4dnHnZYqAo/mZoAk0EP48TxbNdB1E88\n",
              "F6dhq6vHjU++roPZasO/zjcq9eSxo5FvkPDYzBTERrFdB9FAYWDQsFPd3H79Bjs7Gq7emId9/+Q4\n",
              "FBj1uHdSLOdhEw0CBgYNCy63wIFz9TBbZOw/W6/Mw46N0uDx3BT8PDcFunGch000mBgYFNDq2zo9\n",
              "87CtMmpabtzvM+v2GBQY9Zh/ZzzC2K6DaEgwMCjgCCHw5YVGmK0yPjrlQM/104no0WFYlqNDvkHC\n",
              "7bFj/LxLouDDwKCA0drejXeOVsNsteHC5WtKfYY0FgUGPR7JTGS7DiI/YmCQXwkhcNzeArNVxntf\n",
              "XYLzeruOiPBQLJ6RDJNBwtQkzsMmCgQMDPKLa84e/OP4JZitNpy+dEWp35EQhQKjHoumJyGK87CJ\n",
              "AgoDg4bUGccVmC0ydh2rwVXn9XnY6hD8dFoiTEY9sqWxvMGOKEAxMGjQdXa7sOdULcwWGYdtzUo9\n",
              "NSYCJoMey3J0GBcZ7scdEpE3GBg0aKoarmFrmWcednO7p11HaIgKD94ZD5NBj1m3x3DEKdEwwsCg\n",
              "AdXjcuPTb+phttrwRUWDUk+MHoUVeRJ+npuCeO0oP+6QiHzFwKABUdvagbfK7Hi7XEbdlRvtOuZM\n",
              "ioXJoMfcybGch000zDEwyGdut8AXlQ0osdiw75s6pV1HTGQ4HstNwYpcCVIM23UQjRQMDOqzxqtO\n",
              "7DjiadchN92Yh224bTxMRj1+MjUeGjVvsCMaaRgY5BUhBMqrmmG22rDnpANdLs8NdlGj1FiarYPJ\n",
              "ICE9nvOwiUYyBgbd0pXObuw6WgOz1YZzdVeVepYuGiaDHj/NSkREOF9GRMGAf9Pppk5Wt6LEYsO7\n",
              "X11CR7cLADA6LBSLpifBZNBjmo7tOoiCTZ9+beWZZ55BamoqVCoVjh8/rtQrKiowa9YsTJo0Cbm5\n",
              "uTh9+nS/12jodXS5sL3cjkV/OYSFfzmEtw/b0dHtQnrcGKz72VRY/s88/NfSTIYFUZDqU2AsW7YM\n",
              "hw4dgl6v71V/+umnsXLlSpw7dw6rV69GUVFRv9do6FTUteGFd08j78VP8bvSE/iquhVhoSr8LCsJ\n",
              "25++Cx//9l4UzkpF9Gj2diIKZiohhOjrF6WmpmL37t2YPn066uvrkZaWhqamJqjVagghkJiYiEOH\n",
              "DkGr1fq0lpaW5vVeVq1ahU2bNvX1EIKes8eFj07XwWyxwXqxSalL4yOQb5CwLEeHCWM4D5uIbuj3\n",
              "NQy73Y7ExESo1Z5vpVKpIEkSZFlGdHS0T2s/FBhOpxNOp7NXzeVy9fcQgoq9qR1by2RsL7ej8VoX\n",
              "ACBEBcybEo8Cox73pE1guw4iuqlhddF7w4YNWLduXa+a0Wj0026GD5db4LMznnYdB85dxrfnlPFa\n",
              "DR7PlfB4XgoSo0f7d5NEFPD6HRgpKSmora1FT0+P8taSLMuQJAlardantR+yZs0arFq1qldt7dq1\n",
              "/T2EEav+Sie2lduxrUzGpdZOpX5P+gSYDHrMmxLHedhE5LV+B0ZcXByys7NRUlKCoqIilJaWQqfT\n",
              "KW8r+bp2MxqNBhpN7/fVQ0N5R/F3ud0C/zrfCLPVhk++rlPmYY+LCMPymSnIz5OQOiHSz7skouGo\n",
              "Txe9n376aXzwwQdwOByIiYlBVFQUKisrcfbsWRQVFaGxsRFarRbFxcWYNm0aAPi85i1e9PZovtaF\n",
              "d45UY2uZjIsNN+Zhz9SPg8ko4aEMzsMmov7x6bekAkkwB4YQAkflFpgtNrx/shZd1+dhj9Go8eiM\n",
              "ZOQbJExJ1Pp5l0Q0Ugyri97kcdXZg13HamC22HDG0abU70zUKvOwIzX8X0tEA4s/VYaRry9dQYnV\n",
              "hn8cq8G1Ls+vE2vUIViYlYQCox5ZumjOwyaiQcPACHCd3S58cKIWJVYbjsktSn1ibKRnHna2DtER\n",
              "vAObiAYfAyNAXbh8FWarjHeOVKO1wzMPWx2iwk8yEmAySLhrYgzPJohoSDEwAki3y41Pvq5DicWG\n",
              "f51vVOrJY0cj3yBh+Uwd4qI4D5uI/IOBEQBqWjqwrUzGtnI7LrfdmId9/+Q4mIwS5kyKQyjbdRCR\n",
              "nzEw/MTlFjh47jLMVhs+O1OvzMOeMEaDx3NT8HheCnTjOA+biAIHA2OIXW5zYvthO94qk1Hd3KHU\n",
              "75oYgwKjHvPvjEe4mu06iCjwMDCGgBAClgtNMFtt+Oi0A90uz+lE9OgwLMvRYUWehLS4MX7eJRHR\n",
              "rTEwBlFrezdKj1bDbLXh/OUb7TpmSGM987Az2a6DiIYPBsYAE0Lgq+pWmC02vHfiEjq7Pe06IsJD\n",
              "sXhGMvLzJGQkc8QpEQ0/DIwBcs3Zg3e/ugSz1YZTNVeU+h0JUTAZ9Vg8PQlRo3iDHRENXwyMfjrr\n",
              "aIPZasOuozVoc/YAAMLVIXhkWiIKjBKypXG8wY6IRgQGhg+cPS7sOemA2WpDeVWzUk+NiYDJoMfS\n",
              "HB3GR4b7cYdERAOPgdEHtsZr2GqVseNINZquz8MODVFh/vV52LNuj+E8bCIasRgYP6LH5can33jm\n",
              "YX9R0aDUE6NHKfOw47Vs10FEIx8D4wc4WjvxVpmMbeUy6q7caNdxb3osTAYJ998RBzXnYRNREAmI\n",
              "wKioqEBhYSEaGhoQHR2NN954A1OnTh3yfbjdAocqG1BisWHfmXq4rvfriIkMV+ZhSzFs10FEwSkg\n",
              "AuPpp5/GypUrUVRUhHfeeQdFRUUoLy8fssdvvOrEjiPV2GqVITe1K/W828bDZJCwICMBGjVvsCOi\n",
              "4Ob3wKivr8fhw4fx8ccfAwCWLl2KX/3qV6isrERaWtqgPa4QAodtzSix2LDnpANdLs8NdlEaNZbm\n",
              "6JBvkDApPmrQHp+IaLjxe2DY7XYkJiZCrfZsRaVSQZIkyLL8b4HhdDrhdDp71VwuV58fs7PbhcX/\n",
              "889e87AzddEwGSQszEpCRLjfnxYiooAzrH4ybtiwAevWretVMxqNff4+o8JCkRA9ClWN17AoKxkm\n",
              "o4RM3dgB2iUR0cikEkIIf26gvr4eaWlpaGpqglqthhACiYmJOHTokFdnGGvXrsXmzZv7/LhyYzui\n",
              "I8IQPZrtOoiIvOH33wuNi4tDdnY2SkpKAAClpaXQ6XQ3vX6h0Wig1Wp7/Rca6tvFaCkmgmFBRNQH\n",
              "AfGW1GuvvYaioiK8+OKL0Gq1KC4u9veWiIjoewIiMCZPnowvv/zS39sgIqJb8PtbUkRENDz4/aJ3\n",
              "fy1ZsgSpqal9/jqXy4WysjLk5eX5fB1kuAv25yDYjx/gcwDwOQAAvV6PX//61z/6ecM+MHx15coV\n",
              "REdHo7W1FVqt1t/b8Ytgfw6C/fgBPgcAn4O+4FtSRETkFQYGERF5hYFBREReCdrA0Gg0eP7556HR\n",
              "aPy9Fb8J9ucg2I8f4HMA8Dnoi6C96E1ERH0TtGcYRETUNwwMIiLyCgODiIi8EpSBUVFRgVmzZmHS\n",
              "pEnIzc3F6dOn/b2lAfHMM88gNTUVKpUKx48fV+q3Ol5f1wJRZ2cnFi9ejEmTJiErKwvz589HZWUl\n",
              "AE8b/QULFiA9PR0ZGRk4ePCg8nW+rgWqBx98EJmZmZg+fTruueceHDt2DEDwvA6+VVxcDJVKhd27\n",
              "dwMIrtfAoBFBaO7cuaK4uFgIIcSOHTvEzJkz/buhAXLgwAFht9uFXq8Xx44dU+q3Ol5f1wJRR0eH\n",
              "+OCDD4Tb7RZCCPHqq6+KOXPmCCGE+MUvfiGef/55IYQQZWVlIjk5WXR1dfVrLVA1Nzcrf965c6fI\n",
              "zMwUQgTP60AIIS5evCjuuusuYTQaxa5du4QQwfUaGCxBFxh1dXUiKipKdHd3CyGEcLvdIj4+XlRU\n",
              "VPh5ZwPnu4Fxq+P1dW24KC8vF3q9XgghRGRkpKitrVXWcnNzxSeffNKvteGguLhYZGVlBdXrwOVy\n",
              "iXnz5onDhw+LOXPmKIERrK+BgRQQ7c2HUl9miI8Etzre6Ohon9aGy/O0efNmLFq0CI2Njeju7kZC\n",
              "QoKylpqaClmWfV4LdE8++ST2798PAPjwww+D6nWwadMmzJ49Gzk5OUotGF8DgyHoAoOCw4svvojK\n",
              "ykrs27cPHR0d/t7OkHvzzTcBAFu2bMHq1auxfv16P+9oaJw6dQqlpaXBfZ1hEAXdRe+UlBTU1tai\n",
              "p6cHACCEgCzLkCTJzzsbHLc6Xl/XAt3GjRuxc+dO7NmzBxEREYiJiYFarYbD4VA+p6qqCpIk+bw2\n",
              "XBQWFmL//v3Q6XRB8Tr44osvUFVVhfT0dKSmpsJisWDlypXYvn170L4GBpQf3w7zmzlz5vS6iJeT\n",
              "k+PfDQ2w71/0vtXx+roWqF5++WWRnZ0tmpqaetULCwt7XbhMSkpSLlz6uhaImpubRU1NjfLxrl27\n",
              "RHJysnC73UH1OvjWd69hBMtrYDAFZWCcOXNGGI1GkZ6eLnJycsSJEyf8vaUBsXLlSpGcnCxCQ0NF\n",
              "XFycuP3224UQtz5eX9cCkd1uFwDExIkTRVZWlsjKyhJ5eXlCCCEcDoeYP3++SEtLE3feeaf47LPP\n",
              "lK/zdS0QVVVVidzcXJGRkSEyMzPFvHnzlH88BMvr4Lu+GxjB8hoYTOwlRUREXgm6axhEROQbBgYR\n",
              "EXmFgUFERF5hYBARkVcYGERE5BUGBhEReYWBQUREXmFgEBGRVxgYRETkFQYGERF5hYFBRERe+f8N\n",
              "6NjcXm7cnAAAAABJRU5ErkJggg==\n",
              "\">\n",
              "        \n",
              "      </div>\n",
              "      <script></script>\n",
              "      <script type=\"text/javascript\">\n",
              "        (() => {\n",
              "          const chartElement = document.getElementById(\"chart-28bbdaff-ea93-4761-baa8-425ded70d079\");\n",
              "          async function getCodeForChartHandler(event) {\n",
              "            const chartCodeResponse =  await google.colab.kernel.invokeFunction(\n",
              "                'getCodeForChart', [\"chart-28bbdaff-ea93-4761-baa8-425ded70d079\"], {});\n",
              "            const responseJson = chartCodeResponse.data['application/json'];\n",
              "            await google.colab.notebook.addCell(responseJson.code, 'code');\n",
              "          }\n",
              "          chartElement.onclick = getCodeForChartHandler;\n",
              "        })();\n",
              "      </script>\n",
              "      <style>\n",
              "        .colab-quickchart-chart-with-code  {\n",
              "            display: block;\n",
              "            float: left;\n",
              "            border: 1px solid transparent;\n",
              "        }\n",
              "\n",
              "        .colab-quickchart-chart-with-code:hover {\n",
              "            cursor: pointer;\n",
              "            border: 1px solid #aaa;\n",
              "        }\n",
              "      </style>"
            ]
          },
          "metadata": {}
        },
        {
          "output_type": "display_data",
          "data": {
            "text/plain": [
              "<google.colab._quickchart_helpers.SectionTitle at 0x79b7665a9720>"
            ],
            "text/html": [
              "<h4 class=\"colab-quickchart-section-title\">Distributions</h4>\n",
              "<style>\n",
              "  .colab-quickchart-section-title {\n",
              "      clear: both;\n",
              "  }\n",
              "</style>"
            ]
          },
          "metadata": {}
        },
        {
          "output_type": "display_data",
          "data": {
            "text/plain": [
              "import numpy as np\n",
              "from google.colab import autoviz\n",
              "\n",
              "def histogram(df, colname, num_bins=20, figscale=1):\n",
              "  from matplotlib import pyplot as plt\n",
              "  df[colname].plot(kind='hist', bins=num_bins, title=colname, figsize=(8*figscale, 4*figscale))\n",
              "  plt.gca().spines[['top', 'right',]].set_visible(False)\n",
              "  plt.tight_layout()\n",
              "  return autoviz.MplChart.from_current_mpl_state()\n",
              "\n",
              "chart = histogram(_df_1, *['index'], **{})\n",
              "chart"
            ],
            "text/html": [
              "      <div class=\"colab-quickchart-chart-with-code\" id=\"chart-03a45940-b728-43bf-aac4-8dfd749dd9cf\">\n",
              "        <img src=\"data:image/png;base64,iVBORw0KGgoAAAANSUhEUgAAAYwAAADECAYAAACMRRb/AAAAOXRFWHRTb2Z0d2FyZQBNYXRwbG90\n",
              "bGliIHZlcnNpb24zLjcuMSwgaHR0cHM6Ly9tYXRwbG90bGliLm9yZy/bCgiHAAAACXBIWXMAAA9h\n",
              "AAAPYQGoP6dpAAAVJ0lEQVR4nO3df0xV9/3H8dcVLJvoxRZF0euFWeB2iwriYA67ssa41jatTlwW\n",
              "nRO6H7BsmWtsUku6Raeb6NI2tU2aUbcwLYnDFdyyqp2udVU3K1J/21hhFu/VgLfRiqbTK1w+3z/8\n",
              "eiItxXOvXO+V+3wkJ+Ge9zmH98eT8PLcz73nOIwxRgAA3MSgaDcAALgzEBgAAFsIDACALQQGAMAW\n",
              "AgMAYAuBAQCwhcAAANhCYAAAbCEwAAC2EBiADTNnztSKFSvC3v/+++/XsmXL+q8hIAoSo90AcCfY\n",
              "unVrtFsAoo4rDACALQQGYMM3v/lN/fKXv5QkORwOvfzyy5o2bZqGDh2qiRMnavfu3da2XV1devrp\n",
              "pzV69GiNHDlSlZWVnznemTNnNH/+fI0dO1ZpaWmaN2+ePvroI0nSv/71LyUnJ2vfvn2SJGOMHn30\n",
              "UT322GPiXqGIJgIDCMMf/vAHrVu3ThcuXND06dP1ve99z6r97ne/08aNG/X222/r9OnTSkxM1N69\n",
              "e616IBDQ9OnTNWbMGJ04cUInT55UYmKi5s+fL+laOC1btkxz587VuXPntGLFCh0/flyvvfaaHA7H\n",
              "bR8rYDEAbqq4uNg8++yzxhhjJJl169ZZtaNHjxpJpr293RhjTFZWlnnppZeseldXlxk5cqRZunSp\n",
              "McaY+vp6M2bMGNPd3W1tc/r0aSPJ+Hw+a11JSYnJzc01ycnJ5sCBAxEcHWAPk95AGMaMGWP9nJyc\n",
              "LEm6dOmSRo0apdOnT+tLX/qSVU9ISJDb7bZeNzc36+zZs7r77rt7HDMpKUler1cul0uStHjxYk2b\n",
              "Nk3z5s1TXl5eBEcD2ENgAP3M5XKptbXVeh0MBuXz+azXo0ePVkZGhv773/9+7jE6OjpUWlqqH/7w\n",
              "h9q4caP+/ve/67HHHotk28BNMYcB9LPS0lI9//zzOn78uAKBgJYvX67z589b9Tlz5qizs1O/+tWv\n",
              "1NHRIUny+/2qq6uTdG2Su7S0VB6PR2vXrlV1dbUWLlyokydPRmU8wHUEBtDPlixZojlz5qi4uFgu\n",
              "l0tXr17V1772Nas+bNgw7dmzR16vVxMnTpTT6VRRUZF27twpSVq9erUOHz5sTXLPmzdPCxYsUElJ\n",
              "iS5fvhytYQFyGMPn9AAAN8cVBgDAFgIDAGALgQEAsIXAAADYQmAAAGwhMAAAthAYAABbBlxgrFmz\n",
              "JtotAMCANOAC49SpU9FuAQAGpAEXGACAyCAwAAC2EBgAAFsIDACALQQGAMAWnrh3g8xnNke7BQAI\n",
              "S+uqRyP+O7jCAADYQmAAAGwhMAAAthAYAABbCAwAgC0EBgDAFgIDAGALgQEAsIXAAADYQmAAAGwh\n",
              "MAAAthAYAABbCAwAgC0EBgDAFgIDAGALgQEAsCVigXHlyhXNnj1bOTk5ys3N1YwZM9TS0iJJ8vv9\n",
              "evjhh5Wdna0JEyZo586d1n591QAA0RPRK4zy8nJ98MEHOnTokGbNmqUf/ehHkqRnnnlGU6dOVXNz\n",
              "s2pqajR//nx1dnbetAYAiJ6IBcYXvvAFPfLII3I4HJKkqVOnqrW1VZK0ceNG/eQnP5EkFRQUaMyY\n",
              "MXrnnXduWgMARM9te6b3mjVrNGvWLJ07d06dnZ0aPXq0VcvMzJTX6+2z1ptAIKBAINBjXTAYjMwA\n",
              "ACDO3ZZJ75UrV6qlpUVVVVX9etyqqiqlpKT0WBobG/v1dwAArol4YDz33HNqaGjQ1q1bNWTIEKWm\n",
              "pioxMVHt7e3WNq2trXK73X3WelNZWamOjo4eS2FhYaSHBABxKaKB8cILL2jDhg3avn27hg8fbq3/\n",
              "zne+o9///veSpH379unMmTMqLi6+ae3TkpKS5HQ6eywJCQmRHBIAxK2IzWGcPn1aTz31lMaPH68H\n",
              "H3xQ0rU/8Hv37tXq1av1/e9/X9nZ2brrrrtUW1urwYMHS1KfNQBA9EQsMFwul4wxvdZGjRqlbdu2\n",
              "hVwDAEQP3/QGANhCYAAAbCEwAAC2EBgAAFsIDACALQQGAMAWAgMAYAuBAQCwhcAAANhCYAAAbAk5\n",
              "MP7xj39Eog8AQIwLOTCWL18uj8ejNWvW6OLFi5HoCQAQg0IOjH//+9/685//rKNHjyonJ0c//elP\n",
              "9f7770eiNwBADAlrDmPy5Mlau3at3nzzTb3xxhuaNGmSZsyYoSNHjvR3fwCAGBFWYPzzn//UrFmz\n",
              "NGfOHP3sZz9Te3u7Kioq9O1vf7u/+wMAxIiQn4fx5S9/WSNGjNCiRYs0Z84c6wl3c+fO1R//+Md+\n",
              "bxAAEBtCDoza2lpNmTKl19rWrVtvuSEAQGwK+S2p9957T+fPn7denzt3TmvXru3XpgAAsSfkwHjl\n",
              "lVd0zz33WK9TU1P1yiuv9LrtokWLlJmZKYfDoYMHD1rrMzMz5fF4lJeXp7y8PNXV1Vm15uZmFRUV\n",
              "KScnRwUFBTp27FioLQIAIiDkwOjtOd3BYLDXbefOnavdu3crIyPjM7W6ujodPHhQBw8e1He/+11r\n",
              "fUVFhcrLy3XixAktWbJEZWVlobYIAIiAkAMjPT1dGzdutF7X1dUpPT29120feOABuVwu28f2+/1q\n",
              "amrSggULJEklJSXy+XxqaWkJtU0AQD8LedL7xRdf1KxZs/T0009LkoYMGaK//e1vIf/ihQsXyhij\n",
              "wsJCrVq1SiNHjpTP51N6eroSE6+15XA45Ha75fV6lZWV9ZljBAIBBQKBHus+72oHAHBrQr7CuO++\n",
              "+/T+++9ry5Yt2rJli44cOaLs7OyQjrFz504dPnxY+/fv14gRI1RaWhpqG5KkqqoqpaSk9FgaGxvD\n",
              "OhYAoG9hfXHP4XBo+PDhGjp0qM6cOSOv1xvS/m63W5I0ePBgPfnkk9q1a5ckady4cWpra1NXV5ek\n",
              "a/MlXq/X2v7TKisr1dHR0WMpLCwMZ0gAgJsI+S2pP/3pT1q0aJEGDx6sQYOu5Y3D4ZDf77e1/yef\n",
              "fKLOzk4NHz5ckrRhwwZNnjxZkpSWlqb8/HzV1taqrKxM9fX1crlcvb4dJUlJSUlKSkrqse76FwkB\n",
              "AP0r5MBYsWKF9u3bJ4/Hc9NtKyoqtHnzZrW3t+uhhx7SsGHDtG3bNpWUlCgYDMoYo/Hjx2v9+vXW\n",
              "PtXV1SorK9PKlSvldDpVU1MTaosAgAgIOTBGjBhhKyyka3/8e3PgwIHP3cfj8WjPnj2htgUAiLCQ\n",
              "5zBmz56tF198UX6/XxcvXrQWAMDAFvIVxrPPPitJWrx4sRwOh4wxcjgcfJwVAAa4kAOju7s7En0A\n",
              "AGJcWB+rfe+99/Taa69Jki5cuKC2trZ+bQoAEHvCuvngD37wAy1btkzStbvVzp8/v7/7AgDEmJAD\n",
              "49VXX9W7774rp9MpSbr33nv10Ucf9XtjAIDYEnJgJCUl6Ytf/GKPddfv/QQAGLhCDoyRI0fqxIkT\n",
              "cjgckq598/vzbt0BABg4wrpb7bx583T8+HGNGzdOTqdTb7zxRiR6AwDEkJADIysrS3v37tUHH3wg\n",
              "Y4w8Hg/3bwKAOBByYFy/M21ycrIk6cyZM5LE21IAMMCFHBhTpkyxvuF95coV/e9//1Nqaqrtu9UC\n",
              "AO5MIQfGpz9C29DQoEOHDvVbQwCA2BTWN71vNGfOHG3evLk/egEAxLCQrzBuvDNtMBjU3r17uVst\n",
              "AMSBkANj+PDh1hxGQkKCsrOz9dJLL0WiNwBADOFutQAAW255DgMAEB9CvsIYNGiQdVuQG/EgJQAY\n",
              "2EK+wli+fLmeeeYZnTp1SqdOnVJlZaWWL1+uS5cufWbye9GiRcrMzJTD4dDBgwet9c3NzSoqKlJO\n",
              "To4KCgp07NgxWzUAQPSEHBibNm3Sb3/7W7lcLrlcLv3mN79RQ0ODkpOTrW9/Xzd37lzt3r1bGRkZ\n",
              "PdZXVFSovLxcJ06c0JIlS1RWVmarBgCInpAD49KlSz2+1e33+3Xp0qVet33ggQfkcrl6rPP7/Wpq\n",
              "atKCBQskSSUlJfL5fGppaemzBgCIrpDnMJ566inl5ubqkUcekSS9+eab1tP37PD5fEpPT7eeoeFw\n",
              "OOR2u+X1epWSkvK5taysrM8cKxAIKBAI9FjHHAoAREbIVxgVFRXavn278vLylJeXp23btunHP/5x\n",
              "JHq7qaqqKqWkpPRYGhsbo9ILAAx0YX2sNjU1VRMnTtTPf/5zeTweXb161fa+48aNU1tbm7q6uiRd\n",
              "+3SV1+uV2+3us9abyspKdXR09FgKCwvDGRIA4CZCDozXX39dU6dO1RNPPCFJOnbsmGbPnm17/7S0\n",
              "NOXn56u2tlaSVF9fL5fLpaysrD5rvUlKSpLT6eyx8GwOAIiMkAOjqqpK+/fv1/DhwyVJubm5OnXq\n",
              "VK/bVlRUyOVy6fTp03rooYesP/zV1dWqrq5WTk6OVq1apZqaGmufvmoAgOgJedI7ISFBqampPdbd\n",
              "ddddvW5bXV3d63qPx6M9e/aEXAMARE/IVxjDhg3T2bNnrW97v/XWW7rnnnv6vTEAQGwJ+Qpj9erV\n",
              "mjlzpk6ePKn7779fH374Ic/DAIA4EFJgdHd3KxgMaseOHfrPf/4jY4yKioqs+QwAwMAVUmAMGjRI\n",
              "5eXlOnTokGbOnBmpngAAMSjkOYzs7Gxu1QEAcSjkOYzz588rLy9PRUVFGjp0qLW+oaGhXxsDAMQW\n",
              "24FRXl6uV199VaWlpXr88cd19913R7IvAECMsR0YTU1NkqTS0lLl5+dr//79EWsKABB7wrqXlDGm\n",
              "v/sAAMQ421cYly9f1pEjR2SM0ZUrV6yfr5s0aVJEGgQAxIaQAuPxxx+3Xt/4s8Ph0MmTJ/u3MwBA\n",
              "TLEdGK2trRFsAwAQ68KawwAAxB8CAwBgC4EBALCFwAAA2EJgAABsITAAALYQGAAAW6IWGJmZmfJ4\n",
              "PMrLy1NeXp7q6uokSc3NzSoqKlJOTo4KCgp07NixaLUIALhByLc37091dXXKy8vrsa6iokLl5eUq\n",
              "KyvT66+/rrKyMu3bty86DQIALDH1lpTf71dTU5MWLFggSSopKZHP5+OBTQAQA6J6hbFw4UIZY1RY\n",
              "WKhVq1bJ5/MpPT1diYnX2nI4HHK73fJ6vcrKyvrM/oFAQIFAoMe6YDB4W3oHgHgTtSuMnTt36vDh\n",
              "w9q/f79GjBih0tLSkI9RVVWllJSUHktjY2MEugUARC0w3G63JGnw4MF68skntWvXLo0bN05tbW3q\n",
              "6uqSdO25G16v19r20yorK9XR0dFjKSwsvG1jAIB4EpXA+OSTT3ThwgXr9YYNGzR58mSlpaUpPz9f\n",
              "tbW1kqT6+nq5XK5e346SpKSkJDmdzh5LQkLC7RgCAMSdqMxhnD17ViUlJQoGgzLGaPz48Vq/fr0k\n",
              "qbq6WmVlZVq5cqWcTqdqamqi0SIA4FOiEhjjx4/XgQMHeq15PB7t2bPnNncEALiZmPpYLQAgdhEY\n",
              "AABbCAwAgC0EBgDAFgIDAGALgQEAsIXAAADYQmAAAGwhMAAAthAYAABbCAwAgC0EBgDAFgIDAGAL\n",
              "gQEAsIXAAADYQmAAAGwhMAAAthAYAABbYjIwmpubVVRUpJycHBUUFOjYsWPRbgkA4l5MBkZFRYXK\n",
              "y8t14sQJLVmyRGVlZdFuCQDiXswFht/vV1NTkxYsWCBJKikpkc/nU0tLS5Q7A4D4lhjtBj7N5/Mp\n",
              "PT1diYnXWnM4HHK73fJ6vcrKyuqxbSAQUCAQ6LEuGAzetl4BIJ7EXGCEoqqqSr/+9a97rLvvvvu0\n",
              "ePHikI8VDAaV3tiowsJCJSQk9FeLd4xgMKhGxs/443D8A2Xsixe/Ffa+GRkZ+sUvfnHT7RzGGBP2\n",
              "b4kAv9+vrKwsnT9/XomJiTLGKD09Xbt377Z1hZGUlKSkpKSQf+/FixeVkpKijo4OOZ3OWxrDnYjx\n",
              "M/54HX88jz1UMTeHkZaWpvz8fNXW1kqS6uvr5XK5PhMW0rVwcDqdPZZwwgIAcHMx+ZZUdXW1ysrK\n",
              "tHLlSjmdTtXU1ES7JQCIezEZGB6PR3v27Il2GwCAG8TcW1LRkpSUpKVLl8btW1qMn/HH6/jjeeyh\n",
              "irlJbwBAbOIKAwBgC4EBALCFwAAA2EJg/L+BdofcRYsWKTMzUw6HQwcPHrTW9zXOcGux6MqVK5o9\n",
              "e7ZycnKUm5urGTNmWPcj8/v9evjhh5Wdna0JEyZo586d1n7h1mLNt771LU2aNEl5eXn6xje+oQMH\n",
              "DkiKn/N/XU1NjRwOh/76179Kio9zH1EGxhhjHnzwQVNTU2OMMeYvf/mL+epXvxrdhm7RO++8Y3w+\n",
              "n8nIyDAHDhyw1vc1znBrsejy5ctm8+bNpru72xhjzMsvv2yKi4uNMcY88cQTZunSpcYYYxobG83Y\n",
              "sWPN1atXb6kWaz7++GPr54aGBjNp0iRjTPycf2OM+fDDD83Xv/51M3XqVLNp0yZjTHyc+0giMIwx\n",
              "Z8+eNcOGDTOdnZ3GGGO6u7vNqFGjTHNzc5Q7u3U3BkZf4wy3dqfYt2+fycjIMMYYk5ycbNra2qxa\n",
              "QUGB2b59+y3VYllNTY3Jzc2Nq/MfDAbN9OnTTVNTkykuLrYCI97OfX+LyS/u3W6h3CH3TtbXOFNS\n",
              "UsKq3Sn/PmvWrNGsWbN07tw5dXZ2avTo0VYtMzNTXq837FqsWrhwoXbs2CFJ2rJlS1yd/xdeeEHT\n",
              "pk3TlClTrHXxdO4jhcDAgLdy5Uq1tLTorbfe0uXLl6Pdzm2zfv16SdK6deu0ZMkSrVixIsod3R5H\n",
              "jx5VfX19/M4zRBCT3pLGjRuntrY2dXV1SZKMMfJ6vXK73VHurH/1Nc5wa7HuueeeU0NDg7Zu3aoh\n",
              "Q4YoNTVViYmJam9vt7ZpbW2V2+0OuxbrSktLtWPHDrlcrrg4/7t27VJra6uys7OVmZmpd999V+Xl\n",
              "5dq4cWPcnft+F8W3w2JKcXFxj0m9KVOmRLehfvLpSe++xhluLVY9//zzJj8/35w/f77H+tLS0h4T\n",
              "mGPGjLEmMMOtxZKPP/7YnDlzxnq9adMmM3bsWNPd3R1X5/+6G+cwBvq5jzQC4/8dP37cTJ061WRn\n",
              "Z5spU6aYw4cPR7ulW1JeXm7Gjh1rEhISTFpamrn33nuNMX2PM9xaLPL5fEaSGT9+vMnNzTW5ubmm\n",
              "sLDQGGNMe3u7mTFjhsnKyjJf+cpXzNtvv23tF24tlrS2tpqCggIzYcIEM2nSJDN9+nTrPw3xcv5v\n",
              "dGNgDPRzH2ncSwoAYAtzGAAAWwgMAIAtBAYAwBYCAwBgC4EBALCFwAAA2EJgAABsITAAALYQGAAA\n",
              "WwgMAIAtBAYAwJb/A6NP4HfvAIxfAAAAAElFTkSuQmCC\n",
              "\">\n",
              "        \n",
              "      </div>\n",
              "      <script></script>\n",
              "      <script type=\"text/javascript\">\n",
              "        (() => {\n",
              "          const chartElement = document.getElementById(\"chart-03a45940-b728-43bf-aac4-8dfd749dd9cf\");\n",
              "          async function getCodeForChartHandler(event) {\n",
              "            const chartCodeResponse =  await google.colab.kernel.invokeFunction(\n",
              "                'getCodeForChart', [\"chart-03a45940-b728-43bf-aac4-8dfd749dd9cf\"], {});\n",
              "            const responseJson = chartCodeResponse.data['application/json'];\n",
              "            await google.colab.notebook.addCell(responseJson.code, 'code');\n",
              "          }\n",
              "          chartElement.onclick = getCodeForChartHandler;\n",
              "        })();\n",
              "      </script>\n",
              "      <style>\n",
              "        .colab-quickchart-chart-with-code  {\n",
              "            display: block;\n",
              "            float: left;\n",
              "            border: 1px solid transparent;\n",
              "        }\n",
              "\n",
              "        .colab-quickchart-chart-with-code:hover {\n",
              "            cursor: pointer;\n",
              "            border: 1px solid #aaa;\n",
              "        }\n",
              "      </style>"
            ]
          },
          "metadata": {}
        },
        {
          "output_type": "display_data",
          "data": {
            "text/plain": [
              "<google.colab._quickchart_helpers.SectionTitle at 0x79b766e7f820>"
            ],
            "text/html": [
              "<h4 class=\"colab-quickchart-section-title\">Time series</h4>\n",
              "<style>\n",
              "  .colab-quickchart-section-title {\n",
              "      clear: both;\n",
              "  }\n",
              "</style>"
            ]
          },
          "metadata": {}
        },
        {
          "output_type": "display_data",
          "data": {
            "text/plain": [
              "import numpy as np\n",
              "from google.colab import autoviz\n",
              "\n",
              "def time_series_multiline(df, timelike_colname, value_colname, series_colname, figscale=1, mpl_palette_name='Dark2'):\n",
              "  from matplotlib import pyplot as plt\n",
              "  import seaborn as sns\n",
              "  figsize = (10 * figscale, 5.2 * figscale)\n",
              "  palette = list(sns.palettes.mpl_palette(mpl_palette_name))\n",
              "  def _plot_series(series, series_name, series_index=0):\n",
              "    if value_colname == 'count()':\n",
              "      counted = (series[timelike_colname]\n",
              "                 .value_counts()\n",
              "                 .reset_index(name='counts')\n",
              "                 .rename({'index': timelike_colname}, axis=1)\n",
              "                 .sort_values(timelike_colname, ascending=True))\n",
              "      xs = counted[timelike_colname]\n",
              "      ys = counted['counts']\n",
              "    else:\n",
              "      xs = series[timelike_colname]\n",
              "      ys = series[value_colname]\n",
              "    plt.plot(xs, ys, label=series_name, color=palette[series_index % len(palette)])\n",
              "\n",
              "  fig, ax = plt.subplots(figsize=figsize, layout='constrained')\n",
              "  df = df.sort_values(timelike_colname, ascending=True)\n",
              "  if series_colname:\n",
              "    for i, (series_name, series) in enumerate(df.groupby(series_colname)):\n",
              "      _plot_series(series, series_name, i)\n",
              "    fig.legend(title=series_colname, bbox_to_anchor=(1, 1), loc='upper left')\n",
              "  else:\n",
              "    _plot_series(df, '')\n",
              "  sns.despine(fig=fig, ax=ax)\n",
              "  plt.xlabel(timelike_colname)\n",
              "  plt.ylabel(value_colname)\n",
              "  return autoviz.MplChart.from_current_mpl_state()\n",
              "\n",
              "chart = time_series_multiline(_df_2, *['index', 'count()', None], **{})\n",
              "chart"
            ],
            "text/html": [
              "      <div class=\"colab-quickchart-chart-with-code\" id=\"chart-805b9f07-3633-45b2-913e-bf91e6672ac0\">\n",
              "        <img src=\"data:image/png;base64,iVBORw0KGgoAAAANSUhEUgAAAf8AAAEPCAYAAABMY82nAAAAOXRFWHRTb2Z0d2FyZQBNYXRwbG90\n",
              "bGliIHZlcnNpb24zLjcuMSwgaHR0cHM6Ly9tYXRwbG90bGliLm9yZy/bCgiHAAAACXBIWXMAAA9h\n",
              "AAAPYQGoP6dpAAAY40lEQVR4nO3de1BU993H8c8CFS8VNBEvDS4EAY0iogjjJZGkJhXbSrzF2tRY\n",
              "Ui+YiaMjtRqnoYlNq0mTklibjtpxbNSpGavGhzFpZ1K1Bi8ZtIppvCRiXBdUNGYUTCoI7O/5w3l2\n",
              "wuMlgHtc4Pd+zZwZOedw9rtndnzD4bC4jDFGAADAGiHBHgAAANxdxB8AAMsQfwAALEP8AQCwDPEH\n",
              "AMAyxB8AAMsQfwAALEP8AQCwTKuP/7Jly4I9AgAAzUqrj//p06eDPQIAAM1Kq48/AACoj/gDAGAZ\n",
              "4g8AgGWIPwAAliH+AABYhvgDAGAZ4g8AgGWIPwAAliH+AABYhvgDAGAZ4g8AgGWIPwAAliH+AABY\n",
              "hvgDAGAZ4g8AgGWIPwAAliH+AABYhvgDAGAZ4g8AgGWIPwAAliH+AABYhvgDAGAZ4g8AgGWIPwAA\n",
              "liH+AABYxtH4z5kzR7GxsXK5XCouLr7lfqtXr1ZCQoJ69eqlGTNmqKampt52Y4y++93vqlOnTk6O\n",
              "CwCAFRyN/8SJE7V7927FxMTccp9Tp04pLy9PhYWFKikp0fnz57Vq1ap6+7z++uvq1auXk6MCAGAN\n",
              "R+M/YsQIRUdH33afTZs2KSsrS927d5fL5dKsWbO0YcMG//YjR45o69ateu65577x8aqrq1VZWVlv\n",
              "qauru+PnAQBAaxL0n/l7vd56VwZiY2Pl9XolSTU1NZoxY4ZWrlyp0NDQbzzW0qVLFRkZWW8pKipy\n",
              "bHYAAFqioMf/dhYvXqzx48frgQceaND+ixYtUkVFRb0lPT3d4SkBAGhZwoI9gNvt1smTJ/0fezwe\n",
              "ud1uSdKuXbvk9Xr1xz/+UbW1taqsrFRsbKz279+vqKioG44VHh6u8PDweusacsUAAACbBP07/wkT\n",
              "JqigoEDl5eUyxmjFihWaPHmyJKmwsFCnT5+Wx+PR7t27FRERIY/Hc9PwAwCAhnE0/jk5OYqOjlZZ\n",
              "WZlGjRql+Ph4SdL06dNVUFAgSYqLi9PixYs1fPhwxcfHKyoqSjk5OU6OBQCA1VzGGBPsIZyUm5ur\n",
              "/Pz8YI8BAECzEfTL/gAA4O4i/gAAWIb4AwBgGeIPAIBliD8AAJYh/gAAWIb4AwBgGeIPAIBliD8A\n",
              "AJYh/gAAWIb4AwBgGeIPAIBliD8AAJYh/gAAWIb4AwBgGeIPAIBliD8AAJYh/gAAWIb4AwBgGeIP\n",
              "AIBliD8AAJYh/gAAWIb4AwBgGeIPAIBliD8AAJYh/gAAWIb4AwBgGeIPAIBliD8AAJYh/gAAWIb4\n",
              "AwBgGUfjP2fOHMXGxsrlcqm4uPiW+61evVoJCQnq1auXZsyYoZqaGknSjh07lJ6err59+6pfv35a\n",
              "sGCBfD6fkyMDANDqORr/iRMnavfu3YqJibnlPqdOnVJeXp4KCwtVUlKi8+fPa9WqVZKkzp076+23\n",
              "39bRo0f173//W3v37tXatWudHBkAgFbP0fiPGDFC0dHRt91n06ZNysrKUvfu3eVyuTRr1ixt2LBB\n",
              "kjRw4EDFxcVJktq2bauUlBR5PB4nRwYAoNULC/YAXq+33pWB2NhYeb3eG/YrLy/Xpk2btG3btlse\n",
              "q7q6WtXV1fXW1dXVBW5YAABagRZxw19lZaXGjBmjBQsWaPDgwbfcb+nSpYqMjKy3FBUV3cVJAQBo\n",
              "/oIef7fbrdOnT/s/9ng8crvd/o+vXLmizMxMPf7448rNzb3tsRYtWqSKiop6S3p6umOzAwDQEgU9\n",
              "/hMmTFBBQYHKy8tljNGKFSs0efJkSdKXX36pzMxMZWZm6vnnn//GY4WHhysiIqLeEhoa6vRTAACg\n",
              "RXE0/jk5OYqOjlZZWZlGjRql+Ph4SdL06dNVUFAgSYqLi9PixYs1fPhwxcfHKyoqSjk5OZKkZcuW\n",
              "qaioSFu2bFFKSopSUlL029/+1smRAQBo9VzGGBPsIZyUm5ur/Pz8YI8BAECzEfTL/gAA4O4i/gAA\n",
              "WIb4AwBgGeIPAIBliD8AAJYh/gAAWIb4AwBgGeIPAIBliD8AAJYh/gAAWIb4AwBgGeIPAIBliD8A\n",
              "AJYh/gAAWIb4AwBgGeIPAIBliD8AAJYJa8onHT16VGVlZWrXrp369++vTp06BXgsAADglAbH/8qV\n",
              "K3rttdf05z//We3bt1e3bt1UVVWlkydPKj09XQsXLtTIkSOdnBUAAARAg+P/yCOPaOrUqTp06JC6\n",
              "devmX+/z+VRYWKgVK1aopKREOTk5jgwKAAACo8Hx37Nnj8LDw29YHxISooyMDGVkZKi6ujqgwwEA\n",
              "gMBr8A1/Nwt/U/YBAADB1eD4//CHP9TevXtvuu3y5cv6/e9/r5UrVwZsMAAA4IwGX/ZfsmSJFi1a\n",
              "pKNHjyotLc1/w9/x48d15swZPfvss/rZz37m5KwAACAAGhz/5ORkvfvuuyotLdWuXbtUVlam9u3b\n",
              "6yc/+YkefPBBhYU16bcGAQDAXdboYl+6dElTpkypt+6jjz5ScnJywIYCAADOafQ7/GVnZzdoHQAA\n",
              "aJ4a/J3/hQsXVF5erqtXr+o///mPjDGSpIqKCn311VeODQgAAAKrwfHfsGGD3njjDZ09e1ZZWVn+\n",
              "9ZGRkVqwYIEjwwEAgMBrcPznzp2ruXPn6qWXXlJeXp6TMwEAAAc1+oa/vLw8+Xw+lZeXq7a21r/e\n",
              "7XYHdDAAAOCMRt/w99Zbb6lTp07q37+/UlNTlZqaqsGDB9903zlz5ig2NlYul0vFxcW3PObq1auV\n",
              "kJCgXr16acaMGaqpqWnQNgAA0HiNjv+vf/1r7d+/X1988YU+//xzff7557pw4cJN9504caJ2796t\n",
              "mJiYWx7v1KlTysvLU2FhoUpKSnT+/HmtWrXqG7cBAICmafRl/y5duqh3794N2nfEiBHfuM+mTZuU\n",
              "lZWl7t27S5JmzZqlJUuW6Nlnn73ttmD4n88O62LVl0F5bABA65TeNVb9u9x3Vx+z0fEfO3as3njj\n",
              "DT355JNq27atf31ERESTBvB6vfWuDMTGxsrr9X7jtpuprq6+4S8L1tXVNWmum1n58Qf66IszATse\n",
              "AAB5ad9v/vH/5S9/KUnKzc2Vy+WSMUYulyugkW2qpUuXavHixfXWDRkyJGDHH3Ffgu6P6BKw4wEA\n",
              "0Csy6q4/ZqPj7/P5AjqA2+3WyZMn/R97PB7/bw7cbtvNLFq0SLm5ufXWBfLXEp9LzQzYsQAACJZG\n",
              "3/AXaBMmTFBBQYHKy8tljNGKFSs0efLkb9x2M+Hh4YqIiKi3hIaG3q2nAgBAi9Do+IeEhCg0NPSG\n",
              "5WZycnIUHR2tsrIyjRo1SvHx8ZKk6dOnq6CgQJIUFxenxYsXa/jw4YqPj1dUVJRycnK+cRsAAGga\n",
              "l/m/N+lvoK+/j//Vq1e1du1a1dXV6Re/+EXAhwuE3Nxc5efnB3sMAACajUZ/59+hQwf/0qVLF+Xm\n",
              "5mrTpk1OzAYAABxwxz/zP378uC5evBiIWQAAwF3Q6Lv9O3fuLJfLJUn+9/Zfvnx5YKcCAACOaXT8\n",
              "v/4e/WFhYerevTt31AMA0II0Ov4xMTH673//6/8ioHPnzmrfvn2g5wIAAA5pdPz37t2rCRMm+N9v\n",
              "//z589q8ebOGDh0a8OEAAEDgNTr+/3d3//DhwyVd/2Jg3rx5+vDDDwM+HAAACLxG3+1/9epVf/gl\n",
              "adiwYaqqqgroUAAAwDmNjv+3v/1t/fOf//R/vH37dnXo0CGgQwEAAOc0+rL/H/7wB40fP95/h7/P\n",
              "59OWLVsCPhgAAHBGo+N/9uxZHThwQOfPn5ckdevWTUVFRQEfDAAAOKPRl/3z8vIUFRWlpKQkJSUl\n",
              "qUuXLgH9s7kAAMBZd/z2vi6XS3V1dYGYBQAA3AWNjn/Hjh21d+9e/8d79uxRx44dAzoUAABwTqN/\n",
              "5v+73/1O48aNU58+fSRJJ06c0DvvvBPwwQAAgDMaHf+hQ4fq2LFj2rdvn6Trv+ffqVOnQM8FAAAc\n",
              "0uj4S9ffz//73/9+oGcBAAB3wR3f8AcAAFoW4g8AgGWIPwAAliH+AABYhvgDAGAZ4g8AgGWIPwAA\n",
              "liH+AABYhvgDAGAZ4g8AgGWIPwAAliH+AABYhvgDAGAZ4g8AgGUcjf+JEyc0bNgwJSYmKi0tTUeO\n",
              "HLlhH5/Pp/nz5yspKUl9+vTRtGnTdO3aNf/2V155RX379lVKSoqGDBmioqIiJ0cGAKDVczT+OTk5\n",
              "mjlzpj799FMtXLhQ2dnZN+yzevVqHTx4UAcPHtSxY8cUEhKiZcuWSZKKi4v1pz/9SUVFRSouLtbs\n",
              "2bM1e/ZsJ0cGAKDVcyz+Fy5c0IEDBzRlyhRJ0oQJE1RaWqqSkpJ6+x0+fFiPPvqo2rRpI5fLpdGj\n",
              "R2vdunWSJJfLpZqaGn311VeSpMuXLys6OtqpkQEAsEKYUwcuLS1Vjx49FBZ2/SFcLpfcbre8Xq/i\n",
              "4+P9+6WmpmrlypWaPXu22rVrp40bN8rj8UiSBgwYoHnz5un+++/XPffco/DwcH3wwQe3fMzq6mpV\n",
              "V1fXW1dXVxf4JwcAQAsW9Bv+srOzlZmZqYyMDGVkZCgxMdH/BcOpU6e0ZcsWlZSUqKysTPPmzdOP\n",
              "fvSjWx5r6dKlioyMrLdwjwAAAPU5Fv+ePXvq3Llzqq2tlSQZY+T1euV2u+vt53K59OKLL+rQoUPa\n",
              "u3ev+vbtq379+kmSNm/erP79++s73/mOJOnpp5/Wnj176t0Q+HWLFi1SRUVFvSU9Pd2ppwgAQIvk\n",
              "WPy7du2qQYMGaf369ZKuhzw6OrreJX9Jqqqq0qVLlyRJFy9e1Msvv6wFCxZIkuLi4rRnzx59+eWX\n",
              "kqRt27YpMTFRbdq0ueljhoeHKyIiot4SGhrq1FMEAKBFcuxn/pK0cuVKZWdna8mSJYqIiNCaNWsk\n",
              "SdOnT1dWVpaysrJUUVGhhx9+WCEhIfL5fJo7d67GjBkjSRo3bpz279+vwYMHKzw8XB06dNBf//pX\n",
              "J0cGAKDVcxljTLCHcFJubq7y8/ODPQYAAM1G0G/4AwAAdxfxBwDAMsQfAADLEH8AACxD/AEAsAzx\n",
              "BwDAMsQfAADLEH8AACxD/AEAsAzxBwDAMsQfAADLEH8AACxD/AEAsAzxBwDAMsQfAADLEH8AACxD\n",
              "/AEAsAzxBwDAMsQfAADLEH8AACxD/AEAsAzxBwDAMsQfAADLEH8AACxD/AEAsAzxBwDAMsQfAADL\n",
              "EH8AACxD/AEAsAzxBwDAMsQfAADLOBr/EydOaNiwYUpMTFRaWpqOHDlywz4+n0/z589XUlKS+vTp\n",
              "o2nTpunatWv+7V6vV2PGjFHv3r3Vt29fLV++3MmRAQBo9RyNf05OjmbOnKlPP/1UCxcuVHZ29g37\n",
              "rF69WgcPHtTBgwd17NgxhYSEaNmyZZIkY4zGjRunqVOn6pNPPtHRo0c1adIkJ0cGAKDVcyz+Fy5c\n",
              "0IEDBzRlyhRJ0oQJE1RaWqqSkpJ6+x0+fFiPPvqo2rRpI5fLpdGjR2vdunWSpO3btys8PFxPPPGE\n",
              "f/9u3bo5NTIAAFZwLP6lpaXq0aOHwsLCJEkul0tut1ter7fefqmpqSooKFBlZaVqamq0ceNGeTwe\n",
              "SdLRo0cVFRWlyZMna+DAgRo3bpw+++yzWz5mdXW1Kisr6y11dXVOPUUAAFqkoN/wl52drczMTGVk\n",
              "ZCgjI0OJiYn+Lxhqa2u1Y8cO5eXl6dChQxo1atRtL/svXbpUkZGR9ZaioqK79VQAAGgRHIt/z549\n",
              "de7cOdXW1kq6/vN7r9crt9tdbz+Xy6UXX3xRhw4d0t69e9W3b1/169dPkuR2uzVw4ED/x0899ZQO\n",
              "Hjyompqamz7mokWLVFFRUW9JT0936ikCANAiORb/rl27atCgQVq/fr0kafPmzYqOjlZ8fHy9/aqq\n",
              "qnTp0iVJ0sWLF/Xyyy9rwYIFkqTRo0errKxMZ86ckSS99957euCBB/Stb33rpo8ZHh6uiIiIekto\n",
              "aKhTTxEAgBYpzMmDr1y5UtnZ2VqyZIkiIiK0Zs0aSdL06dOVlZWlrKwsVVRU6OGHH1ZISIh8Pp/m\n",
              "zp2rMWPGSJI6dOigFStW6Ac/+IGMMYqMjNTbb7/t5MgAALR6LmOMCfYQTsrNzVV+fn6wxwAAoNkI\n",
              "+g1/AADg7iL+AABYhvgDAGAZ4g8AgGWIPwAAliH+AABYhvgDAGAZ4g8AgGWIPwAAliH+AABYhvgD\n",
              "AGAZ4g8AgGWIPwAAliH+AABYhvgDAGAZ4g8AgGWIPwAAliH+AABYhvgDAGAZ4g8AgGWIPwAAliH+\n",
              "AABYhvgDAGAZ4g8AgGWIPwAAlnEZY0ywh3DS+PHjFRsbG5Bj1dXVqaioSOnp6QoNDQ3IMW3HOXUG\n",
              "5zXwOKeBxzl1RkxMjObOnXvbfVp9/AOpsrJSkZGRqqioUERERLDHaRU4p87gvAYe5zTwOKfBw2V/\n",
              "AAAsQ/wBALAM8QcAwDLEvxHCw8P1wgsvKDw8PNijtBqcU2dwXgOPcxp4nNPg4YY/AAAsw3f+AABY\n",
              "hvgDAGAZ4g8AgGWIfwOdOHFCw4YNU2JiotLS0nTkyJFgj9RszZkzR7GxsXK5XCouLvavv905bOo2\n",
              "G1RVVWns2LFKTEzUgAED9Nhjj6mkpESSdOHCBWVmZiohIUFJSUn64IMP/J/X1G22+N73vqfk5GSl\n",
              "pKTooYce0qFDhyTxOg2ENWvWyOVyaevWrZJ4nTZLBg3yyCOPmDVr1hhjjPnb3/5mBg8eHNyBmrFd\n",
              "u3aZ0tJSExMTYw4dOuRff7tz2NRtNrh69ap59913jc/nM8YYs3z5cpORkWGMMebpp582L7zwgjHG\n",
              "mKKiInPfffeZa9eu3dE2W1y6dMn/7y1btpjk5GRjDK/TO3Xq1CkzdOhQM2TIEPPOO+8YY3idNkfE\n",
              "vwHOnz9vOnbsaGpqaowxxvh8PtOtWzdz4sSJIE/WvH09/rc7h03dZqv9+/ebmJgYY4wxHTp0MOfO\n",
              "nfNvS0tLM++///4dbbPRmjVrzIABA3id3qG6ujozcuRIc+DAAZORkeGPP6/T5ics2FceWoLS0lL1\n",
              "6NFDYWHXT5fL5ZLb7ZbX61V8fHyQp2sZbncOIyMjm7TN1nO/bNkyPf744/riiy9UU1Oj7t27+7fF\n",
              "xsbK6/U2eZttpk6dqp07d0qS3nvvPV6ndyg/P1/Dhw9Xamqqfx2v0+aJ+AMtyJIlS1RSUqLt27fr\n",
              "6tWrwR6nxVu7dq0k6a233tLChQv10ksvBXmiluvjjz/W5s2b+bl8C8ENfw3Qs2dPnTt3TrW1tZIk\n",
              "Y4y8Xq/cbneQJ2s5bncOm7rNNq+99pq2bNmiv//972rfvr3uvfdehYWFqby83L+Px+OR2+1u8jZb\n",
              "/fSnP9XOnTsVHR3N67SJCgsL5fF4lJCQoNjYWH344YeaOXOmNm7cyOu0GSL+DdC1a1cNGjRI69ev\n",
              "lyRt3rxZ0dHRVl3Ou1O3O4dN3WaT/Px8bdiwQe+//746derkX//EE09oxYoVkqT9+/frzJkzysjI\n",
              "uKNtNrh8+bLOnj3r/3jr1q269957eZ3egWeeeUbnzp2Tx+ORx+PRkCFDtGrVKj3zzDO8TpujIN5v\n",
              "0KIcP37cDBkyxCQkJJjU1FTz0UcfBXukZmvmzJnmvvvuM6GhoaZr166mV69expjbn8OmbrNBaWmp\n",
              "kWTi4uLMgAEDzIABA0x6eroxxpjy8nLz2GOPmfj4eNO3b1+zY8cO/+c1dZsNPB6PSUtLM0lJSSY5\n",
              "OdmMHDnSf3Mqr9PA+PoNf7xOmx/e2x8AAMtw2R8AAMsQfwAALEP8AQCwDPEHcFspKSm6cuVKoz9v\n",
              "4sSJ+stf/hL4gQDcMd7kB8Btff2PMwFoHfjOH8BtuVwuXb58WdL1t1f91a9+paFDh+r+++/Xb37z\n",
              "G/9+x48f17Bhw9SvXz+NHTtWlZWV/m1XrlzRjBkzlJ6eruTkZM2cOVPXrl3TJ598oujoaH322WeS\n",
              "rr+RUWZmpnw+3119joBtiD+ARrl8+bL27dun/fv369VXX9WZM2ckSU899ZSmTZumI0eO6KWXXtKu\n",
              "Xbv8n/Pzn/9cDz30kIqKinT48GH5fD4tW7ZMvXv31quvvqpJkybpX//6l958802tW7dOISH81wQ4\n",
              "icv+ABrlySeflCR16dJFcXFxOnXqlDp27Kji4mJlZ2dLkvr3768HH3zQ/zlbt27Vvn37lJ+fL0m6\n",
              "evWqQkNDJUk//vGPtXPnTo0aNUrbt29XVFTU3X1CgIWIP4BGadu2rf/foaGh/vez//9cLpf/38YY\n",
              "bd68WYmJiTfsV1tbq48//lj33HOP/yoCAGdxbQ3AHYuIiNDAgQP9fyXvyJEj2r17t3/72LFj9cor\n",
              "r/i/ULh06ZJKSkokSc8995x69+6twsJCzZ8/378egHOIP4CAWLt2rVatWqWkpCQ9//zzGjFihH/b\n",
              "66+/rnbt2iklJUXJyckaOXKkPB6Ptm3bpn/84x968803FR8fr/z8fE2aNElVVVVBfCZA68d7+wMA\n",
              "YBm+8wcAwDLEHwAAyxB/AAAsQ/wBALAM8QcAwDLEHwAAyxB/AAAsQ/wBALAM8QcAwDLEHwAAy/wv\n",
              "xo1aS7KEchMAAAAASUVORK5CYII=\n",
              "\">\n",
              "        \n",
              "      </div>\n",
              "      <script></script>\n",
              "      <script type=\"text/javascript\">\n",
              "        (() => {\n",
              "          const chartElement = document.getElementById(\"chart-805b9f07-3633-45b2-913e-bf91e6672ac0\");\n",
              "          async function getCodeForChartHandler(event) {\n",
              "            const chartCodeResponse =  await google.colab.kernel.invokeFunction(\n",
              "                'getCodeForChart', [\"chart-805b9f07-3633-45b2-913e-bf91e6672ac0\"], {});\n",
              "            const responseJson = chartCodeResponse.data['application/json'];\n",
              "            await google.colab.notebook.addCell(responseJson.code, 'code');\n",
              "          }\n",
              "          chartElement.onclick = getCodeForChartHandler;\n",
              "        })();\n",
              "      </script>\n",
              "      <style>\n",
              "        .colab-quickchart-chart-with-code  {\n",
              "            display: block;\n",
              "            float: left;\n",
              "            border: 1px solid transparent;\n",
              "        }\n",
              "\n",
              "        .colab-quickchart-chart-with-code:hover {\n",
              "            cursor: pointer;\n",
              "            border: 1px solid #aaa;\n",
              "        }\n",
              "      </style>"
            ]
          },
          "metadata": {}
        }
      ]
    },
    {
      "cell_type": "markdown",
      "source": [
        "**Data Preprocessing**"
      ],
      "metadata": {
        "id": "ZBAOEuSQ55VA"
      }
    },
    {
      "cell_type": "markdown",
      "source": [
        "\n",
        "\n",
        "---\n",
        "\n"
      ],
      "metadata": {
        "id": "C4Fi35qSwM67"
      }
    },
    {
      "cell_type": "code",
      "source": [
        "x = df_features['Movie_Director'] + ' ' + df_features['Movie_Cast'] + ' ' + df_features['Movie_Language'] + ' ' + df_features['Movie_Tagline'] + ' ' + df_features['Movie_Overview']"
      ],
      "metadata": {
        "id": "zLnfINFkMFk5"
      },
      "execution_count": null,
      "outputs": []
    },
    {
      "cell_type": "code",
      "source": [
        "x"
      ],
      "metadata": {
        "colab": {
          "base_uri": "https://localhost:8080/"
        },
        "id": "mfhcsWwCSeA7",
        "outputId": "962fb90a-221f-4547-8251-27f465690343"
      },
      "execution_count": null,
      "outputs": [
        {
          "output_type": "execute_result",
          "data": {
            "text/plain": [
              "0       Allison Anders Tim Roth Antonio Banderas Jenni...\n",
              "1       George Lucas Mark Hamill Harrison Ford Carrie ...\n",
              "2       Andrew Stanton Albert Brooks Ellen DeGeneres A...\n",
              "3       Robert Zemeckis Tom Hanks Robin Wright Gary Si...\n",
              "4       Sam Mendes Kevin Spacey Annette Bening Thora B...\n",
              "                              ...                        \n",
              "4755    Pece Dingo Lisa Hart Carroll Michael Des Barre...\n",
              "4756    Frank Lotito Roni Akurati Brighton Sharbino Ja...\n",
              "4757    Jaco Booyens Nicole Smolen Kim Baldwin Ariana ...\n",
              "4758      en  After being estranged since her mother's...\n",
              "4759               Simon Napier-Bell Tony Oppedisano en  \n",
              "Length: 4760, dtype: object"
            ]
          },
          "metadata": {},
          "execution_count": 160
        }
      ]
    },
    {
      "cell_type": "code",
      "source": [
        "x.shape"
      ],
      "metadata": {
        "colab": {
          "base_uri": "https://localhost:8080/"
        },
        "id": "905a-lpNShkc",
        "outputId": "5318dfc0-7a41-40bd-ff20-040e87a702ad"
      },
      "execution_count": null,
      "outputs": [
        {
          "output_type": "execute_result",
          "data": {
            "text/plain": [
              "(4760,)"
            ]
          },
          "metadata": {},
          "execution_count": 161
        }
      ]
    },
    {
      "cell_type": "markdown",
      "source": [
        "**Tain Test Split**"
      ],
      "metadata": {
        "id": "QYqvuFWz3zp0"
      }
    },
    {
      "cell_type": "code",
      "source": [
        "from sklearn.feature_extraction.text import TfidfVectorizer"
      ],
      "metadata": {
        "id": "ke_1ElfrStAY"
      },
      "execution_count": null,
      "outputs": []
    },
    {
      "cell_type": "code",
      "source": [
        "tfidf = TfidfVectorizer()"
      ],
      "metadata": {
        "id": "PR8DVsho1jA3"
      },
      "execution_count": null,
      "outputs": []
    },
    {
      "cell_type": "code",
      "source": [
        "x = tfidf.fit_transform(x)"
      ],
      "metadata": {
        "id": "TvM0S5OF1rqa"
      },
      "execution_count": null,
      "outputs": []
    },
    {
      "cell_type": "code",
      "source": [
        "x.shape"
      ],
      "metadata": {
        "colab": {
          "base_uri": "https://localhost:8080/"
        },
        "id": "wSougpG02lKy",
        "outputId": "3d185c0e-409e-455d-ccae-3cf574163456"
      },
      "execution_count": null,
      "outputs": [
        {
          "output_type": "execute_result",
          "data": {
            "text/plain": [
              "(4760, 29641)"
            ]
          },
          "metadata": {},
          "execution_count": 167
        }
      ]
    },
    {
      "cell_type": "code",
      "source": [
        "print(x)"
      ],
      "metadata": {
        "colab": {
          "base_uri": "https://localhost:8080/"
        },
        "id": "lpkiu23k2pYd",
        "outputId": "7ffdbe76-5fdb-4405-baa3-dbeb1e2118da"
      },
      "execution_count": null,
      "outputs": [
        {
          "output_type": "stream",
          "name": "stdout",
          "text": [
            "  (0, 1382)\t0.0916247676525315\n",
            "  (0, 749)\t0.0590595746653061\n",
            "  (0, 11777)\t0.13726626073863255\n",
            "  (0, 27563)\t0.1476386622997163\n",
            "  (0, 27858)\t0.06042764372307004\n",
            "  (0, 23586)\t0.13866717278106122\n",
            "  (0, 13611)\t0.033811893636655405\n",
            "  (0, 23581)\t0.1189333776079684\n",
            "  (0, 22546)\t0.1218813231210584\n",
            "  (0, 9072)\t0.13866717278106122\n",
            "  (0, 26383)\t0.06308634913565238\n",
            "  (0, 26294)\t0.04511494086983747\n",
            "  (0, 23434)\t0.10000130598100727\n",
            "  (0, 20587)\t0.1699461725103378\n",
            "  (0, 24552)\t0.08122378738040759\n",
            "  (0, 12328)\t0.058492354239153256\n",
            "  (0, 20187)\t0.09487433636975488\n",
            "  (0, 26582)\t0.02516288581685954\n",
            "  (0, 430)\t0.06740798355519986\n",
            "  (0, 1586)\t0.05433396870287123\n",
            "  (0, 27843)\t0.12858693699214424\n",
            "  (0, 28178)\t0.09487433636975488\n",
            "  (0, 12619)\t0.11948971845975598\n",
            "  (0, 18489)\t0.08738182115763092\n",
            "  (0, 26108)\t0.12609747589642295\n",
            "  :\t:\n",
            "  (4758, 11882)\t0.06578947806704691\n",
            "  (4758, 26446)\t0.0991488698146646\n",
            "  (4758, 9540)\t0.09235195004643652\n",
            "  (4758, 10390)\t0.118014472713328\n",
            "  (4758, 21453)\t0.1060793126306646\n",
            "  (4758, 26349)\t0.06527841895626395\n",
            "  (4758, 2586)\t0.11512697887863342\n",
            "  (4758, 29067)\t0.09404866298050961\n",
            "  (4758, 26602)\t0.09925334317970422\n",
            "  (4758, 26311)\t0.11948338936821173\n",
            "  (4758, 749)\t0.07216925510810349\n",
            "  (4758, 13611)\t0.04131724942789507\n",
            "  (4758, 26294)\t0.05512927743340072\n",
            "  (4758, 26582)\t0.0922451644495061\n",
            "  (4758, 18851)\t0.03213704645948842\n",
            "  (4758, 26299)\t0.11007550474209855\n",
            "  (4758, 13086)\t0.03641287903597209\n",
            "  (4758, 1258)\t0.12726824679077298\n",
            "  (4758, 8667)\t0.026399501407768974\n",
            "  (4759, 19031)\t0.5899853529707326\n",
            "  (4759, 18167)\t0.5433820918705294\n",
            "  (4759, 24112)\t0.3333041612672533\n",
            "  (4759, 26659)\t0.32901115264790526\n",
            "  (4759, 2708)\t0.36358759623497766\n",
            "  (4759, 8667)\t0.07153490681973437\n"
          ]
        }
      ]
    },
    {
      "cell_type": "markdown",
      "source": [
        "**Modeling**"
      ],
      "metadata": {
        "id": "OuLWdItD4Jig"
      }
    },
    {
      "cell_type": "code",
      "source": [
        "from sklearn.metrics.pairwise import cosine_similarity"
      ],
      "metadata": {
        "id": "u-sXwJZFRa65"
      },
      "execution_count": null,
      "outputs": []
    },
    {
      "cell_type": "markdown",
      "source": [
        "**Model Evaluation**"
      ],
      "metadata": {
        "id": "yiaIdbhV4pR3"
      }
    },
    {
      "cell_type": "code",
      "source": [
        "Similarity_Score = cosine_similarity(x)"
      ],
      "metadata": {
        "id": "Tlc7PbWcW3-X"
      },
      "execution_count": null,
      "outputs": []
    },
    {
      "cell_type": "markdown",
      "source": [
        "**Prediction**"
      ],
      "metadata": {
        "id": "yvAdjmTd43kd"
      }
    },
    {
      "cell_type": "code",
      "source": [
        "Similarity_Score"
      ],
      "metadata": {
        "colab": {
          "base_uri": "https://localhost:8080/"
        },
        "id": "WOwq3rIkW_uB",
        "outputId": "a400b318-5ffe-4496-efb3-43178dc45c3d"
      },
      "execution_count": null,
      "outputs": [
        {
          "output_type": "execute_result",
          "data": {
            "text/plain": [
              "array([[1.        , 0.03052431, 0.03613984, ..., 0.02753226, 0.03416025,\n",
              "        0.00154544],\n",
              "       [0.03052431, 1.        , 0.01859168, ..., 0.01816898, 0.06763622,\n",
              "        0.00155554],\n",
              "       [0.03613984, 0.01859168, 1.        , ..., 0.01332565, 0.04354986,\n",
              "        0.00143274],\n",
              "       ...,\n",
              "       [0.02753226, 0.01816898, 0.01332565, ..., 1.        , 0.0805701 ,\n",
              "        0.00199576],\n",
              "       [0.03416025, 0.06763622, 0.04354986, ..., 0.0805701 , 1.        ,\n",
              "        0.00188849],\n",
              "       [0.00154544, 0.00155554, 0.00143274, ..., 0.00199576, 0.00188849,\n",
              "        1.        ]])"
            ]
          },
          "metadata": {},
          "execution_count": 171
        }
      ]
    },
    {
      "cell_type": "code",
      "source": [
        "Similarity_Score.shape"
      ],
      "metadata": {
        "colab": {
          "base_uri": "https://localhost:8080/"
        },
        "id": "OGKMelafXHCm",
        "outputId": "8ad69ec1-7770-4ed1-f04a-a4caf611740b"
      },
      "execution_count": null,
      "outputs": [
        {
          "output_type": "execute_result",
          "data": {
            "text/plain": [
              "(4760, 4760)"
            ]
          },
          "metadata": {},
          "execution_count": 172
        }
      ]
    },
    {
      "cell_type": "code",
      "source": [
        "Favourite_Movie_Name = input(' Enter your favourite movie name: ')"
      ],
      "metadata": {
        "colab": {
          "base_uri": "https://localhost:8080/"
        },
        "id": "ZqzaZpl3XMyN",
        "outputId": "29c02a33-9beb-4f42-fd30-b5850d3b5f28"
      },
      "execution_count": null,
      "outputs": [
        {
          "name": "stdout",
          "output_type": "stream",
          "text": [
            " Enter your favourite movie name: avtaar\n"
          ]
        }
      ]
    },
    {
      "cell_type": "code",
      "source": [
        "All_Movies_Title_List = df['Movie_Title'].tolist()"
      ],
      "metadata": {
        "id": "YhT8-K8MXn1z"
      },
      "execution_count": null,
      "outputs": []
    },
    {
      "cell_type": "code",
      "source": [
        "import difflib"
      ],
      "metadata": {
        "id": "riIdKXJaXz_E"
      },
      "execution_count": null,
      "outputs": []
    },
    {
      "cell_type": "code",
      "source": [
        "Movie_Recommendation = difflib.get_close_matches(Favourite_Movie_Name, All_Movies_Title_List)\n",
        "print(Movie_Recommendation)"
      ],
      "metadata": {
        "colab": {
          "base_uri": "https://localhost:8080/"
        },
        "id": "7O_MuVKgX3iP",
        "outputId": "3d6bdb06-12ab-4dc8-e67c-d423af9603f7"
      },
      "execution_count": null,
      "outputs": [
        {
          "output_type": "stream",
          "name": "stdout",
          "text": [
            "['Avatar', 'Gattaca']\n"
          ]
        }
      ]
    },
    {
      "cell_type": "code",
      "source": [
        "Close_Match = Movie_Recommendation[0]\n",
        "print(Close_Match)"
      ],
      "metadata": {
        "colab": {
          "base_uri": "https://localhost:8080/"
        },
        "id": "ElkhZ39Jcfw3",
        "outputId": "986f51a8-f7ac-4c7c-c4b6-2c18056ff8bb"
      },
      "execution_count": null,
      "outputs": [
        {
          "output_type": "stream",
          "name": "stdout",
          "text": [
            "Avatar\n"
          ]
        }
      ]
    },
    {
      "cell_type": "code",
      "source": [
        "Index_of_Close_Match_Movie = df[df.Movie_Title == Close_Match]['Movie_ID'].values[0]\n",
        "print(Index_of_Close_Match_Movie)"
      ],
      "metadata": {
        "colab": {
          "base_uri": "https://localhost:8080/"
        },
        "id": "eyozxrMvcnkN",
        "outputId": "1e8eb70b-dc46-47bd-d2c6-27cf2af068a3"
      },
      "execution_count": null,
      "outputs": [
        {
          "output_type": "stream",
          "name": "stdout",
          "text": [
            "2692\n"
          ]
        }
      ]
    },
    {
      "cell_type": "code",
      "source": [
        "Recommendation_Score = list(enumerate(Similarity_Score[Index_of_Close_Match_Movie]))\n",
        "print(Recommendation_Score)"
      ],
      "metadata": {
        "colab": {
          "base_uri": "https://localhost:8080/"
        },
        "id": "dkq8udP9dDJq",
        "outputId": "11ba7c2e-b458-4393-a937-3cb989404748"
      },
      "execution_count": null,
      "outputs": [
        {
          "output_type": "stream",
          "name": "stdout",
          "text": [
            "[(0, 0.038886864455643794), (1, 0.05415544905770394), (2, 0.01745544236185169), (3, 0.0898853832754603), (4, 0.014049044439051049), (5, 0.03712325485012161), (6, 0.029650885178668204), (7, 0.054404026179503365), (8, 0.03712317204125272), (9, 0.02196662603118741), (10, 0.040435038736413936), (11, 0.03499473510128657), (12, 0.023727459920395634), (13, 0.015603978898271092), (14, 0.02257158720605903), (15, 0.04313871914177509), (16, 0.02244215885004918), (17, 0.007300455868679292), (18, 0.012652544578538729), (19, 0.01622765845837525), (20, 0.038574235566113065), (21, 0.027129586648244643), (22, 0.03372676077258051), (23, 0.011406760148049621), (24, 0.022306098639961674), (25, 0.036609761907665704), (26, 0.026408498711178813), (27, 0.0624389154452522), (28, 0.030418765171572396), (29, 0.02193161783467915), (30, 0.0307773917682751), (31, 0.017922587976842007), (32, 0.015295738809870976), (33, 0.02317402975211834), (34, 0.015296027198845933), (35, 0.022995439577895422), (36, 0.014330528712091862), (37, 0.04298046595282623), (38, 0.03036210858705766), (39, 0.03574755207283341), (40, 0.02756623192208473), (41, 0.04811368343251905), (42, 0.013007816122704918), (43, 0.01795664162692509), (44, 0.024222317558248427), (45, 0.018331291166939802), (46, 0.049018082746112475), (47, 0.0214415471889426), (48, 0.02552421411133898), (49, 0.029172329881845798), (50, 0.021734064334566348), (51, 0.05492744693109787), (52, 0.027435392357987927), (53, 0.01507715867023255), (54, 0.02637432179385197), (55, 0.035191271247097936), (56, 0.03949040708725071), (57, 0.024490439901689646), (58, 0.024798900554383867), (59, 0.04020920967415605), (60, 0.02160704639691221), (61, 0.016282170204066408), (62, 0.06052810583726565), (63, 0.032953835679494184), (64, 0.024608791251848186), (65, 0.044009416746836776), (66, 0.01701102137880847), (67, 0.04883651964934994), (68, 0.02855865029562784), (69, 0.03218204987286528), (70, 0.03714518150649537), (71, 0.0006041387887418987), (72, 0.0487116902181337), (73, 0.038814500324329496), (74, 0.019109356245297714), (75, 0.057646589197746755), (76, 0.02714851855339769), (77, 0.02108064633536313), (78, 0.046489777942437346), (79, 0.009597880463782403), (80, 0.04827590165428485), (81, 0.010558374453206093), (82, 0.01728766909208302), (83, 0.01051763776886113), (84, 0.039729240999951954), (85, 0.06868042378004986), (86, 0.036169030753315345), (87, 0.030201592061180966), (88, 0.04974780331935695), (89, 0.01928236843649652), (90, 0.03609616206589619), (91, 0.036932838834796144), (92, 0.025427638631373078), (93, 0.027268865725871814), (94, 0.03563231242194945), (95, 0.044574556535515765), (96, 0.018098529151416912), (97, 0.062108859304831635), (98, 0.01831962938521508), (99, 0.033373539269571), (100, 0.03567202443979994), (101, 0.046555761808348556), (102, 0.019106318097959384), (103, 0.04018131046376494), (104, 0.05982876049040787), (105, 0.014251801032299241), (106, 0.041523364257651296), (107, 0.03849722222052955), (108, 0.030601022795697225), (109, 0.022666099787125915), (110, 0.07873700659170137), (111, 0.022979699006262292), (112, 0.023869653304523328), (113, 0.013173364259250938), (114, 0.044721486968779506), (115, 0.06772665899680132), (116, 0.04322660400247231), (117, 0.01301379811180118), (118, 0.015578969124330634), (119, 0.01891925617235231), (120, 0.016512515887007723), (121, 0.03498887947812742), (122, 0.041525512935834695), (123, 0.018676604375065842), (124, 0.033454635831586414), (125, 0.024863707571764013), (126, 0.0463589425438929), (127, 0.012484273373629798), (128, 0.02090152063244792), (129, 0.030587758912479543), (130, 0.03783832475823396), (131, 0.03198434700011998), (132, 0.00864769869061358), (133, 0.012006815139809595), (134, 0.010367693806350962), (135, 0.020918629302300602), (136, 0.03979343913631405), (137, 0.057615116829159256), (138, 0.057022404312035424), (139, 0.030601403933585812), (140, 0.013350474454025542), (141, 0.02489617688282318), (142, 0.01420025368235119), (143, 0.040504677876632596), (144, 0.02708203775361275), (145, 0.014037189672079594), (146, 0.03314472141591165), (147, 0.01791220398947572), (148, 0.015665656208003555), (149, 0.016717952907894955), (150, 0.020625942393792732), (151, 0.019908962688977468), (152, 0.03172528942546899), (153, 0.026759849278385952), (154, 0.031856364409446856), (155, 0.0702921376632674), (156, 0.043600917055887194), (157, 0.04227454495616159), (158, 0.02234940742484888), (159, 0.022537658645582402), (160, 0.02517941019869558), (161, 0.06344698688015794), (162, 0.04087922085955824), (163, 0.03338015438712614), (164, 0.0091605311819228), (165, 0.027872968440896366), (166, 0.024856056842440355), (167, 0.0590514774544107), (168, 0.03232470609188821), (169, 0.03103657259376753), (170, 0.04370445533492655), (171, 0.038649382023951), (172, 0.016961493173867293), (173, 0.012349547522229044), (174, 0.02309456817274556), (175, 0.04208526514164576), (176, 0.024058359544347523), (177, 0.03740941181041689), (178, 0.03854033905194402), (179, 0.020719214706427094), (180, 0.026521038755181373), (181, 0.04907533138436399), (182, 0.02225546918016255), (183, 0.014317943407011036), (184, 0.015484957610113434), (185, 0.04824260612253215), (186, 0.03723297593515945), (187, 0.015006531849114275), (188, 0.042343362155452334), (189, 0.03345183507798841), (190, 0.0061471201402269375), (191, 0.041070422901422377), (192, 0.02249987081582501), (193, 0.03955710773028495), (194, 0.025417844754229625), (195, 0.05495364907370637), (196, 0.04783910707942443), (197, 0.008244424188145388), (198, 0.040246581118988566), (199, 0.027577381204795276), (200, 0.03355009078018982), (201, 0.013885635634727033), (202, 0.020126060903323393), (203, 0.023041433570024434), (204, 0.0402913222353864), (205, 0.010779632782176097), (206, 0.013224857526722414), (207, 0.014823470789421925), (208, 0.011333487542112436), (209, 0.017752540803817187), (210, 0.049997430506326254), (211, 0.022835343050677467), (212, 0.04670941182555957), (213, 0.01586122349095366), (214, 0.025946264206421557), (215, 0.017442083510285127), (216, 0.031760958944334845), (217, 0.04742180265468833), (218, 0.022487916499241745), (219, 0.036343923768074125), (220, 0.023655287273077998), (221, 0.033065657693393445), (222, 0.028145283874085707), (223, 0.026776010127465538), (224, 0.04239834779198112), (225, 0.024500579958505415), (226, 0.039793685401728236), (227, 0.013268778010616817), (228, 0.03621707809356138), (229, 0.02263091680484674), (230, 0.003216188813802768), (231, 0.025572852465998816), (232, 0.029066305185269464), (233, 0.023086603950541976), (234, 0.03525253410307891), (235, 0.021458435595373308), (236, 0.030320157684157432), (237, 0.02123798690090071), (238, 0.04425909207077077), (239, 0.015653157529326573), (240, 0.03391647946318073), (241, 0.046317243919695175), (242, 0.019144306504882507), (243, 0.018525080489078288), (244, 0.010919581380595582), (245, 0.058938418431364485), (246, 0.01821456370103679), (247, 0.02723858832520351), (248, 0.13245277762790383), (249, 0.04121831113820441), (250, 0.031693246275251004), (251, 0.03959406556635613), (252, 0.026211591838330307), (253, 0.03473404991087677), (254, 0.0746479853261313), (255, 0.10496837216023577), (256, 0.03336356426091714), (257, 0.05147097161419836), (258, 0.025101814822486943), (259, 0.02543464316611665), (260, 0.040435633223035033), (261, 0.035338355717991064), (262, 0.021682585943336725), (263, 0.041891313124753374), (264, 0.025102934799058927), (265, 0.032967112882017), (266, 0.027731103367755305), (267, 0.058030052989373415), (268, 0.036715372037010766), (269, 0.044025937597588785), (270, 0.014918369199991783), (271, 0.04745995592928626), (272, 0.019245068959722705), (273, 0.01323973921683853), (274, 0.021132082911871408), (275, 0.02465670177126426), (276, 0.01677611133754669), (277, 0.05955496797581746), (278, 0.01789604530685508), (279, 0.04438725045097112), (280, 0.01478494590816609), (281, 0.04115435861306484), (282, 0.05854458363254537), (283, 0.03362332517203251), (284, 0.03514151439766904), (285, 0.02881057626211005), (286, 0.0416597171714593), (287, 0.041830382943925395), (288, 0.025686756351982306), (289, 0.01943096016349859), (290, 0.022426407924618707), (291, 0.033498680494202605), (292, 0.05723928853049963), (293, 0.011766915693027279), (294, 0.03179385856153302), (295, 0.04150104201426867), (296, 0.0061810030093786585), (297, 0.02823041120797557), (298, 0.01434808797321094), (299, 0.031723140637480315), (300, 0.03458288148162627), (301, 0.026710930557764367), (302, 0.04607048050813183), (303, 0.040386074629208554), (304, 0.026931075188768316), (305, 0.023833550718367326), (306, 0.02856992320215485), (307, 0.03239364075634677), (308, 0.02362413713007427), (309, 0.01500806564910686), (310, 0.019554408167490957), (311, 0.030737811284263096), (312, 0.025474102462390874), (313, 0.021610763021872106), (314, 0.026459244355612734), (315, 0.014431480945549736), (316, 0.015685344174174044), (317, 0.04338923102034961), (318, 0.024546241951311124), (319, 0.05489839402226823), (320, 0.05539161253411872), (321, 0.027941798796256283), (322, 0.019730195086228808), (323, 0.0121415124771567), (324, 0.022246052160711426), (325, 0.031573535776063526), (326, 0.038365029975601525), (327, 0.03314247271032284), (328, 0.01434915559305191), (329, 0.023695214588762437), (330, 0.03447725270831324), (331, 0.014599255259917586), (332, 0.02401964850262118), (333, 0.023032366797299034), (334, 0.0677450685790273), (335, 0.024490054891571612), (336, 0.026638999465682923), (337, 0.04015080359726592), (338, 0.03809071576072134), (339, 0.025793708903672215), (340, 0.05049979817842783), (341, 0.025116501156505724), (342, 0.05622699952784903), (343, 0.02597464366259591), (344, 0.01195092706988937), (345, 0.018870292407868357), (346, 0.012000410277914746), (347, 0.026126597360528848), (348, 0.01867261498240963), (349, 0.017715491620777287), (350, 0.0264901551932189), (351, 0.07701294260231395), (352, 0.03411189901478543), (353, 0.03248048207263328), (354, 0.02223731741859038), (355, 0.032281307239771885), (356, 0.021048936540458148), (357, 0.02420688993266987), (358, 0.02828356551627298), (359, 0.0477017197419961), (360, 0.04431654625925267), (361, 0.005031641424514021), (362, 0.037861783436489015), (363, 0.04423607413753934), (364, 0.049523159952607185), (365, 0.03754956519682464), (366, 0.01924020253217445), (367, 0.02031942540896954), (368, 0.0185643497930954), (369, 0.019132380128529376), (370, 0.011535134166387961), (371, 0.012806994145180998), (372, 0.019783113800355728), (373, 0.03879373380035538), (374, 0.025341206475323872), (375, 0.036897732524246184), (376, 0.032241419725004564), (377, 0.04884214414310248), (378, 0.04475609130217149), (379, 0.04390253564877597), (380, 0.022823587022039682), (381, 0.04277396423360266), (382, 0.010784381922306194), (383, 0.034717748357244886), (384, 0.07560459977018837), (385, 0.016220567485647396), (386, 0.025549391482888), (387, 0.027241269471246485), (388, 0.040205161056126815), (389, 0.018424762554810226), (390, 0.026660122418422406), (391, 0.013290555648831486), (392, 0.021527589371773338), (393, 0.010990079243650096), (394, 0.021714603932248992), (395, 0.03853180294862861), (396, 0.03494674278629212), (397, 0.00592829272448942), (398, 0.05703719827644307), (399, 0.04050471949908474), (400, 0.03686524789504459), (401, 0.035258581814404714), (402, 0.015410413659164962), (403, 0.049248457514799164), (404, 0.022604343874984056), (405, 0.03370225721261634), (406, 0.01941614689189986), (407, 0.026589253519266134), (408, 0.03753494319155698), (409, 0.025392638121036697), (410, 0.026958430546674527), (411, 0.02216048516298749), (412, 0.04135259290122808), (413, 0.03529204308108246), (414, 0.07213323883279862), (415, 0.050993871275552445), (416, 0.04733376297183547), (417, 0.023092379642206572), (418, 0.026451057939201758), (419, 0.013307019297909731), (420, 0.02851543571096535), (421, 0.05909523162958767), (422, 0.0224896861591289), (423, 0.02201664753902896), (424, 0.0681396483607999), (425, 0.015090964820969532), (426, 0.0348857915058569), (427, 0.03870851983870695), (428, 0.03201536049677309), (429, 0.05670736303787152), (430, 0.034266353862622626), (431, 0.004233077555928093), (432, 0.02685273266154032), (433, 0.01656600074866753), (434, 0.02670398810220482), (435, 0.020682843662910944), (436, 0.025116078556922623), (437, 0.029449366179420712), (438, 0.03588020829922766), (439, 0.03732425207102983), (440, 0.037714731401185725), (441, 0.022752825375174146), (442, 0.02904473947914737), (443, 0.018744647647623985), (444, 0.013501095181543585), (445, 0.014514549737214253), (446, 0.04489268184711653), (447, 0.0244575299881312), (448, 0.04102412673406438), (449, 0.015871597935660002), (450, 0.012954579322909825), (451, 0.01685209383795062), (452, 0.032536329613509274), (453, 0.039081199935382074), (454, 0.029181240530976676), (455, 0.053362118761547596), (456, 0.027057355457914052), (457, 0.03368858620202152), (458, 0.025122383889549002), (459, 0.032415131897375285), (460, 0.06861944549114453), (461, 0.022606164776148432), (462, 0.026387003787039058), (463, 0.008224916516532009), (464, 0.046868665622679044), (465, 0.03841414459505551), (466, 0.012074700927020588), (467, 0.015777663921611486), (468, 0.038232430168802095), (469, 0.013743523145183786), (470, 0.011422699999987514), (471, 0.022935569531954286), (472, 0.025977230790577524), (473, 0.03427682760863225), (474, 0.053087011706932634), (475, 0.017683201948439312), (476, 0.027740920295179015), (477, 0.055100371884164334), (478, 0.024382185462175486), (479, 0.06989382845840227), (480, 0.029501324886101896), (481, 0.03430581475591388), (482, 0.021189425079820464), (483, 0.04067480750143665), (484, 0.010234337169508912), (485, 0.0295132887966835), (486, 0.06988319103180893), (487, 0.005482162342650523), (488, 0.04836332829480901), (489, 0.011904957912508252), (490, 0.011727657671010293), (491, 0.03027127691139975), (492, 0.027254590376328845), (493, 0.019687300050608675), (494, 0.027804810674778982), (495, 0.029225197859431104), (496, 0.019276967606448037), (497, 0.019156265457918667), (498, 0.030163662543069437), (499, 0.012757751839264747), (500, 0.034383993481015694), (501, 0.025990216447348592), (502, 0.04086232817784525), (503, 0.005294369886240698), (504, 0.05908589340292235), (505, 0.00917349954100134), (506, 0.07570863793269449), (507, 0.02101613211510741), (508, 0.0588950473619263), (509, 0.0125457381804233), (510, 0.018710585097476157), (511, 0.07470817502990817), (512, 0.03360381376866767), (513, 0.02037309242937283), (514, 0.01683425645312109), (515, 0.023405487374426978), (516, 0.024023730557203273), (517, 0.018710212727765664), (518, 0.041492551852096604), (519, 0.04318259095838101), (520, 0.026635276929380884), (521, 0.031791177445988986), (522, 0.10192197313506715), (523, 0.021568530989260273), (524, 0.019367384712631847), (525, 0.03428268010505989), (526, 0.061093361965906805), (527, 0.04102137682278982), (528, 0.02314707047262544), (529, 0.025442815892178942), (530, 0.04638021530876503), (531, 0.029331370004500673), (532, 0.028059036155264942), (533, 0.021891124543028884), (534, 0.010525357022207367), (535, 0.00607119985408327), (536, 0.035981228389775986), (537, 0.026549243110794752), (538, 0.027437799094499206), (539, 0.016559251827907108), (540, 0.024771245271488527), (541, 0.018494762084820787), (542, 0.08909285428503515), (543, 0.012783879359178603), (544, 0.017648893221206004), (545, 0.05548589806625199), (546, 0.0591496861771106), (547, 0.018274743539919067), (548, 0.049852786905814246), (549, 0.016132384816128845), (550, 0.036841383093506014), (551, 0.05218295585789336), (552, 0.04915508410083066), (553, 0.048801975192328505), (554, 0.0251544874417986), (555, 0.027595545917671646), (556, 0.014596156918995355), (557, 0.020909785365983244), (558, 0.02588921577498089), (559, 0.03826841302323647), (560, 0.03033822590462828), (561, 0.029159875212309637), (562, 0.027883828583600796), (563, 0.019615525202400157), (564, 0.023552510569542225), (565, 0.016141205464796415), (566, 0.058684847419267314), (567, 0.005629586860850475), (568, 0.027987490464266965), (569, 0.027219087752927865), (570, 0.018363927438459233), (571, 0.011642984037898891), (572, 0.026629775491405668), (573, 0.035234913686124976), (574, 0.015547605368912825), (575, 0.055531866069437164), (576, 0.020320198987470676), (577, 0.041972595532781064), (578, 0.04076785436302823), (579, 0.03075898971954255), (580, 0.006333351912217658), (581, 0.0214927234759913), (582, 0.022272364143192606), (583, 0.05163714905987914), (584, 0.04156071376011858), (585, 0.03830562141188934), (586, 0.04832665666127448), (587, 0.032523602053782116), (588, 0.02510645500892444), (589, 0.018102279418109917), (590, 0.037605826965685235), (591, 0.0354791724202253), (592, 0.026035694231670247), (593, 0.01877680375061627), (594, 0.020555620170139743), (595, 0.03115980622036894), (596, 0.012420148520061453), (597, 0.01618459485844447), (598, 0.080512697491274), (599, 0.025992576916378993), (600, 0.036005135756064524), (601, 0.030740188878985057), (602, 0.04888959919131876), (603, 0.06454470472623919), (604, 0.04461715285971178), (605, 0.026942263690644078), (606, 0.05832502874706523), (607, 0.021785045573161504), (608, 0.026175257364413347), (609, 0.04088662818682054), (610, 0.015119280282632106), (611, 0.022454888329343933), (612, 0.06012155876621728), (613, 0.028274723655419966), (614, 0.036466889493953), (615, 0.051355103981246035), (616, 0.027156628982084065), (617, 0.0709235090711519), (618, 0.043922324040332354), (619, 0.010319221038270498), (620, 0.03207285202045012), (621, 0.009948523231063761), (622, 0.046403257110647085), (623, 0.017259552504976093), (624, 0.04312393363633395), (625, 0.023973570996721212), (626, 0.03072694402733278), (627, 0.020765141660556576), (628, 0.06789752340314141), (629, 0.04262013318500772), (630, 0.014250575684976665), (631, 0.012616983967259916), (632, 0.031478656356405746), (633, 0.020905926688784493), (634, 0.021976787010857892), (635, 0.03549438703801837), (636, 0.013667629498814315), (637, 0.04656809695590844), (638, 0.03868754090255613), (639, 0.03321246211737707), (640, 0.013264802999397527), (641, 0.021613696116969294), (642, 0.06544459500975028), (643, 0.009152869983736576), (644, 0.06614603511117312), (645, 0.03077217497181811), (646, 0.024033655497394734), (647, 0.027906172480684402), (648, 0.044596318992657175), (649, 0.016991055959057446), (650, 0.022961640053802943), (651, 0.04240516333180673), (652, 0.01883120844132868), (653, 0.015112013287554323), (654, 0.03151983742344866), (655, 0.011877118682506915), (656, 0.03234314276685477), (657, 0.01646129221741148), (658, 0.04754203462251986), (659, 0.023552346166620962), (660, 0.022622497877909754), (661, 0.04556705111867306), (662, 0.028020270392469307), (663, 0.016433136548557662), (664, 0.03328723339833069), (665, 0.017660822300040825), (666, 0.013486245100173879), (667, 0.004958153991994285), (668, 0.017143032636399384), (669, 0.01751442088320958), (670, 0.01383360120045437), (671, 0.013792120530260228), (672, 0.030137897120576133), (673, 0.03663056264770489), (674, 0.024896969486421106), (675, 0.025193028728957238), (676, 0.048667822216614094), (677, 0.026362501527304176), (678, 0.01726035059040471), (679, 0.023961666400925997), (680, 0.05197171582600386), (681, 0.00957852873821876), (682, 0.02286635192693683), (683, 0.06721294357361356), (684, 0.030948144108579566), (685, 0.015564033047955684), (686, 0.027255648431836532), (687, 0.029546584586050095), (688, 0.013768847814747853), (689, 0.03715818028570137), (690, 0.013885208370941857), (691, 0.031083408297935926), (692, 0.028914952065762434), (693, 0.04494458048610354), (694, 0.02937676548606856), (695, 0.02258156854494204), (696, 0.02426052492181733), (697, 0.039509733544431706), (698, 0.047921806934306733), (699, 0.031149863823660886), (700, 0.033825385174118955), (701, 0.045645039155704684), (702, 0.031091973963700198), (703, 0.031349681671800536), (704, 0.025286552725981737), (705, 0.015622107708755138), (706, 0.0255217745997877), (707, 0.02079616599895291), (708, 0.03618502807587503), (709, 0.0068637777158666174), (710, 0.024953513343267328), (711, 0.011008556695124487), (712, 0.01320239031026707), (713, 0.02052311072490893), (714, 0.02735804642539994), (715, 0.052010668119805), (716, 0.03734923664109608), (717, 0.033369383264625754), (718, 0.043361624229987995), (719, 0.01695484483607548), (720, 0.01927447807281931), (721, 0.053566516766520716), (722, 0.04112502110368821), (723, 0.0317963020756946), (724, 0.027389613071343268), (725, 0.02590301262363298), (726, 0.026261152251698627), (727, 0.028362226152642174), (728, 0.026997601078291997), (729, 0.032289393466173225), (730, 0.038619625107600114), (731, 0.01919801691937709), (732, 0.029262605338761863), (733, 0.016867836919380215), (734, 0.018121573592882755), (735, 0.10837835819387828), (736, 0.02168808883839812), (737, 0.014920190336359116), (738, 0.05013119466646425), (739, 0.023619714459467343), (740, 0.017772319348191293), (741, 0.06812314447188351), (742, 0.028383746577289582), (743, 0.018094332938221654), (744, 0.07272969825395181), (745, 0.01743573961055466), (746, 0.010876779273410775), (747, 0.021049809327591058), (748, 0.022390828197820067), (749, 0.019841197238405644), (750, 0.016303200248098962), (751, 0.008415846691365624), (752, 0.010434816564829105), (753, 0.02662264058545252), (754, 0.05214328965665877), (755, 0.03441566181976639), (756, 0.026412982806165403), (757, 0.01458806245132254), (758, 0.040144459550520206), (759, 0.010558937483735384), (760, 0.02471120466892168), (761, 0.027401361419285), (762, 0.06821697174522828), (763, 0.037257567028925444), (764, 0.051671773668220705), (765, 0.07765648386725721), (766, 0.06077669665222174), (767, 0.021620842886419), (768, 0.02442823370772727), (769, 0.05160981090919873), (770, 0.02805010171661852), (771, 0.020384895825781763), (772, 0.014231868969719364), (773, 0.02646785008166748), (774, 0.05022878493451921), (775, 0.02613335726516411), (776, 0.009571805071074534), (777, 0.028044033229614556), (778, 0.022838684919085677), (779, 0.0676973506569121), (780, 0.025525575527827776), (781, 0.021088327810666174), (782, 0.029980026578460904), (783, 0.022985355071675307), (784, 0.04252843475288536), (785, 0.05380441788443503), (786, 0.020577214341926414), (787, 0.027240073199237876), (788, 0.04510263247901622), (789, 0.014200556423291546), (790, 0.029206780552942777), (791, 0.011828445984182211), (792, 0.03589586669846349), (793, 0.008016690812497746), (794, 0.011354250786610983), (795, 0.006452944285782724), (796, 0.03221918045689948), (797, 0.005321379770757222), (798, 0.09967235811190511), (799, 0.03622182670047289), (800, 0.03778279476153263), (801, 0.007353260209969787), (802, 0.02167152393013012), (803, 0.01901730260029051), (804, 0.04067846388802297), (805, 0.05930105452041466), (806, 0.04843577113429927), (807, 0.027964076242070444), (808, 0.04660696561868857), (809, 0.023092877220069974), (810, 0.02548646747404957), (811, 0.051725250363603946), (812, 0.029466151518045755), (813, 0.018116832522959758), (814, 0.044222198747887506), (815, 0.024513829283605303), (816, 0.018128781103872244), (817, 0.036682484043121036), (818, 0.020993633927607086), (819, 0.027504461164081673), (820, 0.026186109442242055), (821, 0.03334961536706077), (822, 0.03328227299065616), (823, 0.030792358457851735), (824, 0.07947925834318127), (825, 0.04341492515991631), (826, 0.008437348717675819), (827, 0.037087206026909514), (828, 0.11318743905546079), (829, 0.021429271353860493), (830, 0.023845215823073553), (831, 0.013702966620887963), (832, 0.030660695519623693), (833, 0.08636418764084701), (834, 0.03391620106050874), (835, 0.02610657489802158), (836, 0.036272306481619866), (837, 0.011886698143921362), (838, 0.020337541301349762), (839, 0.023257914291452873), (840, 0.04665981733935969), (841, 0.019490886603296915), (842, 0.03831067151516896), (843, 0.030335329474492335), (844, 0.021712336159832583), (845, 0.018991009878607457), (846, 0.04878345964506746), (847, 0.009926912179040853), (848, 0.013042262436983712), (849, 0.02071877295266216), (850, 0.01327508581087641), (851, 0.015526366555419772), (852, 0.0713683278693915), (853, 0.053543349427303835), (854, 0.020573067617649807), (855, 0.07009846157773907), (856, 0.020294324190311734), (857, 0.03263393490110345), (858, 0.0458279457169051), (859, 0.05573905571360439), (860, 0.0283753524546629), (861, 0.0443703382035423), (862, 0.016507700056011303), (863, 0.026073429085984506), (864, 0.05125656614419826), (865, 0.026062938791563774), (866, 0.026186319714340992), (867, 0.04585689022115242), (868, 0.03186553538483258), (869, 0.034302863914923834), (870, 0.059340205952917266), (871, 0.032248172040201376), (872, 0.02437853515773795), (873, 0.02798020622801638), (874, 0.027121787917644604), (875, 0.018742010040238816), (876, 0.05262217251387657), (877, 0.06154470371564452), (878, 0.01644600035111843), (879, 0.0450421738186732), (880, 0.018289644419785093), (881, 0.023919358143158893), (882, 0.017994316718349685), (883, 0.059812795558815086), (884, 0.06387220593924609), (885, 0.04480414709099939), (886, 0.01605023260579685), (887, 0.012408252604543635), (888, 0.04072544243843961), (889, 0.014202019151986997), (890, 0.009891969954541897), (891, 0.02188557066342244), (892, 0.0455548140649435), (893, 0.06421631027767956), (894, 0.030096796547515153), (895, 0.06179995755942398), (896, 0.016075337227040645), (897, 0.0202194873086714), (898, 0.022429872999416803), (899, 0.008415071469088908), (900, 0.026573744025102493), (901, 0.006403464761810014), (902, 0.1281912104258631), (903, 0.0346730910995953), (904, 0.03060870161963539), (905, 0.046828908756607036), (906, 0.03554138127435692), (907, 0.03602706383569153), (908, 0.020870643799233802), (909, 0.020697232344340736), (910, 0.02880812000383867), (911, 0.026217459189822573), (912, 0.06048377324203434), (913, 0.03474308548706141), (914, 0.007913190526755638), (915, 0.03870736393074412), (916, 0.013903594527063209), (917, 0.021970803279797512), (918, 0.039664740090803306), (919, 0.025845997506926125), (920, 0.016084194702963024), (921, 0.04400553565935584), (922, 0.02794920276914303), (923, 0.030444391747826184), (924, 0.027939275849169908), (925, 0.051710307962564775), (926, 0.025516331369463886), (927, 0.013654973978576904), (928, 0.03401858326705976), (929, 0.022530638938214224), (930, 0.024419312138176493), (931, 0.026314390993130758), (932, 0.02322910796524066), (933, 0.013369590872753002), (934, 0.033894198891006304), (935, 0.022967725110691624), (936, 0.023915535950827776), (937, 0.008831780822475915), (938, 0.07987719622427346), (939, 0.021924414956738542), (940, 0.03243054764838656), (941, 0.024828178969709687), (942, 0.013292115332658864), (943, 0.02624629240441135), (944, 0.03873519760681783), (945, 0.04402819103632308), (946, 0.026388321546519974), (947, 0.03882237021210184), (948, 0.026161313238252364), (949, 0.013716248322060228), (950, 0.015271065936339076), (951, 0.017161291865778187), (952, 0.035536691301563894), (953, 0.06225762992136885), (954, 0.020290968830907592), (955, 0.03682293684787395), (956, 0.05552516934419526), (957, 0.02109773124053782), (958, 0.023997533958381542), (959, 0.009512757873381652), (960, 0.00905500530369379), (961, 0.008259380842027068), (962, 0.03005102021223284), (963, 0.037991035832538766), (964, 0.028570673632306767), (965, 0.022022044756009003), (966, 0.06668251541240604), (967, 0.04773106494866861), (968, 0.019922155050467467), (969, 0.014861729046405679), (970, 0.024207637578708585), (971, 0.03162720541913103), (972, 0.0012911927626838007), (973, 0.031242984936990972), (974, 0.04682690238325024), (975, 0.03520043204667205), (976, 0.026108281173879654), (977, 0.0383360851787816), (978, 0.04359957106729696), (979, 0.03367488694163295), (980, 0.018168832995438623), (981, 0.02674938072133374), (982, 0.01575982485826221), (983, 0.04980380056378038), (984, 0.03264727472020532), (985, 0.03553121748183635), (986, 0.01585121951723132), (987, 0.01985371854152648), (988, 0.016584682677502127), (989, 0.024040368267119125), (990, 0.03536579302697731), (991, 0.024359256685173847), (992, 0.022438194940241407), (993, 0.01567362649074363), (994, 0.02292047406744072), (995, 0.028886563565902953), (996, 0.02091633567839371), (997, 0.05203539105295088), (998, 0.009447058346112423), (999, 0.04527408790788945), (1000, 0.03298974542481258), (1001, 0.03216261304244848), (1002, 0.027539927017162995), (1003, 0.06467342338102948), (1004, 0.0411409563002744), (1005, 0.01887210042813788), (1006, 0.04870006252043191), (1007, 0.010637413806044915), (1008, 0.031134307365198732), (1009, 0.020227518780684746), (1010, 0.03234782602417631), (1011, 0.0453358038498639), (1012, 0.0204389628789451), (1013, 0.013436002190015684), (1014, 0.028151435196991554), (1015, 0.015326408474479844), (1016, 0.015334456754125444), (1017, 0.029157038716643588), (1018, 0.005278494020752348), (1019, 0.0574839417746206), (1020, 0.058099263408433674), (1021, 0.03701196768751616), (1022, 0.029602515427560233), (1023, 0.026227878428417856), (1024, 0.05556483588133265), (1025, 0.02178093087470413), (1026, 0.04905932000894413), (1027, 0.012845985706730421), (1028, 0.05015281970848119), (1029, 0.020517857771193634), (1030, 0.04246411309953311), (1031, 0.02031718006226973), (1032, 0.03580900415260379), (1033, 0.01881939303638256), (1034, 0.027694452314242682), (1035, 0.031246348548515962), (1036, 0.008388174853659789), (1037, 0.03495619849544815), (1038, 0.009156433426456704), (1039, 0.023432942980805557), (1040, 0.01824463057699596), (1041, 0.01726611794656894), (1042, 0.016168082147062418), (1043, 0.04724473685702846), (1044, 0.02504538748465504), (1045, 0.020662458260890058), (1046, 0.027038840664688035), (1047, 0.02182405411016929), (1048, 0.024364307109697884), (1049, 0.005180646857685194), (1050, 0.027835286245543232), (1051, 0.0006689278879037934), (1052, 0.055620778048915465), (1053, 0.020354891052055617), (1054, 0.011333415212060221), (1055, 0.023483864686419356), (1056, 0.02477006547873855), (1057, 0.03118720715061928), (1058, 0.03111336257448925), (1059, 0.043419202905810333), (1060, 0.04278233940791997), (1061, 0.03218904950115856), (1062, 0.01619258861731577), (1063, 0.022571158658788375), (1064, 0.004572149970654214), (1065, 0.02903749498503551), (1066, 0.02296806374993942), (1067, 0.012996366650535145), (1068, 0.04465346332678319), (1069, 0.029902308520493713), (1070, 0.04679734957715412), (1071, 0.05010266027893078), (1072, 0.009113071904463478), (1073, 0.02832253778021746), (1074, 0.02577088454763346), (1075, 0.008190703559751577), (1076, 0.02464093124985221), (1077, 0.027608590789175883), (1078, 0.05398244482672598), (1079, 0.040828667082276164), (1080, 0.03992688497322501), (1081, 0.03437921232315595), (1082, 0.0660449204259508), (1083, 0.011534110148242193), (1084, 0.05461857744565376), (1085, 0.054308593939187605), (1086, 0.0728199852855748), (1087, 0.039334006649301506), (1088, 0.056778372591254185), (1089, 0.028011859704920736), (1090, 0.02719870820277036), (1091, 0.01953918698516616), (1092, 0.013055409352099099), (1093, 0.04290125450280524), (1094, 0.028901941128650455), (1095, 0.06974467718303448), (1096, 0.024121594582421354), (1097, 0.05253837458234838), (1098, 0.02128223999346395), (1099, 0.03231184909504817), (1100, 0.02223555805424822), (1101, 0.032184838483702335), (1102, 0.0393362639218016), (1103, 0.00898980389671759), (1104, 0.05782845996832284), (1105, 0.03400081667180809), (1106, 0.0126040564419507), (1107, 0.031139387964048457), (1108, 0.015455553882293298), (1109, 0.016915533819853844), (1110, 0.02941658171343746), (1111, 0.04520958220328251), (1112, 0.07974878752653855), (1113, 0.027988097005662134), (1114, 0.025090918025982203), (1115, 0.012330715096407416), (1116, 0.03682444690576062), (1117, 0.036993802768265555), (1118, 0.03840001504203348), (1119, 0.06900694867547659), (1120, 0.03112354874803999), (1121, 0.03784982474345474), (1122, 0.028814120634294893), (1123, 0.010823945726473999), (1124, 0.030617381559630376), (1125, 0.019221326491207755), (1126, 0.028528297654105927), (1127, 0.06543403202270347), (1128, 0.05142680165305822), (1129, 0.0073173867131389415), (1130, 0.024789209053029143), (1131, 0.06565190597706044), (1132, 0.03294178852268156), (1133, 0.02507245877053578), (1134, 0.0697924255963204), (1135, 0.02612503349129373), (1136, 0.026954654591166624), (1137, 0.027126655888767868), (1138, 0.013301540612294773), (1139, 0.028263442266182468), (1140, 0.027506135127385846), (1141, 0.004693661430352801), (1142, 0.05987731043679124), (1143, 0.03192153104421456), (1144, 0.010162185510917323), (1145, 0.01463563637325325), (1146, 0.023133949974928084), (1147, 0.02020534854269774), (1148, 0.03585339434453174), (1149, 0.02769095313578257), (1150, 0.02332266454068566), (1151, 0.022926443378366225), (1152, 0.0254120646759254), (1153, 0.01996526274971557), (1154, 0.0036350266675808413), (1155, 0.021634819845733576), (1156, 0.023293979134981182), (1157, 0.036125340850481046), (1158, 0.02263085475532647), (1159, 0.026427451374088046), (1160, 0.030162501809902716), (1161, 0.019507811831950078), (1162, 0.012020385162268355), (1163, 0.027727055549057654), (1164, 0.025348075603401934), (1165, 0.01386504158619129), (1166, 0.0169930001385046), (1167, 0.011106176702980045), (1168, 0.057408550724662166), (1169, 0.01915588414793548), (1170, 0.018034699165629477), (1171, 0.01550039235695482), (1172, 0.0198834576194659), (1173, 0.03522583559889353), (1174, 0.027394936779269952), (1175, 0.041086782320561815), (1176, 0.03428178477709042), (1177, 0.012891934494411863), (1178, 0.049268698780203624), (1179, 0.04507095908106048), (1180, 0.02659078553534426), (1181, 0.023371140884361468), (1182, 0.036192944447837584), (1183, 0.0641987284125981), (1184, 0.014274129438283064), (1185, 0.020182560610670957), (1186, 0.02799061299441545), (1187, 0.04059088722383331), (1188, 0.05651024315390973), (1189, 0.028782450489508157), (1190, 0.046077581683362956), (1191, 0.013420902186204564), (1192, 0.057026277586915586), (1193, 0.03992959993777652), (1194, 0.019612809860736415), (1195, 0.04636323950653629), (1196, 0.01819885309083078), (1197, 0.04572266329177493), (1198, 0.0100972580015367), (1199, 0.021158873839544647), (1200, 0.02625393687047145), (1201, 0.03459943129813995), (1202, 0.044732535017109464), (1203, 0.026876425159417745), (1204, 0.041962315172742674), (1205, 0.02288375002467543), (1206, 0.029437707746472284), (1207, 0.03732019948117741), (1208, 0.031733612923282695), (1209, 0.04780084174744749), (1210, 0.02341963272272575), (1211, 0.012314902754152115), (1212, 0.009182555898285084), (1213, 0.04514920862953206), (1214, 0.02898069297772919), (1215, 0.014874988757789066), (1216, 0.03452361056197722), (1217, 0.054133637283545415), (1218, 0.046177076574193836), (1219, 0.024516327735455253), (1220, 0.05056390343229521), (1221, 0.04421339507268842), (1222, 0.017150562278107812), (1223, 0.021311800907618875), (1224, 0.07027508653097995), (1225, 0.018169224621989822), (1226, 0.019756621028004115), (1227, 0.0011958889204876717), (1228, 0.04192544535629576), (1229, 0.03039813257002829), (1230, 0.02200083374801931), (1231, 0.017472299411918836), (1232, 0.02102391702940146), (1233, 0.0687371357048515), (1234, 0.07160590177062442), (1235, 0.026266541806204434), (1236, 0.043374820163029626), (1237, 0.032539782275629446), (1238, 0.01231363508504204), (1239, 0.01688143570945349), (1240, 0.01723169747006411), (1241, 0.039797136080556086), (1242, 0.028953157460522634), (1243, 0.05371921807350432), (1244, 0.028230497278670833), (1245, 0.05150304333878499), (1246, 0.023658478600482806), (1247, 0.04155094794040963), (1248, 0.025837094765033687), (1249, 0.017913784629299198), (1250, 0.028339446615336827), (1251, 0.03245810011760068), (1252, 0.027097061353605314), (1253, 0.0172305037244401), (1254, 0.026039156296238836), (1255, 0.03308588023302538), (1256, 0.011850391591193289), (1257, 0.023914929072854856), (1258, 0.02334462465676289), (1259, 0.05084506939645565), (1260, 0.0418607484283652), (1261, 0.02887780123800879), (1262, 0.018404659567582925), (1263, 0.015857685281673237), (1264, 0.033292897090564336), (1265, 0.020525745439411085), (1266, 0.03329530151565214), (1267, 0.019615836587845943), (1268, 0.053178413922647313), (1269, 0.05850730740278161), (1270, 0.021772985162918406), (1271, 0.0269138111426766), (1272, 0.02409684534484742), (1273, 0.055349281846554826), (1274, 0.021836808154574984), (1275, 0.016898938609118015), (1276, 0.025631703734432295), (1277, 0.02012473502148428), (1278, 0.024753151541121208), (1279, 0.0400752377388587), (1280, 0.01895520131943086), (1281, 0.03327421392215449), (1282, 0.015236832024264913), (1283, 0.0389842920196704), (1284, 0.07939446757395752), (1285, 0.028398761955990705), (1286, 0.008424898567283545), (1287, 0.01873845385661463), (1288, 0.013449583715171194), (1289, 0.03435151791743577), (1290, 0.07173964575550294), (1291, 0.04170281481539306), (1292, 0.03312234859071426), (1293, 0.006352883228523204), (1294, 0.026559322844241735), (1295, 0.03433307714355247), (1296, 0.026804616793847977), (1297, 0.010360806177042537), (1298, 0.005085461817331769), (1299, 0.025307242536638457), (1300, 0.021397188134251566), (1301, 0.0263885362057058), (1302, 0.057157014659782034), (1303, 0.017738898768110495), (1304, 0.03885705122065949), (1305, 0.03918373772853853), (1306, 0.03349529018890763), (1307, 0.03197005723553873), (1308, 0.03757263164196727), (1309, 0.03825906373088159), (1310, 0.027789438573796368), (1311, 0.0026724294634215195), (1312, 0.01778261501803761), (1313, 0.019445300360744763), (1314, 0.022047325020637117), (1315, 0.01568478393388089), (1316, 0.035446162227145556), (1317, 0.03501380878309279), (1318, 0.057166447064881665), (1319, 0.045158184762900705), (1320, 0.02288021517044527), (1321, 0.041834648145622), (1322, 0.019087157953048762), (1323, 0.042691006850625796), (1324, 0.01721066600475023), (1325, 0.010543008136615106), (1326, 0.012714135623041361), (1327, 0.0070357266057292705), (1328, 0.025110562420818803), (1329, 0.02857591056739157), (1330, 0.010612604843301348), (1331, 0.04566821446254316), (1332, 0.015527085288754617), (1333, 0.02263473243068277), (1334, 0.01515353299272542), (1335, 0.036477703670264316), (1336, 0.016343894870925003), (1337, 0.029253431734845483), (1338, 0.01518348870795843), (1339, 0.016353948430451244), (1340, 0.014465352129491689), (1341, 0.04343389897080841), (1342, 0.015757339845071834), (1343, 0.018127379034846798), (1344, 0.040285039714386676), (1345, 0.044911901700328195), (1346, 0.03487291298179517), (1347, 0.013012099640970118), (1348, 0.0313327247732707), (1349, 0.027520859941341878), (1350, 0.028761429095066973), (1351, 0.08817547529122467), (1352, 0.010283863948395963), (1353, 0.0013448694842722964), (1354, 0.02053347179824605), (1355, 0.032188221480917927), (1356, 0.023673604438757958), (1357, 0.05030633335918617), (1358, 0.04292307313406753), (1359, 0.015594170545261549), (1360, 0.008307984637784269), (1361, 0.023511598941154392), (1362, 0.050967401126299855), (1363, 0.047255951813198825), (1364, 0.018462867989203144), (1365, 0.057572721816087115), (1366, 0.025553754797406607), (1367, 0.02767494176931399), (1368, 0.01952709235303992), (1369, 0.044400554164424885), (1370, 0.04025822695937991), (1371, 0.025475564479763502), (1372, 0.04316421595298553), (1373, 0.01234106261572497), (1374, 0.04278432699887614), (1375, 0.01432947588084734), (1376, 0.014438737635818075), (1377, 0.01838870247405873), (1378, 0.016037855381143783), (1379, 0.06850232199099913), (1380, 0.029661789933314725), (1381, 0.030370087405556655), (1382, 0.023200453234729565), (1383, 0.05671275665445569), (1384, 0.02277837698285974), (1385, 0.03149419686028254), (1386, 0.03803779417101166), (1387, 0.03702561866680687), (1388, 0.019575387606476202), (1389, 0.02721459861393101), (1390, 0.021088987663125443), (1391, 0.017988881588607335), (1392, 0.03691067010210278), (1393, 0.042184338745787586), (1394, 0.04957916694539108), (1395, 0.025454322036002428), (1396, 0.04261829142004211), (1397, 0.034274226424466335), (1398, 0.028591423861911026), (1399, 0.009506428709956601), (1400, 0.02461405496974433), (1401, 0.026414408215820133), (1402, 0.016165115462687066), (1403, 0.022203497265968198), (1404, 0.025999215739444772), (1405, 0.020276968079912593), (1406, 0.01032542901465144), (1407, 0.013581731416387643), (1408, 0.030537423553283555), (1409, 0.012483921441586303), (1410, 0.028268188063548062), (1411, 0.04552236467568837), (1412, 0.04103734438463598), (1413, 0.029320750069361502), (1414, 0.05823227687972136), (1415, 0.019792477903641015), (1416, 0.027127779150952797), (1417, 0.028346136126651496), (1418, 0.015669297607734254), (1419, 0.016549129523315404), (1420, 0.01709975962822994), (1421, 0.027044108879324784), (1422, 0.02047298736203151), (1423, 0.03642967293112783), (1424, 0.025394930283788177), (1425, 0.029911712073174154), (1426, 0.026834045229124862), (1427, 0.0440874357499607), (1428, 0.02827778766390211), (1429, 0.006499110218674652), (1430, 0.036051275166272066), (1431, 0.042160045020421005), (1432, 0.031059901898794685), (1433, 0.03676761975443203), (1434, 0.020263552402910247), (1435, 0.024702079344028453), (1436, 0.056015523327233425), (1437, 0.017865606350617007), (1438, 0.043921213164896944), (1439, 0.038107708364572904), (1440, 0.0077837166835178), (1441, 0.027848678714103542), (1442, 0.021890702276441368), (1443, 0.03430864503944636), (1444, 0.011889837622032348), (1445, 0.03227221399722998), (1446, 0.03273945734278001), (1447, 0.024922746901333993), (1448, 0.02538263733052854), (1449, 0.03834043900131615), (1450, 0.016680174154851977), (1451, 0.036482912462683086), (1452, 0.010356524933164706), (1453, 0.026444406752992724), (1454, 0.016698675593876045), (1455, 0.022137349435751158), (1456, 0.0357365770464541), (1457, 0.03054161616312452), (1458, 0.028750016468685347), (1459, 0.029209660335852074), (1460, 0.013038267191958558), (1461, 0.018190393177373705), (1462, 0.04474110704675838), (1463, 0.017238304919657627), (1464, 0.02980297052832678), (1465, 0.06760623846044231), (1466, 0.036364749327752736), (1467, 0.030614013365162774), (1468, 0.01823199004015738), (1469, 0.023211513607463288), (1470, 0.013815959345814912), (1471, 0.07105195368386327), (1472, 0.05585784976320143), (1473, 0.05432732269073807), (1474, 0.04060694804450061), (1475, 0.054200888097294425), (1476, 0.013366398533294398), (1477, 0.01330881722647216), (1478, 0.010789877662511606), (1479, 0.01821126954860714), (1480, 0.02654799588059868), (1481, 0.05367063527768605), (1482, 0.07028450440784063), (1483, 0.019640538693400305), (1484, 0.01846693743584749), (1485, 0.03559255930284096), (1486, 0.013267141653088297), (1487, 0.02786767160794131), (1488, 0.061724087139074006), (1489, 0.025618288903627193), (1490, 0.027334704765554198), (1491, 0.027230344718948783), (1492, 0.02911526149830533), (1493, 0.03887213120139685), (1494, 0.01694400803847746), (1495, 0.024416548034176453), (1496, 0.034474413291455466), (1497, 0.01325743317407245), (1498, 0.023824464422858557), (1499, 0.0432598285894628), (1500, 0.018788159066613658), (1501, 0.06593155608137716), (1502, 0.038510348324523304), (1503, 0.03531442358063743), (1504, 0.01097081532471052), (1505, 0.02854835860826386), (1506, 0.04140628735849845), (1507, 0.02272168963121405), (1508, 0.043866450833741626), (1509, 0.015979591580386296), (1510, 0.022947788323672128), (1511, 0.03712332488362315), (1512, 0.02272553783164978), (1513, 0.014861596618012207), (1514, 0.005559413367974845), (1515, 0.039424519870084315), (1516, 0.009565066088598258), (1517, 0.016392511502384143), (1518, 0.027675549397856564), (1519, 0.042724708197001075), (1520, 0.015933269555721465), (1521, 0.049826032156570624), (1522, 0.03376353819429375), (1523, 0.030926699540020385), (1524, 0.02919792056342438), (1525, 0.0418622277219684), (1526, 0.020539773770855134), (1527, 0.02038899800753438), (1528, 0.033982336690582794), (1529, 0.040925566992430024), (1530, 0.03685706453910516), (1531, 0.01874881609518903), (1532, 0.010762747066509133), (1533, 0.02759516135381229), (1534, 0.0348095184451611), (1535, 0.03585783961130483), (1536, 0.03955087087404319), (1537, 0.012526410169959838), (1538, 0.04917320353987449), (1539, 0.036542987706135927), (1540, 0.043023126738136436), (1541, 0.05820415489064287), (1542, 0.03472622228808456), (1543, 0.04347609429075462), (1544, 0.02081130989514195), (1545, 0.029402310559151972), (1546, 0.017649241968673155), (1547, 0.045486110075024164), (1548, 0.019308842277022203), (1549, 0.02592511909187497), (1550, 0.013703183322375502), (1551, 0.03907325801782279), (1552, 0.028504123516916637), (1553, 0.012814243844083282), (1554, 0.023377857418175184), (1555, 0.04157054726130406), (1556, 0.025252155693177236), (1557, 0.019330485592336313), (1558, 0.027488571204203532), (1559, 0.050229364322206684), (1560, 0.025078258992561383), (1561, 0.010703030459296445), (1562, 0.021803831326266225), (1563, 0.014734119248990847), (1564, 0.03262090537989803), (1565, 0.038895294777975944), (1566, 0.013941181021259326), (1567, 0.019118670982798572), (1568, 0.03206583332000332), (1569, 0.025065787304958443), (1570, 0.006731899914736068), (1571, 0.028541828693751232), (1572, 0.007173647220383832), (1573, 0.045006984465821506), (1574, 0.012588324815316515), (1575, 0.019960389975902118), (1576, 0.02050785496844965), (1577, 0.017184732868352457), (1578, 0.020477979057954388), (1579, 0.035034999047983566), (1580, 0.028198416256231987), (1581, 0.013195440663945485), (1582, 0.01698048457065492), (1583, 0.021464006150564933), (1584, 0.04472612118922594), (1585, 0.017743196939030547), (1586, 0.03566529976012866), (1587, 0.03270299801666678), (1588, 0.03645250484385211), (1589, 0.00849518962297949), (1590, 0.01086610601563727), (1591, 0.027020415048502083), (1592, 0.032890467159085675), (1593, 0.07736020097699495), (1594, 0.022582401262988917), (1595, 0.04808642631820104), (1596, 0.016538187624200812), (1597, 0.03176082612562931), (1598, 0.01864638667619867), (1599, 0.026461608373417007), (1600, 0.017494010370050342), (1601, 0.024386973270460036), (1602, 0.02097220111245484), (1603, 0.014697019348884097), (1604, 0.018582113174106574), (1605, 0.016849118608444073), (1606, 0.09085018358050681), (1607, 0.0174352250658568), (1608, 0.02350478288841323), (1609, 0.015687864640427797), (1610, 0.03230177255732363), (1611, 0.01897186858052513), (1612, 0.034146708393660456), (1613, 0.032057075700267335), (1614, 0.02340893964019953), (1615, 0.017541389991581825), (1616, 0.029954997380260036), (1617, 0.06839559730082591), (1618, 0.02778653412244692), (1619, 0.017047660565741377), (1620, 0.013351803889553064), (1621, 0.03904394836020313), (1622, 0.04083774904685951), (1623, 0.042445317395204046), (1624, 0.051120738076710685), (1625, 0.0455587835008416), (1626, 0.01030970710139822), (1627, 0.014770594105730141), (1628, 0.0013193174880972108), (1629, 0.04066095262454095), (1630, 0.020341633036542996), (1631, 0.04137415750218936), (1632, 0.02383135534998032), (1633, 0.024790519093112917), (1634, 0.03346107664302168), (1635, 0.044793226625740104), (1636, 0.054485593487589336), (1637, 0.020233983015243987), (1638, 0.0468370453164013), (1639, 0.017446479441731288), (1640, 0.03482951424851015), (1641, 0.05568117823894904), (1642, 0.01289681530639764), (1643, 0.011224610815401773), (1644, 0.038230346482380086), (1645, 0.03538715549084795), (1646, 0.07479359137785736), (1647, 0.07492359902898142), (1648, 0.04397347262416364), (1649, 0.015458781369472098), (1650, 0.0356077802701827), (1651, 0.0314232228115085), (1652, 0.04558595765052218), (1653, 0.026159359533729352), (1654, 0.01365763777340315), (1655, 0.009720121675453657), (1656, 0.02346876739874309), (1657, 0.039255398029173036), (1658, 0.012025425106132607), (1659, 0.020308502255945556), (1660, 0.0228352177317874), (1661, 0.03693137294548142), (1662, 0.0345798558234403), (1663, 0.007489220485400844), (1664, 0.01600468747428744), (1665, 0.016133815346194416), (1666, 0.04556073312360997), (1667, 0.04139816879395175), (1668, 0.029623327945083204), (1669, 0.013547958527578606), (1670, 0.033729715085279416), (1671, 0.04121552059003146), (1672, 0.014961495559920945), (1673, 0.036389266002690705), (1674, 0.021215575141512427), (1675, 0.028896525876993904), (1676, 0.020327545152171604), (1677, 0.06580739144188573), (1678, 0.03239763198864634), (1679, 0.02471046217740554), (1680, 0.02312186268130348), (1681, 0.03442096909286252), (1682, 0.056994758461080285), (1683, 0.013417839790324683), (1684, 0.024254818267208142), (1685, 0.0047199122085378456), (1686, 0.025647488936719084), (1687, 0.01578776428198707), (1688, 0.05169833248892946), (1689, 0.02080330236373379), (1690, 0.029888337055348525), (1691, 0.0074816460054364185), (1692, 0.020767995893457018), (1693, 0.03712130414268871), (1694, 0.043106191379120806), (1695, 0.028994340047408015), (1696, 0.02209254627285517), (1697, 0.019443108235396852), (1698, 0.05508204070409418), (1699, 0.011771261498360492), (1700, 0.0248191582424796), (1701, 0.043174396232875556), (1702, 0.03526729167397411), (1703, 0.04458141433590866), (1704, 0.023366047470781963), (1705, 0.014644647309129495), (1706, 0.04830896213285874), (1707, 0.04734745481842194), (1708, 0.0052544740455983795), (1709, 0.027921679235559303), (1710, 0.021291876366374324), (1711, 0.026809939692018028), (1712, 0.011131970487692166), (1713, 0.053526806820469355), (1714, 0.017464036310438108), (1715, 0.04378757175841004), (1716, 0.02337979448379863), (1717, 0.028033596802392598), (1718, 0.028008494725625617), (1719, 0.05950916525217361), (1720, 0.013637863512404706), (1721, 0.01000332244849424), (1722, 0.04051455132277191), (1723, 0.019950413830843724), (1724, 0.022640658861911394), (1725, 0.026779147494035347), (1726, 0.04605038164336819), (1727, 0.04149355157975828), (1728, 0.024302797126650122), (1729, 0.029459021553117942), (1730, 0.029616072424278137), (1731, 0.0922663765649357), (1732, 0.007370667678481448), (1733, 0.03723055775254905), (1734, 0.019926264764161056), (1735, 0.02311008977741836), (1736, 0.021620696589035742), (1737, 0.04992967435324116), (1738, 0.0378054863010685), (1739, 0.0314493391397248), (1740, 0.02284334905610706), (1741, 0.05208007451198878), (1742, 0.027296537971374144), (1743, 0.026916612173525676), (1744, 0.02314575075805564), (1745, 0.006365142488864654), (1746, 0.029830103671226942), (1747, 0.02406240793391636), (1748, 0.017720377055361423), (1749, 0.03052675207396044), (1750, 0.01970514281635021), (1751, 0.010433801829233848), (1752, 0.018158793406245873), (1753, 0.02590853430491217), (1754, 0.015763477205975245), (1755, 0.027361517084119918), (1756, 0.026696785558427118), (1757, 0.0388193598183133), (1758, 0.03305440769034161), (1759, 0.021764695512010594), (1760, 0.035248977222743276), (1761, 0.02933790084341584), (1762, 0.023601580885761406), (1763, 0.04486136151378539), (1764, 0.01702220309438281), (1765, 0.02345901937095947), (1766, 0.020603845403972382), (1767, 0.009496690132848637), (1768, 0.015512750751397275), (1769, 0.02231296687251032), (1770, 0.03995986973632392), (1771, 0.024601292700002685), (1772, 0.019512984395449875), (1773, 0.03280590510595314), (1774, 0.04313712167151978), (1775, 0.03449628256483049), (1776, 0.017192215294253577), (1777, 0.04744826433747965), (1778, 0.04096562151866325), (1779, 0.08669473693569175), (1780, 0.027498505733814807), (1781, 0.022143214844937836), (1782, 0.02004860469803687), (1783, 0.02303767771442585), (1784, 0.02917642688682651), (1785, 0.035025394405229025), (1786, 0.01521429477173629), (1787, 0.04684773136268528), (1788, 0.030953905188763644), (1789, 0.024954964711633196), (1790, 0.014829539077829787), (1791, 0.021467822871772037), (1792, 0.010847866611366462), (1793, 0.01261634349609273), (1794, 0.026528631108755026), (1795, 0.03702610096601868), (1796, 0.03473083620458064), (1797, 0.0205276787956763), (1798, 0.03132512249216967), (1799, 0.009548250247766564), (1800, 0.01581256025623807), (1801, 0.022779036903946427), (1802, 0.0190004804510903), (1803, 0.011421583613032162), (1804, 0.024486806302824755), (1805, 0.028979727824128425), (1806, 0.08600346091227569), (1807, 0.029123599862640518), (1808, 0.03182717754586858), (1809, 0.04812160775376899), (1810, 0.02149614022659201), (1811, 0.005082285042657797), (1812, 0.007751233765243082), (1813, 0.004314294644740696), (1814, 0.014882353741700414), (1815, 0.020678043937073644), (1816, 0.027596829252247344), (1817, 0.041651197241997166), (1818, 0.024700357841002628), (1819, 0.02988079506308449), (1820, 0.016349614174896974), (1821, 0.04336475196442756), (1822, 0.06899103040115956), (1823, 0.014904890672119466), (1824, 0.017268078675140096), (1825, 0.03546797279697358), (1826, 0.018813257034122875), (1827, 0.05230883001695297), (1828, 0.03528456719811006), (1829, 0.04912424306867484), (1830, 0.031851633648731795), (1831, 0.04502517945093529), (1832, 0.052155783448187366), (1833, 0.023424815910566395), (1834, 0.01692903055987922), (1835, 0.01222315707353743), (1836, 0.0368481732019346), (1837, 0.06305280048116138), (1838, 0.02061426730944679), (1839, 0.014854705214046846), (1840, 0.0403210097070222), (1841, 0.03933148875668485), (1842, 0.0390339431654351), (1843, 0.012037479859500946), (1844, 0.038594822629062914), (1845, 0.034786274414434076), (1846, 0.028845470652096063), (1847, 0.03360475507569031), (1848, 0.026526004903773413), (1849, 0.026660703077192364), (1850, 0.025942835661767714), (1851, 0.003001468741601138), (1852, 0.03281078445923271), (1853, 0.04564152260570313), (1854, 0.03529719397098902), (1855, 0.03150196418462761), (1856, 0.0374892899726166), (1857, 0.02414780081345768), (1858, 0.04107934665514842), (1859, 0.020350477621859996), (1860, 0.047023082860925255), (1861, 0.043935755914586594), (1862, 0.029005113772829026), (1863, 0.017171650172760445), (1864, 0.029769038320696873), (1865, 0.023614524600481555), (1866, 0.02324482225432513), (1867, 0.025452760820045665), (1868, 0.03416224899199577), (1869, 0.016057583290644828), (1870, 0.03701021896522823), (1871, 0.035089067163927866), (1872, 0.03475211372236702), (1873, 0.030990622202812075), (1874, 0.0253852606469359), (1875, 0.05996928688985766), (1876, 0.018810974055031487), (1877, 0.029812211513711332), (1878, 0.08137372206607359), (1879, 0.0561130066980848), (1880, 0.04236756035201716), (1881, 0.004618433253061342), (1882, 0.03239978399872981), (1883, 0.01802012248763399), (1884, 0.03863536164784785), (1885, 0.01828097980551139), (1886, 0.045648574311497436), (1887, 0.07944362445211418), (1888, 0.016626114661137607), (1889, 0.012956982127788168), (1890, 0.021484311171366833), (1891, 0.015860383241225684), (1892, 0.009842532906275531), (1893, 0.019121035813963794), (1894, 0.021057122115782003), (1895, 0.04150167172216229), (1896, 0.06677401795106695), (1897, 0.10165694265402915), (1898, 0.02148994168549961), (1899, 0.015123805729781689), (1900, 0.05534941809792565), (1901, 0.04199477128978981), (1902, 0.04447600370276313), (1903, 0.025473895031484575), (1904, 0.03494113641572229), (1905, 0.016761986464794692), (1906, 0.06370383151534849), (1907, 0.024639368960297), (1908, 0.04695778761079449), (1909, 0.05109921065791293), (1910, 0.03373170257385376), (1911, 0.016971338391943504), (1912, 0.03674428301313052), (1913, 0.021066277992385748), (1914, 0.011366239467556922), (1915, 0.021025256100911657), (1916, 0.00770103325459645), (1917, 0.012694146798299919), (1918, 0.032530942355301205), (1919, 0.03655692560302035), (1920, 0.020656090735461475), (1921, 0.005129129315962485), (1922, 0.020848648097783157), (1923, 0.020478583099582885), (1924, 0.0182319425958099), (1925, 0.027899269471474593), (1926, 0.02815822044679565), (1927, 0.033608580256531635), (1928, 0.02251984874793071), (1929, 0.05036949564394925), (1930, 0.07150648228382937), (1931, 0.01215520641567757), (1932, 0.020638300260217325), (1933, 0.043309030560604395), (1934, 0.021370384034109645), (1935, 0.031240380033769923), (1936, 0.01911292688239508), (1937, 0.018486445408444605), (1938, 0.0014045504063713067), (1939, 0.025472300848191555), (1940, 0.015082179159219852), (1941, 0.0344273009860104), (1942, 0.02000188321306128), (1943, 0.028099182273006486), (1944, 0.02060934842467331), (1945, 0.022600485259039432), (1946, 0.03111117439195487), (1947, 0.01793939247611893), (1948, 0.0461553464557308), (1949, 0.04812315144478545), (1950, 0.0290058900168553), (1951, 0.03921229925175631), (1952, 0.02984734163283353), (1953, 0.04589877297606823), (1954, 0.010512609271916376), (1955, 0.010349800699098853), (1956, 0.026975175501250104), (1957, 0.020459884191979798), (1958, 0.01112748591082712), (1959, 0.01751304149552794), (1960, 0.007195418763340071), (1961, 0.04542064371872422), (1962, 0.04791110476323215), (1963, 0.035819794414069475), (1964, 0.040561038766262984), (1965, 0.009066212047283381), (1966, 0.028732193761668103), (1967, 0.04638758380654027), (1968, 0.04469865497257154), (1969, 0.028863142080731995), (1970, 0.03568001730051724), (1971, 0.026602015981702896), (1972, 0.034179266187021974), (1973, 0.01843689365442632), (1974, 0.03497504599907602), (1975, 0.015027373886706748), (1976, 0.0413639738349835), (1977, 0.04137279739754795), (1978, 0.022425372970453817), (1979, 0.03405762940423785), (1980, 0.09357142985155786), (1981, 0.05396440611253001), (1982, 0.05384123464132602), (1983, 0.05418147030502602), (1984, 0.02912479852085102), (1985, 0.0402756178416324), (1986, 0.00878047090912161), (1987, 0.02219312365190333), (1988, 0.010939929975828197), (1989, 0.005882891783472233), (1990, 0.04553781581302595), (1991, 0.030917948033934706), (1992, 0.038878712783076995), (1993, 0.028844920284889185), (1994, 0.03795305854841612), (1995, 0.017923793295452885), (1996, 0.04007269696213055), (1997, 0.028202028961900386), (1998, 0.05169184675395241), (1999, 0.024898134052417992), (2000, 0.035808117131637764), (2001, 0.019251632399365056), (2002, 0.002378991770113521), (2003, 0.034752505096981495), (2004, 0.03423805143442122), (2005, 0.008162373280407472), (2006, 0.04892519730919884), (2007, 0.030690360232751398), (2008, 0.042408848034245335), (2009, 0.037836318793706), (2010, 0.033491304708511874), (2011, 0.03150955537902046), (2012, 0.05448360182906988), (2013, 0.02616858786758772), (2014, 0.05572461864096598), (2015, 0.028977965205976154), (2016, 0.032599323454846986), (2017, 0.051206196542193196), (2018, 0.04190922807947496), (2019, 0.015529529746968905), (2020, 0.033482219403712814), (2021, 0.03224883665171684), (2022, 0.017632640897193956), (2023, 0.019840764440374765), (2024, 0.035535311816601266), (2025, 0.005634809843167413), (2026, 0.04098294067700855), (2027, 0.037961689351633326), (2028, 0.026783436837853034), (2029, 0.016468317828772037), (2030, 0.028514644156528834), (2031, 0.00727328701324093), (2032, 0.054774577568334204), (2033, 0.016506419096142304), (2034, 0.023701909127254214), (2035, 0.03601304554793241), (2036, 0.01997787595039764), (2037, 0.038865794263691064), (2038, 0.019241096016492355), (2039, 0.036555237154918686), (2040, 0.026186545235294303), (2041, 0.01694742574697886), (2042, 0.031290347591171594), (2043, 0.030003243136525207), (2044, 0.03960784161313774), (2045, 0.03895795925721215), (2046, 0.014924789336307533), (2047, 0.021682872197385485), (2048, 0.042447648042243935), (2049, 0.03320482301942825), (2050, 0.011756626659630889), (2051, 0.04741479854023021), (2052, 0.017137204941706487), (2053, 0.0339403502393056), (2054, 0.0188222596086897), (2055, 0.023179567188080057), (2056, 0.016592151536171676), (2057, 0.016165504127518878), (2058, 0.014754874568429206), (2059, 0.010371790281473477), (2060, 0.006561651649531181), (2061, 0.035839718096581104), (2062, 0.028293161717143016), (2063, 0.04356931062913134), (2064, 0.007621229249605084), (2065, 0.015917654166978937), (2066, 0.026361316165961303), (2067, 0.04828799020392442), (2068, 0.021734127610262402), (2069, 0.019274306895115646), (2070, 0.01723069702922369), (2071, 0.03168936770210079), (2072, 0.03734130747136693), (2073, 0.04157836697980938), (2074, 0.03306952490815335), (2075, 0.02892487706569681), (2076, 0.019565576637048714), (2077, 0.01480916371300161), (2078, 0.04102844620678119), (2079, 0.027452411602849638), (2080, 0.05006155524168826), (2081, 0.01800085825428882), (2082, 0.037945499543924704), (2083, 0.007612814999778132), (2084, 0.025476365447409572), (2085, 0.015108170923361922), (2086, 0.04279659759838831), (2087, 0.01312737866888908), (2088, 0.035096900325799145), (2089, 0.06920459902731181), (2090, 0.05904686052114945), (2091, 0.027989286006485935), (2092, 0.02938894096395471), (2093, 0.015421265131822631), (2094, 0.0352178570242218), (2095, 0.02733392414635322), (2096, 0.013174233407138278), (2097, 0.032445019307166235), (2098, 0.019549873848664155), (2099, 0.02389959223641177), (2100, 0.0726950618475688), (2101, 0.03168333121810303), (2102, 0.03986739359155776), (2103, 0.029392508675745), (2104, 0.025921860467533208), (2105, 0.024500214557019843), (2106, 0.03333049156747192), (2107, 0.020781320086339927), (2108, 0.007760093986126625), (2109, 0.03532734838248282), (2110, 0.018189086473712996), (2111, 0.0601355133916801), (2112, 0.061113428051392804), (2113, 0.025740070750437563), (2114, 0.050307770386079684), (2115, 0.05083112624736066), (2116, 0.032014763551664153), (2117, 0.03891571530502269), (2118, 0.04535955174115867), (2119, 0.017603833763357234), (2120, 0.022993153859179914), (2121, 0.027472663359415308), (2122, 0.043660661155148626), (2123, 0.049734771615903554), (2124, 0.031993532082577575), (2125, 0.01308526186697992), (2126, 0.025526766339638428), (2127, 0.03258626448981245), (2128, 0.03242644338384274), (2129, 0.034337745586674115), (2130, 0.04935454359620051), (2131, 0.008519250280749313), (2132, 0.02010019281168889), (2133, 0.025948048351935274), (2134, 0.02260045187439596), (2135, 0.056514378241128926), (2136, 0.029848005911292948), (2137, 0.023992949236110193), (2138, 0.03461089755893095), (2139, 0.02657497679294345), (2140, 0.05566129225167334), (2141, 0.03307029530670107), (2142, 0.03893258854338899), (2143, 0.032683128492797926), (2144, 0.046906093777542346), (2145, 0.013969643792001909), (2146, 0.02429152905064124), (2147, 0.026086774430300223), (2148, 0.04373641085457565), (2149, 0.04697210428395675), (2150, 0.0272810948436772), (2151, 0.013403212434413812), (2152, 0.02185848247544943), (2153, 0.009301986743903033), (2154, 0.053302038221295284), (2155, 0.0797954574156763), (2156, 0.032972016867007334), (2157, 0.029080250596160297), (2158, 0.03850763311298349), (2159, 0.02099265600393323), (2160, 0.020361741055955708), (2161, 0.06662813738030192), (2162, 0.0159587490415387), (2163, 0.015520271156936953), (2164, 0.029889010543301557), (2165, 0.01758396936048124), (2166, 0.03220209252744017), (2167, 0.019627563897002445), (2168, 0.016657114585435066), (2169, 0.020127228648262115), (2170, 0.03241533083185958), (2171, 0.03756871784524868), (2172, 0.05069314375254118), (2173, 0.03693831728383971), (2174, 0.02150733031086095), (2175, 0.030015848792705992), (2176, 0.03256614064899489), (2177, 0.020022760271623367), (2178, 0.026420785009984852), (2179, 0.010113939844777072), (2180, 0.05944758951632045), (2181, 0.038497411920945676), (2182, 0.06162519735457084), (2183, 0.03210378567457357), (2184, 0.03633660222388833), (2185, 0.042601017460661986), (2186, 0.026683644242644057), (2187, 0.025960725377163842), (2188, 0.009225388517554943), (2189, 0.033741445737681064), (2190, 0.023209286314311024), (2191, 0.03842662353878872), (2192, 0.03445849101968348), (2193, 0.01835609928570461), (2194, 0.09593646663919872), (2195, 0.03081752917420989), (2196, 0.06056328008862879), (2197, 0.016708539188401636), (2198, 0.032680588131625686), (2199, 0.014620624553301424), (2200, 0.018612814123181134), (2201, 0.04051883382866533), (2202, 0.051721906439846706), (2203, 0.029622515396442305), (2204, 0.008674205682708498), (2205, 0.030972972337040987), (2206, 0.02438591747039135), (2207, 0.031278270542784474), (2208, 0.02864002339866867), (2209, 0.04247042852535997), (2210, 0.017465158391105535), (2211, 0.027385617728097715), (2212, 0.02985631331409452), (2213, 0.033399694404433106), (2214, 0.003058786553249236), (2215, 0.05148622380177552), (2216, 0.03176750793291806), (2217, 0.017376469121799965), (2218, 0.022064674367227838), (2219, 0.04332834776123869), (2220, 0.02560879936998299), (2221, 0.02272037606815946), (2222, 0.02162468035264705), (2223, 0.03649182315537542), (2224, 0.029356253019597874), (2225, 0.026571227049519017), (2226, 0.04013850819410722), (2227, 0.02171820387729004), (2228, 0.02004551364202284), (2229, 0.011270757643284003), (2230, 0.03458743391651108), (2231, 0.01359250811025409), (2232, 0.026462901840046613), (2233, 0.04703736057981545), (2234, 0.033844604098121574), (2235, 0.022286196432064927), (2236, 0.03785728300968196), (2237, 0.022832841871011294), (2238, 0.029448319103981255), (2239, 0.040687496603338674), (2240, 0.0395849505803284), (2241, 0.026970286536669143), (2242, 0.061514272555115525), (2243, 0.018331018442024193), (2244, 0.011985421140623814), (2245, 0.032216218560556016), (2246, 0.028387207120245703), (2247, 0.03456243517905666), (2248, 0.04569024319884451), (2249, 0.001416451883540133), (2250, 0.06724478100711374), (2251, 0.04643621048454598), (2252, 0.044890777949023984), (2253, 0.0036113714998805965), (2254, 0.07421103584173204), (2255, 0.011245881024495885), (2256, 0.01102853164146527), (2257, 0.02189534979131122), (2258, 0.05767384217953984), (2259, 0.035032115542194674), (2260, 0.03099580323003306), (2261, 0.018552230829621486), (2262, 0.03336658416887451), (2263, 0.03395122634808117), (2264, 0.018043983839205986), (2265, 0.012810144193942254), (2266, 0.012950448112197527), (2267, 0.027025530433484362), (2268, 0.06534236946720777), (2269, 0.031016566551875853), (2270, 0.026504031954883243), (2271, 0.030214207916180794), (2272, 0.04422397099748862), (2273, 0.02154699894071498), (2274, 0.0221618832005698), (2275, 0.03492968943604488), (2276, 0.019822443583379968), (2277, 0.10251451725892759), (2278, 0.02358200953094673), (2279, 0.032830670625697944), (2280, 0.02167153868075467), (2281, 0.0398976446577041), (2282, 0.002422938472835863), (2283, 0.011437495956538545), (2284, 0.012226902472383568), (2285, 0.025900154681115388), (2286, 0.019126133143523055), (2287, 0.02827367983531712), (2288, 0.03414529081113918), (2289, 0.0064548094087073845), (2290, 0.029906324635750308), (2291, 0.056744937412330894), (2292, 0.04280929376747009), (2293, 0.015333112321415536), (2294, 0.0300381754759636), (2295, 0.04517339664675687), (2296, 0.031003000425094605), (2297, 0.022398132085857655), (2298, 0.042738006098538936), (2299, 0.015060410683403223), (2300, 0.007661799195665554), (2301, 0.03361723815815825), (2302, 0.03303850984881773), (2303, 0.013981030922529955), (2304, 0.04197825295441106), (2305, 0.02598480941557468), (2306, 0.0459079564767629), (2307, 0.008735082727630857), (2308, 0.029935162207262098), (2309, 0.02444596606681712), (2310, 0.0483129987316447), (2311, 0.013710709791954124), (2312, 0.04195359673990199), (2313, 0.04041094803530231), (2314, 0.07665483454107948), (2315, 0.027583518757358764), (2316, 0.03117199154643757), (2317, 0.02098488832079632), (2318, 0.030445970664007595), (2319, 0.038889348277302394), (2320, 0.03815133530263961), (2321, 0.026714835736277573), (2322, 0.02074682140761234), (2323, 0.022318983225455693), (2324, 0.02890706836925753), (2325, 0.004107621008924906), (2326, 0.01841216571653296), (2327, 0.019054386092866783), (2328, 0.00805747568161983), (2329, 0.01516392962262603), (2330, 0.015794222638735336), (2331, 0.03785076460002024), (2332, 0.012209789695113), (2333, 0.013178149715897133), (2334, 0.006916194195053199), (2335, 0.02754675791931652), (2336, 0.019032576868845803), (2337, 0.04538564251151138), (2338, 0.037352012942696064), (2339, 0.01315812541943191), (2340, 0.04957992423428652), (2341, 0.019101755051525816), (2342, 0.014033384488122353), (2343, 0.02565784729462726), (2344, 0.024469274786684123), (2345, 0.0076637033836461635), (2346, 0.004250811404747088), (2347, 0.06487371196753286), (2348, 0.01922145755622529), (2349, 0.011659237460525867), (2350, 0.02373807618998992), (2351, 0.03334465997888551), (2352, 0.04034761915695293), (2353, 0.03696157370270488), (2354, 0.014953478935766061), (2355, 0.026180286763699552), (2356, 0.017170241778280745), (2357, 0.022997459764587752), (2358, 0.04383950818177222), (2359, 0.02456091789122033), (2360, 0.01833000302430123), (2361, 0.02105631519365575), (2362, 0.042846996989261366), (2363, 0.024612980578776495), (2364, 0.05913977977518364), (2365, 0.05389114081000621), (2366, 0.04498061643362559), (2367, 0.04052287722330623), (2368, 0.03223651373505263), (2369, 0.01800486461081643), (2370, 0.023122690616962784), (2371, 0.05400441958944885), (2372, 0.027862107810991753), (2373, 0.009215726637970248), (2374, 0.037016799630891696), (2375, 0.04812542398784147), (2376, 0.023107820830297096), (2377, 0.07798569751963494), (2378, 0.016434291376233003), (2379, 0.013055046467093536), (2380, 0.02270109580983743), (2381, 0.022135122175078577), (2382, 0.017840343077870593), (2383, 0.016936275173552146), (2384, 0.028512585846813935), (2385, 0.02738360240188971), (2386, 0.020653328540109688), (2387, 0.0239883274421225), (2388, 0.037215822773195587), (2389, 0.038563781960657455), (2390, 0.017986774797126605), (2391, 0.05623954360649809), (2392, 0.04711595120661935), (2393, 0.024812407821550333), (2394, 0.035618215736279796), (2395, 0.017307966210398287), (2396, 0.018252909868018315), (2397, 0.02073338549695688), (2398, 0.02095142812942752), (2399, 0.050643230979268865), (2400, 0.0713160654256856), (2401, 0.04312782745033447), (2402, 0.031263748151551134), (2403, 0.04445029167525918), (2404, 0.02141327190509701), (2405, 0.023856967025561962), (2406, 0.03054215810320483), (2407, 0.03896473071392487), (2408, 0.06313952479832956), (2409, 0.04427818735959032), (2410, 0.03990121297530374), (2411, 0.10132803252622145), (2412, 0.028241352428712584), (2413, 0.050853112335810864), (2414, 0.0230986081204559), (2415, 0.019523315235790168), (2416, 0.015537878179101504), (2417, 0.043026017534625975), (2418, 0.030031688588398452), (2419, 0.02266575655360106), (2420, 0.010828384172726822), (2421, 0.03550390483780747), (2422, 0.027791765946933097), (2423, 0.012033989972213102), (2424, 0.04549392383500726), (2425, 0.010517308615405853), (2426, 0.03164752454230731), (2427, 0.03700279403043575), (2428, 0.01162475445251224), (2429, 0.011789756946881681), (2430, 0.0156814423269963), (2431, 0.055896084466128496), (2432, 0.03198591700069099), (2433, 0.029689909856643208), (2434, 0.013837493936016533), (2435, 0.03814268648361933), (2436, 0.02308233256871096), (2437, 0.019645022363545456), (2438, 0.019513237322580174), (2439, 0.016003198837281407), (2440, 0.04450063497619722), (2441, 0.008761671036800603), (2442, 0.027203611291667398), (2443, 0.05575412890524531), (2444, 0.0652743992758466), (2445, 0.003774386586020876), (2446, 0.012823207820490243), (2447, 0.02877944677454599), (2448, 0.00840627016038516), (2449, 0.0256306913264736), (2450, 0.02710075843671791), (2451, 0.03451591888506756), (2452, 0.008928851256492594), (2453, 0.022044907460651967), (2454, 0.07490886774709253), (2455, 0.010685232156875047), (2456, 0.020859501087795485), (2457, 0.029614116406247924), (2458, 0.011653645798008566), (2459, 0.02338118520186808), (2460, 0.021010780868367322), (2461, 0.06149414450974544), (2462, 0.009604426968923621), (2463, 0.05522924946433436), (2464, 0.016997377064671238), (2465, 0.026310713676048036), (2466, 0.03810239811684093), (2467, 0.033106299664750254), (2468, 0.004235901227261915), (2469, 0.09299855768005472), (2470, 0.03440377675578019), (2471, 0.007351272320448464), (2472, 0.006415820123309812), (2473, 0.018922850692099043), (2474, 0.052234333170443514), (2475, 0.0434890377681325), (2476, 0.029127925934015107), (2477, 0.0527409843084889), (2478, 0.01971073377925483), (2479, 0.025597939936085473), (2480, 0.04446960803363356), (2481, 0.07189911535585956), (2482, 0.02015407011493966), (2483, 0.025838282684867212), (2484, 0.037185460381651006), (2485, 0.026972848919702457), (2486, 0.021372031125681343), (2487, 0.04314300778998977), (2488, 0.03044772574483075), (2489, 0.024674972201801388), (2490, 0.01824800352567546), (2491, 0.043217145556627014), (2492, 0.04402582486155076), (2493, 0.030503870564789707), (2494, 0.039177513444476314), (2495, 0.018826507516836472), (2496, 0.007066085339225586), (2497, 0.06558312628355836), (2498, 0.0687952125302509), (2499, 0.03980148586365696), (2500, 0.004804397479500165), (2501, 0.04133481356328175), (2502, 0.13311260759197296), (2503, 0.01151068729791769), (2504, 0.03619173662874374), (2505, 0.015221121713991852), (2506, 0.025528020756311387), (2507, 0.021063412569604253), (2508, 0.012227059292840587), (2509, 0.023021143765688392), (2510, 0.01778037271922833), (2511, 0.016433560391420445), (2512, 0.03817670003847388), (2513, 0.05145745476935474), (2514, 0.02032596821151105), (2515, 0.026620961707634595), (2516, 0.028140882186675813), (2517, 0.03769560152446245), (2518, 0.03407017228494455), (2519, 0.01047402425528326), (2520, 0.041322780889421276), (2521, 0.02900089160174194), (2522, 0.051831251588802044), (2523, 0.01480852988635547), (2524, 0.013306336049375807), (2525, 0.05112855901947577), (2526, 0.006499109619153714), (2527, 0.059892648515249065), (2528, 0.029272609228979635), (2529, 0.04253551711732021), (2530, 0.055815391758548806), (2531, 0.02764775305356173), (2532, 0.02009032610015427), (2533, 0.009003302801890302), (2534, 0.04340297413830964), (2535, 0.030860200271040895), (2536, 0.05913134350961197), (2537, 0.010952838592777656), (2538, 0.03585417542576769), (2539, 0.02279270370018331), (2540, 0.02715950638686376), (2541, 0.07225612306175576), (2542, 0.01708097386168636), (2543, 0.01814382475957633), (2544, 0.01669735573531502), (2545, 0.059877357775973396), (2546, 0.03369926362071202), (2547, 0.02427194302679898), (2548, 0.025364324079967877), (2549, 0.03605106676341911), (2550, 0.03502792213982111), (2551, 0.02280141674280244), (2552, 0.1493002046858663), (2553, 0.048053402618475814), (2554, 0.07610188679513565), (2555, 0.022017525391065888), (2556, 0.011386991045598711), (2557, 0.03428292362613872), (2558, 0.02703925652636676), (2559, 0.027020184405709895), (2560, 0.03289627552354097), (2561, 0.041304935361609355), (2562, 0.04214132977664432), (2563, 0.029319657734029045), (2564, 0.019959549159612542), (2565, 0.01135089968600644), (2566, 0.023496221879921945), (2567, 0.025007878807191547), (2568, 0.03681313203324244), (2569, 0.030567681556043516), (2570, 0.04898936521235236), (2571, 0.023711146860185817), (2572, 0.02323158553800507), (2573, 0.03444970765076592), (2574, 0.02524325353738302), (2575, 0.025993361837958712), (2576, 0.0644342881156195), (2577, 0.03302383333023916), (2578, 0.024478656174411376), (2579, 0.04348397339895591), (2580, 0.0435792817715046), (2581, 0.02145995630431762), (2582, 0.03934813707126511), (2583, 0.022702306150848253), (2584, 0.01883359535713249), (2585, 0.019115614177186567), (2586, 0.017434387345873586), (2587, 0.023893201794251834), (2588, 0.0550733503560763), (2589, 0.04297063405780304), (2590, 0.03567074771865199), (2591, 0.06047708653395478), (2592, 0.020999909431805592), (2593, 0.015552123330189642), (2594, 0.009785522849350149), (2595, 0.021787223957380756), (2596, 0.020738904547291343), (2597, 0.0425520393417789), (2598, 0.06451107369006372), (2599, 0.041157089025908956), (2600, 0.020017537964233337), (2601, 0.020113455451017708), (2602, 0.0027849734098921285), (2603, 0.049090244053644566), (2604, 0.016429636702688707), (2605, 0.016532242793528325), (2606, 0.01844122209523117), (2607, 0.05484586260675191), (2608, 0.0076897349005341595), (2609, 0.058642383810129484), (2610, 0.038683992276746834), (2611, 0.01622261487044631), (2612, 0.01342550168801979), (2613, 0.013898734451341627), (2614, 0.03825366042876193), (2615, 0.0248961313000768), (2616, 0.022221356032169067), (2617, 0.02263876038809248), (2618, 0.08508047028986716), (2619, 0.046937926722421974), (2620, 0.008123752469410668), (2621, 0.017108878052337916), (2622, 0.02861044796293306), (2623, 0.03183368629082248), (2624, 0.05034592436844634), (2625, 0.023809772357394385), (2626, 0.034611978663549585), (2627, 0.019032444699932847), (2628, 0.01321445162548475), (2629, 0.06116965530553767), (2630, 0.05178634452166493), (2631, 0.04453151169615853), (2632, 0.01732478510881137), (2633, 0.07184263019126062), (2634, 0.032524449345463544), (2635, 0.032263870652723174), (2636, 0.027193303997871274), (2637, 0.01769622130064062), (2638, 0.052583409548747045), (2639, 0.029458708924149094), (2640, 0.03201249615973109), (2641, 0.02043633186539169), (2642, 0.041133126962087325), (2643, 0.022566687088545662), (2644, 0.022248125502711425), (2645, 0.016997791509580563), (2646, 0.041282516776958975), (2647, 0.029535913892000453), (2648, 0.06659625997132915), (2649, 0.02066841893604399), (2650, 0.040901384031650084), (2651, 0.011620690880766362), (2652, 0.030253630219952844), (2653, 0.0700993669883008), (2654, 0.023019509519894964), (2655, 0.03167935904008587), (2656, 0.05415034038235955), (2657, 0.001653884975233667), (2658, 0.009367745132667636), (2659, 0.004531672184605258), (2660, 0.03676367997923323), (2661, 0.02519453524395405), (2662, 0.041865984128162594), (2663, 0.04232018246486229), (2664, 0.06662295971687958), (2665, 0.06257811337431012), (2666, 0.03770678724966697), (2667, 0.03622037123064513), (2668, 0.03195468021273846), (2669, 0.03847650555023082), (2670, 0.025844625346353328), (2671, 0.031819761669956814), (2672, 0.029459864849715117), (2673, 0.05681659381901472), (2674, 0.012272353203724592), (2675, 0.012692641761027986), (2676, 0.005687867936507588), (2677, 0.06662271876934543), (2678, 0.02212981508050632), (2679, 0.037428810206942796), (2680, 0.030143959485564885), (2681, 0.039330102372651), (2682, 0.013035145752175435), (2683, 0.04224038519203173), (2684, 0.01763217326907112), (2685, 0.01547635677782199), (2686, 0.015947938380020052), (2687, 0.033772487622793876), (2688, 0.02718645086788708), (2689, 0.03436861469142122), (2690, 0.03330113557118763), (2691, 0.031556608571165934), (2692, 1.0000000000000002), (2693, 0.038641740585452826), (2694, 0.03507051599477603), (2695, 0.07953685616073806), (2696, 0.047337786747717825), (2697, 0.04221086598980266), (2698, 0.05109685469565532), (2699, 0.02836260375445641), (2700, 0.03649436606338034), (2701, 0.07202435831671596), (2702, 0.024388120491549113), (2703, 0.025979511552232683), (2704, 0.01287781207032169), (2705, 0.045956955588063265), (2706, 0.05244778398676449), (2707, 0.0281945910852674), (2708, 0.03639204643696335), (2709, 0.012747227632092966), (2710, 0.049099820510840254), (2711, 0.042142556105259334), (2712, 0.024532662619866932), (2713, 0.029436516823009694), (2714, 0.01318404837962883), (2715, 0.010316396109816264), (2716, 0.036412579896417475), (2717, 0.058867437611643716), (2718, 0.03805283342134763), (2719, 0.02768496554777714), (2720, 0.07733650231753543), (2721, 0.03294386525242897), (2722, 0.021214580419931458), (2723, 0.045827064599154345), (2724, 0.02242305838592715), (2725, 0.05154716117142438), (2726, 0.042244580659892624), (2727, 0.11070721787621186), (2728, 0.06825171552023257), (2729, 0.03664195950660887), (2730, 0.026728122387374653), (2731, 0.027843415490298618), (2732, 0.02838424311301937), (2733, 0.030303950492712978), (2734, 0.02989421876623089), (2735, 0.02258075626957565), (2736, 0.02477327107975551), (2737, 0.03926774341555397), (2738, 0.03940687260365288), (2739, 0.03657315244522676), (2740, 0.042800550803128966), (2741, 0.030151777068184102), (2742, 0.015942251844918525), (2743, 0.023658371762901073), (2744, 0.06349902429762266), (2745, 0.03862992862401316), (2746, 0.048807258135169715), (2747, 0.02540226598064607), (2748, 0.017614708573550065), (2749, 0.026829829960105994), (2750, 0.017828103250411183), (2751, 0.031695879810038394), (2752, 0.03787204877884982), (2753, 0.018544534673144417), (2754, 0.016933682156898455), (2755, 0.054617024353064404), (2756, 0.028020903613021144), (2757, 0.019704079333792694), (2758, 0.024161167881454355), (2759, 0.0141325500511129), (2760, 0.01608866606523556), (2761, 0.084850223263366), (2762, 0.023744982470811683), (2763, 0.02838545264933249), (2764, 0.014487939113841341), (2765, 0.025857849156213968), (2766, 0.053458040085654135), (2767, 0.045596544423384136), (2768, 0.006379484480085809), (2769, 0.04847591314176641), (2770, 0.049111422335977886), (2771, 0.030979914379675063), (2772, 0.04660211310620253), (2773, 0.02584726493826233), (2774, 0.036524658297077066), (2775, 0.016797769471794986), (2776, 0.025242674769215732), (2777, 0.02207940209095233), (2778, 0.04753290360987908), (2779, 0.025226560014663148), (2780, 0.04029647518223704), (2781, 0.03555882638330184), (2782, 0.04777661853288591), (2783, 0.019350779609645735), (2784, 0.02759951215440029), (2785, 0.02073237199225411), (2786, 0.022798113724884602), (2787, 0.0005151564598895257), (2788, 0.02185010420500457), (2789, 0.03361636161293906), (2790, 0.05143639277220068), (2791, 0.021432498460030314), (2792, 0.026508086772320874), (2793, 0.043193417985357654), (2794, 0.03931530907019381), (2795, 0.025323681230132733), (2796, 0.03039714657910715), (2797, 0.0347632342899996), (2798, 0.059857801367005456), (2799, 0.03992273257128351), (2800, 0.014942819872845566), (2801, 0.05577065697203881), (2802, 0.03693540571140756), (2803, 0.025127330129029533), (2804, 0.02088596116486575), (2805, 0.03824566546789687), (2806, 0.0006989565942878053), (2807, 0.024907755935389714), (2808, 0.03410166293997709), (2809, 0.02750523860610176), (2810, 0.05636337857583468), (2811, 0.028952343745712966), (2812, 0.008984576026524957), (2813, 0.052279082847360284), (2814, 0.020311600567146273), (2815, 0.018482894705828166), (2816, 0.033748865344956566), (2817, 0.0359775096814223), (2818, 0.03362674346178214), (2819, 0.02029279677333955), (2820, 0.014642326545308797), (2821, 0.012891634272660553), (2822, 0.019816176392716392), (2823, 0.03657529009779108), (2824, 0.032971440834476534), (2825, 0.029525065112351073), (2826, 0.016482695069797035), (2827, 0.02513007715592129), (2828, 0.042004008458448046), (2829, 0.018490841907390344), (2830, 0.07803267481641472), (2831, 0.013488427092402748), (2832, 0.031888524600636785), (2833, 0.017302767722185506), (2834, 0.020727758974208244), (2835, 0.02178748744310466), (2836, 0.03503605722867131), (2837, 0.020866249236041173), (2838, 0.023478955479011607), (2839, 0.019053396624746474), (2840, 0.02190891726640191), (2841, 0.0315061502531522), (2842, 0.0222283636718845), (2843, 0.048760771570199785), (2844, 0.05654127175947966), (2845, 0.009015150504378976), (2846, 0.007571638969276042), (2847, 0.022523323594464083), (2848, 0.023647444169082356), (2849, 0.038954573327235134), (2850, 0.029197705576167823), (2851, 0.03161566822411344), (2852, 0.029329843668991204), (2853, 0.014060756325867563), (2854, 0.0106682683940309), (2855, 0.02648821525177903), (2856, 0.007776021630989814), (2857, 0.011685363907723123), (2858, 0.011216018690992823), (2859, 0.026292715312096197), (2860, 0.02569282249013848), (2861, 0.01917420248284523), (2862, 0.03547063329614893), (2863, 0.03005624310020365), (2864, 0.018743292055428976), (2865, 0.04645983276709889), (2866, 0.0126640335136491), (2867, 0.040759856277432144), (2868, 0.033611929853667635), (2869, 0.03483528598280556), (2870, 0.026335971102627323), (2871, 0.006932028303133065), (2872, 0.024475203740670887), (2873, 0.026025305544607438), (2874, 0.027156255220919957), (2875, 0.0039078847632738455), (2876, 0.0805198870140566), (2877, 0.05096446116113154), (2878, 0.06374107623818237), (2879, 0.0296615917902837), (2880, 0.036822422244511335), (2881, 0.013362429110867007), (2882, 0.03956802435785626), (2883, 0.05490833670281122), (2884, 0.02551622109583037), (2885, 0.016535340818873107), (2886, 0.00635217176501866), (2887, 0.0322873323809222), (2888, 0.03540881913281971), (2889, 0.039462137468055325), (2890, 0.02263617647336604), (2891, 0.03403048872777354), (2892, 0.02943060967202232), (2893, 0.03728421671538759), (2894, 0.029934048256776855), (2895, 0.012318540013092098), (2896, 0.03898966188096609), (2897, 0.007240398935297903), (2898, 0.04468238880443438), (2899, 0.05657804818631382), (2900, 0.017370663498775838), (2901, 0.03889495970769608), (2902, 0.05296637439305492), (2903, 0.01197543006711821), (2904, 0.016863515691744303), (2905, 0.018170773963098342), (2906, 0.018599866234149127), (2907, 0.016540515246356184), (2908, 0.03588392271801877), (2909, 0.029708961263007937), (2910, 0.04313789477607604), (2911, 0.025502965433348294), (2912, 0.0436290786357567), (2913, 0.019934042350755375), (2914, 0.04296718706656776), (2915, 0.014795974779736152), (2916, 0.028923234725545085), (2917, 0.01432925341608846), (2918, 0.036988271485657476), (2919, 0.0352070066920124), (2920, 0.05281062290814039), (2921, 0.051391236818247726), (2922, 0.04659030063772106), (2923, 0.004247725786252508), (2924, 0.034392352911995196), (2925, 0.04117834458576476), (2926, 0.032859057088194636), (2927, 0.05196182945999794), (2928, 0.04066356621633177), (2929, 0.03370890410906984), (2930, 0.04496216604497298), (2931, 0.017235256506845723), (2932, 0.026983540698338734), (2933, 0.03490773057364535), (2934, 0.01653901998203624), (2935, 0.026980807804683107), (2936, 0.008209942349744898), (2937, 0.017439650782430705), (2938, 0.03401493987637712), (2939, 0.03804136766794023), (2940, 0.025134005517215664), (2941, 0.005713033912767844), (2942, 0.06403785851187942), (2943, 0.024024525475334995), (2944, 0.0341720922429944), (2945, 0.02783569648378415), (2946, 0.013452487792899225), (2947, 0.007814879392546426), (2948, 0.017549704323263447), (2949, 0.06920126336811236), (2950, 0.04754954006986), (2951, 0.02372035926217157), (2952, 0.04565627777137691), (2953, 0.018546717881271615), (2954, 0.029109675970222983), (2955, 0.016943700907233482), (2956, 0.027708150208425146), (2957, 0.046467297210404705), (2958, 0.017129782305757717), (2959, 0.039481648619311735), (2960, 0.034904255877436445), (2961, 0.034882926584598954), (2962, 0.051921465487935844), (2963, 0.03700606570770377), (2964, 0.025723346750320557), (2965, 0.0206878816889432), (2966, 0.04079927564027301), (2967, 0.010387308047853138), (2968, 0.023550900769829717), (2969, 0.045454313404978616), (2970, 0.01685569319652664), (2971, 0.04120945108343513), (2972, 0.02411252801698447), (2973, 0.025102623048490924), (2974, 0.061291080648913754), (2975, 0.029859925049089443), (2976, 0.034548859992803035), (2977, 0.027635405611737503), (2978, 0.040213387234013596), (2979, 0.018323253464738076), (2980, 0.011722742607670743), (2981, 0.04467867162540984), (2982, 0.014472825439124438), (2983, 0.03290469799219965), (2984, 0.05531065140449417), (2985, 0.04935167571140501), (2986, 0.01113296791498265), (2987, 0.0036744084051709043), (2988, 0.018100770943295007), (2989, 0.026400788287020128), (2990, 0.030385738887132967), (2991, 0.016087967589559535), (2992, 0.03599914808970915), (2993, 0.023156818302992422), (2994, 0.03438818110761872), (2995, 0.01588356894984187), (2996, 0.019322272353983403), (2997, 0.03935828417508798), (2998, 0.019935949386118434), (2999, 0.02792566015653242), (3000, 0.06885825593666141), (3001, 0.03643889944984393), (3002, 0.011745693108098015), (3003, 0.04084437398821318), (3004, 0.03259920484935512), (3005, 0.09569431667287406), (3006, 0.022409261054432177), (3007, 0.01561002628204759), (3008, 0.016272732934484453), (3009, 0.014150474079088282), (3010, 0.05888088084846251), (3011, 0.032166475311659184), (3012, 0.014254340897883043), (3013, 0.02451916186600119), (3014, 0.040150128623686054), (3015, 0.04119886593555155), (3016, 0.026069473243533238), (3017, 0.02433476146531173), (3018, 0.01309245274959498), (3019, 0.05020982112192531), (3020, 0.08562343037696923), (3021, 0.03249040989211993), (3022, 0.02405973083769351), (3023, 0.04787338617815693), (3024, 0.015412916734376864), (3025, 0.0027337036272145026), (3026, 0.022474377657968662), (3027, 0.04281714018580129), (3028, 0.025967866245829103), (3029, 0.017027934739044053), (3030, 0.01840232095324883), (3031, 0.025453515115636198), (3032, 0.060481160572623045), (3033, 0.03473496720388687), (3034, 0.012765319876025548), (3035, 0.017488324885622616), (3036, 0.017609252480898296), (3037, 0.03455606977125531), (3038, 0.03168299863467723), (3039, 0.012401798413351725), (3040, 0.018945115686652306), (3041, 0.004715676696191119), (3042, 0.013996074831919052), (3043, 0.03927222656620935), (3044, 0.01832156564718235), (3045, 0.03245710133035436), (3046, 0.03498866955490342), (3047, 0.0300324038252023), (3048, 0.021176538654545347), (3049, 0.014777944527121556), (3050, 0.01742828953931421), (3051, 0.029334392374008054), (3052, 0.016641977427734145), (3053, 0.07977462652659563), (3054, 0.03034889959319651), (3055, 0.14170377026431424), (3056, 0.007069768897348923), (3057, 0.044146944103065085), (3058, 0.03549280553043907), (3059, 0.028617733097338123), (3060, 0.05612030879912627), (3061, 0.019879334171999278), (3062, 0.007110318455084701), (3063, 0.025388568522099867), (3064, 0.02153686021906828), (3065, 0.041615254781014736), (3066, 0.020540323829832795), (3067, 0.046245331890001816), (3068, 0.02634985806283006), (3069, 0.023243799308318026), (3070, 0.024232864872482045), (3071, 0.0407051545733152), (3072, 0.0014592284858223168), (3073, 0.01985757218144936), (3074, 0.031080760712992005), (3075, 0.020317319697502015), (3076, 0.016830227833061442), (3077, 0.021214824958455357), (3078, 0.03479702515682593), (3079, 0.02164024511223135), (3080, 0.017845022445582833), (3081, 0.04065599256092124), (3082, 0.01914528124030568), (3083, 0.052085241900994235), (3084, 0.02437590067989541), (3085, 0.03307299398198376), (3086, 0.03440543893657857), (3087, 0.06308630177819798), (3088, 0.05728934175176661), (3089, 0.022125555245150183), (3090, 0.025163315617205743), (3091, 0.042002999896030464), (3092, 0.03222503206792873), (3093, 0.029468658421533178), (3094, 0.07106070668204229), (3095, 0.01952752733837997), (3096, 0.018622760808324854), (3097, 0.029456877988959507), (3098, 0.04589151332271491), (3099, 0.055091553330423475), (3100, 0.026682139344452044), (3101, 0.048309141373207326), (3102, 0.06368568808945602), (3103, 0.0396434704492229), (3104, 0.03184595132698661), (3105, 0.04150894736447994), (3106, 0.01813622809953962), (3107, 0.023399442007795687), (3108, 0.023972874944555328), (3109, 0.027775191914542977), (3110, 0.016961878677413594), (3111, 0.029671497241164003), (3112, 0.020655818443367335), (3113, 0.014880917593503185), (3114, 0.050288080092991176), (3115, 0.02445808599129728), (3116, 0.05260774655744342), (3117, 0.043132912546020474), (3118, 0.03371964901773011), (3119, 0.0014277188716812586), (3120, 0.039271111106133016), (3121, 0.02105543978381279), (3122, 0.043724973273173894), (3123, 0.06017522389221693), (3124, 0.019636111753760274), (3125, 0.02405021129869599), (3126, 0.022757076343164147), (3127, 0.05058155896137432), (3128, 0.013262300778971317), (3129, 0.03921840561670059), (3130, 0.03427471523995597), (3131, 0.03509411028664477), (3132, 0.015330865382326047), (3133, 0.029168293195217427), (3134, 0.028753722360602283), (3135, 0.017230415056252894), (3136, 0.023222542691118196), (3137, 0.011935798673192177), (3138, 0.036889507726045864), (3139, 0.052681531906973396), (3140, 0.040115480832896705), (3141, 0.030972365931540687), (3142, 0.04122112837094607), (3143, 0.024522132097290896), (3144, 0.0134231923610866), (3145, 0.010772903883673092), (3146, 0.0353940913474258), (3147, 0.0290677635593231), (3148, 0.04806436692196897), (3149, 0.04348845214325039), (3150, 0.02948275331855945), (3151, 0.02677295168938299), (3152, 0.041776256496781856), (3153, 0.03680363970469123), (3154, 0.023663149444301788), (3155, 0.036381937749324265), (3156, 0.047948113910470526), (3157, 0.07173720069378728), (3158, 0.05126862492543944), (3159, 0.018636498121609564), (3160, 0.030718650071866072), (3161, 0.016100695744494332), (3162, 0.03862260954162856), (3163, 0.041105554609408144), (3164, 0.045962457815273396), (3165, 0.04623680371431718), (3166, 0.03202531062389474), (3167, 0.05060143264896149), (3168, 0.01889104211158103), (3169, 0.040855839469464396), (3170, 0.04058004013580701), (3171, 0.023861429953586512), (3172, 0.019484908388652855), (3173, 0.0344636759962374), (3174, 0.038071292331558794), (3175, 0.028222933038606502), (3176, 0.03901886179319391), (3177, 0.03525715783625327), (3178, 0.06371025175521451), (3179, 0.026219002031745615), (3180, 0.043137425391579484), (3181, 0.01589811717845791), (3182, 0.04227652537656462), (3183, 0.022861835121209453), (3184, 0.03402675501158575), (3185, 0.04340264519376363), (3186, 0.06842920968966892), (3187, 0.04323781232413582), (3188, 0.04515006317092955), (3189, 0.050906511102986496), (3190, 0.011696288433854164), (3191, 0.027477961230287017), (3192, 0.011511726744438443), (3193, 0.03579413214582931), (3194, 0.023914583189089487), (3195, 0.03315235861884067), (3196, 0.04665154089794807), (3197, 0.005964120833545851), (3198, 0.02473858686542466), (3199, 0.00918451764387785), (3200, 0.014166595999257108), (3201, 0.02752573318768402), (3202, 0.03306555666694391), (3203, 0.037647124076862555), (3204, 0.036626796223034365), (3205, 0.03351810007567253), (3206, 0.02677884596140234), (3207, 0.020851453651806434), (3208, 0.026943413565160616), (3209, 0.01554861449689859), (3210, 0.051036654164227965), (3211, 0.03543604873127036), (3212, 0.054554852650133726), (3213, 0.039413184825613914), (3214, 0.05686309192703802), (3215, 0.029305116704817568), (3216, 0.04575012915416975), (3217, 0.04060883683765417), (3218, 0.06692295179421553), (3219, 0.022963804928833133), (3220, 0.04332811381743595), (3221, 0.03703131333691778), (3222, 0.04983679457698357), (3223, 0.012122930774739252), (3224, 0.0006162364625533074), (3225, 0.030631485666666226), (3226, 0.03085481288537591), (3227, 0.022098345563868617), (3228, 0.05424537219888124), (3229, 0.04098554834350004), (3230, 0.027247767548280462), (3231, 0.04266986346439981), (3232, 0.01206520168448419), (3233, 0.02805314495242086), (3234, 0.03777220632384167), (3235, 0.045617362667935056), (3236, 0.03261700269241805), (3237, 0.023282736133058896), (3238, 0.027934712889659465), (3239, 0.015113439894133501), (3240, 0.04922880329943096), (3241, 0.0032028491047279587), (3242, 0.031328066866760484), (3243, 0.034784018616853554), (3244, 0.04902753495819294), (3245, 0.010504001138019529), (3246, 0.0864147072103236), (3247, 0.021433234703078015), (3248, 0.011482194251866477), (3249, 0.048688174005113605), (3250, 0.03197239175902589), (3251, 0.02129055119455201), (3252, 0.02568699057421325), (3253, 0.017563576783852834), (3254, 0.07697652124144057), (3255, 0.04522149699470791), (3256, 0.013824383181057468), (3257, 0.019266375201523387), (3258, 0.03023157983994353), (3259, 0.02657178764448404), (3260, 0.02517154692235985), (3261, 0.04729252253004883), (3262, 0.03167506959466711), (3263, 0.022746632332932337), (3264, 0.018049523887300932), (3265, 0.08192295999716485), (3266, 0.01532649340003005), (3267, 0.011411087042659045), (3268, 0.039997726182159445), (3269, 0.04345643512589548), (3270, 0.07431656086134805), (3271, 0.02270507014726956), (3272, 0.025186824165101988), (3273, 0.015802283136379162), (3274, 0.04679762972308024), (3275, 0.03603324150423073), (3276, 0.07446648580275081), (3277, 0.027945895900982478), (3278, 0.01996321577604605), (3279, 0.02030659395920347), (3280, 0.024359141861399387), (3281, 0.043860674125590186), (3282, 0.03515430280224228), (3283, 0.0072199245712606394), (3284, 0.033403014397469726), (3285, 0.036736536669425356), (3286, 0.02290615005347674), (3287, 0.02784086558662056), (3288, 0.023324211128429695), (3289, 0.03253469769903211), (3290, 0.026472790779019175), (3291, 0.016344622007887277), (3292, 0.01911190766812667), (3293, 0.024389767196297058), (3294, 0.04339598365036442), (3295, 0.020766314027116574), (3296, 0.02372805623110301), (3297, 0.048267680858568356), (3298, 0.04715280281472156), (3299, 0.019313004473808515), (3300, 0.05448739996513234), (3301, 0.022494125341962525), (3302, 0.012200505162994538), (3303, 0.08660043799349537), (3304, 0.0370962547100246), (3305, 0.02273412206724304), (3306, 0.03832288450844863), (3307, 0.011454464707083726), (3308, 0.033831017691032875), (3309, 0.020420245052028732), (3310, 0.012933855512106459), (3311, 0.038051977778111874), (3312, 0.019620598719034193), (3313, 0.03757456391595087), (3314, 0.023752453036542456), (3315, 0.054895391014985126), (3316, 0.027647661674925914), (3317, 0.02101713850933532), (3318, 0.07928244469756389), (3319, 0.051978102743132165), (3320, 0.032269734709406556), (3321, 0.03579870012531944), (3322, 0.022835360419777465), (3323, 0.01765238547742256), (3324, 0.02703542366872258), (3325, 0.07819281445576512), (3326, 0.04500420648322492), (3327, 0.013675165684738227), (3328, 0.039586321161832166), (3329, 0.003597663380147562), (3330, 0.024324854641519816), (3331, 0.026018998511245055), (3332, 0.011526999691271788), (3333, 0.015896948331867184), (3334, 0.05631961834472398), (3335, 0.018429782764083122), (3336, 0.05213336968699398), (3337, 0.02067666845148574), (3338, 0.024896431052437756), (3339, 0.01967313780302636), (3340, 0.030012485986463035), (3341, 0.044642451931677235), (3342, 0.01706634594653457), (3343, 0.07005415233478944), (3344, 0.042378299079601195), (3345, 0.022840704154801682), (3346, 0.05214229598579623), (3347, 0.04797046669220774), (3348, 0.02148702553178083), (3349, 0.04376099714948538), (3350, 0.022005405911035298), (3351, 0.052807168073137845), (3352, 0.013686837075442528), (3353, 0.03868052613605343), (3354, 0.01506208238106648), (3355, 0.037480792262000386), (3356, 0.04755593529499643), (3357, 0.014882183852678678), (3358, 0.01646187041372636), (3359, 0.03119084915744276), (3360, 0.06590682317417575), (3361, 0.03843608107074639), (3362, 0.03908174450645907), (3363, 0.049512202815725825), (3364, 0.05390087109737014), (3365, 0.03367496732786297), (3366, 0.017789079748866482), (3367, 0.028042496210204954), (3368, 0.02217558274399883), (3369, 0.07168246577252975), (3370, 0.04984968404632986), (3371, 0.04033087499209162), (3372, 0.04534463924598996), (3373, 0.02702659701332237), (3374, 0.035642234860922384), (3375, 0.016092463415389596), (3376, 0.04950175481788748), (3377, 0.03300450284368444), (3378, 0.027710814063519464), (3379, 0.056524022625599905), (3380, 0.03641238882268271), (3381, 0.013681476713536108), (3382, 0.035561035309872854), (3383, 0.023514884877841057), (3384, 0.022772337948087643), (3385, 0.05774096390419634), (3386, 0.017539802954800423), (3387, 0.034704812618286576), (3388, 0.016756531783822682), (3389, 0.019954343579349488), (3390, 0.03168916160648941), (3391, 0.03532935706367906), (3392, 0.03777564856506039), (3393, 0.025920074527271447), (3394, 0.02735437688117364), (3395, 0.04665590102311641), (3396, 0.04598397878174334), (3397, 0.03782604441453629), (3398, 0.037397742076963024), (3399, 0.04708338737528661), (3400, 0.01964080630916527), (3401, 0.03195694747003737), (3402, 0.030797996669058043), (3403, 0.024887696915581903), (3404, 0.0113002691152476), (3405, 0.030862839400914017), (3406, 0.03454231029742564), (3407, 0.03303722465464651), (3408, 0.07910876365120678), (3409, 0.036412603349451456), (3410, 0.01699574417201798), (3411, 0.03566043708163371), (3412, 0.0656509200178254), (3413, 0.057265944067752685), (3414, 0.049825005233169524), (3415, 0.022995107682851817), (3416, 0.034701464563943796), (3417, 0.035670300921450605), (3418, 0.05752771498501902), (3419, 0.023846551441594317), (3420, 0.058596741274173504), (3421, 0.04568188672020895), (3422, 0.009806347816127775), (3423, 0.04359609925913723), (3424, 0.032373980175312886), (3425, 0.04174858462865415), (3426, 0.02243455087628522), (3427, 0.04007073838728554), (3428, 0.036524165255012175), (3429, 0.020472824081958475), (3430, 0.03516051139135731), (3431, 0.03342476184283712), (3432, 0.04778356781772362), (3433, 0.031870574587509234), (3434, 0.036068271581320525), (3435, 0.012644454045754391), (3436, 0.04387567168319378), (3437, 0.030064836479316508), (3438, 0.04425101134748414), (3439, 0.028650477593724303), (3440, 0.013877899976956074), (3441, 0.03317670911104185), (3442, 0.03789301581498661), (3443, 0.033560203714679535), (3444, 0.01688234812453283), (3445, 0.03011782028488502), (3446, 0.10508301674269183), (3447, 0.0308360602042635), (3448, 0.033063857860369125), (3449, 0.04992273856178591), (3450, 0.041754439204604865), (3451, 0.00929009501763498), (3452, 0.04145535717785947), (3453, 0.0431077470033992), (3454, 0.015069243696029796), (3455, 0.04770031710332294), (3456, 0.061033575567906555), (3457, 0.036119195642139314), (3458, 0.027353535677882127), (3459, 0.029067990318426582), (3460, 0.04917986293716427), (3461, 0.027481230554153076), (3462, 0.07392767153138341), (3463, 0.059542594082533026), (3464, 0.028176210282201537), (3465, 0.028691365432695955), (3466, 0.019965203650702375), (3467, 0.042817391185774115), (3468, 0.0349003958597971), (3469, 0.06508903370360232), (3470, 0.0676180582727269), (3471, 0.009251018097444184), (3472, 0.012082499390683916), (3473, 0.01209100057162064), (3474, 0.05421479144669058), (3475, 0.03069754382846744), (3476, 0.047027904624618165), (3477, 0.05749484394252446), (3478, 0.048884414594372975), (3479, 0.051475837148849485), (3480, 0.05009643428105042), (3481, 0.032426639303720195), (3482, 0.01602287209450298), (3483, 0.023357108084380684), (3484, 0.026356014550460587), (3485, 0.017993879618951), (3486, 0.0286289386675467), (3487, 0.025074400805647875), (3488, 0.024557071744083846), (3489, 0.038603171927978526), (3490, 0.025726355311183214), (3491, 0.04288600116848676), (3492, 0.028495119294902668), (3493, 0.027430881917821975), (3494, 0.010709613882049577), (3495, 0.004246917534890202), (3496, 0.0187995445496275), (3497, 0.024228061223386853), (3498, 0.044781354325437984), (3499, 0.016085500899609858), (3500, 0.04681365477472246), (3501, 0.009149144341093034), (3502, 0.015817029306283988), (3503, 0.022450174592308313), (3504, 0.05739358141994527), (3505, 0.01355212609414733), (3506, 0.038971202080198275), (3507, 0.014495563290448358), (3508, 0.02138217460309919), (3509, 0.056118012736903526), (3510, 0.012963930975749062), (3511, 0.04271421518856896), (3512, 0.045671284393730846), (3513, 0.02743670906947505), (3514, 0.03791067127851471), (3515, 0.014766343779341827), (3516, 0.025187259679871357), (3517, 0.022545428927420324), (3518, 0.0182235520107456), (3519, 0.0414221635637529), (3520, 0.0430976772513765), (3521, 0.012113609389883385), (3522, 0.02797141355649497), (3523, 0.03172925243392657), (3524, 0.02363999880421981), (3525, 0.026217384616933646), (3526, 0.03136894928102111), (3527, 0.044662186605794116), (3528, 0.029347121997406418), (3529, 0.03380901453318576), (3530, 0.01959385873538834), (3531, 0.04376006740691684), (3532, 0.03180936009170373), (3533, 0.03296646568983722), (3534, 0.061047212843956936), (3535, 0.02876350392034806), (3536, 0.05571492085516144), (3537, 0.027965283310287973), (3538, 0.014293844347164476), (3539, 0.0208869286149594), (3540, 0.013136235557973419), (3541, 0.024261583988048886), (3542, 0.01860402443582286), (3543, 0.02922805630496884), (3544, 0.02711256739305757), (3545, 0.007747582806168309), (3546, 0.021991885279023658), (3547, 0.030756436523843664), (3548, 0.014380305432032095), (3549, 0.08020218926338595), (3550, 0.022353060295342172), (3551, 0.008310006971878411), (3552, 0.03642650954383123), (3553, 0.068420510930793), (3554, 0.031196573318986193), (3555, 0.03410756044741041), (3556, 0.04367617436005746), (3557, 0.010427552835922081), (3558, 0.025011649832224935), (3559, 0.060948308405011975), (3560, 0.031165046084386323), (3561, 0.04014973960783015), (3562, 0.037329533893558205), (3563, 0.006756907430126579), (3564, 0.021133981032395648), (3565, 0.012927880070035161), (3566, 0.01613591557230489), (3567, 0.04555501525535761), (3568, 0.02592349373855275), (3569, 0.02706181174931063), (3570, 0.0282349186377258), (3571, 0.01269877548954843), (3572, 0.043513107674180776), (3573, 0.04118740923465329), (3574, 0.05620153773397227), (3575, 0.02721966993176176), (3576, 0.024886442214259973), (3577, 0.010461564128729417), (3578, 0.03730365098392804), (3579, 0.02351528640014932), (3580, 0.022760381245530103), (3581, 0.03519078930561008), (3582, 0.04916328117083563), (3583, 0.035486760788452636), (3584, 0.037259288749246604), (3585, 0.018131279557819888), (3586, 0.0238839583921761), (3587, 0.04532396685276938), (3588, 0.0175534162696937), (3589, 0.014067610799731517), (3590, 0.025621841621900114), (3591, 0.020661338185910094), (3592, 0.02762280138961427), (3593, 0.030633987442574877), (3594, 0.03567039799154679), (3595, 0.005895865034446164), (3596, 0.013042028876904269), (3597, 0.022535307810467295), (3598, 0.046116094758617235), (3599, 0.013050964962726033), (3600, 0.039166859525739034), (3601, 0.012665382639196728), (3602, 0.015656353160946167), (3603, 0.020168604100473032), (3604, 0.008240582313768827), (3605, 0.03261199065998241), (3606, 0.04275851972560073), (3607, 0.03358200954262057), (3608, 0.02694824587530813), (3609, 0.012616069813314904), (3610, 0.027778156629533854), (3611, 0.011364958150597263), (3612, 0.04544232592870854), (3613, 0.04857234191609586), (3614, 0.02452880247121408), (3615, 0.0098579062237865), (3616, 0.0455383584391455), (3617, 0.01380248638372629), (3618, 0.024287699184654673), (3619, 0.06915522511350762), (3620, 0.07820560454309448), (3621, 0.03828029806237824), (3622, 0.0228151365818283), (3623, 0.018698058328280066), (3624, 0.028168118545922428), (3625, 0.028536167218246793), (3626, 0.016840922356724623), (3627, 0.030973977763185043), (3628, 0.036296598521801254), (3629, 0.05230267400821383), (3630, 0.016618494803450175), (3631, 0.03699088998215087), (3632, 0.01786253262926878), (3633, 0.024020769306414752), (3634, 0.007321729370116951), (3635, 0.055727118975899784), (3636, 0.03284437708937343), (3637, 0.0226521369640592), (3638, 0.01715881358098349), (3639, 0.03896557214793697), (3640, 0.004077440256364654), (3641, 0.013605752399341593), (3642, 0.04971703657596875), (3643, 0.029907523136481127), (3644, 0.020964320137422655), (3645, 0.02416998659744519), (3646, 0.029520484015597134), (3647, 0.019439560038549526), (3648, 0.06344902236440207), (3649, 0.06362007259194541), (3650, 0.030329934555703916), (3651, 0.04011254679477688), (3652, 0.03327432694066197), (3653, 0.031903499500496015), (3654, 0.04558046318674398), (3655, 0.023322325888065487), (3656, 0.02107510153629529), (3657, 0.022725097273991288), (3658, 0.03329706928832399), (3659, 0.030953526877936594), (3660, 0.014351871665313879), (3661, 0.0445166821448691), (3662, 0.011538763144039222), (3663, 0.028476092810143076), (3664, 0.01645745663812234), (3665, 0.03778358298638206), (3666, 0.03202055707408457), (3667, 0.04393686770158217), (3668, 0.026828071609260134), (3669, 0.005149355041968477), (3670, 0.012867161244408985), (3671, 0.05682487875809635), (3672, 0.01951723666823537), (3673, 0.020719280662573933), (3674, 0.01570524282897101), (3675, 0.024629445236989102), (3676, 0.00016353525284118476), (3677, 0.061943290576655416), (3678, 0.011266268290228004), (3679, 0.03153528754223439), (3680, 0.015036781039304862), (3681, 0.04015056933057012), (3682, 0.012839904879537253), (3683, 0.021663078820973167), (3684, 0.045017167647304124), (3685, 0.01379440699911006), (3686, 0.02656143018108791), (3687, 0.010200252614522069), (3688, 0.031176261603978597), (3689, 0.01247409237180155), (3690, 0.016911352539323226), (3691, 0.01550673772470049), (3692, 0.050405446439065325), (3693, 0.048602486130272404), (3694, 0.019620693540993512), (3695, 0.021749535014187495), (3696, 0.015740702753851435), (3697, 0.030897440840159773), (3698, 0.059382506710427184), (3699, 0.05516644547956627), (3700, 0.016735308428495944), (3701, 0.06246718066715154), (3702, 0.025680369475846673), (3703, 0.022673140198501755), (3704, 0.03782080335231587), (3705, 0.055989232911987395), (3706, 0.05405123394381821), (3707, 0.013506908474196307), (3708, 0.00846235229662164), (3709, 0.04263639396305946), (3710, 0.04596499427775578), (3711, 0.03970325934941571), (3712, 0.011931639461362662), (3713, 0.005061992737918426), (3714, 0.01397894104241736), (3715, 0.034336166393031116), (3716, 0.031264130559254984), (3717, 0.04212867176215006), (3718, 0.018537109713052387), (3719, 0.02639892195844494), (3720, 0.021637955999788818), (3721, 0.033610597917494364), (3722, 0.053023266436686756), (3723, 0.021015702840357788), (3724, 0.05371148744232792), (3725, 0.019913260851653826), (3726, 0.033909777478663035), (3727, 0.02231949371521143), (3728, 0.05080720646697219), (3729, 0.01693015029608455), (3730, 0.019272002222673206), (3731, 0.04006137482980818), (3732, 0.02573852133036651), (3733, 0.009777979617349315), (3734, 0.021873711477787657), (3735, 0.028734139311744716), (3736, 0.044010859991253044), (3737, 0.06064374374983081), (3738, 0.014324932234503767), (3739, 0.03672421142985348), (3740, 0.022516812207194856), (3741, 0.04241542161939347), (3742, 0.014629300673521218), (3743, 0.011614721922880145), (3744, 0.041363207697042055), (3745, 0.05066238613196253), (3746, 0.038748262444262126), (3747, 0.030601183954342106), (3748, 0.024434021040373673), (3749, 0.022605024559821513), (3750, 0.03037120276555772), (3751, 0.03778071567976129), (3752, 0.037099252192308564), (3753, 0.055856320651423715), (3754, 0.026527357001623765), (3755, 0.011345317195638496), (3756, 0.015232023606882032), (3757, 0.030038228333849375), (3758, 0.026786759291814222), (3759, 0.038791134468867346), (3760, 0.0751471953109009), (3761, 0.01804454203678548), (3762, 0.0006257580618450001), (3763, 0.032481275938344836), (3764, 0.018487892455558985), (3765, 0.029262736005466635), (3766, 0.027016024668900292), (3767, 0.036298183000068755), (3768, 0.015518567895420917), (3769, 0.04608665448405948), (3770, 0.04694303375111205), (3771, 0.02999212163796594), (3772, 0.0639304807115643), (3773, 0.03914448694265158), (3774, 0.021437147924477325), (3775, 0.014250921147192468), (3776, 0.008635007685617778), (3777, 0.043313803304686434), (3778, 0.03184320020495822), (3779, 0.09862583437683209), (3780, 0.03330447497709415), (3781, 0.019019347932215238), (3782, 0.017431870031008025), (3783, 0.01555301156247699), (3784, 0.016729325298316007), (3785, 0.028221916123474126), (3786, 0.029644866439340518), (3787, 0.08794566588941301), (3788, 0.02952048828049395), (3789, 0.01707943282241281), (3790, 0.023227374099056574), (3791, 0.014175287032248378), (3792, 0.0436469585315101), (3793, 0.06377736286308938), (3794, 0.04215648316358549), (3795, 0.03956922429680096), (3796, 0.015129448386272148), (3797, 0.04388956588978338), (3798, 0.01266622757406373), (3799, 0.010727957699974474), (3800, 0.026276213719302947), (3801, 0.017219843135707635), (3802, 0.039836720749581354), (3803, 0.033927037009012145), (3804, 0.04440081739102331), (3805, 0.01574084662510944), (3806, 0.036978853367020434), (3807, 0.02053115631885252), (3808, 0.007324697106205818), (3809, 0.06368573915151311), (3810, 0.018240830676476954), (3811, 0.01568783619970703), (3812, 0.054397402873559854), (3813, 0.019639399506111457), (3814, 0.030648628601032894), (3815, 0.010852045484807404), (3816, 0.010699743416235396), (3817, 0.022071514199346127), (3818, 0.009973792829444864), (3819, 0.01347959993976446), (3820, 0.017070611843298215), (3821, 0.007475193627344596), (3822, 0.032975329984702186), (3823, 0.05865742324581864), (3824, 0.019757365580403433), (3825, 0.020670326318128773), (3826, 0.0524707101418641), (3827, 0.03312762823108849), (3828, 0.06948455311571926), (3829, 0.039175502231751015), (3830, 0.016366218199084705), (3831, 0.016917512331484686), (3832, 0.01188003585937553), (3833, 0.04691945921472576), (3834, 0.030861575583644874), (3835, 0.017436655393378533), (3836, 0.0021851967574433276), (3837, 0.012317849037554177), (3838, 0.03322615548066789), (3839, 0.03704456251732236), (3840, 0.02048387949605514), (3841, 0.04133366244911934), (3842, 0.007369124358660068), (3843, 0.04755955097343909), (3844, 0.01448139621586073), (3845, 0.014513887057010441), (3846, 0.04959167481898221), (3847, 0.026248647750638964), (3848, 0.006176616495132901), (3849, 0.056394059048378874), (3850, 0.03511634131532237), (3851, 0.050493072395006694), (3852, 0.04140275804521536), (3853, 0.01797843046663884), (3854, 0.00900399773370947), (3855, 0.007977183989538688), (3856, 0.05429251554653955), (3857, 0.020435328112626848), (3858, 0.021482964690594308), (3859, 0.01648256345149524), (3860, 0.02204030857162814), (3861, 0.05469910237440996), (3862, 0.0448470308160686), (3863, 0.0031686492544661504), (3864, 0.014282468541535726), (3865, 0.03352110098858621), (3866, 0.0149206080067559), (3867, 0.03871318597958659), (3868, 0.027982043042856897), (3869, 0.014195510342723885), (3870, 0.04956455928067151), (3871, 0.03273857044485556), (3872, 0.035711952197798255), (3873, 0.04754230466045136), (3874, 0.03289457533754165), (3875, 0.04017487935701212), (3876, 0.034191653193331485), (3877, 0.027692251304894996), (3878, 0.04497967909479455), (3879, 0.018709627243462864), (3880, 0.05465745100827613), (3881, 0.008752942972745745), (3882, 0.054277245226462524), (3883, 0.0358180319466715), (3884, 0.03592077398981456), (3885, 0.037555393867001616), (3886, 0.03199192303513996), (3887, 0.01551808974892607), (3888, 0.04309642226029454), (3889, 0.003552360545936572), (3890, 0.04233115281735431), (3891, 0.04169700416976526), (3892, 0.008960321829835803), (3893, 0.0307182859316933), (3894, 0.029121226692510375), (3895, 0.01900377236584449), (3896, 0.013565404359180695), (3897, 0.02437229476266711), (3898, 0.007366032983965546), (3899, 0.02679825070674563), (3900, 0.017435823119796752), (3901, 0.05473893231573832), (3902, 0.015039774178753075), (3903, 0.023583139859558202), (3904, 0.0554410159965507), (3905, 0.010907103608711208), (3906, 0.05885394691946954), (3907, 0.029131282609615818), (3908, 0.020486314589780646), (3909, 0.017717566166588965), (3910, 0.011017243630072037), (3911, 0.023057771017609755), (3912, 0.050510598649758764), (3913, 0.04761536750044112), (3914, 0.02017853586184057), (3915, 0.021525764461117092), (3916, 0.018584065252997235), (3917, 0.019393891401364362), (3918, 0.017429139480593506), (3919, 0.02220595087248653), (3920, 0.052812432955363406), (3921, 0.015903640413139974), (3922, 0.016668751762305326), (3923, 0.02959477049106585), (3924, 0.03010585333754891), (3925, 0.0613617448367858), (3926, 0.03882487422851026), (3927, 0.030766671600108556), (3928, 0.06052669224303486), (3929, 0.023848246658768227), (3930, 0.024367056430391065), (3931, 0.016876835137666555), (3932, 0.03210427376588393), (3933, 0.01868825667052507), (3934, 0.0190495274262578), (3935, 0.01977714841570842), (3936, 0.005365396751744234), (3937, 0.049046890498077055), (3938, 0.08603354768285436), (3939, 0.014141018165080834), (3940, 0.043597790061889984), (3941, 0.0304267948486161), (3942, 0.03380192609099496), (3943, 0.006540454574952223), (3944, 0.024802002812179813), (3945, 0.027764841039364583), (3946, 0.05163461430279967), (3947, 0.058009782623858544), (3948, 0.01581212181226507), (3949, 0.023559862646776685), (3950, 0.010319922236871846), (3951, 0.010883769398438667), (3952, 0.024727206413348305), (3953, 0.03080107023220443), (3954, 0.007521771894937478), (3955, 0.05930932123481602), (3956, 0.011355481973870605), (3957, 0.016317346383799565), (3958, 0.023514492146457167), (3959, 0.026323375890759993), (3960, 0.024090410662130905), (3961, 0.019513209578144935), (3962, 0.009527397349567342), (3963, 0.03638779422035553), (3964, 0.03882457334765944), (3965, 0.02366610672625172), (3966, 0.03930604338885268), (3967, 0.005834621635712641), (3968, 0.047589059372975216), (3969, 0.023583953635151977), (3970, 0.03839109694651411), (3971, 0.0026076632715391302), (3972, 0.057251376841356436), (3973, 0.027467713652332047), (3974, 0.0313523603272659), (3975, 0.01959357630751149), (3976, 0.04966163283442425), (3977, 0.043148715976750816), (3978, 0.011125463471277953), (3979, 0.04128818832954243), (3980, 0.0359947794536944), (3981, 0.055516050062963423), (3982, 0.023756739862817566), (3983, 0.03546601736929816), (3984, 0.00844920950770278), (3985, 0.012157809530586507), (3986, 0.016402764634348387), (3987, 0.011901658157085656), (3988, 0.006776529892859819), (3989, 0.007451003407204766), (3990, 0.028372952686641677), (3991, 0.02425070648256622), (3992, 0.007439827817922613), (3993, 0.04276038675661243), (3994, 0.023838360462148597), (3995, 0.03482330335948893), (3996, 0.012308455463316376), (3997, 0.04433223741912932), (3998, 0.006473082479734583), (3999, 0.04846002304398524), (4000, 0.042841183924765144), (4001, 0.02322617187138931), (4002, 0.022600671104625172), (4003, 0.027939571385871623), (4004, 0.031026289177970966), (4005, 0.030494179033773883), (4006, 0.03352455248076717), (4007, 0.03005328739910413), (4008, 0.011941099493907831), (4009, 0.037247959832123236), (4010, 0.043596139137731846), (4011, 0.025066540606920453), (4012, 0.016248625474665254), (4013, 0.03839171296344602), (4014, 0.039192653287239136), (4015, 0.02175409693935281), (4016, 0.06648796352760715), (4017, 0.04617161486214028), (4018, 0.02313462585833811), (4019, 0.018256943215174282), (4020, 0.029575265774597084), (4021, 0.030814977386166353), (4022, 0.04055311016517473), (4023, 0.019696550501217953), (4024, 0.01005064476653252), (4025, 0.020154879138194966), (4026, 0.014888773345281504), (4027, 0.04149728930178021), (4028, 0.04648611158594384), (4029, 0.025186076714656076), (4030, 0.05269575846458068), (4031, 0.04302075561030578), (4032, 0.030911385312040254), (4033, 0.08133944799498052), (4034, 0.038478210011434026), (4035, 0.08698081386479203), (4036, 0.005251689541994795), (4037, 0.03063917190138813), (4038, 0.02650488045761012), (4039, 0.03864262614200732), (4040, 0.013029425614331229), (4041, 0.005276982033055854), (4042, 0.022625060297524563), (4043, 0.02597558176833475), (4044, 0.005454962378568348), (4045, 0.01876501940562094), (4046, 0.02736448323774657), (4047, 0.019142816001222786), (4048, 0.03431166792420196), (4049, 0.04341271481631461), (4050, 0.02165559286699451), (4051, 0.03967455266815278), (4052, 0.013415635015783963), (4053, 0.01897378527903268), (4054, 0.05113964066507224), (4055, 0.044484720764333255), (4056, 0.03800841730608375), (4057, 0.027653749183861116), (4058, 0.004550893363869674), (4059, 0.08836315279593376), (4060, 0.03942736287375896), (4061, 0.11636079263806298), (4062, 0.07454997477396012), (4063, 0.014447236118031462), (4064, 0.059000964149285816), (4065, 0.01855911546292514), (4066, 0.01302815412508617), (4067, 0.05086817327876274), (4068, 0.01568187199502687), (4069, 0.004317564624171829), (4070, 0.020434908641647678), (4071, 0.024673452602768504), (4072, 0.01909124862464765), (4073, 0.03130705495789505), (4074, 0.00968426401960486), (4075, 0.03199613632251767), (4076, 0.010813017297780324), (4077, 0.036606980720205164), (4078, 0.04756680328886391), (4079, 0.045397413699652396), (4080, 0.011082000015710542), (4081, 0.021761545889247207), (4082, 0.027220340219282314), (4083, 0.006189040264197275), (4084, 0.022493474252007442), (4085, 0.039855650697125496), (4086, 0.03311438982063732), (4087, 0.034182017427868), (4088, 0.027186298769805717), (4089, 0.03663209589167255), (4090, 0.017483537200072126), (4091, 0.006889412018710995), (4092, 0.04779067810623092), (4093, 0.04123910604389965), (4094, 0.028061218555105353), (4095, 0.021592246714879085), (4096, 0.0546546861476128), (4097, 0.025994546303451566), (4098, 0.003067306040145421), (4099, 0.013023198171155756), (4100, 0.036848365689857374), (4101, 0.061530283676103255), (4102, 0.023474040574593125), (4103, 0.036064508912355395), (4104, 0.0343502939465052), (4105, 0.00666115331515468), (4106, 0.02811852548398064), (4107, 0.023166104579049888), (4108, 0.009888909917679264), (4109, 0.01340965799794449), (4110, 0.020843673590690264), (4111, 0.01115986988074788), (4112, 0.010059886444994023), (4113, 0.015422698955635847), (4114, 0.02235578169302569), (4115, 0.04801959930206858), (4116, 0.0488202786862528), (4117, 0.04521375547083352), (4118, 0.01443315657017409), (4119, 0.02098264809608981), (4120, 0.029495072984146997), (4121, 0.004866973238888947), (4122, 0.017487186602462446), (4123, 0.037363647031887076), (4124, 0.026542499427143807), (4125, 0.00540231447806368), (4126, 0.01771945897040931), (4127, 0.011988105215436076), (4128, 0.03602424449169868), (4129, 0.016580798134333295), (4130, 0.010186407817596119), (4131, 0.007512969655247459), (4132, 0.013785112070122509), (4133, 0.02143434231263936), (4134, 0.07364515061610781), (4135, 0.0653235286464179), (4136, 0.036548820697881276), (4137, 0.04693717383158982), (4138, 0.039875363306828), (4139, 0.04942567082917104), (4140, 0.025007212837685096), (4141, 0.03640182888413228), (4142, 0.039600978575305396), (4143, 0.060951712017714155), (4144, 0.03433040772162091), (4145, 0.021304435273996204), (4146, 0.0196936295533152), (4147, 0.017037496907051128), (4148, 0.04512145345245903), (4149, 0.021512563019775662), (4150, 0.04394369542539733), (4151, 0.007805521086693754), (4152, 0.032670567422766236), (4153, 0.04091926510384215), (4154, 0.010923734270270284), (4155, 0.03347641872922774), (4156, 0.009455247774423149), (4157, 0.019310940348450517), (4158, 0.023964740409956255), (4159, 0.014124101012037678), (4160, 0.02692688279884996), (4161, 0.013510942758883076), (4162, 0.02487406954946492), (4163, 0.04092470734786808), (4164, 0.056639895541137755), (4165, 0.0318637441604388), (4166, 0.019456121355116485), (4167, 0.028439617745845785), (4168, 0.04116527202863678), (4169, 0.020781792182524426), (4170, 0.021829891968262637), (4171, 0.044650232829020864), (4172, 0.016165578735834553), (4173, 0.019922852796680688), (4174, 0.05111082153960921), (4175, 0.044137473975931193), (4176, 0.049202576398506996), (4177, 0.05124109031727808), (4178, 0.02175514368195246), (4179, 0.015403196237820322), (4180, 0.028784987013142572), (4181, 0.01253903139734737), (4182, 0.021958252801338105), (4183, 0.026526785944968385), (4184, 0.008471254428766652), (4185, 0.005219946533469609), (4186, 0.04490395585252087), (4187, 0.015939185167037198), (4188, 0.0227780379581225), (4189, 0.033493644988659636), (4190, 0.009844281955436171), (4191, 0.016371007685967668), (4192, 0.029884211595644132), (4193, 0.032046409832267676), (4194, 0.03158070642223354), (4195, 0.036831890788151384), (4196, 0.020334840340906105), (4197, 0.024143384271598192), (4198, 0.016206423921547856), (4199, 0.011428245002986117), (4200, 0.019413552284244), (4201, 0.01759608334229783), (4202, 0.062346819920735416), (4203, 0.027773549000459), (4204, 0.024749226794779776), (4205, 0.01370695542402783), (4206, 0.037961448537559825), (4207, 0.04138546001090284), (4208, 0.0147695730961488), (4209, 0.024385552248200285), (4210, 0.03589917562093709), (4211, 0.02136965243507886), (4212, 0.03181607477347786), (4213, 0.01227572522524014), (4214, 0.015630936081304902), (4215, 0.013927607624372368), (4216, 0.02564880248789016), (4217, 0.016837507522778846), (4218, 0.02507016337448007), (4219, 0.01886034798938616), (4220, 0.02279099158206665), (4221, 0.019245060926845754), (4222, 0.033823883699499076), (4223, 0.02203945274339563), (4224, 0.03901326588948038), (4225, 0.027249049105129083), (4226, 0.019846440170547264), (4227, 0.019798521260529323), (4228, 0.012302776563807964), (4229, 0.015572245189794585), (4230, 0.030129708633902807), (4231, 0.010252294477360232), (4232, 0.017633459995152003), (4233, 0.04269861617887815), (4234, 0.03276372178615836), (4235, 0.014399043845309085), (4236, 0.037279100360551404), (4237, 0.026157496519905205), (4238, 0.016401508906866716), (4239, 0.009954042024927908), (4240, 0.051430391429230636), (4241, 0.03564111859765734), (4242, 0.014831095290352068), (4243, 0.010695889305525303), (4244, 0.03284677163577391), (4245, 0.03563342873962331), (4246, 0.01275736648939545), (4247, 0.011290077536137678), (4248, 0.02962654388376718), (4249, 0.030042141334903995), (4250, 0.009392845594454018), (4251, 0.00888903970550448), (4252, 0.052874834809897665), (4253, 0.004195590071485226), (4254, 0.00410305571339324), (4255, 0.009317582415896447), (4256, 0.012758350768179657), (4257, 0.013799060966365224), (4258, 0.08447011051398434), (4259, 0.06900856484353975), (4260, 0.020350545089724406), (4261, 0.023831072609448424), (4262, 0.0280548826122459), (4263, 0.022424725857121915), (4264, 0.029092374688829102), (4265, 0.012928453483911044), (4266, 0.04509259277569686), (4267, 0.013632254137031898), (4268, 0.0361102979749705), (4269, 0.04188500744333681), (4270, 0.0350499611863557), (4271, 0.010655245388092819), (4272, 0.06048800518957077), (4273, 0.029552377182275543), (4274, 0.05733652166705607), (4275, 0.029684281618147946), (4276, 0.014992497068439843), (4277, 0.037469546869531536), (4278, 0.020584474639455935), (4279, 0.011016887121203177), (4280, 0.01427407330450736), (4281, 0.027810833794982774), (4282, 0.027251110876559625), (4283, 0.04242220163506713), (4284, 0.014439544813374847), (4285, 0.035449663605188864), (4286, 0.03854221046760735), (4287, 0.015785152401055283), (4288, 0.021100318633474183), (4289, 0.013874037531819794), (4290, 0.02850444001447435), (4291, 0.004586956859441618), (4292, 0.035463539139293995), (4293, 0.011671948875396822), (4294, 0.03647427392852453), (4295, 0.06388933651963552), (4296, 0.035348747175498935), (4297, 0.02186323177947219), (4298, 0.0357962489730386), (4299, 0.03228508380347767), (4300, 0.00662434328116898), (4301, 0.002778202436569433), (4302, 0.023919421650709035), (4303, 0.037834361224416364), (4304, 0.012054246972753938), (4305, 0.023654064561700036), (4306, 0.032177557417794336), (4307, 0.07165410098609326), (4308, 0.022092812857424572), (4309, 0.045857130672250404), (4310, 0.04414147807029449), (4311, 0.028350186296400872), (4312, 0.036158391071411417), (4313, 0.035041779502667215), (4314, 0.03459751593148198), (4315, 0.010639873146233856), (4316, 0.015759306947844578), (4317, 0.01936487682529612), (4318, 0.03369814951627239), (4319, 0.023705380263369682), (4320, 0.020841196220941632), (4321, 0.02032441002714021), (4322, 0.010366354541735361), (4323, 0.014950182918642387), (4324, 0.014823829598042173), (4325, 0.04700082291847474), (4326, 0.036760938415869276), (4327, 0.03528435809917007), (4328, 0.01577544703621033), (4329, 0.033594795267588226), (4330, 0.021791899411373297), (4331, 0.04238205640434273), (4332, 0.044844319777991755), (4333, 0.005922743584753122), (4334, 0.0192408935289334), (4335, 0.021722648082094523), (4336, 0.007993024713037046), (4337, 0.01235503567999813), (4338, 0.02820812410444473), (4339, 0.03625094435885272), (4340, 0.03908662757993152), (4341, 0.022952476629174007), (4342, 0.032072519316679676), (4343, 0.021976517604599146), (4344, 0.013234987195129356), (4345, 0.028788052889872632), (4346, 0.030855203155209582), (4347, 0.04357834754436646), (4348, 0.017164011681948508), (4349, 0.01068359953748186), (4350, 0.07196338319921622), (4351, 0.03671802861980014), (4352, 0.019640994687795878), (4353, 0.02232962115664274), (4354, 0.021198329851750748), (4355, 0.027453544384251006), (4356, 0.03544974330941326), (4357, 0.020175089870446826), (4358, 0.01234856190510325), (4359, 0.001216691104116992), (4360, 0.019204023444607213), (4361, 0.0677786302111593), (4362, 0.03844620481036982), (4363, 0.039134381419319506), (4364, 0.051735028117013505), (4365, 0.03546851157871419), (4366, 0.03476307574679019), (4367, 0.01166409513927297), (4368, 0.011660563437642069), (4369, 0.0058965925677328165), (4370, 0.01977800028441834), (4371, 0.0743563872197377), (4372, 0.01437304130451872), (4373, 0.02843066575499138), (4374, 0.04863884983194282), (4375, 0.060651688524287165), (4376, 0.019613232491344397), (4377, 0.022791117051287512), (4378, 0.036150426677423006), (4379, 0.04201951911969663), (4380, 0.048145316803158276), (4381, 0.04215372586736154), (4382, 0.01977985881828237), (4383, 0.04122203886966691), (4384, 0.01893171544076068), (4385, 0.01969718007908319), (4386, 0.022659825144767293), (4387, 0.03634017720938171), (4388, 0.03528655434640105), (4389, 0.05393820943073779), (4390, 0.05217139381790302), (4391, 0.017373276843431058), (4392, 0.019906018717441958), (4393, 0.012386006706934013), (4394, 0.024612847815574792), (4395, 0.045863645799570044), (4396, 0.0178767649011568), (4397, 0.0405767555549873), (4398, 0.04271762390629954), (4399, 0.041917895962566606), (4400, 0.010396057298467402), (4401, 0.009760718572604665), (4402, 0.030376651388814704), (4403, 0.04790389575439283), (4404, 0.013988139387495883), (4405, 0.020623835254218854), (4406, 0.01068607923295671), (4407, 0.017221230892278647), (4408, 0.012283385041139275), (4409, 0.10040767805680807), (4410, 0.03254565902244965), (4411, 0.04460575538361175), (4412, 0.04004417188273129), (4413, 0.024756381176776296), (4414, 0.0310081877699317), (4415, 0.02649138700857677), (4416, 0.06523243339086907), (4417, 0.01727759724580073), (4418, 0.018600321600827523), (4419, 0.019274713765202924), (4420, 0.016309593028420045), (4421, 0.008684672904720098), (4422, 0.021877172975506454), (4423, 0.05590804866408098), (4424, 0.032831181886792876), (4425, 0.057689548875646965), (4426, 0.026210678589178884), (4427, 0.010291574477596347), (4428, 0.0156826485710362), (4429, 0.043888325368606575), (4430, 0.0215990686621271), (4431, 0.03536392054218018), (4432, 0.01517254942745851), (4433, 0.04443202070599562), (4434, 0.0035266209860394934), (4435, 0.04209723653530332), (4436, 0.021623224495811343), (4437, 0.05103979970255212), (4438, 0.023642172893408354), (4439, 0.03187953074912234), (4440, 0.03561341714370145), (4441, 0.03864799787904227), (4442, 0.019779662399099576), (4443, 0.016757759977359808), (4444, 0.040228378382236384), (4445, 0.015769347913414125), (4446, 0.004192773823548578), (4447, 0.021204552414509824), (4448, 0.018491437155011475), (4449, 0.04771500171340151), (4450, 0.0401651441165788), (4451, 0.04105047329276318), (4452, 0.03138093383035631), (4453, 0.012772012841488026), (4454, 0.024638183062940414), (4455, 0.036547311877383436), (4456, 0.037270007086071553), (4457, 0.02690436240634977), (4458, 0.03048604438022672), (4459, 0.016148087211889237), (4460, 0.028080672446746908), (4461, 0.029821582200514354), (4462, 0.01828833389770751), (4463, 0.0269047614606003), (4464, 0.02181589383923457), (4465, 0.02794606545208525), (4466, 0.027931750462540855), (4467, 0.02360771783454593), (4468, 0.011903242736748814), (4469, 0.02517363336067055), (4470, 0.05315682814139558), (4471, 0.06467354556919623), (4472, 0.03476891129281153), (4473, 0.0218411339008618), (4474, 0.02016386378143027), (4475, 0.03977725079689305), (4476, 0.00448417842990949), (4477, 0.04019666809137291), (4478, 0.018775584517335683), (4479, 0.033190993228153554), (4480, 0.028020688635871715), (4481, 0.00927307471008091), (4482, 0.058395896637262565), (4483, 0.018881434868229918), (4484, 0.0035170951237933753), (4485, 0.01933563230061519), (4486, 0.016518505908875478), (4487, 0.042376407860790756), (4488, 0.06119160365165297), (4489, 0.05082143820744413), (4490, 0.019673080092587385), (4491, 0.020022204858489972), (4492, 0.015683643748695443), (4493, 0.026390275820911403), (4494, 0.05253860673341592), (4495, 0.03150055883095437), (4496, 0.01953330752729809), (4497, 0.013937743548276312), (4498, 0.05326751978876631), (4499, 0.06238208497415905), (4500, 0.05347730799791355), (4501, 0.017688375527289583), (4502, 0.03739996801411615), (4503, 0.05583728352182672), (4504, 0.03353963084002573), (4505, 0.013234697156752954), (4506, 0.014288512966725515), (4507, 0.011389454677545773), (4508, 0.013747435781658103), (4509, 0.06592529527388581), (4510, 0.02630715755523173), (4511, 0.04163166252750096), (4512, 0.04134819962236144), (4513, 0.03348321396088597), (4514, 0.012426406040084792), (4515, 0.05378557511255198), (4516, 0.01642451080253278), (4517, 0.03515390315937978), (4518, 0.043430476710730706), (4519, 0.03462100040062712), (4520, 0.011965900286499673), (4521, 0.024417217860589268), (4522, 0.04773024309107905), (4523, 0.012868027014252818), (4524, 0.01922545318876909), (4525, 0.018507661439724724), (4526, 0.010813428568373458), (4527, 0.02710939421622205), (4528, 0.014897975750851045), (4529, 0.021878680032908326), (4530, 0.009969895481940157), (4531, 0.018230625791752036), (4532, 0.025601371363712586), (4533, 0.025212644955377988), (4534, 0.02332744514684895), (4535, 0.026137102100980514), (4536, 0.04683240226648956), (4537, 0.018725799824068728), (4538, 0.04167706488138724), (4539, 0.0050797401655504676), (4540, 0.017881340689745392), (4541, 0.03543918839608562), (4542, 0.005957732500385512), (4543, 0.05646922973552267), (4544, 0.011736345723992195), (4545, 0.05415710157134248), (4546, 0.09112374341246998), (4547, 0.012100010564428366), (4548, 0.07681418934725691), (4549, 0.02243910165540813), (4550, 0.020596270218274676), (4551, 0.041231680473184734), (4552, 0.07470347798629272), (4553, 0.01576392279741798), (4554, 0.03877389246398697), (4555, 0.0334495181150057), (4556, 0.027379627210431186), (4557, 0.012360165162328322), (4558, 0.037792194960558856), (4559, 0.0443496783178696), (4560, 0.02475169059649321), (4561, 0.0), (4562, 0.0199197307865517), (4563, 0.015155633300123865), (4564, 0.028517095080790967), (4565, 0.026227212548587592), (4566, 0.04438096091446413), (4567, 0.011863036600596469), (4568, 0.019321863409965234), (4569, 0.024673472739800882), (4570, 0.02502122610756025), (4571, 0.00856290420012833), (4572, 0.014477089918982904), (4573, 0.02173890490822117), (4574, 0.02702933440272675), (4575, 0.04626930985187103), (4576, 0.024953316269399495), (4577, 0.02014476545869691), (4578, 0.01595919202280041), (4579, 0.008375264238642445), (4580, 0.048032464313219676), (4581, 0.009318663395218656), (4582, 0.04907747271501069), (4583, 0.04151933751466869), (4584, 0.024627658661185173), (4585, 0.03996837898134385), (4586, 0.03928518729616202), (4587, 0.045515194968720966), (4588, 0.03854633233323672), (4589, 0.025961927795704113), (4590, 0.03168069014230427), (4591, 0.01539310915653156), (4592, 0.025252667587808173), (4593, 0.012579718210616821), (4594, 0.050093938080034796), (4595, 0.03548672357396057), (4596, 0.02449728841628654), (4597, 0.03136913237347742), (4598, 0.02484084473840848), (4599, 0.008381311187291135), (4600, 0.011767029099527043), (4601, 0.04580589867585218), (4602, 0.03633000177360052), (4603, 0.036195570195629856), (4604, 0.060722214348155), (4605, 0.018186744645061093), (4606, 0.029958192353504276), (4607, 0.027190711456012606), (4608, 0.03721909136922315), (4609, 0.03143876599664523), (4610, 0.02112140945538912), (4611, 0.024779175322873277), (4612, 0.045107276288059626), (4613, 0.05412912765822398), (4614, 0.028577853633275346), (4615, 0.026973737712087043), (4616, 0.04766297899467393), (4617, 0.021575948457025335), (4618, 0.0335799696933787), (4619, 0.02509511781006326), (4620, 0.015261675628307178), (4621, 0.03463622756289958), (4622, 0.031552025838501044), (4623, 0.008422095793510265), (4624, 0.01980806886832159), (4625, 0.03055591181558765), (4626, 0.020899011390416156), (4627, 0.011286550613182685), (4628, 0.030616961274376246), (4629, 0.025689970763753782), (4630, 0.02773414340381683), (4631, 0.01221946938130384), (4632, 0.030510223988663734), (4633, 0.00985172895267947), (4634, 0.012453022413659757), (4635, 0.019945284528644386), (4636, 0.02697396105449003), (4637, 0.02196942095690549), (4638, 0.018992735583348342), (4639, 0.022029452421623054), (4640, 0.04028391941636046), (4641, 0.029725897670140205), (4642, 0.020141159466394522), (4643, 0.013159199971313748), (4644, 0.01703605637752542), (4645, 0.028631828073191437), (4646, 0.05920600875892067), (4647, 0.03087381638212206), (4648, 0.02482897077402668), (4649, 0.02407080420526487), (4650, 0.023189318941140583), (4651, 0.0391742761160937), (4652, 0.02653433753844198), (4653, 0.012476120872096028), (4654, 0.05858439546475812), (4655, 0.06830237093662594), (4656, 0.02100095968856534), (4657, 0.017860455211148436), (4658, 0.01355197224010393), (4659, 0.034706344570757525), (4660, 0.013812110575142558), (4661, 0.012115842313150804), (4662, 0.04173926555316345), (4663, 0.05530026919197228), (4664, 0.03727665879700722), (4665, 0.019746384792558656), (4666, 0.02104865493286037), (4667, 0.02626756573165989), (4668, 0.05541085890784589), (4669, 0.033068484091655234), (4670, 0.02763321648442289), (4671, 0.004565905478577438), (4672, 0.020749487483148206), (4673, 0.018320961924421373), (4674, 0.0179048650173069), (4675, 0.032826376356153396), (4676, 0.04410790622555139), (4677, 0.053096144620299754), (4678, 0.02655567629044444), (4679, 0.014511268839023662), (4680, 0.00645604772622867), (4681, 0.024679909980568553), (4682, 0.04750932423981255), (4683, 0.010414308868916998), (4684, 0.022604296927122448), (4685, 0.017048606169225725), (4686, 0.0034204383859461943), (4687, 0.009632321588762822), (4688, 0.008515568555645548), (4689, 0.01883632831613609), (4690, 0.005781254404041246), (4691, 0.012031532647350903), (4692, 0.01818106346046736), (4693, 0.06362083283698475), (4694, 0.02407247489362049), (4695, 0.05227261990046703), (4696, 0.054653896897696216), (4697, 0.011438347888918593), (4698, 0.056270014889137784), (4699, 0.06617061114377511), (4700, 0.005236553333759382), (4701, 0.06507205157955831), (4702, 0.0005526835058749552), (4703, 0.02471250663980651), (4704, 0.045308694832795975), (4705, 0.025151976236311487), (4706, 0.027880529826318785), (4707, 0.024394052072853382), (4708, 0.014497652119380451), (4709, 0.025728928605201005), (4710, 0.0034714131849360058), (4711, 0.007837056699156344), (4712, 0.0464925139096032), (4713, 0.02092799020317322), (4714, 0.028608052225201085), (4715, 0.024257299370180098), (4716, 0.018509564197673117), (4717, 0.05417595961605856), (4718, 0.05555897333026455), (4719, 0.05209917398786576), (4720, 0.008985067197386284), (4721, 0.03347954373750228), (4722, 0.008664482848376256), (4723, 0.023530216069014977), (4724, 0.018719906045303845), (4725, 0.04125531623540621), (4726, 0.00835044706127443), (4727, 0.03687012553747568), (4728, 0.007923810642703123), (4729, 0.0), (4730, 0.01595026606119033), (4731, 0.03996637117292462), (4732, 0.029476429624428774), (4733, 0.008838233108981687), (4734, 0.07419518571964928), (4735, 0.040472110270030545), (4736, 0.03408679000907881), (4737, 0.017057461959840724), (4738, 0.022564341938499065), (4739, 0.006468555609740247), (4740, 0.0240216218822916), (4741, 0.03703761206031319), (4742, 0.022184346840595823), (4743, 0.04677585494960167), (4744, 0.02174252081292591), (4745, 0.024567165265505737), (4746, 0.014376252188106727), (4747, 0.026767890799315935), (4748, 0.05368428431326145), (4749, 0.016756513073691737), (4750, 0.01953691989841398), (4751, 0.016353366384294403), (4752, 0.009269684587518152), (4753, 0.015759480751180378), (4754, 0.03452286285955851), (4755, 0.03075584995290211), (4756, 0.02466798392655619), (4757, 0.0350122868319609), (4758, 0.03962023329104425), (4759, 0.001262761750273455)]\n"
          ]
        }
      ]
    },
    {
      "cell_type": "code",
      "source": [
        "len(Recommendation_Score)"
      ],
      "metadata": {
        "colab": {
          "base_uri": "https://localhost:8080/"
        },
        "id": "s4mqtzt9dbA_",
        "outputId": "d1969189-0029-424c-c66f-34fd949b989b"
      },
      "execution_count": null,
      "outputs": [
        {
          "output_type": "execute_result",
          "data": {
            "text/plain": [
              "4760"
            ]
          },
          "metadata": {},
          "execution_count": 182
        }
      ]
    },
    {
      "cell_type": "markdown",
      "source": [
        "**Explaination**"
      ],
      "metadata": {
        "id": "2F7GH8bL5dQB"
      }
    },
    {
      "cell_type": "code",
      "source": [
        "Sorted_Similar_Movies = sorted(Recommendation_Score, key = lambda x:x[1], reverse = True)\n",
        "print(Sorted_Similar_Movies)"
      ],
      "metadata": {
        "colab": {
          "base_uri": "https://localhost:8080/"
        },
        "id": "EiFZfN6wdf02",
        "outputId": "cce4fb36-04a0-4c6e-b1ba-db7fa2fc6e46"
      },
      "execution_count": null,
      "outputs": [
        {
          "output_type": "stream",
          "name": "stdout",
          "text": [
            "[(2692, 1.0000000000000002), (2552, 0.1493002046858663), (3055, 0.14170377026431424), (2502, 0.13311260759197296), (248, 0.13245277762790383), (902, 0.1281912104258631), (4061, 0.11636079263806298), (828, 0.11318743905546079), (2727, 0.11070721787621186), (735, 0.10837835819387828), (3446, 0.10508301674269183), (255, 0.10496837216023577), (2277, 0.10251451725892759), (522, 0.10192197313506715), (1897, 0.10165694265402915), (2411, 0.10132803252622145), (4409, 0.10040767805680807), (798, 0.09967235811190511), (3779, 0.09862583437683209), (2194, 0.09593646663919872), (3005, 0.09569431667287406), (1980, 0.09357142985155786), (2469, 0.09299855768005472), (1731, 0.0922663765649357), (4546, 0.09112374341246998), (1606, 0.09085018358050681), (3, 0.0898853832754603), (542, 0.08909285428503515), (4059, 0.08836315279593376), (1351, 0.08817547529122467), (3787, 0.08794566588941301), (4035, 0.08698081386479203), (1779, 0.08669473693569175), (3303, 0.08660043799349537), (3246, 0.0864147072103236), (833, 0.08636418764084701), (3938, 0.08603354768285436), (1806, 0.08600346091227569), (3020, 0.08562343037696923), (2618, 0.08508047028986716), (2761, 0.084850223263366), (4258, 0.08447011051398434), (3265, 0.08192295999716485), (1878, 0.08137372206607359), (4033, 0.08133944799498052), (2876, 0.0805198870140566), (598, 0.080512697491274), (3549, 0.08020218926338595), (938, 0.07987719622427346), (2155, 0.0797954574156763), (3053, 0.07977462652659563), (1112, 0.07974878752653855), (2695, 0.07953685616073806), (824, 0.07947925834318127), (1887, 0.07944362445211418), (1284, 0.07939446757395752), (3318, 0.07928244469756389), (3408, 0.07910876365120678), (110, 0.07873700659170137), (3620, 0.07820560454309448), (3325, 0.07819281445576512), (2830, 0.07803267481641472), (2377, 0.07798569751963494), (765, 0.07765648386725721), (1593, 0.07736020097699495), (2720, 0.07733650231753543), (351, 0.07701294260231395), (3254, 0.07697652124144057), (4548, 0.07681418934725691), (2314, 0.07665483454107948), (2554, 0.07610188679513565), (506, 0.07570863793269449), (384, 0.07560459977018837), (3760, 0.0751471953109009), (1647, 0.07492359902898142), (2454, 0.07490886774709253), (1646, 0.07479359137785736), (511, 0.07470817502990817), (4552, 0.07470347798629272), (254, 0.0746479853261313), (4062, 0.07454997477396012), (3276, 0.07446648580275081), (4371, 0.0743563872197377), (3270, 0.07431656086134805), (2254, 0.07421103584173204), (4734, 0.07419518571964928), (3462, 0.07392767153138341), (4134, 0.07364515061610781), (1086, 0.0728199852855748), (744, 0.07272969825395181), (2100, 0.0726950618475688), (2541, 0.07225612306175576), (414, 0.07213323883279862), (2701, 0.07202435831671596), (4350, 0.07196338319921622), (2481, 0.07189911535585956), (2633, 0.07184263019126062), (1290, 0.07173964575550294), (3157, 0.07173720069378728), (3369, 0.07168246577252975), (4307, 0.07165410098609326), (1234, 0.07160590177062442), (1930, 0.07150648228382937), (852, 0.0713683278693915), (2400, 0.0713160654256856), (3094, 0.07106070668204229), (1471, 0.07105195368386327), (617, 0.0709235090711519), (155, 0.0702921376632674), (1482, 0.07028450440784063), (1224, 0.07027508653097995), (2653, 0.0700993669883008), (855, 0.07009846157773907), (3343, 0.07005415233478944), (479, 0.06989382845840227), (486, 0.06988319103180893), (1134, 0.0697924255963204), (1095, 0.06974467718303448), (3828, 0.06948455311571926), (2089, 0.06920459902731181), (2949, 0.06920126336811236), (3619, 0.06915522511350762), (4259, 0.06900856484353975), (1119, 0.06900694867547659), (1822, 0.06899103040115956), (3000, 0.06885825593666141), (2498, 0.0687952125302509), (1233, 0.0687371357048515), (85, 0.06868042378004986), (460, 0.06861944549114453), (1379, 0.06850232199099913), (3186, 0.06842920968966892), (3553, 0.068420510930793), (1617, 0.06839559730082591), (4655, 0.06830237093662594), (2728, 0.06825171552023257), (762, 0.06821697174522828), (424, 0.0681396483607999), (741, 0.06812314447188351), (628, 0.06789752340314141), (4361, 0.0677786302111593), (334, 0.0677450685790273), (115, 0.06772665899680132), (779, 0.0676973506569121), (3470, 0.0676180582727269), (1465, 0.06760623846044231), (2250, 0.06724478100711374), (683, 0.06721294357361356), (3218, 0.06692295179421553), (1896, 0.06677401795106695), (966, 0.06668251541240604), (2161, 0.06662813738030192), (2664, 0.06662295971687958), (2677, 0.06662271876934543), (2648, 0.06659625997132915), (4016, 0.06648796352760715), (4699, 0.06617061114377511), (644, 0.06614603511117312), (1082, 0.0660449204259508), (1501, 0.06593155608137716), (4509, 0.06592529527388581), (3360, 0.06590682317417575), (1677, 0.06580739144188573), (1131, 0.06565190597706044), (3412, 0.0656509200178254), (2497, 0.06558312628355836), (642, 0.06544459500975028), (1127, 0.06543403202270347), (2268, 0.06534236946720777), (4135, 0.0653235286464179), (2444, 0.0652743992758466), (4416, 0.06523243339086907), (3469, 0.06508903370360232), (4701, 0.06507205157955831), (2347, 0.06487371196753286), (4471, 0.06467354556919623), (1003, 0.06467342338102948), (603, 0.06454470472623919), (2598, 0.06451107369006372), (2576, 0.0644342881156195), (893, 0.06421631027767956), (1183, 0.0641987284125981), (2942, 0.06403785851187942), (3772, 0.0639304807115643), (4295, 0.06388933651963552), (884, 0.06387220593924609), (3793, 0.06377736286308938), (2878, 0.06374107623818237), (3178, 0.06371025175521451), (1906, 0.06370383151534849), (3809, 0.06368573915151311), (3102, 0.06368568808945602), (4693, 0.06362083283698475), (3649, 0.06362007259194541), (2744, 0.06349902429762266), (3648, 0.06344902236440207), (161, 0.06344698688015794), (2408, 0.06313952479832956), (3087, 0.06308630177819798), (1837, 0.06305280048116138), (2665, 0.06257811337431012), (3701, 0.06246718066715154), (27, 0.0624389154452522), (4499, 0.06238208497415905), (4202, 0.062346819920735416), (953, 0.06225762992136885), (97, 0.062108859304831635), (3677, 0.061943290576655416), (895, 0.06179995755942398), (1488, 0.061724087139074006), (2182, 0.06162519735457084), (877, 0.06154470371564452), (4101, 0.061530283676103255), (2242, 0.061514272555115525), (2461, 0.06149414450974544), (3925, 0.0613617448367858), (2974, 0.061291080648913754), (4488, 0.06119160365165297), (2629, 0.06116965530553767), (2112, 0.061113428051392804), (526, 0.061093361965906805), (3534, 0.061047212843956936), (3456, 0.061033575567906555), (4143, 0.060951712017714155), (3559, 0.060948308405011975), (766, 0.06077669665222174), (4604, 0.060722214348155), (4375, 0.060651688524287165), (3737, 0.06064374374983081), (2196, 0.06056328008862879), (62, 0.06052810583726565), (3928, 0.06052669224303486), (4272, 0.06048800518957077), (912, 0.06048377324203434), (3032, 0.060481160572623045), (2591, 0.06047708653395478), (3123, 0.06017522389221693), (2111, 0.0601355133916801), (612, 0.06012155876621728), (1875, 0.05996928688985766), (2527, 0.059892648515249065), (2545, 0.059877357775973396), (1142, 0.05987731043679124), (2798, 0.059857801367005456), (104, 0.05982876049040787), (883, 0.059812795558815086), (277, 0.05955496797581746), (3463, 0.059542594082533026), (1719, 0.05950916525217361), (2180, 0.05944758951632045), (3698, 0.059382506710427184), (870, 0.059340205952917266), (3955, 0.05930932123481602), (805, 0.05930105452041466), (4646, 0.05920600875892067), (546, 0.0591496861771106), (2364, 0.05913977977518364), (2536, 0.05913134350961197), (421, 0.05909523162958767), (504, 0.05908589340292235), (167, 0.0590514774544107), (2090, 0.05904686052114945), (4064, 0.059000964149285816), (245, 0.058938418431364485), (508, 0.0588950473619263), (3010, 0.05888088084846251), (2717, 0.058867437611643716), (3906, 0.05885394691946954), (566, 0.058684847419267314), (3823, 0.05865742324581864), (2609, 0.058642383810129484), (3420, 0.058596741274173504), (4654, 0.05858439546475812), (282, 0.05854458363254537), (1269, 0.05850730740278161), (4482, 0.058395896637262565), (606, 0.05832502874706523), (1414, 0.05823227687972136), (1541, 0.05820415489064287), (1020, 0.058099263408433674), (267, 0.058030052989373415), (3947, 0.058009782623858544), (1104, 0.05782845996832284), (3385, 0.05774096390419634), (4425, 0.057689548875646965), (2258, 0.05767384217953984), (75, 0.057646589197746755), (137, 0.057615116829159256), (1365, 0.057572721816087115), (3418, 0.05752771498501902), (3477, 0.05749484394252446), (1019, 0.0574839417746206), (1168, 0.057408550724662166), (3504, 0.05739358141994527), (4274, 0.05733652166705607), (3088, 0.05728934175176661), (3413, 0.057265944067752685), (3972, 0.057251376841356436), (292, 0.05723928853049963), (1318, 0.057166447064881665), (1302, 0.057157014659782034), (398, 0.05703719827644307), (1192, 0.057026277586915586), (138, 0.057022404312035424), (1682, 0.056994758461080285), (3214, 0.05686309192703802), (3671, 0.05682487875809635), (2673, 0.05681659381901472), (1088, 0.056778372591254185), (2291, 0.056744937412330894), (1383, 0.05671275665445569), (429, 0.05670736303787152), (4164, 0.056639895541137755), (2899, 0.05657804818631382), (2844, 0.05654127175947966), (3379, 0.056524022625599905), (2135, 0.056514378241128926), (1188, 0.05651024315390973), (4543, 0.05646922973552267), (3849, 0.056394059048378874), (2810, 0.05636337857583468), (3334, 0.05631961834472398), (4698, 0.056270014889137784), (2391, 0.05623954360649809), (342, 0.05622699952784903), (3574, 0.05620153773397227), (3060, 0.05612030879912627), (3509, 0.056118012736903526), (1879, 0.0561130066980848), (1436, 0.056015523327233425), (3705, 0.055989232911987395), (4423, 0.05590804866408098), (2431, 0.055896084466128496), (1472, 0.05585784976320143), (3753, 0.055856320651423715), (4503, 0.05583728352182672), (2530, 0.055815391758548806), (2801, 0.05577065697203881), (2443, 0.05575412890524531), (859, 0.05573905571360439), (3635, 0.055727118975899784), (2014, 0.05572461864096598), (3536, 0.05571492085516144), (1641, 0.05568117823894904), (2140, 0.05566129225167334), (1052, 0.055620778048915465), (1024, 0.05556483588133265), (4718, 0.05555897333026455), (575, 0.055531866069437164), (956, 0.05552516934419526), (3981, 0.055516050062963423), (545, 0.05548589806625199), (3904, 0.0554410159965507), (4668, 0.05541085890784589), (320, 0.05539161253411872), (1900, 0.05534941809792565), (1273, 0.055349281846554826), (2984, 0.05531065140449417), (4663, 0.05530026919197228), (2463, 0.05522924946433436), (3699, 0.05516644547956627), (477, 0.055100371884164334), (3099, 0.055091553330423475), (1698, 0.05508204070409418), (2588, 0.0550733503560763), (195, 0.05495364907370637), (51, 0.05492744693109787), (2883, 0.05490833670281122), (319, 0.05489839402226823), (3315, 0.054895391014985126), (2607, 0.05484586260675191), (2032, 0.054774577568334204), (3901, 0.05473893231573832), (3861, 0.05469910237440996), (3880, 0.05465745100827613), (4096, 0.0546546861476128), (4696, 0.054653896897696216), (1084, 0.05461857744565376), (2755, 0.054617024353064404), (3212, 0.054554852650133726), (3300, 0.05448739996513234), (1636, 0.054485593487589336), (2012, 0.05448360182906988), (7, 0.054404026179503365), (3812, 0.054397402873559854), (1473, 0.05432732269073807), (1085, 0.054308593939187605), (3856, 0.05429251554653955), (3882, 0.054277245226462524), (3228, 0.05424537219888124), (3474, 0.05421479144669058), (1475, 0.054200888097294425), (1983, 0.05418147030502602), (4717, 0.05417595961605856), (4545, 0.05415710157134248), (1, 0.05415544905770394), (2656, 0.05415034038235955), (1217, 0.054133637283545415), (4613, 0.05412912765822398), (3706, 0.05405123394381821), (2371, 0.05400441958944885), (1078, 0.05398244482672598), (1981, 0.05396440611253001), (4389, 0.05393820943073779), (3364, 0.05390087109737014), (2365, 0.05389114081000621), (1982, 0.05384123464132602), (785, 0.05380441788443503), (4515, 0.05378557511255198), (1243, 0.05371921807350432), (3724, 0.05371148744232792), (4748, 0.05368428431326145), (1481, 0.05367063527768605), (721, 0.053566516766520716), (853, 0.053543349427303835), (1713, 0.053526806820469355), (4500, 0.05347730799791355), (2766, 0.053458040085654135), (455, 0.053362118761547596), (2154, 0.053302038221295284), (4498, 0.05326751978876631), (1268, 0.053178413922647313), (4470, 0.05315682814139558), (4677, 0.053096144620299754), (474, 0.053087011706932634), (3722, 0.053023266436686756), (2902, 0.05296637439305492), (4252, 0.052874834809897665), (3920, 0.052812432955363406), (2920, 0.05281062290814039), (3351, 0.052807168073137845), (2477, 0.0527409843084889), (4030, 0.05269575846458068), (3139, 0.052681531906973396), (876, 0.05262217251387657), (3116, 0.05260774655744342), (2638, 0.052583409548747045), (4494, 0.05253860673341592), (1097, 0.05253837458234838), (3826, 0.0524707101418641), (2706, 0.05244778398676449), (1827, 0.05230883001695297), (3629, 0.05230267400821383), (2813, 0.052279082847360284), (4695, 0.05227261990046703), (2474, 0.052234333170443514), (551, 0.05218295585789336), (4390, 0.05217139381790302), (1832, 0.052155783448187366), (754, 0.05214328965665877), (3346, 0.05214229598579623), (3336, 0.05213336968699398), (4719, 0.05209917398786576), (3083, 0.052085241900994235), (1741, 0.05208007451198878), (997, 0.05203539105295088), (715, 0.052010668119805), (3319, 0.051978102743132165), (680, 0.05197171582600386), (2927, 0.05196182945999794), (2962, 0.051921465487935844), (2522, 0.051831251588802044), (2630, 0.05178634452166493), (4364, 0.051735028117013505), (811, 0.051725250363603946), (2202, 0.051721906439846706), (925, 0.051710307962564775), (1688, 0.05169833248892946), (1998, 0.05169184675395241), (764, 0.051671773668220705), (583, 0.05163714905987914), (3946, 0.05163461430279967), (769, 0.05160981090919873), (2725, 0.05154716117142438), (1245, 0.05150304333878499), (2215, 0.05148622380177552), (3479, 0.051475837148849485), (257, 0.05147097161419836), (2513, 0.05145745476935474), (2790, 0.05143639277220068), (4240, 0.051430391429230636), (1128, 0.05142680165305822), (2921, 0.051391236818247726), (615, 0.051355103981246035), (3158, 0.05126862492543944), (864, 0.05125656614419826), (4177, 0.05124109031727808), (2017, 0.051206196542193196), (4054, 0.05113964066507224), (2525, 0.05112855901947577), (1624, 0.051120738076710685), (4174, 0.05111082153960921), (1909, 0.05109921065791293), (2698, 0.05109685469565532), (4437, 0.05103979970255212), (3210, 0.051036654164227965), (415, 0.050993871275552445), (1362, 0.050967401126299855), (2877, 0.05096446116113154), (3189, 0.050906511102986496), (4067, 0.05086817327876274), (2413, 0.050853112335810864), (1259, 0.05084506939645565), (2115, 0.05083112624736066), (4489, 0.05082143820744413), (3728, 0.05080720646697219), (2172, 0.05069314375254118), (3745, 0.05066238613196253), (2399, 0.050643230979268865), (3167, 0.05060143264896149), (3127, 0.05058155896137432), (1220, 0.05056390343229521), (3912, 0.050510598649758764), (340, 0.05049979817842783), (3851, 0.050493072395006694), (3692, 0.050405446439065325), (1929, 0.05036949564394925), (2624, 0.05034592436844634), (2114, 0.050307770386079684), (1357, 0.05030633335918617), (3114, 0.050288080092991176), (1559, 0.050229364322206684), (774, 0.05022878493451921), (3019, 0.05020982112192531), (1028, 0.05015281970848119), (738, 0.05013119466646425), (1071, 0.05010266027893078), (3480, 0.05009643428105042), (4594, 0.050093938080034796), (2080, 0.05006155524168826), (210, 0.049997430506326254), (1737, 0.04992967435324116), (3449, 0.04992273856178591), (548, 0.049852786905814246), (3370, 0.04984968404632986), (3222, 0.04983679457698357), (1521, 0.049826032156570624), (3414, 0.049825005233169524), (983, 0.04980380056378038), (88, 0.04974780331935695), (2123, 0.049734771615903554), (3642, 0.04971703657596875), (3976, 0.04966163283442425), (3846, 0.04959167481898221), (2340, 0.04957992423428652), (1394, 0.04957916694539108), (3870, 0.04956455928067151), (364, 0.049523159952607185), (3363, 0.049512202815725825), (3376, 0.04950175481788748), (4139, 0.04942567082917104), (2130, 0.04935454359620051), (2985, 0.04935167571140501), (1178, 0.049268698780203624), (403, 0.049248457514799164), (3240, 0.04922880329943096), (4176, 0.049202576398506996), (3460, 0.04917986293716427), (1538, 0.04917320353987449), (3582, 0.04916328117083563), (552, 0.04915508410083066), (1829, 0.04912424306867484), (2770, 0.049111422335977886), (2710, 0.049099820510840254), (2603, 0.049090244053644566), (4582, 0.04907747271501069), (181, 0.04907533138436399), (1026, 0.04905932000894413), (3937, 0.049046890498077055), (3244, 0.04902753495819294), (46, 0.049018082746112475), (2570, 0.04898936521235236), (2006, 0.04892519730919884), (602, 0.04888959919131876), (3478, 0.048884414594372975), (377, 0.04884214414310248), (67, 0.04883651964934994), (4116, 0.0488202786862528), (2746, 0.048807258135169715), (553, 0.048801975192328505), (846, 0.04878345964506746), (2843, 0.048760771570199785), (72, 0.0487116902181337), (1006, 0.04870006252043191), (3249, 0.048688174005113605), (676, 0.048667822216614094), (4374, 0.04863884983194282), (3693, 0.048602486130272404), (3613, 0.04857234191609586), (2769, 0.04847591314176641), (3999, 0.04846002304398524), (806, 0.04843577113429927), (488, 0.04836332829480901), (586, 0.04832665666127448), (2310, 0.0483129987316447), (3101, 0.048309141373207326), (1706, 0.04830896213285874), (2067, 0.04828799020392442), (80, 0.04827590165428485), (3297, 0.048267680858568356), (185, 0.04824260612253215), (4380, 0.048145316803158276), (2375, 0.04812542398784147), (1949, 0.04812315144478545), (1809, 0.04812160775376899), (41, 0.04811368343251905), (1595, 0.04808642631820104), (3148, 0.04806436692196897), (2553, 0.048053402618475814), (4580, 0.048032464313219676), (4115, 0.04801959930206858), (3347, 0.04797046669220774), (3156, 0.047948113910470526), (698, 0.047921806934306733), (1962, 0.04791110476323215), (4403, 0.04790389575439283), (3023, 0.04787338617815693), (196, 0.04783910707942443), (1209, 0.04780084174744749), (4092, 0.04779067810623092), (3432, 0.04778356781772362), (2782, 0.04777661853288591), (967, 0.04773106494866861), (4522, 0.04773024309107905), (4449, 0.04771500171340151), (359, 0.0477017197419961), (3455, 0.04770031710332294), (4616, 0.04766297899467393), (3913, 0.04761536750044112), (3968, 0.047589059372975216), (4078, 0.04756680328886391), (3843, 0.04755955097343909), (3356, 0.04755593529499643), (2950, 0.04754954006986), (3873, 0.04754230466045136), (658, 0.04754203462251986), (2778, 0.04753290360987908), (4682, 0.04750932423981255), (271, 0.04745995592928626), (1777, 0.04744826433747965), (217, 0.04742180265468833), (2051, 0.04741479854023021), (1707, 0.04734745481842194), (2696, 0.047337786747717825), (416, 0.04733376297183547), (3261, 0.04729252253004883), (1363, 0.047255951813198825), (1043, 0.04724473685702846), (3298, 0.04715280281472156), (2392, 0.04711595120661935), (3399, 0.04708338737528661), (2233, 0.04703736057981545), (3476, 0.047027904624618165), (1860, 0.047023082860925255), (4325, 0.04700082291847474), (2149, 0.04697210428395675), (1908, 0.04695778761079449), (3770, 0.04694303375111205), (2619, 0.046937926722421974), (4137, 0.04693717383158982), (3833, 0.04691945921472576), (2144, 0.046906093777542346), (464, 0.046868665622679044), (1787, 0.04684773136268528), (1638, 0.0468370453164013), (4536, 0.04683240226648956), (905, 0.046828908756607036), (974, 0.04682690238325024), (3500, 0.04681365477472246), (3274, 0.04679762972308024), (1070, 0.04679734957715412), (4743, 0.04677585494960167), (212, 0.04670941182555957), (840, 0.04665981733935969), (3395, 0.04665590102311641), (3196, 0.04665154089794807), (808, 0.04660696561868857), (2772, 0.04660211310620253), (2922, 0.04659030063772106), (637, 0.04656809695590844), (101, 0.046555761808348556), (4712, 0.0464925139096032), (78, 0.046489777942437346), (4028, 0.04648611158594384), (2957, 0.046467297210404705), (2865, 0.04645983276709889), (2251, 0.04643621048454598), (622, 0.046403257110647085), (1967, 0.04638758380654027), (530, 0.04638021530876503), (1195, 0.04636323950653629), (126, 0.0463589425438929), (241, 0.046317243919695175), (4575, 0.04626930985187103), (3067, 0.046245331890001816), (3165, 0.04623680371431718), (1218, 0.046177076574193836), (4017, 0.04617161486214028), (1948, 0.0461553464557308), (3598, 0.046116094758617235), (3769, 0.04608665448405948), (1190, 0.046077581683362956), (302, 0.04607048050813183), (1726, 0.04605038164336819), (3396, 0.04598397878174334), (3710, 0.04596499427775578), (3164, 0.045962457815273396), (2705, 0.045956955588063265), (2306, 0.0459079564767629), (1953, 0.04589877297606823), (3098, 0.04589151332271491), (4395, 0.045863645799570044), (4309, 0.045857130672250404), (867, 0.04585689022115242), (858, 0.0458279457169051), (2723, 0.045827064599154345), (4601, 0.04580589867585218), (3216, 0.04575012915416975), (1197, 0.04572266329177493), (2248, 0.04569024319884451), (3421, 0.04568188672020895), (3512, 0.045671284393730846), (1331, 0.04566821446254316), (2952, 0.04565627777137691), (1886, 0.045648574311497436), (701, 0.045645039155704684), (1853, 0.04564152260570313), (3235, 0.045617362667935056), (2767, 0.045596544423384136), (1652, 0.04558595765052218), (3654, 0.04558046318674398), (661, 0.04556705111867306), (1666, 0.04556073312360997), (1625, 0.0455587835008416), (3567, 0.04555501525535761), (892, 0.0455548140649435), (3616, 0.0455383584391455), (1990, 0.04553781581302595), (1411, 0.04552236467568837), (4587, 0.045515194968720966), (2424, 0.04549392383500726), (1547, 0.045486110075024164), (2969, 0.045454313404978616), (3612, 0.04544232592870854), (1961, 0.04542064371872422), (4079, 0.045397413699652396), (2337, 0.04538564251151138), (2118, 0.04535955174115867), (3372, 0.04534463924598996), (1011, 0.0453358038498639), (3587, 0.04532396685276938), (4704, 0.045308694832795975), (999, 0.04527408790788945), (3255, 0.04522149699470791), (4117, 0.04521375547083352), (1111, 0.04520958220328251), (2295, 0.04517339664675687), (1319, 0.045158184762900705), (3188, 0.04515006317092955), (1213, 0.04514920862953206), (4148, 0.04512145345245903), (4612, 0.045107276288059626), (788, 0.04510263247901622), (4266, 0.04509259277569686), (1179, 0.04507095908106048), (879, 0.0450421738186732), (1831, 0.04502517945093529), (3684, 0.045017167647304124), (1573, 0.045006984465821506), (3326, 0.04500420648322492), (2366, 0.04498061643362559), (3878, 0.04497967909479455), (2930, 0.04496216604497298), (693, 0.04494458048610354), (1345, 0.044911901700328195), (4186, 0.04490395585252087), (446, 0.04489268184711653), (2252, 0.044890777949023984), (1763, 0.04486136151378539), (3862, 0.0448470308160686), (4332, 0.044844319777991755), (885, 0.04480414709099939), (1635, 0.044793226625740104), (3498, 0.044781354325437984), (378, 0.04475609130217149), (1462, 0.04474110704675838), (1202, 0.044732535017109464), (1584, 0.04472612118922594), (114, 0.044721486968779506), (1968, 0.04469865497257154), (2898, 0.04468238880443438), (2981, 0.04467867162540984), (3527, 0.044662186605794116), (1068, 0.04465346332678319), (4171, 0.044650232829020864), (3341, 0.044642451931677235), (604, 0.04461715285971178), (4411, 0.04460575538361175), (648, 0.044596318992657175), (1703, 0.04458141433590866), (95, 0.044574556535515765), (2631, 0.04453151169615853), (3661, 0.0445166821448691), (2440, 0.04450063497619722), (4055, 0.044484720764333255), (1902, 0.04447600370276313), (2480, 0.04446960803363356), (2403, 0.04445029167525918), (4433, 0.04443202070599562), (3804, 0.04440081739102331), (1369, 0.044400554164424885), (279, 0.04438725045097112), (4566, 0.04438096091446413), (861, 0.0443703382035423), (4559, 0.0443496783178696), (3997, 0.04433223741912932), (360, 0.04431654625925267), (2409, 0.04427818735959032), (238, 0.04425909207077077), (3438, 0.04425101134748414), (363, 0.04423607413753934), (2272, 0.04422397099748862), (814, 0.044222198747887506), (1221, 0.04421339507268842), (3057, 0.044146944103065085), (4310, 0.04414147807029449), (4175, 0.044137473975931193), (4676, 0.04410790622555139), (1427, 0.0440874357499607), (945, 0.04402819103632308), (269, 0.044025937597588785), (2492, 0.04402582486155076), (3736, 0.044010859991253044), (65, 0.044009416746836776), (921, 0.04400553565935584), (1648, 0.04397347262416364), (4150, 0.04394369542539733), (3667, 0.04393686770158217), (1861, 0.043935755914586594), (618, 0.043922324040332354), (1438, 0.043921213164896944), (379, 0.04390253564877597), (3797, 0.04388956588978338), (4429, 0.043888325368606575), (3436, 0.04387567168319378), (1508, 0.043866450833741626), (3281, 0.043860674125590186), (2358, 0.04383950818177222), (1715, 0.04378757175841004), (3349, 0.04376099714948538), (3531, 0.04376006740691684), (2148, 0.04373641085457565), (3122, 0.043724973273173894), (170, 0.04370445533492655), (3556, 0.04367617436005746), (2122, 0.043660661155148626), (3792, 0.0436469585315101), (2912, 0.0436290786357567), (156, 0.043600917055887194), (978, 0.04359957106729696), (3940, 0.043597790061889984), (4010, 0.043596139137731846), (3423, 0.04359609925913723), (2580, 0.0435792817715046), (4347, 0.04357834754436646), (2063, 0.04356931062913134), (3572, 0.043513107674180776), (2475, 0.0434890377681325), (3149, 0.04348845214325039), (2579, 0.04348397339895591), (1543, 0.04347609429075462), (3269, 0.04345643512589548), (1341, 0.04343389897080841), (4518, 0.043430476710730706), (1059, 0.043419202905810333), (825, 0.04341492515991631), (4049, 0.04341271481631461), (2534, 0.04340297413830964), (3185, 0.04340264519376363), (3294, 0.04339598365036442), (317, 0.04338923102034961), (1236, 0.043374820163029626), (1821, 0.04336475196442756), (718, 0.043361624229987995), (2219, 0.04332834776123869), (3220, 0.04332811381743595), (3777, 0.043313803304686434), (1933, 0.043309030560604395), (1499, 0.0432598285894628), (3187, 0.04323781232413582), (116, 0.04322660400247231), (2491, 0.043217145556627014), (2793, 0.043193417985357654), (519, 0.04318259095838101), (1701, 0.043174396232875556), (1372, 0.04316421595298553), (3977, 0.043148715976750816), (2487, 0.04314300778998977), (15, 0.04313871914177509), (2910, 0.04313789477607604), (3180, 0.043137425391579484), (1774, 0.04313712167151978), (3117, 0.043132912546020474), (2401, 0.04312782745033447), (624, 0.04312393363633395), (3453, 0.0431077470033992), (1694, 0.043106191379120806), (3520, 0.0430976772513765), (3888, 0.04309642226029454), (2417, 0.043026017534625975), (1540, 0.043023126738136436), (4031, 0.04302075561030578), (37, 0.04298046595282623), (2589, 0.04297063405780304), (2914, 0.04296718706656776), (1358, 0.04292307313406753), (1093, 0.04290125450280524), (3491, 0.04288600116848676), (2362, 0.042846996989261366), (4000, 0.042841183924765144), (3467, 0.042817391185774115), (3027, 0.04281714018580129), (2292, 0.04280929376747009), (2740, 0.042800550803128966), (2086, 0.04279659759838831), (1374, 0.04278432699887614), (1060, 0.04278233940791997), (381, 0.04277396423360266), (3993, 0.04276038675661243), (3606, 0.04275851972560073), (2298, 0.042738006098538936), (1519, 0.042724708197001075), (4398, 0.04271762390629954), (3511, 0.04271421518856896), (4233, 0.04269861617887815), (1323, 0.042691006850625796), (3231, 0.04266986346439981), (3709, 0.04263639396305946), (629, 0.04262013318500772), (1396, 0.04261829142004211), (2185, 0.042601017460661986), (2597, 0.0425520393417789), (2529, 0.04253551711732021), (784, 0.04252843475288536), (2209, 0.04247042852535997), (1030, 0.04246411309953311), (2048, 0.042447648042243935), (1623, 0.042445317395204046), (4283, 0.04242220163506713), (3741, 0.04241542161939347), (2008, 0.042408848034245335), (651, 0.04240516333180673), (224, 0.04239834779198112), (4331, 0.04238205640434273), (3344, 0.042378299079601195), (4487, 0.042376407860790756), (1880, 0.04236756035201716), (188, 0.042343362155452334), (3890, 0.04233115281735431), (2663, 0.04232018246486229), (3182, 0.04227652537656462), (157, 0.04227454495616159), (2726, 0.042244580659892624), (2683, 0.04224038519203173), (2697, 0.04221086598980266), (1393, 0.042184338745787586), (1431, 0.042160045020421005), (3794, 0.04215648316358549), (4381, 0.04215372586736154), (2711, 0.042142556105259334), (2562, 0.04214132977664432), (3717, 0.04212867176215006), (4435, 0.04209723653530332), (175, 0.04208526514164576), (4379, 0.04201951911969663), (2828, 0.042004008458448046), (3091, 0.042002999896030464), (1901, 0.04199477128978981), (2304, 0.04197825295441106), (577, 0.041972595532781064), (1204, 0.041962315172742674), (2312, 0.04195359673990199), (1228, 0.04192544535629576), (4399, 0.041917895962566606), (2018, 0.04190922807947496), (263, 0.041891313124753374), (4269, 0.04188500744333681), (2662, 0.041865984128162594), (1525, 0.0418622277219684), (1260, 0.0418607484283652), (1321, 0.041834648145622), (287, 0.041830382943925395), (3152, 0.041776256496781856), (3450, 0.041754439204604865), (3425, 0.04174858462865415), (4662, 0.04173926555316345), (1291, 0.04170281481539306), (3891, 0.04169700416976526), (4538, 0.04167706488138724), (286, 0.0416597171714593), (1817, 0.041651197241997166), (4511, 0.04163166252750096), (3065, 0.041615254781014736), (2073, 0.04157836697980938), (1555, 0.04157054726130406), (584, 0.04156071376011858), (1247, 0.04155094794040963), (122, 0.041525512935834695), (106, 0.041523364257651296), (4583, 0.04151933751466869), (3105, 0.04150894736447994), (1895, 0.04150167172216229), (295, 0.04150104201426867), (4027, 0.04149728930178021), (1727, 0.04149355157975828), (518, 0.041492551852096604), (3452, 0.04145535717785947), (3519, 0.0414221635637529), (1506, 0.04140628735849845), (3852, 0.04140275804521536), (1667, 0.04139816879395175), (4207, 0.04138546001090284), (1631, 0.04137415750218936), (1977, 0.04137279739754795), (1976, 0.0413639738349835), (3744, 0.041363207697042055), (412, 0.04135259290122808), (4512, 0.04134819962236144), (2501, 0.04133481356328175), (3841, 0.04133366244911934), (2520, 0.041322780889421276), (2561, 0.041304935361609355), (3979, 0.04128818832954243), (2646, 0.041282516776958975), (4725, 0.04125531623540621), (4093, 0.04123910604389965), (4551, 0.041231680473184734), (4383, 0.04122203886966691), (3142, 0.04122112837094607), (249, 0.04121831113820441), (1671, 0.04121552059003146), (2971, 0.04120945108343513), (3015, 0.04119886593555155), (3573, 0.04118740923465329), (2925, 0.04117834458576476), (4168, 0.04116527202863678), (2599, 0.041157089025908956), (281, 0.04115435861306484), (1004, 0.0411409563002744), (2642, 0.041133126962087325), (722, 0.04112502110368821), (3163, 0.041105554609408144), (1175, 0.041086782320561815), (1858, 0.04107934665514842), (191, 0.041070422901422377), (4451, 0.04105047329276318), (1412, 0.04103734438463598), (2078, 0.04102844620678119), (448, 0.04102412673406438), (527, 0.04102137682278982), (3229, 0.04098554834350004), (2026, 0.04098294067700855), (1778, 0.04096562151866325), (1529, 0.040925566992430024), (4163, 0.04092470734786808), (4153, 0.04091926510384215), (2650, 0.040901384031650084), (609, 0.04088662818682054), (162, 0.04087922085955824), (502, 0.04086232817784525), (3169, 0.040855839469464396), (3003, 0.04084437398821318), (1622, 0.04083774904685951), (1079, 0.040828667082276164), (2966, 0.04079927564027301), (578, 0.04076785436302823), (2867, 0.040759856277432144), (888, 0.04072544243843961), (3071, 0.0407051545733152), (2239, 0.040687496603338674), (804, 0.04067846388802297), (483, 0.04067480750143665), (2928, 0.04066356621633177), (1629, 0.04066095262454095), (3081, 0.04065599256092124), (3217, 0.04060883683765417), (1474, 0.04060694804450061), (1187, 0.04059088722383331), (3170, 0.04058004013580701), (4397, 0.0405767555549873), (1964, 0.040561038766262984), (4022, 0.04055311016517473), (2367, 0.04052287722330623), (2201, 0.04051883382866533), (1722, 0.04051455132277191), (399, 0.04050471949908474), (143, 0.040504677876632596), (4735, 0.040472110270030545), (260, 0.040435633223035033), (10, 0.040435038736413936), (2313, 0.04041094803530231), (303, 0.040386074629208554), (2352, 0.04034761915695293), (3371, 0.04033087499209162), (1840, 0.0403210097070222), (2780, 0.04029647518223704), (204, 0.0402913222353864), (1344, 0.040285039714386676), (4640, 0.04028391941636046), (1985, 0.0402756178416324), (1370, 0.04025822695937991), (198, 0.040246581118988566), (4444, 0.040228378382236384), (2978, 0.040213387234013596), (59, 0.04020920967415605), (388, 0.040205161056126815), (4477, 0.04019666809137291), (103, 0.04018131046376494), (3875, 0.04017487935701212), (4450, 0.0401651441165788), (337, 0.04015080359726592), (3681, 0.04015056933057012), (3014, 0.040150128623686054), (3561, 0.04014973960783015), (758, 0.040144459550520206), (2226, 0.04013850819410722), (3140, 0.040115480832896705), (3651, 0.04011254679477688), (1279, 0.0400752377388587), (1996, 0.04007269696213055), (3427, 0.04007073838728554), (3731, 0.04006137482980818), (4412, 0.04004417188273129), (3268, 0.039997726182159445), (4585, 0.03996837898134385), (4731, 0.03996637117292462), (1770, 0.03995986973632392), (1193, 0.03992959993777652), (1080, 0.03992688497322501), (2799, 0.03992273257128351), (2410, 0.03990121297530374), (2281, 0.0398976446577041), (4138, 0.039875363306828), (2102, 0.03986739359155776), (4085, 0.039855650697125496), (3802, 0.039836720749581354), (2499, 0.03980148586365696), (1241, 0.039797136080556086), (226, 0.039793685401728236), (136, 0.03979343913631405), (4475, 0.03977725079689305), (84, 0.039729240999951954), (3711, 0.03970325934941571), (4051, 0.03967455266815278), (918, 0.039664740090803306), (3103, 0.0396434704492229), (4758, 0.03962023329104425), (2044, 0.03960784161313774), (4142, 0.039600978575305396), (251, 0.03959406556635613), (3328, 0.039586321161832166), (2240, 0.0395849505803284), (3795, 0.03956922429680096), (2882, 0.03956802435785626), (193, 0.03955710773028495), (1536, 0.03955087087404319), (697, 0.039509733544431706), (56, 0.03949040708725071), (2959, 0.039481648619311735), (2889, 0.039462137468055325), (4060, 0.03942736287375896), (1515, 0.039424519870084315), (3213, 0.039413184825613914), (2738, 0.03940687260365288), (2997, 0.03935828417508798), (2582, 0.03934813707126511), (1102, 0.0393362639218016), (1087, 0.039334006649301506), (1841, 0.03933148875668485), (2681, 0.039330102372651), (2794, 0.03931530907019381), (3966, 0.03930604338885268), (4586, 0.03928518729616202), (3043, 0.03927222656620935), (3120, 0.039271111106133016), (2737, 0.03926774341555397), (1657, 0.039255398029173036), (3129, 0.03921840561670059), (1951, 0.03921229925175631), (4014, 0.039192653287239136), (1305, 0.03918373772853853), (2494, 0.039177513444476314), (3829, 0.039175502231751015), (4651, 0.0391742761160937), (3600, 0.039166859525739034), (3773, 0.03914448694265158), (4363, 0.039134381419319506), (4340, 0.03908662757993152), (3362, 0.03908174450645907), (453, 0.039081199935382074), (1551, 0.03907325801782279), (1621, 0.03904394836020313), (1842, 0.0390339431654351), (3176, 0.03901886179319391), (4224, 0.03901326588948038), (2896, 0.03898966188096609), (1283, 0.0389842920196704), (3506, 0.038971202080198275), (3639, 0.03896557214793697), (2407, 0.03896473071392487), (2045, 0.03895795925721215), (2849, 0.038954573327235134), (2142, 0.03893258854338899), (2117, 0.03891571530502269), (1565, 0.038895294777975944), (2901, 0.03889495970769608), (2319, 0.038889348277302394), (0, 0.038886864455643794), (1992, 0.038878712783076995), (1493, 0.03887213120139685), (2037, 0.038865794263691064), (1304, 0.03885705122065949), (3926, 0.03882487422851026), (3964, 0.03882457334765944), (947, 0.03882237021210184), (1757, 0.0388193598183133), (73, 0.038814500324329496), (373, 0.03879373380035538), (3759, 0.038791134468867346), (4554, 0.03877389246398697), (3746, 0.038748262444262126), (944, 0.03873519760681783), (3867, 0.03871318597958659), (427, 0.03870851983870695), (915, 0.03870736393074412), (638, 0.03868754090255613), (2610, 0.038683992276746834), (3353, 0.03868052613605343), (171, 0.038649382023951), (4441, 0.03864799787904227), (4039, 0.03864262614200732), (2693, 0.038641740585452826), (1884, 0.03863536164784785), (2745, 0.03862992862401316), (3162, 0.03862260954162856), (730, 0.038619625107600114), (3489, 0.038603171927978526), (1844, 0.038594822629062914), (20, 0.038574235566113065), (2389, 0.038563781960657455), (4588, 0.03854633233323672), (4286, 0.03854221046760735), (178, 0.03854033905194402), (395, 0.03853180294862861), (1502, 0.038510348324523304), (2158, 0.03850763311298349), (2181, 0.038497411920945676), (107, 0.03849722222052955), (4034, 0.038478210011434026), (2669, 0.03847650555023082), (4362, 0.03844620481036982), (3361, 0.03843608107074639), (2191, 0.03842662353878872), (465, 0.03841414459505551), (1118, 0.03840001504203348), (4013, 0.03839171296344602), (3970, 0.03839109694651411), (326, 0.038365029975601525), (1449, 0.03834043900131615), (977, 0.0383360851787816), (3306, 0.03832288450844863), (842, 0.03831067151516896), (585, 0.03830562141188934), (3621, 0.03828029806237824), (559, 0.03826841302323647), (1309, 0.03825906373088159), (2614, 0.03825366042876193), (2805, 0.03824566546789687), (468, 0.038232430168802095), (1644, 0.038230346482380086), (2512, 0.03817670003847388), (2320, 0.03815133530263961), (2435, 0.03814268648361933), (1439, 0.038107708364572904), (2466, 0.03810239811684093), (338, 0.03809071576072134), (3174, 0.038071292331558794), (2718, 0.03805283342134763), (3311, 0.038051977778111874), (2939, 0.03804136766794023), (1386, 0.03803779417101166), (4056, 0.03800841730608375), (963, 0.037991035832538766), (2027, 0.037961689351633326), (4206, 0.037961448537559825), (1994, 0.03795305854841612), (2082, 0.037945499543924704), (3514, 0.03791067127851471), (3442, 0.03789301581498661), (2752, 0.03787204877884982), (362, 0.037861783436489015), (2236, 0.03785728300968196), (2331, 0.03785076460002024), (1121, 0.03784982474345474), (130, 0.03783832475823396), (2009, 0.037836318793706), (4303, 0.037834361224416364), (3397, 0.03782604441453629), (3704, 0.03782080335231587), (1738, 0.0378054863010685), (4558, 0.037792194960558856), (3665, 0.03778358298638206), (800, 0.03778279476153263), (3751, 0.03778071567976129), (3392, 0.03777564856506039), (3234, 0.03777220632384167), (440, 0.037714731401185725), (2666, 0.03770678724966697), (2517, 0.03769560152446245), (3203, 0.037647124076862555), (590, 0.037605826965685235), (3313, 0.03757456391595087), (1308, 0.03757263164196727), (2171, 0.03756871784524868), (3885, 0.037555393867001616), (365, 0.03754956519682464), (408, 0.03753494319155698), (1856, 0.0374892899726166), (3355, 0.037480792262000386), (4277, 0.037469546869531536), (2679, 0.037428810206942796), (177, 0.03740941181041689), (4502, 0.03739996801411615), (3398, 0.037397742076963024), (4123, 0.037363647031887076), (2338, 0.037352012942696064), (716, 0.03734923664109608), (2072, 0.03734130747136693), (3562, 0.037329533893558205), (439, 0.03732425207102983), (1207, 0.03732019948117741), (3578, 0.03730365098392804), (2893, 0.03728421671538759), (4236, 0.037279100360551404), (4664, 0.03727665879700722), (4456, 0.037270007086071553), (3584, 0.037259288749246604), (763, 0.037257567028925444), (4009, 0.037247959832123236), (186, 0.03723297593515945), (1733, 0.03723055775254905), (4608, 0.03721909136922315), (2388, 0.037215822773195587), (2484, 0.037185460381651006), (689, 0.03715818028570137), (70, 0.03714518150649537), (1511, 0.03712332488362315), (5, 0.03712325485012161), (8, 0.03712317204125272), (1693, 0.03712130414268871), (3752, 0.037099252192308564), (3304, 0.0370962547100246), (827, 0.037087206026909514), (3839, 0.03704456251732236), (4741, 0.03703761206031319), (3221, 0.03703131333691778), (1795, 0.03702610096601868), (1387, 0.03702561866680687), (2374, 0.037016799630891696), (1021, 0.03701196768751616), (1870, 0.03701021896522823), (2963, 0.03700606570770377), (2427, 0.03700279403043575), (1117, 0.036993802768265555), (3631, 0.03699088998215087), (2918, 0.036988271485657476), (3806, 0.036978853367020434), (2353, 0.03696157370270488), (2173, 0.03693831728383971), (2802, 0.03693540571140756), (91, 0.036932838834796144), (1661, 0.03693137294548142), (1392, 0.03691067010210278), (375, 0.036897732524246184), (3138, 0.036889507726045864), (4727, 0.03687012553747568), (400, 0.03686524789504459), (1530, 0.03685706453910516), (4100, 0.036848365689857374), (1836, 0.0368481732019346), (550, 0.036841383093506014), (4195, 0.036831890788151384), (1116, 0.03682444690576062), (955, 0.03682293684787395), (2880, 0.036822422244511335), (2568, 0.03681313203324244), (3153, 0.03680363970469123), (1433, 0.03676761975443203), (2660, 0.03676367997923323), (4326, 0.036760938415869276), (1912, 0.03674428301313052), (3285, 0.036736536669425356), (3739, 0.03672421142985348), (4351, 0.03671802861980014), (268, 0.036715372037010766), (817, 0.036682484043121036), (2729, 0.03664195950660887), (4089, 0.03663209589167255), (673, 0.03663056264770489), (3204, 0.036626796223034365), (25, 0.036609761907665704), (4077, 0.036606980720205164), (2823, 0.03657529009779108), (2739, 0.03657315244522676), (1919, 0.03655692560302035), (2039, 0.036555237154918686), (4136, 0.036548820697881276), (4455, 0.036547311877383436), (1539, 0.036542987706135927), (2774, 0.036524658297077066), (3428, 0.036524165255012175), (2700, 0.03649436606338034), (2223, 0.03649182315537542), (1451, 0.036482912462683086), (1335, 0.036477703670264316), (4294, 0.03647427392852453), (614, 0.036466889493953), (1588, 0.03645250484385211), (3001, 0.03643889944984393), (1423, 0.03642967293112783), (3552, 0.03642650954383123), (3409, 0.036412603349451456), (2716, 0.036412579896417475), (3380, 0.03641238882268271), (4141, 0.03640182888413228), (2708, 0.03639204643696335), (1673, 0.036389266002690705), (3963, 0.03638779422035553), (3155, 0.036381937749324265), (1466, 0.036364749327752736), (219, 0.036343923768074125), (4387, 0.03634017720938171), (2184, 0.03633660222388833), (4602, 0.03633000177360052), (3767, 0.036298183000068755), (3628, 0.036296598521801254), (836, 0.036272306481619866), (4339, 0.03625094435885272), (799, 0.03622182670047289), (2667, 0.03622037123064513), (228, 0.03621707809356138), (4603, 0.036195570195629856), (1182, 0.036192944447837584), (2504, 0.03619173662874374), (708, 0.03618502807587503), (86, 0.036169030753315345), (4312, 0.036158391071411417), (4378, 0.036150426677423006), (1157, 0.036125340850481046), (3457, 0.036119195642139314), (4268, 0.0361102979749705), (90, 0.03609616206589619), (3434, 0.036068271581320525), (4103, 0.036064508912355395), (1430, 0.036051275166272066), (2549, 0.03605106676341911), (3275, 0.03603324150423073), (907, 0.03602706383569153), (4128, 0.03602424449169868), (2035, 0.03601304554793241), (600, 0.036005135756064524), (2992, 0.03599914808970915), (3980, 0.0359947794536944), (536, 0.035981228389775986), (2817, 0.0359775096814223), (3884, 0.03592077398981456), (4210, 0.03589917562093709), (792, 0.03589586669846349), (2908, 0.03588392271801877), (438, 0.03588020829922766), (1535, 0.03585783961130483), (2538, 0.03585417542576769), (1148, 0.03585339434453174), (2061, 0.035839718096581104), (1963, 0.035819794414069475), (3883, 0.0358180319466715), (1032, 0.03580900415260379), (2000, 0.035808117131637764), (3321, 0.03579870012531944), (4298, 0.0357962489730386), (3193, 0.03579413214582931), (39, 0.03574755207283341), (1456, 0.0357365770464541), (3872, 0.035711952197798255), (1970, 0.03568001730051724), (100, 0.03567202443979994), (2590, 0.03567074771865199), (3594, 0.03567039799154679), (3417, 0.035670300921450605), (1586, 0.03566529976012866), (3411, 0.03566043708163371), (3374, 0.035642234860922384), (4241, 0.03564111859765734), (4245, 0.03563342873962331), (94, 0.03563231242194945), (2394, 0.035618215736279796), (4440, 0.03561341714370145), (1650, 0.0356077802701827), (1485, 0.03559255930284096), (3382, 0.035561035309872854), (2781, 0.03555882638330184), (906, 0.03554138127435692), (952, 0.035536691301563894), (2024, 0.035535311816601266), (985, 0.03553121748183635), (2421, 0.03550390483780747), (635, 0.03549438703801837), (3058, 0.03549280553043907), (3583, 0.035486760788452636), (4595, 0.03548672357396057), (591, 0.0354791724202253), (2862, 0.03547063329614893), (4365, 0.03546851157871419), (1825, 0.03546797279697358), (3983, 0.03546601736929816), (4292, 0.035463539139293995), (4356, 0.03544974330941326), (4285, 0.035449663605188864), (1316, 0.035446162227145556), (4541, 0.03543918839608562), (3211, 0.03543604873127036), (2888, 0.03540881913281971), (3146, 0.0353940913474258), (1645, 0.03538715549084795), (990, 0.03536579302697731), (4431, 0.03536392054218018), (4296, 0.035348747175498935), (261, 0.035338355717991064), (3391, 0.03532935706367906), (2109, 0.03532734838248282), (1503, 0.03531442358063743), (1854, 0.03529719397098902), (413, 0.03529204308108246), (4388, 0.03528655434640105), (1828, 0.03528456719811006), (4327, 0.03528435809917007), (1702, 0.03526729167397411), (401, 0.035258581814404714), (3177, 0.03525715783625327), (234, 0.03525253410307891), (1760, 0.035248977222743276), (573, 0.035234913686124976), (1173, 0.03522583559889353), (2094, 0.0352178570242218), (2919, 0.0352070066920124), (975, 0.03520043204667205), (55, 0.035191271247097936), (3581, 0.03519078930561008), (3430, 0.03516051139135731), (3282, 0.03515430280224228), (4517, 0.03515390315937978), (284, 0.03514151439766904), (3850, 0.03511634131532237), (2088, 0.035096900325799145), (3131, 0.03509411028664477), (1871, 0.035089067163927866), (2694, 0.03507051599477603), (4270, 0.0350499611863557), (4313, 0.035041779502667215), (2836, 0.03503605722867131), (1579, 0.035034999047983566), (2259, 0.035032115542194674), (2550, 0.03502792213982111), (1785, 0.035025394405229025), (1317, 0.03501380878309279), (4757, 0.0350122868319609), (11, 0.03499473510128657), (121, 0.03498887947812742), (3046, 0.03498866955490342), (1974, 0.03497504599907602), (1037, 0.03495619849544815), (396, 0.03494674278629212), (1904, 0.03494113641572229), (2275, 0.03492968943604488), (2933, 0.03490773057364535), (2960, 0.034904255877436445), (3468, 0.0349003958597971), (426, 0.0348857915058569), (2961, 0.034882926584598954), (1346, 0.03487291298179517), (2869, 0.03483528598280556), (1640, 0.03482951424851015), (3995, 0.03482330335948893), (1534, 0.0348095184451611), (3078, 0.03479702515682593), (1845, 0.034786274414434076), (3243, 0.034784018616853554), (4472, 0.03476891129281153), (2797, 0.0347632342899996), (4366, 0.03476307574679019), (2003, 0.034752505096981495), (1872, 0.03475211372236702), (913, 0.03474308548706141), (3033, 0.03473496720388687), (253, 0.03473404991087677), (1796, 0.03473083620458064), (1542, 0.03472622228808456), (383, 0.034717748357244886), (4659, 0.034706344570757525), (3387, 0.034704812618286576), (3416, 0.034701464563943796), (903, 0.0346730910995953), (4621, 0.03463622756289958), (4519, 0.03462100040062712), (2626, 0.034611978663549585), (2138, 0.03461089755893095), (1201, 0.03459943129813995), (4314, 0.03459751593148198), (2230, 0.03458743391651108), (300, 0.03458288148162627), (1662, 0.0345798558234403), (2247, 0.03456243517905666), (3037, 0.03455606977125531), (2976, 0.034548859992803035), (3406, 0.03454231029742564), (1216, 0.03452361056197722), (4754, 0.03452286285955851), (2451, 0.03451591888506756), (1775, 0.03449628256483049), (330, 0.03447725270831324), (1496, 0.034474413291455466), (3173, 0.0344636759962374), (2192, 0.03445849101968348), (2573, 0.03444970765076592), (1941, 0.0344273009860104), (1681, 0.03442096909286252), (755, 0.03441566181976639), (3086, 0.03440543893657857), (2470, 0.03440377675578019), (2924, 0.034392352911995196), (2994, 0.03438818110761872), (500, 0.034383993481015694), (1081, 0.03437921232315595), (2689, 0.03436861469142122), (1289, 0.03435151791743577), (4104, 0.0343502939465052), (2129, 0.034337745586674115), (3715, 0.034336166393031116), (1295, 0.03433307714355247), (4144, 0.03433040772162091), (4048, 0.03431166792420196), (1443, 0.03430864503944636), (481, 0.03430581475591388), (869, 0.034302863914923834), (2557, 0.03428292362613872), (525, 0.03428268010505989), (1176, 0.03428178477709042), (473, 0.03427682760863225), (3130, 0.03427471523995597), (1397, 0.034274226424466335), (430, 0.034266353862622626), (2004, 0.03423805143442122), (3876, 0.034191653193331485), (4087, 0.034182017427868), (1972, 0.034179266187021974), (2944, 0.0341720922429944), (1868, 0.03416224899199577), (1612, 0.034146708393660456), (2288, 0.03414529081113918), (352, 0.03411189901478543), (3555, 0.03410756044741041), (2808, 0.03410166293997709), (4736, 0.03408679000907881), (2518, 0.03407017228494455), (1979, 0.03405762940423785), (2891, 0.03403048872777354), (3184, 0.03402675501158575), (928, 0.03401858326705976), (2938, 0.03401493987637712), (1105, 0.03400081667180809), (1528, 0.033982336690582794), (2263, 0.03395122634808117), (2053, 0.0339403502393056), (3803, 0.033927037009012145), (240, 0.03391647946318073), (834, 0.03391620106050874), (3726, 0.033909777478663035), (934, 0.033894198891006304), (2234, 0.033844604098121574), (3308, 0.033831017691032875), (700, 0.033825385174118955), (4222, 0.033823883699499076), (3529, 0.03380901453318576), (3942, 0.03380192609099496), (2687, 0.033772487622793876), (1522, 0.03376353819429375), (2816, 0.033748865344956566), (2189, 0.033741445737681064), (1910, 0.03373170257385376), (1670, 0.033729715085279416), (22, 0.03372676077258051), (3118, 0.03371964901773011), (2929, 0.03370890410906984), (405, 0.03370225721261634), (2546, 0.03369926362071202), (4318, 0.03369814951627239), (457, 0.03368858620202152), (3365, 0.03367496732786297), (979, 0.03367488694163295), (2818, 0.03362674346178214), (283, 0.03362332517203251), (2301, 0.03361723815815825), (2789, 0.03361636161293906), (2868, 0.033611929853667635), (3721, 0.033610597917494364), (1927, 0.033608580256531635), (1847, 0.03360475507569031), (512, 0.03360381376866767), (4329, 0.033594795267588226), (3607, 0.03358200954262057), (4618, 0.0335799696933787), (3443, 0.033560203714679535), (200, 0.03355009078018982), (4504, 0.03353963084002573), (4006, 0.03352455248076717), (3865, 0.03352110098858621), (3205, 0.03351810007567253), (291, 0.033498680494202605), (1306, 0.03349529018890763), (4189, 0.033493644988659636), (2010, 0.033491304708511874), (4513, 0.03348321396088597), (2020, 0.033482219403712814), (4721, 0.03347954373750228), (4155, 0.03347641872922774), (1634, 0.03346107664302168), (124, 0.033454635831586414), (189, 0.03345183507798841), (4555, 0.0334495181150057), (3431, 0.03342476184283712), (3284, 0.033403014397469726), (2213, 0.033399694404433106), (163, 0.03338015438712614), (99, 0.033373539269571), (717, 0.033369383264625754), (2262, 0.03336658416887451), (256, 0.03336356426091714), (821, 0.03334961536706077), (2351, 0.03334465997888551), (2106, 0.03333049156747192), (3780, 0.03330447497709415), (2690, 0.03330113557118763), (3658, 0.03329706928832399), (1266, 0.03329530151565214), (1264, 0.033292897090564336), (664, 0.03328723339833069), (822, 0.03328227299065616), (3652, 0.03327432694066197), (1281, 0.03327421392215449), (3838, 0.03322615548066789), (639, 0.03321246211737707), (2049, 0.03320482301942825), (4479, 0.033190993228153554), (3441, 0.03317670911104185), (3195, 0.03315235861884067), (146, 0.03314472141591165), (327, 0.03314247271032284), (3827, 0.03312762823108849), (1292, 0.03312234859071426), (4086, 0.03311438982063732), (2467, 0.033106299664750254), (1255, 0.03308588023302538), (3085, 0.03307299398198376), (2141, 0.03307029530670107), (2074, 0.03306952490815335), (4669, 0.033068484091655234), (221, 0.033065657693393445), (3202, 0.03306555666694391), (3448, 0.033063857860369125), (1758, 0.03305440769034161), (2302, 0.03303850984881773), (3407, 0.03303722465464651), (2577, 0.03302383333023916), (3377, 0.03300450284368444), (1000, 0.03298974542481258), (3822, 0.032975329984702186), (2156, 0.032972016867007334), (2824, 0.032971440834476534), (265, 0.032967112882017), (3533, 0.03296646568983722), (63, 0.032953835679494184), (2721, 0.03294386525242897), (1132, 0.03294178852268156), (2983, 0.03290469799219965), (2560, 0.03289627552354097), (3874, 0.03289457533754165), (1592, 0.032890467159085675), (2926, 0.032859057088194636), (4244, 0.03284677163577391), (3636, 0.03284437708937343), (4424, 0.032831181886792876), (2279, 0.032830670625697944), (4675, 0.032826376356153396), (1852, 0.03281078445923271), (1773, 0.03280590510595314), (4234, 0.03276372178615836), (1446, 0.03273945734278001), (3871, 0.03273857044485556), (1587, 0.03270299801666678), (2143, 0.032683128492797926), (2198, 0.032680588131625686), (4152, 0.032670567422766236), (984, 0.03264727472020532), (857, 0.03263393490110345), (1564, 0.03262090537989803), (3236, 0.03261700269241805), (3605, 0.03261199065998241), (2016, 0.032599323454846986), (3004, 0.03259920484935512), (2127, 0.03258626448981245), (2176, 0.03256614064899489), (4410, 0.03254565902244965), (1237, 0.032539782275629446), (452, 0.032536329613509274), (3289, 0.03253469769903211), (1918, 0.032530942355301205), (2634, 0.032524449345463544), (587, 0.032523602053782116), (3021, 0.03249040989211993), (3763, 0.032481275938344836), (353, 0.03248048207263328), (1251, 0.03245810011760068), (3045, 0.03245710133035436), (2097, 0.032445019307166235), (940, 0.03243054764838656), (3481, 0.032426639303720195), (2128, 0.03242644338384274), (2170, 0.03241533083185958), (459, 0.032415131897375285), (1882, 0.03239978399872981), (1678, 0.03239763198864634), (307, 0.03239364075634677), (3424, 0.032373980175312886), (1010, 0.03234782602417631), (656, 0.03234314276685477), (168, 0.03232470609188821), (1099, 0.03231184909504817), (1610, 0.03230177255732363), (729, 0.032289393466173225), (2887, 0.0322873323809222), (4299, 0.03228508380347767), (355, 0.032281307239771885), (1445, 0.03227221399722998), (3320, 0.032269734709406556), (2635, 0.032263870652723174), (2021, 0.03224883665171684), (871, 0.032248172040201376), (376, 0.032241419725004564), (2368, 0.03223651373505263), (3092, 0.03222503206792873), (796, 0.03221918045689948), (2245, 0.032216218560556016), (2166, 0.03220209252744017), (1061, 0.03218904950115856), (1355, 0.032188221480917927), (1101, 0.032184838483702335), (69, 0.03218204987286528), (4306, 0.032177557417794336), (3011, 0.032166475311659184), (1001, 0.03216261304244848), (3932, 0.03210427376588393), (2183, 0.03210378567457357), (620, 0.03207285202045012), (4342, 0.032072519316679676), (1568, 0.03206583332000332), (1613, 0.032057075700267335), (4193, 0.032046409832267676), (3166, 0.03202531062389474), (3666, 0.03202055707408457), (428, 0.03201536049677309), (2116, 0.032014763551664153), (2640, 0.03201249615973109), (4075, 0.03199613632251767), (2124, 0.031993532082577575), (3886, 0.03199192303513996), (2432, 0.03198591700069099), (131, 0.03198434700011998), (3250, 0.03197239175902589), (1307, 0.03197005723553873), (3401, 0.03195694747003737), (2668, 0.03195468021273846), (1143, 0.03192153104421456), (3653, 0.031903499500496015), (2832, 0.031888524600636785), (4439, 0.03187953074912234), (3433, 0.031870574587509234), (868, 0.03186553538483258), (4165, 0.0318637441604388), (154, 0.031856364409446856), (1830, 0.031851633648731795), (3104, 0.03184595132698661), (3778, 0.03184320020495822), (2623, 0.03183368629082248), (1808, 0.03182717754586858), (2671, 0.031819761669956814), (4212, 0.03181607477347786), (3532, 0.03180936009170373), (723, 0.0317963020756946), (294, 0.03179385856153302), (521, 0.031791177445988986), (2216, 0.03176750793291806), (216, 0.031760958944334845), (1597, 0.03176082612562931), (1208, 0.031733612923282695), (3523, 0.03172925243392657), (152, 0.03172528942546899), (299, 0.031723140637480315), (2751, 0.031695879810038394), (250, 0.031693246275251004), (2071, 0.03168936770210079), (3390, 0.03168916160648941), (2101, 0.03168333121810303), (3038, 0.03168299863467723), (4590, 0.03168069014230427), (2655, 0.03167935904008587), (3262, 0.03167506959466711), (2426, 0.03164752454230731), (971, 0.03162720541913103), (2851, 0.03161566822411344), (4194, 0.03158070642223354), (325, 0.031573535776063526), (2691, 0.031556608571165934), (4622, 0.031552025838501044), (3679, 0.03153528754223439), (654, 0.03151983742344866), (2011, 0.03150955537902046), (2841, 0.0315061502531522), (1855, 0.03150196418462761), (4495, 0.03150055883095437), (1385, 0.03149419686028254), (632, 0.031478656356405746), (1739, 0.0314493391397248), (4609, 0.03143876599664523), (1651, 0.0314232228115085), (4452, 0.03138093383035631), (4597, 0.03136913237347742), (3526, 0.03136894928102111), (3974, 0.0313523603272659), (703, 0.031349681671800536), (1348, 0.0313327247732707), (3242, 0.031328066866760484), (1798, 0.03132512249216967), (4073, 0.03130705495789505), (2042, 0.031290347591171594), (2207, 0.031278270542784474), (3716, 0.031264130559254984), (2402, 0.031263748151551134), (1035, 0.031246348548515962), (973, 0.031242984936990972), (1935, 0.031240380033769923), (3554, 0.031196573318986193), (3359, 0.03119084915744276), (1057, 0.03118720715061928), (3688, 0.031176261603978597), (2316, 0.03117199154643757), (3560, 0.031165046084386323), (595, 0.03115980622036894), (699, 0.031149863823660886), (1107, 0.031139387964048457), (1008, 0.031134307365198732), (1120, 0.03112354874803999), (1058, 0.03111336257448925), (1946, 0.03111117439195487), (702, 0.031091973963700198), (691, 0.031083408297935926), (3074, 0.031080760712992005), (1432, 0.031059901898794685), (169, 0.03103657259376753), (4004, 0.031026289177970966), (2269, 0.031016566551875853), (4414, 0.0310081877699317), (2296, 0.031003000425094605), (2260, 0.03099580323003306), (1873, 0.030990622202812075), (2771, 0.030979914379675063), (3627, 0.030973977763185043), (2205, 0.030972972337040987), (3141, 0.030972365931540687), (1788, 0.030953905188763644), (3659, 0.030953526877936594), (684, 0.030948144108579566), (1523, 0.030926699540020385), (1991, 0.030917948033934706), (4032, 0.030911385312040254), (3697, 0.030897440840159773), (4647, 0.03087381638212206), (3405, 0.030862839400914017), (3834, 0.030861575583644874), (2535, 0.030860200271040895), (4346, 0.030855203155209582), (3226, 0.03085481288537591), (3447, 0.0308360602042635), (2195, 0.03081752917420989), (4021, 0.030814977386166353), (3953, 0.03080107023220443), (3402, 0.030797996669058043), (823, 0.030792358457851735), (30, 0.0307773917682751), (645, 0.03077217497181811), (3927, 0.030766671600108556), (579, 0.03075898971954255), (3547, 0.030756436523843664), (4755, 0.03075584995290211), (601, 0.030740188878985057), (311, 0.030737811284263096), (626, 0.03072694402733278), (3160, 0.030718650071866072), (3893, 0.0307182859316933), (3475, 0.03069754382846744), (2007, 0.030690360232751398), (832, 0.030660695519623693), (3814, 0.030648628601032894), (4037, 0.03063917190138813), (3593, 0.030633987442574877), (3225, 0.030631485666666226), (1124, 0.030617381559630376), (4628, 0.030616961274376246), (1467, 0.030614013365162774), (904, 0.03060870161963539), (139, 0.030601403933585812), (3747, 0.030601183954342106), (108, 0.030601022795697225), (129, 0.030587758912479543), (2569, 0.030567681556043516), (4625, 0.03055591181558765), (2406, 0.03054215810320483), (1457, 0.03054161616312452), (1408, 0.030537423553283555), (1749, 0.03052675207396044), (4632, 0.030510223988663734), (2493, 0.030503870564789707), (4005, 0.030494179033773883), (4458, 0.03048604438022672), (2488, 0.03044772574483075), (2318, 0.030445970664007595), (923, 0.030444391747826184), (3941, 0.0304267948486161), (28, 0.030418765171572396), (1229, 0.03039813257002829), (2796, 0.03039714657910715), (2990, 0.030385738887132967), (4402, 0.030376651388814704), (3750, 0.03037120276555772), (1381, 0.030370087405556655), (38, 0.03036210858705766), (3054, 0.03034889959319651), (560, 0.03033822590462828), (843, 0.030335329474492335), (3650, 0.030329934555703916), (236, 0.030320157684157432), (2733, 0.030303950492712978), (491, 0.03027127691139975), (2652, 0.030253630219952844), (3258, 0.03023157983994353), (2271, 0.030214207916180794), (87, 0.030201592061180966), (498, 0.030163662543069437), (1160, 0.030162501809902716), (2741, 0.030151777068184102), (2680, 0.030143959485564885), (672, 0.030137897120576133), (4230, 0.030129708633902807), (3445, 0.03011782028488502), (3924, 0.03010585333754891), (894, 0.030096796547515153), (3437, 0.030064836479316508), (2863, 0.03005624310020365), (4007, 0.03005328739910413), (962, 0.03005102021223284), (4249, 0.030042141334903995), (3757, 0.030038228333849375), (2294, 0.0300381754759636), (3047, 0.0300324038252023), (2418, 0.030031688588398452), (2175, 0.030015848792705992), (3340, 0.030012485986463035), (2043, 0.030003243136525207), (3771, 0.02999212163796594), (782, 0.029980026578460904), (4606, 0.029958192353504276), (1616, 0.029954997380260036), (2308, 0.029935162207262098), (2894, 0.029934048256776855), (1425, 0.029911712073174154), (3643, 0.029907523136481127), (2290, 0.029906324635750308), (1069, 0.029902308520493713), (2734, 0.02989421876623089), (2164, 0.029889010543301557), (1690, 0.029888337055348525), (4192, 0.029884211595644132), (1819, 0.02988079506308449), (2975, 0.029859925049089443), (2212, 0.02985631331409452), (2136, 0.029848005911292948), (1952, 0.02984734163283353), (1746, 0.029830103671226942), (4461, 0.029821582200514354), (1877, 0.029812211513711332), (1464, 0.02980297052832678), (1864, 0.029769038320696873), (4641, 0.029725897670140205), (2909, 0.029708961263007937), (2433, 0.029689909856643208), (4275, 0.029684281618147946), (3111, 0.029671497241164003), (1380, 0.029661789933314725), (2879, 0.0296615917902837), (6, 0.029650885178668204), (3786, 0.029644866439340518), (4248, 0.02962654388376718), (1668, 0.029623327945083204), (2203, 0.029622515396442305), (1730, 0.029616072424278137), (2457, 0.029614116406247924), (1022, 0.029602515427560233), (3923, 0.02959477049106585), (4020, 0.029575265774597084), (4273, 0.029552377182275543), (687, 0.029546584586050095), (2647, 0.029535913892000453), (2825, 0.029525065112351073), (3788, 0.02952048828049395), (3646, 0.029520484015597134), (485, 0.0295132887966835), (480, 0.029501324886101896), (4120, 0.029495072984146997), (3150, 0.02948275331855945), (4732, 0.029476429624428774), (3093, 0.029468658421533178), (812, 0.029466151518045755), (2672, 0.029459864849715117), (1729, 0.029459021553117942), (2639, 0.029458708924149094), (3097, 0.029456877988959507), (437, 0.029449366179420712), (2238, 0.029448319103981255), (1206, 0.029437707746472284), (2713, 0.029436516823009694), (2892, 0.02943060967202232), (1110, 0.02941658171343746), (1545, 0.029402310559151972), (2103, 0.029392508675745), (2092, 0.02938894096395471), (694, 0.02937676548606856), (2224, 0.029356253019597874), (3528, 0.029347121997406418), (1761, 0.02933790084341584), (3051, 0.029334392374008054), (531, 0.029331370004500673), (2852, 0.029329843668991204), (1413, 0.029320750069361502), (2563, 0.029319657734029045), (3215, 0.029305116704817568), (2528, 0.029272609228979635), (3765, 0.029262736005466635), (732, 0.029262605338761863), (1337, 0.029253431734845483), (3543, 0.02922805630496884), (495, 0.029225197859431104), (1459, 0.029209660335852074), (790, 0.029206780552942777), (1524, 0.02919792056342438), (2850, 0.029197705576167823), (454, 0.029181240530976676), (1784, 0.02917642688682651), (49, 0.029172329881845798), (3133, 0.029168293195217427), (561, 0.029159875212309637), (1017, 0.029157038716643588), (3907, 0.029131282609615818), (2476, 0.029127925934015107), (1984, 0.02912479852085102), (1807, 0.029123599862640518), (3894, 0.029121226692510375), (1492, 0.02911526149830533), (2954, 0.029109675970222983), (4264, 0.029092374688829102), (2157, 0.029080250596160297), (3459, 0.029067990318426582), (3147, 0.0290677635593231), (232, 0.029066305185269464), (442, 0.02904473947914737), (1065, 0.02903749498503551), (1950, 0.0290058900168553), (1862, 0.029005113772829026), (2521, 0.02900089160174194), (1695, 0.028994340047408015), (1214, 0.02898069297772919), (1805, 0.028979727824128425), (2015, 0.028977965205976154), (1242, 0.028953157460522634), (2811, 0.028952343745712966), (2075, 0.02892487706569681), (2916, 0.028923234725545085), (692, 0.028914952065762434), (2324, 0.02890706836925753), (1094, 0.028901941128650455), (1675, 0.028896525876993904), (995, 0.028886563565902953), (1261, 0.02887780123800879), (1969, 0.028863142080731995), (1846, 0.028845470652096063), (1993, 0.028844920284889185), (1122, 0.028814120634294893), (285, 0.02881057626211005), (910, 0.02880812000383867), (4345, 0.028788052889872632), (4180, 0.028784987013142572), (1189, 0.028782450489508157), (2447, 0.02877944677454599), (3535, 0.02876350392034806), (1350, 0.028761429095066973), (3134, 0.028753722360602283), (1458, 0.028750016468685347), (3735, 0.028734139311744716), (1966, 0.028732193761668103), (3465, 0.028691365432695955), (3439, 0.028650477593724303), (2208, 0.02864002339866867), (4645, 0.028631828073191437), (3486, 0.0286289386675467), (3059, 0.028617733097338123), (2622, 0.02861044796293306), (4714, 0.028608052225201085), (1398, 0.028591423861911026), (4614, 0.028577853633275346), (1329, 0.02857591056739157), (964, 0.028570673632306767), (306, 0.02856992320215485), (68, 0.02855865029562784), (1505, 0.02854835860826386), (1571, 0.028541828693751232), (3625, 0.028536167218246793), (1126, 0.028528297654105927), (4564, 0.028517095080790967), (420, 0.02851543571096535), (2030, 0.028514644156528834), (2384, 0.028512585846813935), (4290, 0.02850444001447435), (1552, 0.028504123516916637), (3492, 0.028495119294902668), (3663, 0.028476092810143076), (4167, 0.028439617745845785), (4373, 0.02843066575499138), (1285, 0.028398761955990705), (2246, 0.028387207120245703), (2763, 0.02838545264933249), (2732, 0.02838424311301937), (742, 0.028383746577289582), (860, 0.0283753524546629), (3990, 0.028372952686641677), (2699, 0.02836260375445641), (727, 0.028362226152642174), (4311, 0.028350186296400872), (1417, 0.028346136126651496), (1250, 0.028339446615336827), (1073, 0.02832253778021746), (2062, 0.028293161717143016), (358, 0.02828356551627298), (1428, 0.02827778766390211), (613, 0.028274723655419966), (2287, 0.02827367983531712), (1410, 0.028268188063548062), (1139, 0.028263442266182468), (2412, 0.028241352428712584), (3570, 0.0282349186377258), (1244, 0.028230497278670833), (297, 0.02823041120797557), (3175, 0.028222933038606502), (3785, 0.028221916123474126), (4338, 0.02820812410444473), (1997, 0.028202028961900386), (1580, 0.028198416256231987), (2707, 0.0281945910852674), (3464, 0.028176210282201537), (3624, 0.028168118545922428), (1926, 0.02815822044679565), (1014, 0.028151435196991554), (222, 0.028145283874085707), (2516, 0.028140882186675813), (4106, 0.02811852548398064), (1943, 0.028099182273006486), (4460, 0.028080672446746908), (4094, 0.028061218555105353), (532, 0.028059036155264942), (4262, 0.0280548826122459), (3233, 0.02805314495242086), (770, 0.02805010171661852), (777, 0.028044033229614556), (3367, 0.028042496210204954), (1717, 0.028033596802392598), (2756, 0.028020903613021144), (4480, 0.028020688635871715), (662, 0.028020270392469307), (1089, 0.028011859704920736), (1718, 0.028008494725625617), (1186, 0.02799061299441545), (2091, 0.027989286006485935), (1113, 0.027988097005662134), (568, 0.027987490464266965), (3868, 0.027982043042856897), (873, 0.02798020622801638), (3522, 0.02797141355649497), (3537, 0.027965283310287973), (807, 0.027964076242070444), (922, 0.02794920276914303), (4465, 0.02794606545208525), (3277, 0.027945895900982478), (321, 0.027941798796256283), (4003, 0.027939571385871623), (924, 0.027939275849169908), (3238, 0.027934712889659465), (4466, 0.027931750462540855), (2999, 0.02792566015653242), (1709, 0.027921679235559303), (647, 0.027906172480684402), (1925, 0.027899269471474593), (562, 0.027883828583600796), (4706, 0.027880529826318785), (165, 0.027872968440896366), (1487, 0.02786767160794131), (2372, 0.027862107810991753), (1441, 0.027848678714103542), (2731, 0.027843415490298618), (3287, 0.02784086558662056), (2945, 0.02783569648378415), (1050, 0.027835286245543232), (4281, 0.027810833794982774), (494, 0.027804810674778982), (2422, 0.027791765946933097), (1310, 0.027789438573796368), (1618, 0.02778653412244692), (3610, 0.027778156629533854), (3109, 0.027775191914542977), (4203, 0.027773549000459), (3945, 0.027764841039364583), (476, 0.027740920295179015), (4630, 0.02773414340381683), (266, 0.027731103367755305), (1163, 0.027727055549057654), (3378, 0.027710814063519464), (2956, 0.027708150208425146), (1034, 0.027694452314242682), (3877, 0.027692251304894996), (1149, 0.02769095313578257), (2719, 0.02768496554777714), (1518, 0.027675549397856564), (1367, 0.02767494176931399), (4057, 0.027653749183861116), (2531, 0.02764775305356173), (3316, 0.027647661674925914), (2977, 0.027635405611737503), (4670, 0.02763321648442289), (3592, 0.02762280138961427), (1077, 0.027608590789175883), (2784, 0.02759951215440029), (1816, 0.027596829252247344), (555, 0.027595545917671646), (1533, 0.02759516135381229), (2315, 0.027583518757358764), (199, 0.027577381204795276), (40, 0.02756623192208473), (2335, 0.02754675791931652), (1002, 0.027539927017162995), (3201, 0.02752573318768402), (1349, 0.027520859941341878), (1140, 0.027506135127385846), (2809, 0.02750523860610176), (819, 0.027504461164081673), (1780, 0.027498505733814807), (1558, 0.027488571204203532), (3461, 0.027481230554153076), (3191, 0.027477961230287017), (2121, 0.027472663359415308), (3973, 0.027467713652332047), (4355, 0.027453544384251006), (2079, 0.027452411602849638), (538, 0.027437799094499206), (3513, 0.02743670906947505), (52, 0.027435392357987927), (3493, 0.027430881917821975), (761, 0.027401361419285), (1174, 0.027394936779269952), (724, 0.027389613071343268), (2211, 0.027385617728097715), (2385, 0.02738360240188971), (4556, 0.027379627210431186), (4046, 0.02736448323774657), (1755, 0.027361517084119918), (714, 0.02735804642539994), (3394, 0.02735437688117364), (3458, 0.027353535677882127), (1490, 0.027334704765554198), (2095, 0.02733392414635322), (1742, 0.027296537971374144), (2150, 0.0272810948436772), (93, 0.027268865725871814), (686, 0.027255648431836532), (492, 0.027254590376328845), (4282, 0.027251110876559625), (4225, 0.027249049105129083), (3230, 0.027247767548280462), (387, 0.027241269471246485), (787, 0.027240073199237876), (247, 0.02723858832520351), (1491, 0.027230344718948783), (4082, 0.027220340219282314), (3575, 0.02721966993176176), (569, 0.027219087752927865), (1389, 0.02721459861393101), (2442, 0.027203611291667398), (1090, 0.02719870820277036), (2636, 0.027193303997871274), (4607, 0.027190711456012606), (2688, 0.02718645086788708), (4088, 0.027186298769805717), (2540, 0.02715950638686376), (616, 0.027156628982084065), (2874, 0.027156255220919957), (76, 0.02714851855339769), (21, 0.027129586648244643), (1416, 0.027127779150952797), (1137, 0.027126655888767868), (874, 0.027121787917644604), (3544, 0.02711256739305757), (4527, 0.02710939421622205), (2450, 0.02710075843671791), (1252, 0.027097061353605314), (144, 0.02708203775361275), (3569, 0.02706181174931063), (456, 0.027057355457914052), (1421, 0.027044108879324784), (2558, 0.02703925652636676), (1046, 0.027038840664688035), (3324, 0.02703542366872258), (4574, 0.02702933440272675), (3373, 0.02702659701332237), (2267, 0.027025530433484362), (1591, 0.027020415048502083), (2559, 0.027020184405709895), (3766, 0.027016024668900292), (728, 0.026997601078291997), (2932, 0.026983540698338734), (2935, 0.026980807804683107), (1956, 0.026975175501250104), (4636, 0.02697396105449003), (4615, 0.026973737712087043), (2485, 0.026972848919702457), (2241, 0.026970286536669143), (410, 0.026958430546674527), (1136, 0.026954654591166624), (3608, 0.02694824587530813), (3208, 0.026943413565160616), (605, 0.026942263690644078), (304, 0.026931075188768316), (4160, 0.02692688279884996), (1743, 0.026916612173525676), (1271, 0.0269138111426766), (4463, 0.0269047614606003), (4457, 0.02690436240634977), (1203, 0.026876425159417745), (432, 0.02685273266154032), (1426, 0.026834045229124862), (2749, 0.026829829960105994), (3668, 0.026828071609260134), (1711, 0.026809939692018028), (1296, 0.026804616793847977), (3899, 0.02679825070674563), (3758, 0.026786759291814222), (2028, 0.026783436837853034), (1725, 0.026779147494035347), (3206, 0.02677884596140234), (223, 0.026776010127465538), (3151, 0.02677295168938299), (4747, 0.026767890799315935), (153, 0.026759849278385952), (981, 0.02674938072133374), (2730, 0.026728122387374653), (2321, 0.026714835736277573), (301, 0.026710930557764367), (434, 0.02670398810220482), (1756, 0.026696785558427118), (2186, 0.026683644242644057), (3100, 0.026682139344452044), (1849, 0.026660703077192364), (390, 0.026660122418422406), (336, 0.026638999465682923), (520, 0.026635276929380884), (572, 0.026629775491405668), (753, 0.02662264058545252), (2515, 0.026620961707634595), (1971, 0.026602015981702896), (1180, 0.02659078553534426), (407, 0.026589253519266134), (2139, 0.02657497679294345), (900, 0.026573744025102493), (3259, 0.02657178764448404), (2225, 0.026571227049519017), (3686, 0.02656143018108791), (1294, 0.026559322844241735), (4678, 0.02655567629044444), (537, 0.026549243110794752), (1480, 0.02654799588059868), (4124, 0.026542499427143807), (4652, 0.02653433753844198), (1794, 0.026528631108755026), (3754, 0.026527357001623765), (4183, 0.026526785944968385), (1848, 0.026526004903773413), (180, 0.026521038755181373), (2792, 0.026508086772320874), (4038, 0.02650488045761012), (2270, 0.026504031954883243), (4415, 0.02649138700857677), (350, 0.0264901551932189), (2855, 0.02648821525177903), (3290, 0.026472790779019175), (773, 0.02646785008166748), (2232, 0.026462901840046613), (1599, 0.026461608373417007), (314, 0.026459244355612734), (418, 0.026451057939201758), (1453, 0.026444406752992724), (1159, 0.026427451374088046), (2178, 0.026420785009984852), (1401, 0.026414408215820133), (756, 0.026412982806165403), (26, 0.026408498711178813), (2989, 0.026400788287020128), (3719, 0.02639892195844494), (4493, 0.026390275820911403), (1301, 0.0263885362057058), (946, 0.026388321546519974), (462, 0.026387003787039058), (54, 0.02637432179385197), (677, 0.026362501527304176), (2066, 0.026361316165961303), (3484, 0.026356014550460587), (3068, 0.02634985806283006), (2870, 0.026335971102627323), (3959, 0.026323375890759993), (931, 0.026314390993130758), (2465, 0.026310713676048036), (4510, 0.02630715755523173), (2859, 0.026292715312096197), (3800, 0.026276213719302947), (4667, 0.02626756573165989), (1235, 0.026266541806204434), (726, 0.026261152251698627), (1200, 0.02625393687047145), (3847, 0.026248647750638964), (943, 0.02624629240441135), (1023, 0.026227878428417856), (4565, 0.026227212548587592), (3179, 0.026219002031745615), (911, 0.026217459189822573), (3525, 0.026217384616933646), (252, 0.026211591838330307), (4426, 0.026210678589178884), (2040, 0.026186545235294303), (866, 0.026186319714340992), (820, 0.026186109442242055), (2355, 0.026180286763699552), (608, 0.026175257364413347), (2013, 0.02616858786758772), (948, 0.026161313238252364), (1653, 0.026159359533729352), (4237, 0.026157496519905205), (4535, 0.026137102100980514), (775, 0.02613335726516411), (347, 0.026126597360528848), (1135, 0.02612503349129373), (976, 0.026108281173879654), (835, 0.02610657489802158), (2147, 0.026086774430300223), (863, 0.026073429085984506), (3016, 0.026069473243533238), (865, 0.026062938791563774), (1254, 0.026039156296238836), (592, 0.026035694231670247), (2873, 0.026025305544607438), (3331, 0.026018998511245055), (1404, 0.025999215739444772), (4097, 0.025994546303451566), (2575, 0.025993361837958712), (599, 0.025992576916378993), (501, 0.025990216447348592), (2305, 0.02598480941557468), (2703, 0.025979511552232683), (472, 0.025977230790577524), (4043, 0.02597558176833475), (343, 0.02597464366259591), (3028, 0.025967866245829103), (4589, 0.025961927795704113), (2187, 0.025960725377163842), (2133, 0.025948048351935274), (214, 0.025946264206421557), (1850, 0.025942835661767714), (1549, 0.02592511909187497), (3568, 0.02592349373855275), (2104, 0.025921860467533208), (3393, 0.025920074527271447), (1753, 0.02590853430491217), (725, 0.02590301262363298), (2285, 0.025900154681115388), (558, 0.02588921577498089), (2765, 0.025857849156213968), (2773, 0.02584726493826233), (919, 0.025845997506926125), (2670, 0.025844625346353328), (2483, 0.025838282684867212), (1248, 0.025837094765033687), (339, 0.025793708903672215), (1074, 0.02577088454763346), (2113, 0.025740070750437563), (3732, 0.02573852133036651), (4709, 0.025728928605201005), (3490, 0.025726355311183214), (2964, 0.025723346750320557), (2860, 0.02569282249013848), (4629, 0.025689970763753782), (3252, 0.02568699057421325), (288, 0.025686756351982306), (3702, 0.025680369475846673), (2343, 0.02565784729462726), (4216, 0.02564880248789016), (1686, 0.025647488936719084), (1276, 0.025631703734432295), (2449, 0.0256306913264736), (3590, 0.025621841621900114), (1489, 0.025618288903627193), (2220, 0.02560879936998299), (4532, 0.025601371363712586), (2479, 0.025597939936085473), (231, 0.025572852465998816), (1366, 0.025553754797406607), (386, 0.025549391482888), (2506, 0.025528020756311387), (2126, 0.025526766339638428), (780, 0.025525575527827776), (48, 0.02552421411133898), (706, 0.0255217745997877), (926, 0.025516331369463886), (2884, 0.02551622109583037), (2911, 0.025502965433348294), (810, 0.02548646747404957), (2084, 0.025476365447409572), (1371, 0.025475564479763502), (312, 0.025474102462390874), (1903, 0.025473895031484575), (1939, 0.025472300848191555), (1395, 0.025454322036002428), (3031, 0.025453515115636198), (1867, 0.025452760820045665), (529, 0.025442815892178942), (259, 0.02543464316611665), (92, 0.025427638631373078), (194, 0.025417844754229625), (1152, 0.0254120646759254), (2747, 0.02540226598064607), (1424, 0.025394930283788177), (409, 0.025392638121036697), (3063, 0.025388568522099867), (1874, 0.0253852606469359), (1448, 0.02538263733052854), (2548, 0.025364324079967877), (1164, 0.025348075603401934), (374, 0.025341206475323872), (2795, 0.025323681230132733), (1299, 0.025307242536638457), (704, 0.025286552725981737), (4592, 0.025252667587808173), (1556, 0.025252155693177236), (2574, 0.02524325353738302), (2776, 0.025242674769215732), (2779, 0.025226560014663148), (4533, 0.025212644955377988), (2661, 0.02519453524395405), (675, 0.025193028728957238), (3516, 0.025187259679871357), (3272, 0.025186824165101988), (4029, 0.025186076714656076), (160, 0.02517941019869558), (4469, 0.02517363336067055), (3260, 0.02517154692235985), (3090, 0.025163315617205743), (554, 0.0251544874417986), (4705, 0.025151976236311487), (2940, 0.025134005517215664), (2827, 0.02513007715592129), (2803, 0.025127330129029533), (458, 0.025122383889549002), (341, 0.025116501156505724), (436, 0.025116078556922623), (1328, 0.025110562420818803), (588, 0.02510645500892444), (264, 0.025102934799058927), (2973, 0.025102623048490924), (258, 0.025101814822486943), (4619, 0.02509511781006326), (1114, 0.025090918025982203), (1560, 0.025078258992561383), (3487, 0.025074400805647875), (1133, 0.02507245877053578), (4218, 0.02507016337448007), (4011, 0.025066540606920453), (1569, 0.025065787304958443), (1044, 0.02504538748465504), (4570, 0.02502122610756025), (3558, 0.025011649832224935), (2567, 0.025007878807191547), (4140, 0.025007212837685096), (1789, 0.024954964711633196), (710, 0.024953513343267328), (4576, 0.024953316269399495), (1447, 0.024922746901333993), (2807, 0.024907755935389714), (1999, 0.024898134052417992), (674, 0.024896969486421106), (3338, 0.024896431052437756), (141, 0.02489617688282318), (2615, 0.0248961313000768), (3403, 0.024887696915581903), (3576, 0.024886442214259973), (4162, 0.02487406954946492), (125, 0.024863707571764013), (166, 0.024856056842440355), (4598, 0.02484084473840848), (4648, 0.02482897077402668), (941, 0.024828178969709687), (1700, 0.0248191582424796), (2393, 0.024812407821550333), (3944, 0.024802002812179813), (58, 0.024798900554383867), (1633, 0.024790519093112917), (1130, 0.024789209053029143), (4611, 0.024779175322873277), (2736, 0.02477327107975551), (540, 0.024771245271488527), (1056, 0.02477006547873855), (4413, 0.024756381176776296), (1278, 0.024753151541121208), (4560, 0.02475169059649321), (4204, 0.024749226794779776), (3198, 0.02473858686542466), (3952, 0.024727206413348305), (4703, 0.02471250663980651), (760, 0.02471120466892168), (1679, 0.02471046217740554), (1435, 0.024702079344028453), (1818, 0.024700357841002628), (4681, 0.024679909980568553), (2489, 0.024674972201801388), (4569, 0.024673472739800882), (4071, 0.024673452602768504), (4756, 0.02466798392655619), (275, 0.02465670177126426), (1076, 0.02464093124985221), (1907, 0.024639368960297), (4454, 0.024638183062940414), (3675, 0.024629445236989102), (4584, 0.024627658661185173), (1400, 0.02461405496974433), (2363, 0.024612980578776495), (4394, 0.024612847815574792), (64, 0.024608791251848186), (1771, 0.024601292700002685), (4745, 0.024567165265505737), (2359, 0.02456091789122033), (3488, 0.024557071744083846), (318, 0.024546241951311124), (2712, 0.024532662619866932), (3614, 0.02452880247121408), (3143, 0.024522132097290896), (3013, 0.02451916186600119), (1219, 0.024516327735455253), (815, 0.024513829283605303), (225, 0.024500579958505415), (2105, 0.024500214557019843), (4596, 0.02449728841628654), (57, 0.024490439901689646), (335, 0.024490054891571612), (1804, 0.024486806302824755), (2578, 0.024478656174411376), (2872, 0.024475203740670887), (2344, 0.024469274786684123), (3115, 0.02445808599129728), (447, 0.0244575299881312), (2309, 0.02444596606681712), (3748, 0.024434021040373673), (768, 0.02442823370772727), (930, 0.024419312138176493), (4521, 0.024417217860589268), (1495, 0.024416548034176453), (4707, 0.024394052072853382), (3293, 0.024389767196297058), (2702, 0.024388120491549113), (1601, 0.024386973270460036), (2206, 0.02438591747039135), (4209, 0.024385552248200285), (478, 0.024382185462175486), (872, 0.02437853515773795), (3084, 0.02437590067989541), (3897, 0.02437229476266711), (3930, 0.024367056430391065), (1048, 0.024364307109697884), (991, 0.024359256685173847), (3280, 0.024359141861399387), (3017, 0.02433476146531173), (3330, 0.024324854641519816), (1728, 0.024302797126650122), (2146, 0.02429152905064124), (3618, 0.024287699184654673), (2547, 0.02427194302679898), (3541, 0.024261583988048886), (696, 0.02426052492181733), (4715, 0.024257299370180098), (1684, 0.024254818267208142), (3991, 0.02425070648256622), (3070, 0.024232864872482045), (3497, 0.024228061223386853), (44, 0.024222317558248427), (970, 0.024207637578708585), (357, 0.02420688993266987), (3645, 0.02416998659744519), (2758, 0.024161167881454355), (1857, 0.02414780081345768), (4197, 0.024143384271598192), (1096, 0.024121594582421354), (2972, 0.02411252801698447), (1272, 0.02409684534484742), (3960, 0.024090410662130905), (4694, 0.02407247489362049), (4649, 0.02407080420526487), (1747, 0.02406240793391636), (3022, 0.02405973083769351), (176, 0.024058359544347523), (3125, 0.02405021129869599), (989, 0.024040368267119125), (646, 0.024033655497394734), (2943, 0.024024525475334995), (516, 0.024023730557203273), (4740, 0.0240216218822916), (3633, 0.024020769306414752), (332, 0.02401964850262118), (958, 0.023997533958381542), (2137, 0.023992949236110193), (2387, 0.0239883274421225), (625, 0.023973570996721212), (3108, 0.023972874944555328), (4158, 0.023964740409956255), (679, 0.023961666400925997), (4302, 0.023919421650709035), (881, 0.023919358143158893), (936, 0.023915535950827776), (1257, 0.023914929072854856), (3194, 0.023914583189089487), (2099, 0.02389959223641177), (2587, 0.023893201794251834), (3586, 0.0238839583921761), (112, 0.023869653304523328), (3171, 0.023861429953586512), (2405, 0.023856967025561962), (3929, 0.023848246658768227), (3419, 0.023846551441594317), (830, 0.023845215823073553), (3994, 0.023838360462148597), (305, 0.023833550718367326), (1632, 0.02383135534998032), (4261, 0.023831072609448424), (1498, 0.023824464422858557), (2625, 0.023809772357394385), (3982, 0.023756739862817566), (3314, 0.023752453036542456), (2762, 0.023744982470811683), (2350, 0.02373807618998992), (3296, 0.02372805623110301), (12, 0.023727459920395634), (2951, 0.02372035926217157), (2571, 0.023711146860185817), (4319, 0.023705380263369682), (2034, 0.023701909127254214), (329, 0.023695214588762437), (1356, 0.023673604438757958), (3965, 0.02366610672625172), (3154, 0.023663149444301788), (1246, 0.023658478600482806), (2743, 0.023658371762901073), (220, 0.023655287273077998), (4305, 0.023654064561700036), (2848, 0.023647444169082356), (4438, 0.023642172893408354), (3524, 0.02363999880421981), (308, 0.02362413713007427), (739, 0.023619714459467343), (1865, 0.023614524600481555), (4467, 0.02360771783454593), (1762, 0.023601580885761406), (3969, 0.023583953635151977), (3903, 0.023583139859558202), (2278, 0.02358200953094673), (3949, 0.023559862646776685), (564, 0.023552510569542225), (659, 0.023552346166620962), (2968, 0.023550900769829717), (4723, 0.023530216069014977), (3579, 0.02351528640014932), (3383, 0.023514884877841057), (3958, 0.023514492146457167), (1361, 0.023511598941154392), (1608, 0.02350478288841323), (2566, 0.023496221879921945), (1055, 0.023483864686419356), (2838, 0.023478955479011607), (4102, 0.023474040574593125), (1656, 0.02346876739874309), (1765, 0.02345901937095947), (1039, 0.023432942980805557), (1833, 0.023424815910566395), (1210, 0.02341963272272575), (1614, 0.02340893964019953), (515, 0.023405487374426978), (3107, 0.023399442007795687), (2459, 0.02338118520186808), (1716, 0.02337979448379863), (1554, 0.023377857418175184), (1181, 0.023371140884361468), (1704, 0.023366047470781963), (3483, 0.023357108084380684), (1258, 0.02334462465676289), (4534, 0.02332744514684895), (3288, 0.023324211128429695), (1150, 0.02332266454068566), (3655, 0.023322325888065487), (1156, 0.023293979134981182), (3237, 0.023282736133058896), (839, 0.023257914291452873), (1866, 0.02324482225432513), (3069, 0.023243799308318026), (2572, 0.02323158553800507), (932, 0.02322910796524066), (3790, 0.023227374099056574), (4001, 0.02322617187138931), (3136, 0.023222542691118196), (1469, 0.023211513607463288), (2190, 0.023209286314311024), (1382, 0.023200453234729565), (4650, 0.023189318941140583), (2055, 0.023179567188080057), (33, 0.02317402975211834), (4107, 0.023166104579049888), (2993, 0.023156818302992422), (528, 0.02314707047262544), (1744, 0.02314575075805564), (4018, 0.02313462585833811), (1146, 0.023133949974928084), (2370, 0.023122690616962784), (1680, 0.02312186268130348), (1735, 0.02311008977741836), (2376, 0.023107820830297096), (2414, 0.0230986081204559), (174, 0.02309456817274556), (809, 0.023092877220069974), (417, 0.023092379642206572), (233, 0.023086603950541976), (2436, 0.02308233256871096), (3911, 0.023057771017609755), (203, 0.023041433570024434), (1783, 0.02303767771442585), (333, 0.023032366797299034), (2509, 0.023021143765688392), (2654, 0.023019509519894964), (2357, 0.022997459764587752), (35, 0.022995439577895422), (3415, 0.022995107682851817), (2120, 0.022993153859179914), (783, 0.022985355071675307), (111, 0.022979699006262292), (1066, 0.02296806374993942), (935, 0.022967725110691624), (3219, 0.022963804928833133), (650, 0.022961640053802943), (4341, 0.022952476629174007), (1510, 0.022947788323672128), (471, 0.022935569531954286), (1151, 0.022926443378366225), (994, 0.02292047406744072), (3286, 0.02290615005347674), (1205, 0.02288375002467543), (1320, 0.02288021517044527), (682, 0.02286635192693683), (3183, 0.022861835121209453), (1740, 0.02284334905610706), (3345, 0.022840704154801682), (778, 0.022838684919085677), (3322, 0.022835360419777465), (211, 0.022835343050677467), (1660, 0.0228352177317874), (2237, 0.022832841871011294), (380, 0.022823587022039682), (3622, 0.0228151365818283), (2551, 0.02280141674280244), (2786, 0.022798113724884602), (2539, 0.02279270370018331), (4377, 0.022791117051287512), (4220, 0.02279099158206665), (1801, 0.022779036903946427), (1384, 0.02277837698285974), (4188, 0.0227780379581225), (3384, 0.022772337948087643), (3580, 0.022760381245530103), (3126, 0.022757076343164147), (441, 0.022752825375174146), (3263, 0.022746632332932337), (3305, 0.02273412206724304), (1512, 0.02272553783164978), (3657, 0.022725097273991288), (1507, 0.02272168963121405), (2221, 0.02272037606815946), (3271, 0.02270507014726956), (2583, 0.022702306150848253), (2380, 0.02270109580983743), (3703, 0.022673140198501755), (109, 0.022666099787125915), (2419, 0.02266575655360106), (4386, 0.022659825144767293), (3637, 0.0226521369640592), (1724, 0.022640658861911394), (2617, 0.02263876038809248), (2890, 0.02263617647336604), (1333, 0.02263473243068277), (229, 0.02263091680484674), (1158, 0.02263085475532647), (4042, 0.022625060297524563), (660, 0.022622497877909754), (461, 0.022606164776148432), (3749, 0.022605024559821513), (404, 0.022604343874984056), (4684, 0.022604296927122448), (4002, 0.022600671104625172), (1945, 0.022600485259039432), (2134, 0.02260045187439596), (1594, 0.022582401262988917), (695, 0.02258156854494204), (2735, 0.02258075626957565), (14, 0.02257158720605903), (1063, 0.022571158658788375), (2643, 0.022566687088545662), (4738, 0.022564341938499065), (3517, 0.022545428927420324), (159, 0.022537658645582402), (3597, 0.022535307810467295), (929, 0.022530638938214224), (2847, 0.022523323594464083), (1928, 0.02251984874793071), (3740, 0.022516812207194856), (192, 0.02249987081582501), (3301, 0.022494125341962525), (4084, 0.022493474252007442), (422, 0.0224896861591289), (218, 0.022487916499241745), (3026, 0.022474377657968662), (611, 0.022454888329343933), (3503, 0.022450174592308313), (16, 0.02244215885004918), (4549, 0.02243910165540813), (992, 0.022438194940241407), (3426, 0.02243455087628522), (898, 0.022429872999416803), (290, 0.022426407924618707), (1978, 0.022425372970453817), (4263, 0.022424725857121915), (2724, 0.02242305838592715), (3006, 0.022409261054432177), (2297, 0.022398132085857655), (748, 0.022390828197820067), (4114, 0.02235578169302569), (3550, 0.022353060295342172), (158, 0.02234940742484888), (4353, 0.02232962115664274), (3727, 0.02231949371521143), (2323, 0.022318983225455693), (1769, 0.02231296687251032), (24, 0.022306098639961674), (2235, 0.022286196432064927), (582, 0.022272364143192606), (182, 0.02225546918016255), (2644, 0.022248125502711425), (324, 0.022246052160711426), (354, 0.02223731741859038), (1100, 0.02223555805424822), (2842, 0.0222283636718845), (2616, 0.022221356032169067), (3919, 0.02220595087248653), (1403, 0.022203497265968198), (1987, 0.02219312365190333), (4742, 0.022184346840595823), (3368, 0.02217558274399883), (2274, 0.0221618832005698), (411, 0.02216048516298749), (1781, 0.022143214844937836), (1455, 0.022137349435751158), (2381, 0.022135122175078577), (2678, 0.02212981508050632), (3089, 0.022125555245150183), (3227, 0.022098345563868617), (4308, 0.022092812857424572), (1696, 0.02209254627285517), (2777, 0.02207940209095233), (3817, 0.022071514199346127), (2218, 0.022064674367227838), (1314, 0.022047325020637117), (2453, 0.022044907460651967), (3860, 0.02204030857162814), (4223, 0.02203945274339563), (4639, 0.022029452421623054), (965, 0.022022044756009003), (2555, 0.022017525391065888), (423, 0.02201664753902896), (3350, 0.022005405911035298), (1230, 0.02200083374801931), (3546, 0.021991885279023658), (634, 0.021976787010857892), (4343, 0.021976517604599146), (917, 0.021970803279797512), (4637, 0.02196942095690549), (9, 0.02196662603118741), (4182, 0.021958252801338105), (29, 0.02193161783467915), (939, 0.021924414956738542), (2840, 0.02190891726640191), (2257, 0.02189534979131122), (533, 0.021891124543028884), (1442, 0.021890702276441368), (891, 0.02188557066342244), (4529, 0.021878680032908326), (4422, 0.021877172975506454), (3734, 0.021873711477787657), (4297, 0.02186323177947219), (2152, 0.02185848247544943), (2788, 0.02185010420500457), (4473, 0.0218411339008618), (1274, 0.021836808154574984), (4170, 0.021829891968262637), (1047, 0.02182405411016929), (4464, 0.02181589383923457), (1562, 0.021803831326266225), (4330, 0.021791899411373297), (2835, 0.02178748744310466), (2595, 0.021787223957380756), (607, 0.021785045573161504), (1025, 0.02178093087470413), (1270, 0.021772985162918406), (1759, 0.021764695512010594), (4081, 0.021761545889247207), (4178, 0.02175514368195246), (4015, 0.02175409693935281), (3695, 0.021749535014187495), (4744, 0.02174252081292591), (4573, 0.02173890490822117), (2068, 0.021734127610262402), (50, 0.021734064334566348), (4335, 0.021722648082094523), (2227, 0.02171820387729004), (394, 0.021714603932248992), (844, 0.021712336159832583), (736, 0.02168808883839812), (2047, 0.021682872197385485), (262, 0.021682585943336725), (2280, 0.02167153868075467), (802, 0.02167152393013012), (3683, 0.021663078820973167), (4050, 0.02165559286699451), (3079, 0.02164024511223135), (3720, 0.021637955999788818), (1155, 0.021634819845733576), (2222, 0.02162468035264705), (4436, 0.021623224495811343), (767, 0.021620842886419), (1736, 0.021620696589035742), (641, 0.021613696116969294), (313, 0.021610763021872106), (60, 0.02160704639691221), (4430, 0.0215990686621271), (4095, 0.021592246714879085), (4617, 0.021575948457025335), (523, 0.021568530989260273), (2273, 0.02154699894071498), (3064, 0.02153686021906828), (392, 0.021527589371773338), (3915, 0.021525764461117092), (4149, 0.021512563019775662), (2174, 0.02150733031086095), (1810, 0.02149614022659201), (581, 0.0214927234759913), (1898, 0.02148994168549961), (3348, 0.02148702553178083), (1890, 0.021484311171366833), (3858, 0.021482964690594308), (1791, 0.021467822871772037), (1583, 0.021464006150564933), (2581, 0.02145995630431762), (235, 0.021458435595373308), (47, 0.0214415471889426), (3774, 0.021437147924477325), (4133, 0.02143434231263936), (3247, 0.021433234703078015), (2791, 0.021432498460030314), (829, 0.021429271353860493), (2404, 0.02141327190509701), (1300, 0.021397188134251566), (3508, 0.02138217460309919), (2486, 0.021372031125681343), (1934, 0.021370384034109645), (4211, 0.02136965243507886), (1223, 0.021311800907618875), (4145, 0.021304435273996204), (1710, 0.021291876366374324), (3251, 0.02129055119455201), (1098, 0.02128223999346395), (237, 0.02123798690090071), (1674, 0.021215575141512427), (3077, 0.021214824958455357), (2722, 0.021214580419931458), (4447, 0.021204552414509824), (4354, 0.021198329851750748), (482, 0.021189425079820464), (3048, 0.021176538654545347), (1199, 0.021158873839544647), (3564, 0.021133981032395648), (274, 0.021132082911871408), (4610, 0.02112140945538912), (4288, 0.021100318633474183), (957, 0.02109773124053782), (1390, 0.021088987663125443), (781, 0.021088327810666174), (77, 0.02108064633536313), (3656, 0.02107510153629529), (1913, 0.021066277992385748), (2507, 0.021063412569604253), (1894, 0.021057122115782003), (2361, 0.02105631519365575), (3121, 0.02105543978381279), (747, 0.021049809327591058), (356, 0.021048936540458148), (4666, 0.02104865493286037), (1915, 0.021025256100911657), (1232, 0.02102391702940146), (3317, 0.02101713850933532), (507, 0.02101613211510741), (3723, 0.021015702840357788), (2460, 0.021010780868367322), (4656, 0.02100095968856534), (2592, 0.020999909431805592), (818, 0.020993633927607086), (2159, 0.02099265600393323), (2317, 0.02098488832079632), (4119, 0.02098264809608981), (1602, 0.02097220111245484), (3644, 0.020964320137422655), (2398, 0.02095142812942752), (4713, 0.02092799020317322), (135, 0.020918629302300602), (996, 0.02091633567839371), (557, 0.020909785365983244), (633, 0.020905926688784493), (128, 0.02090152063244792), (4626, 0.020899011390416156), (3539, 0.0208869286149594), (2804, 0.02088596116486575), (908, 0.020870643799233802), (2837, 0.020866249236041173), (2456, 0.020859501087795485), (3207, 0.020851453651806434), (1922, 0.020848648097783157), (4110, 0.020843673590690264), (4320, 0.020841196220941632), (1544, 0.02081130989514195), (1689, 0.02080330236373379), (707, 0.02079616599895291), (4169, 0.020781792182524426), (2107, 0.020781320086339927), (1692, 0.020767995893457018), (3295, 0.020766314027116574), (627, 0.020765141660556576), (4672, 0.020749487483148206), (2322, 0.02074682140761234), (2596, 0.020738904547291343), (2397, 0.02073338549695688), (2785, 0.02073237199225411), (2834, 0.020727758974208244), (3673, 0.020719280662573933), (179, 0.020719214706427094), (849, 0.02071877295266216), (909, 0.020697232344340736), (2965, 0.0206878816889432), (435, 0.020682843662910944), (1815, 0.020678043937073644), (3337, 0.02067666845148574), (3825, 0.020670326318128773), (2649, 0.02066841893604399), (1045, 0.020662458260890058), (3591, 0.020661338185910094), (1920, 0.020656090735461475), (3112, 0.020655818443367335), (2386, 0.020653328540109688), (1932, 0.020638300260217325), (150, 0.020625942393792732), (4405, 0.020623835254218854), (1838, 0.02061426730944679), (1944, 0.02060934842467331), (1766, 0.020603845403972382), (4550, 0.020596270218274676), (4278, 0.020584474639455935), (786, 0.020577214341926414), (854, 0.020573067617649807), (594, 0.020555620170139743), (3066, 0.020540323829832795), (1526, 0.020539773770855134), (1354, 0.02053347179824605), (3807, 0.02053115631885252), (1797, 0.0205276787956763), (1265, 0.020525745439411085), (713, 0.02052311072490893), (1029, 0.020517857771193634), (1576, 0.02050785496844965), (3908, 0.020486314589780646), (3840, 0.02048387949605514), (1923, 0.020478583099582885), (1578, 0.020477979057954388), (1422, 0.02047298736203151), (3429, 0.020472824081958475), (1957, 0.020459884191979798), (1012, 0.0204389628789451), (2641, 0.02043633186539169), (3857, 0.020435328112626848), (4070, 0.020434908641647678), (3309, 0.020420245052028732), (1527, 0.02038899800753438), (771, 0.020384895825781763), (513, 0.02037309242937283), (2160, 0.020361741055955708), (1053, 0.020354891052055617), (4260, 0.020350545089724406), (1859, 0.020350477621859996), (1630, 0.020341633036542996), (838, 0.020337541301349762), (4196, 0.020334840340906105), (1676, 0.020327545152171604), (2514, 0.02032596821151105), (4321, 0.02032441002714021), (576, 0.020320198987470676), (367, 0.02031942540896954), (3075, 0.020317319697502015), (1031, 0.02031718006226973), (2814, 0.020311600567146273), (1659, 0.020308502255945556), (3279, 0.02030659395920347), (856, 0.020294324190311734), (2819, 0.02029279677333955), (954, 0.020290968830907592), (1405, 0.020276968079912593), (1434, 0.020263552402910247), (1637, 0.020233983015243987), (1009, 0.020227518780684746), (897, 0.0202194873086714), (1147, 0.02020534854269774), (1185, 0.020182560610670957), (3914, 0.02017853586184057), (4357, 0.020175089870446826), (3603, 0.020168604100473032), (4474, 0.02016386378143027), (4025, 0.020154879138194966), (2482, 0.02015407011493966), (4577, 0.02014476545869691), (4642, 0.020141159466394522), (2169, 0.020127228648262115), (202, 0.020126060903323393), (1277, 0.02012473502148428), (2601, 0.020113455451017708), (2132, 0.02010019281168889), (2532, 0.02009032610015427), (1782, 0.02004860469803687), (2228, 0.02004551364202284), (2177, 0.020022760271623367), (4491, 0.020022204858489972), (2600, 0.020017537964233337), (1942, 0.02000188321306128), (2036, 0.01997787595039764), (1153, 0.01996526274971557), (3466, 0.019965203650702375), (3278, 0.01996321577604605), (1575, 0.019960389975902118), (2564, 0.019959549159612542), (3389, 0.019954343579349488), (1723, 0.019950413830843724), (4635, 0.019945284528644386), (2998, 0.019935949386118434), (2913, 0.019934042350755375), (1734, 0.019926264764161056), (4173, 0.019922852796680688), (968, 0.019922155050467467), (4562, 0.0199197307865517), (3725, 0.019913260851653826), (151, 0.019908962688977468), (4392, 0.019906018717441958), (1172, 0.0198834576194659), (3061, 0.019879334171999278), (3073, 0.01985757218144936), (987, 0.01985371854152648), (4226, 0.019846440170547264), (749, 0.019841197238405644), (2023, 0.019840764440374765), (2276, 0.019822443583379968), (2822, 0.019816176392716392), (4624, 0.01980806886832159), (4227, 0.019798521260529323), (1415, 0.019792477903641015), (372, 0.019783113800355728), (4382, 0.01977985881828237), (4442, 0.019779662399099576), (4370, 0.01977800028441834), (3935, 0.01977714841570842), (3824, 0.019757365580403433), (1226, 0.019756621028004115), (4665, 0.019746384792558656), (322, 0.019730195086228808), (2478, 0.01971073377925483), (1750, 0.01970514281635021), (2757, 0.019704079333792694), (4385, 0.01969718007908319), (4023, 0.019696550501217953), (4146, 0.0196936295533152), (493, 0.019687300050608675), (3339, 0.01967313780302636), (4490, 0.019673080092587385), (2437, 0.019645022363545456), (4352, 0.019640994687795878), (3400, 0.01964080630916527), (1483, 0.019640538693400305), (3813, 0.019639399506111457), (3124, 0.019636111753760274), (2167, 0.019627563897002445), (3694, 0.019620693540993512), (3312, 0.019620598719034193), (1267, 0.019615836587845943), (563, 0.019615525202400157), (4376, 0.019613232491344397), (1194, 0.019612809860736415), (3530, 0.01959385873538834), (3975, 0.01959357630751149), (1388, 0.019575387606476202), (2076, 0.019565576637048714), (310, 0.019554408167490957), (2098, 0.019549873848664155), (1091, 0.01953918698516616), (4750, 0.01953691989841398), (4496, 0.01953330752729809), (3095, 0.01952752733837997), (1368, 0.01952709235303992), (2415, 0.019523315235790168), (3672, 0.01951723666823537), (2438, 0.019513237322580174), (3961, 0.019513209578144935), (1772, 0.019512984395449875), (1161, 0.019507811831950078), (841, 0.019490886603296915), (3172, 0.019484908388652855), (4166, 0.019456121355116485), (1313, 0.019445300360744763), (1697, 0.019443108235396852), (3647, 0.019439560038549526), (289, 0.01943096016349859), (406, 0.01941614689189986), (4200, 0.019413552284244), (3917, 0.019393891401364362), (524, 0.019367384712631847), (4317, 0.01936487682529612), (2783, 0.019350779609645735), (4485, 0.01933563230061519), (1557, 0.019330485592336313), (2996, 0.019322272353983403), (4568, 0.019321863409965234), (3299, 0.019313004473808515), (4157, 0.019310940348450517), (1548, 0.019308842277022203), (89, 0.01928236843649652), (496, 0.019276967606448037), (4419, 0.019274713765202924), (720, 0.01927447807281931), (2069, 0.019274306895115646), (3730, 0.019272002222673206), (3257, 0.019266375201523387), (2001, 0.019251632399365056), (272, 0.019245068959722705), (4221, 0.019245060926845754), (2038, 0.019241096016492355), (4334, 0.0192408935289334), (366, 0.01924020253217445), (4524, 0.01922545318876909), (2348, 0.01922145755622529), (1125, 0.019221326491207755), (4360, 0.019204023444607213), (731, 0.01919801691937709), (2861, 0.01917420248284523), (497, 0.019156265457918667), (1169, 0.01915588414793548), (3082, 0.01914528124030568), (242, 0.019144306504882507), (4047, 0.019142816001222786), (369, 0.019132380128529376), (2286, 0.019126133143523055), (1893, 0.019121035813963794), (1567, 0.019118670982798572), (2585, 0.019115614177186567), (1936, 0.01911292688239508), (3292, 0.01911190766812667), (74, 0.019109356245297714), (102, 0.019106318097959384), (2341, 0.019101755051525816), (4072, 0.01909124862464765), (1322, 0.019087157953048762), (2327, 0.019054386092866783), (2839, 0.019053396624746474), (3934, 0.0190495274262578), (2336, 0.019032576868845803), (2627, 0.019032444699932847), (3781, 0.019019347932215238), (803, 0.01901730260029051), (3895, 0.01900377236584449), (1802, 0.0190004804510903), (4638, 0.018992735583348342), (845, 0.018991009878607457), (4053, 0.01897378527903268), (1611, 0.01897186858052513), (1280, 0.01895520131943086), (3040, 0.018945115686652306), (4384, 0.01893171544076068), (2473, 0.018922850692099043), (119, 0.01891925617235231), (3168, 0.01889104211158103), (4483, 0.018881434868229918), (1005, 0.01887210042813788), (345, 0.018870292407868357), (4219, 0.01886034798938616), (4689, 0.01883632831613609), (2584, 0.01883359535713249), (652, 0.01883120844132868), (2495, 0.018826507516836472), (2054, 0.0188222596086897), (1033, 0.01881939303638256), (1826, 0.018813257034122875), (1876, 0.018810974055031487), (3496, 0.0187995445496275), (1500, 0.018788159066613658), (593, 0.01877680375061627), (4478, 0.018775584517335683), (4045, 0.01876501940562094), (1531, 0.01874881609518903), (443, 0.018744647647623985), (2864, 0.018743292055428976), (875, 0.018742010040238816), (1287, 0.01873845385661463), (4537, 0.018725799824068728), (4724, 0.018719906045303845), (510, 0.018710585097476157), (517, 0.018710212727765664), (3879, 0.018709627243462864), (3623, 0.018698058328280066), (3933, 0.01868825667052507), (123, 0.018676604375065842), (348, 0.01867261498240963), (1598, 0.01864638667619867), (3159, 0.018636498121609564), (3096, 0.018622760808324854), (2200, 0.018612814123181134), (3542, 0.01860402443582286), (4418, 0.018600321600827523), (2906, 0.018599866234149127), (3916, 0.018584065252997235), (1604, 0.018582113174106574), (368, 0.0185643497930954), (4065, 0.01855911546292514), (2261, 0.018552230829621486), (2953, 0.018546717881271615), (2753, 0.018544534673144417), (3718, 0.018537109713052387), (243, 0.018525080489078288), (4716, 0.018509564197673117), (4525, 0.018507661439724724), (541, 0.018494762084820787), (4448, 0.018491437155011475), (2829, 0.018490841907390344), (3764, 0.018487892455558985), (1937, 0.018486445408444605), (2815, 0.018482894705828166), (1484, 0.01846693743584749), (1364, 0.018462867989203144), (2606, 0.01844122209523117), (1973, 0.01843689365442632), (3335, 0.018429782764083122), (389, 0.018424762554810226), (2326, 0.01841216571653296), (1262, 0.018404659567582925), (3030, 0.01840232095324883), (1377, 0.01838870247405873), (570, 0.018363927438459233), (2193, 0.01835609928570461), (45, 0.018331291166939802), (2243, 0.018331018442024193), (2360, 0.01833000302430123), (2979, 0.018323253464738076), (3044, 0.01832156564718235), (4673, 0.018320961924421373), (98, 0.01831962938521508), (880, 0.018289644419785093), (4462, 0.01828833389770751), (1885, 0.01828097980551139), (547, 0.018274743539919067), (4019, 0.018256943215174282), (2396, 0.018252909868018315), (2490, 0.01824800352567546), (1040, 0.01824463057699596), (3810, 0.018240830676476954), (1468, 0.01823199004015738), (1924, 0.0182319425958099), (4531, 0.018230625791752036), (3518, 0.0182235520107456), (246, 0.01821456370103679), (1479, 0.01821126954860714), (1196, 0.01819885309083078), (1461, 0.018190393177373705), (2110, 0.018189086473712996), (4605, 0.018186744645061093), (4692, 0.01818106346046736), (2905, 0.018170773963098342), (1225, 0.018169224621989822), (980, 0.018168832995438623), (1752, 0.018158793406245873), (2543, 0.01814382475957633), (3106, 0.01813622809953962), (3585, 0.018131279557819888), (816, 0.018128781103872244), (1343, 0.018127379034846798), (734, 0.018121573592882755), (813, 0.018116832522959758), (589, 0.018102279418109917), (2988, 0.018100770943295007), (96, 0.018098529151416912), (743, 0.018094332938221654), (3264, 0.018049523887300932), (3761, 0.01804454203678548), (2264, 0.018043983839205986), (1170, 0.018034699165629477), (1883, 0.01802012248763399), (2369, 0.01800486461081643), (2081, 0.01800085825428882), (882, 0.017994316718349685), (3485, 0.017993879618951), (1391, 0.017988881588607335), (2390, 0.017986774797126605), (3853, 0.01797843046663884), (43, 0.01795664162692509), (1947, 0.01793939247611893), (1995, 0.017923793295452885), (31, 0.017922587976842007), (1249, 0.017913784629299198), (147, 0.01791220398947572), (4674, 0.0179048650173069), (278, 0.01789604530685508), (4540, 0.017881340689745392), (4396, 0.0178767649011568), (1437, 0.017865606350617007), (3632, 0.01786253262926878), (4657, 0.017860455211148436), (3080, 0.017845022445582833), (2382, 0.017840343077870593), (2750, 0.017828103250411183), (3366, 0.017789079748866482), (1312, 0.01778261501803761), (2510, 0.01778037271922833), (740, 0.017772319348191293), (209, 0.017752540803817187), (1585, 0.017743196939030547), (1303, 0.017738898768110495), (1748, 0.017720377055361423), (4126, 0.01771945897040931), (3909, 0.017717566166588965), (349, 0.017715491620777287), (2637, 0.01769622130064062), (4501, 0.017688375527289583), (475, 0.017683201948439312), (665, 0.017660822300040825), (3323, 0.01765238547742256), (1546, 0.017649241968673155), (544, 0.017648893221206004), (4232, 0.017633459995152003), (2022, 0.017632640897193956), (2684, 0.01763217326907112), (2748, 0.017614708573550065), (3036, 0.017609252480898296), (2119, 0.017603833763357234), (4201, 0.01759608334229783), (2165, 0.01758396936048124), (3253, 0.017563576783852834), (3588, 0.0175534162696937), (2948, 0.017549704323263447), (1615, 0.017541389991581825), (3386, 0.017539802954800423), (669, 0.01751442088320958), (1959, 0.01751304149552794), (1600, 0.017494010370050342), (3035, 0.017488324885622616), (4122, 0.017487186602462446), (4090, 0.017483537200072126), (1231, 0.017472299411918836), (2210, 0.017465158391105535), (1714, 0.017464036310438108), (2, 0.01745544236185169), (1639, 0.017446479441731288), (215, 0.017442083510285127), (2937, 0.017439650782430705), (3835, 0.017436655393378533), (3900, 0.017435823119796752), (745, 0.01743573961055466), (1607, 0.0174352250658568), (2586, 0.017434387345873586), (3782, 0.017431870031008025), (3918, 0.017429139480593506), (3050, 0.01742828953931421), (2217, 0.017376469121799965), (4391, 0.017373276843431058), (2900, 0.017370663498775838), (2632, 0.01732478510881137), (2395, 0.017307966210398287), (2833, 0.017302767722185506), (82, 0.01728766909208302), (4417, 0.01727759724580073), (1824, 0.017268078675140096), (1041, 0.01726611794656894), (678, 0.01726035059040471), (623, 0.017259552504976093), (1463, 0.017238304919657627), (2931, 0.017235256506845723), (1240, 0.01723169747006411), (2070, 0.01723069702922369), (1253, 0.0172305037244401), (3135, 0.017230415056252894), (4407, 0.017221230892278647), (3801, 0.017219843135707635), (1324, 0.01721066600475023), (1776, 0.017192215294253577), (1577, 0.017184732868352457), (1863, 0.017171650172760445), (2356, 0.017170241778280745), (4348, 0.017164011681948508), (951, 0.017161291865778187), (3638, 0.01715881358098349), (1222, 0.017150562278107812), (668, 0.017143032636399384), (2052, 0.017137204941706487), (2958, 0.017129782305757717), (2621, 0.017108878052337916), (1420, 0.01709975962822994), (2542, 0.01708097386168636), (3789, 0.01707943282241281), (3820, 0.017070611843298215), (3342, 0.01706634594653457), (4737, 0.017057461959840724), (4685, 0.017048606169225725), (1619, 0.017047660565741377), (4147, 0.017037496907051128), (4644, 0.01703605637752542), (3029, 0.017027934739044053), (1764, 0.01702220309438281), (66, 0.01701102137880847), (2645, 0.016997791509580563), (2464, 0.016997377064671238), (3410, 0.01699574417201798), (1166, 0.0169930001385046), (649, 0.016991055959057446), (1582, 0.01698048457065492), (1911, 0.016971338391943504), (3110, 0.016961878677413594), (172, 0.016961493173867293), (719, 0.01695484483607548), (2041, 0.01694742574697886), (1494, 0.01694400803847746), (2955, 0.016943700907233482), (2383, 0.016936275173552146), (2754, 0.016933682156898455), (3729, 0.01693015029608455), (1834, 0.01692903055987922), (3831, 0.016917512331484686), (1109, 0.016915533819853844), (3690, 0.016911352539323226), (1275, 0.016898938609118015), (3444, 0.01688234812453283), (1239, 0.01688143570945349), (3931, 0.016876835137666555), (733, 0.016867836919380215), (2904, 0.016863515691744303), (2970, 0.01685569319652664), (451, 0.01685209383795062), (1605, 0.016849118608444073), (3626, 0.016840922356724623), (4217, 0.016837507522778846), (514, 0.01683425645312109), (3076, 0.016830227833061442), (2775, 0.016797769471794986), (276, 0.01677611133754669), (1905, 0.016761986464794692), (4443, 0.016757759977359808), (3388, 0.016756531783822682), (4749, 0.016756513073691737), (3700, 0.016735308428495944), (3784, 0.016729325298316007), (149, 0.016717952907894955), (2197, 0.016708539188401636), (1454, 0.016698675593876045), (2544, 0.01669735573531502), (1450, 0.016680174154851977), (3922, 0.016668751762305326), (2168, 0.016657114585435066), (3052, 0.016641977427734145), (1888, 0.016626114661137607), (3630, 0.016618494803450175), (2056, 0.016592151536171676), (988, 0.016584682677502127), (4129, 0.016580798134333295), (433, 0.01656600074866753), (539, 0.016559251827907108), (1419, 0.016549129523315404), (2907, 0.016540515246356184), (2934, 0.01653901998203624), (1596, 0.016538187624200812), (2885, 0.016535340818873107), (2605, 0.016532242793528325), (4486, 0.016518505908875478), (120, 0.016512515887007723), (862, 0.016507700056011303), (2033, 0.016506419096142304), (2826, 0.016482695069797035), (3859, 0.01648256345149524), (2029, 0.016468317828772037), (3358, 0.01646187041372636), (657, 0.01646129221741148), (3664, 0.01645745663812234), (878, 0.01644600035111843), (2378, 0.016434291376233003), (2511, 0.016433560391420445), (663, 0.016433136548557662), (2604, 0.016429636702688707), (4516, 0.01642451080253278), (3986, 0.016402764634348387), (4238, 0.016401508906866716), (1517, 0.016392511502384143), (4191, 0.016371007685967668), (3830, 0.016366218199084705), (1339, 0.016353948430451244), (4751, 0.016353366384294403), (1820, 0.016349614174896974), (3291, 0.016344622007887277), (1336, 0.016343894870925003), (3957, 0.016317346383799565), (4420, 0.016309593028420045), (750, 0.016303200248098962), (61, 0.016282170204066408), (3008, 0.016272732934484453), (4012, 0.016248625474665254), (19, 0.01622765845837525), (2611, 0.01622261487044631), (385, 0.016220567485647396), (4198, 0.016206423921547856), (1062, 0.01619258861731577), (597, 0.01618459485844447), (1042, 0.016168082147062418), (4172, 0.016165578735834553), (2057, 0.016165504127518878), (1402, 0.016165115462687066), (4459, 0.016148087211889237), (565, 0.016141205464796415), (3566, 0.01613591557230489), (1665, 0.016133815346194416), (549, 0.016132384816128845), (3161, 0.016100695744494332), (3375, 0.016092463415389596), (2760, 0.01608866606523556), (2991, 0.016087967589559535), (3499, 0.016085500899609858), (920, 0.016084194702963024), (896, 0.016075337227040645), (1869, 0.016057583290644828), (886, 0.01605023260579685), (1378, 0.016037855381143783), (3482, 0.01602287209450298), (1664, 0.01600468747428744), (2439, 0.016003198837281407), (1509, 0.015979591580386296), (4578, 0.01595919202280041), (2162, 0.0159587490415387), (4730, 0.01595026606119033), (2686, 0.015947938380020052), (2742, 0.015942251844918525), (4187, 0.015939185167037198), (1520, 0.015933269555721465), (2065, 0.015917654166978937), (3921, 0.015903640413139974), (3181, 0.01589811717845791), (3333, 0.015896948331867184), (2995, 0.01588356894984187), (449, 0.015871597935660002), (213, 0.01586122349095366), (1891, 0.015860383241225684), (1263, 0.015857685281673237), (986, 0.01585121951723132), (3502, 0.015817029306283988), (1800, 0.01581256025623807), (3948, 0.01581212181226507), (3273, 0.015802283136379162), (2330, 0.015794222638735336), (1687, 0.01578776428198707), (4287, 0.015785152401055283), (467, 0.015777663921611486), (4328, 0.01577544703621033), (4445, 0.015769347913414125), (4553, 0.01576392279741798), (1754, 0.015763477205975245), (982, 0.01575982485826221), (4753, 0.015759480751180378), (4316, 0.015759306947844578), (1342, 0.015757339845071834), (3805, 0.01574084662510944), (3696, 0.015740702753851435), (3674, 0.01570524282897101), (1609, 0.015687864640427797), (3811, 0.01568783619970703), (316, 0.015685344174174044), (1315, 0.01568478393388089), (4492, 0.015683643748695443), (4428, 0.0156826485710362), (4068, 0.01568187199502687), (2430, 0.0156814423269963), (993, 0.01567362649074363), (1418, 0.015669297607734254), (148, 0.015665656208003555), (3602, 0.015656353160946167), (239, 0.015653157529326573), (4214, 0.015630936081304902), (705, 0.015622107708755138), (3007, 0.01561002628204759), (13, 0.015603978898271092), (1359, 0.015594170545261549), (118, 0.015578969124330634), (4229, 0.015572245189794585), (685, 0.015564033047955684), (3783, 0.01555301156247699), (2593, 0.015552123330189642), (3209, 0.01554861449689859), (574, 0.015547605368912825), (2416, 0.015537878179101504), (2019, 0.015529529746968905), (1332, 0.015527085288754617), (851, 0.015526366555419772), (2163, 0.015520271156936953), (3768, 0.015518567895420917), (3887, 0.01551808974892607), (1768, 0.015512750751397275), (3691, 0.01550673772470049), (1171, 0.01550039235695482), (184, 0.015484957610113434), (2685, 0.01547635677782199), (1649, 0.015458781369472098), (1108, 0.015455553882293298), (4113, 0.015422698955635847), (2093, 0.015421265131822631), (3024, 0.015412916734376864), (402, 0.015410413659164962), (4179, 0.015403196237820322), (4591, 0.01539310915653156), (1016, 0.015334456754125444), (2293, 0.015333112321415536), (3132, 0.015330865382326047), (3266, 0.01532649340003005), (1015, 0.015326408474479844), (34, 0.015296027198845933), (32, 0.015295738809870976), (950, 0.015271065936339076), (4620, 0.015261675628307178), (1282, 0.015236832024264913), (3756, 0.015232023606882032), (2505, 0.015221121713991852), (1786, 0.01521429477173629), (1338, 0.01518348870795843), (4432, 0.01517254942745851), (2329, 0.01516392962262603), (4563, 0.015155633300123865), (1334, 0.01515353299272542), (3796, 0.015129448386272148), (1899, 0.015123805729781689), (610, 0.015119280282632106), (3239, 0.015113439894133501), (653, 0.015112013287554323), (2085, 0.015108170923361922), (425, 0.015090964820969532), (1940, 0.015082179159219852), (53, 0.01507715867023255), (3454, 0.015069243696029796), (3354, 0.01506208238106648), (2299, 0.015060410683403223), (3902, 0.015039774178753075), (3680, 0.015036781039304862), (1975, 0.015027373886706748), (309, 0.01500806564910686), (187, 0.015006531849114275), (4276, 0.014992497068439843), (1672, 0.014961495559920945), (2354, 0.014953478935766061), (4323, 0.014950182918642387), (2800, 0.014942819872845566), (2046, 0.014924789336307533), (3866, 0.0149206080067559), (737, 0.014920190336359116), (270, 0.014918369199991783), (1823, 0.014904890672119466), (4528, 0.014897975750851045), (4026, 0.014888773345281504), (1814, 0.014882353741700414), (3357, 0.014882183852678678), (3113, 0.014880917593503185), (1215, 0.014874988757789066), (969, 0.014861729046405679), (1513, 0.014861596618012207), (1839, 0.014854705214046846), (4242, 0.014831095290352068), (1790, 0.014829539077829787), (4324, 0.014823829598042173), (207, 0.014823470789421925), (2077, 0.01480916371300161), (2523, 0.01480852988635547), (2915, 0.014795974779736152), (280, 0.01478494590816609), (3049, 0.014777944527121556), (1627, 0.014770594105730141), (4208, 0.0147695730961488), (3515, 0.014766343779341827), (2058, 0.014754874568429206), (1563, 0.014734119248990847), (1603, 0.014697019348884097), (1705, 0.014644647309129495), (2820, 0.014642326545308797), (1145, 0.01463563637325325), (3742, 0.014629300673521218), (2199, 0.014620624553301424), (331, 0.014599255259917586), (556, 0.014596156918995355), (757, 0.01458806245132254), (445, 0.014514549737214253), (3845, 0.014513887057010441), (4679, 0.014511268839023662), (4708, 0.014497652119380451), (3507, 0.014495563290448358), (2764, 0.014487939113841341), (3844, 0.01448139621586073), (4572, 0.014477089918982904), (2982, 0.014472825439124438), (1340, 0.014465352129491689), (4063, 0.014447236118031462), (4284, 0.014439544813374847), (1376, 0.014438737635818075), (4118, 0.01443315657017409), (315, 0.014431480945549736), (4235, 0.014399043845309085), (3548, 0.014380305432032095), (4746, 0.014376252188106727), (4372, 0.01437304130451872), (3660, 0.014351871665313879), (328, 0.01434915559305191), (298, 0.01434808797321094), (36, 0.014330528712091862), (1375, 0.01432947588084734), (2917, 0.01432925341608846), (3738, 0.014324932234503767), (183, 0.014317943407011036), (3538, 0.014293844347164476), (4506, 0.014288512966725515), (3864, 0.014282468541535726), (1184, 0.014274129438283064), (4280, 0.01427407330450736), (3012, 0.014254340897883043), (105, 0.014251801032299241), (3775, 0.014250921147192468), (630, 0.014250575684976665), (772, 0.014231868969719364), (889, 0.014202019151986997), (789, 0.014200556423291546), (142, 0.01420025368235119), (3869, 0.014195510342723885), (3791, 0.014175287032248378), (3200, 0.014166595999257108), (3009, 0.014150474079088282), (3939, 0.014141018165080834), (2759, 0.0141325500511129), (4159, 0.014124101012037678), (3589, 0.014067610799731517), (2853, 0.014060756325867563), (4, 0.014049044439051049), (145, 0.014037189672079594), (2342, 0.014033384488122353), (3042, 0.013996074831919052), (4404, 0.013988139387495883), (2303, 0.013981030922529955), (3714, 0.01397894104241736), (2145, 0.013969643792001909), (1566, 0.013941181021259326), (4497, 0.013937743548276312), (4215, 0.013927607624372368), (916, 0.013903594527063209), (2613, 0.013898734451341627), (201, 0.013885635634727033), (690, 0.013885208370941857), (3440, 0.013877899976956074), (4289, 0.013874037531819794), (1165, 0.01386504158619129), (2434, 0.013837493936016533), (670, 0.01383360120045437), (3256, 0.013824383181057468), (1470, 0.013815959345814912), (4660, 0.013812110575142558), (3617, 0.01380248638372629), (4257, 0.013799060966365224), (3685, 0.01379440699911006), (671, 0.013792120530260228), (4132, 0.013785112070122509), (688, 0.013768847814747853), (4508, 0.013747435781658103), (469, 0.013743523145183786), (949, 0.013716248322060228), (2311, 0.013710709791954124), (4205, 0.01370695542402783), (1550, 0.013703183322375502), (831, 0.013702966620887963), (3352, 0.013686837075442528), (3381, 0.013681476713536108), (3327, 0.013675165684738227), (636, 0.013667629498814315), (1654, 0.01365763777340315), (927, 0.013654973978576904), (1720, 0.013637863512404706), (4267, 0.013632254137031898), (3641, 0.013605752399341593), (2231, 0.01359250811025409), (1407, 0.013581731416387643), (3896, 0.013565404359180695), (3505, 0.01355212609414733), (4658, 0.01355197224010393), (1669, 0.013547958527578606), (4161, 0.013510942758883076), (3707, 0.013506908474196307), (444, 0.013501095181543585), (2831, 0.013488427092402748), (666, 0.013486245100173879), (3819, 0.01347959993976446), (2946, 0.013452487792899225), (1288, 0.013449583715171194), (1013, 0.013436002190015684), (2612, 0.01342550168801979), (3144, 0.0134231923610866), (1191, 0.013420902186204564), (1683, 0.013417839790324683), (4052, 0.013415635015783963), (4109, 0.01340965799794449), (2151, 0.013403212434413812), (933, 0.013369590872753002), (1476, 0.013366398533294398), (2881, 0.013362429110867007), (1620, 0.013351803889553064), (140, 0.013350474454025542), (1477, 0.01330881722647216), (419, 0.013307019297909731), (2524, 0.013306336049375807), (1138, 0.013301540612294773), (942, 0.013292115332658864), (391, 0.013290555648831486), (850, 0.01327508581087641), (227, 0.013268778010616817), (1486, 0.013267141653088297), (640, 0.013264802999397527), (3128, 0.013262300778971317), (1497, 0.01325743317407245), (273, 0.01323973921683853), (4344, 0.013234987195129356), (4505, 0.013234697156752954), (206, 0.013224857526722414), (2628, 0.01321445162548475), (712, 0.01320239031026707), (1581, 0.013195440663945485), (2714, 0.01318404837962883), (2333, 0.013178149715897133), (2096, 0.013174233407138278), (113, 0.013173364259250938), (4643, 0.013159199971313748), (2339, 0.01315812541943191), (3540, 0.013136235557973419), (2087, 0.01312737866888908), (3018, 0.01309245274959498), (2125, 0.01308526186697992), (1092, 0.013055409352099099), (2379, 0.013055046467093536), (3599, 0.013050964962726033), (848, 0.013042262436983712), (3596, 0.013042028876904269), (1460, 0.013038267191958558), (2682, 0.013035145752175435), (4040, 0.013029425614331229), (4066, 0.01302815412508617), (4099, 0.013023198171155756), (117, 0.01301379811180118), (1347, 0.013012099640970118), (42, 0.013007816122704918), (1067, 0.012996366650535145), (3510, 0.012963930975749062), (1889, 0.012956982127788168), (450, 0.012954579322909825), (2266, 0.012950448112197527), (3310, 0.012933855512106459), (4265, 0.012928453483911044), (3565, 0.012927880070035161), (1642, 0.01289681530639764), (1177, 0.012891934494411863), (2821, 0.012891634272660553), (2704, 0.01287781207032169), (4523, 0.012868027014252818), (3670, 0.012867161244408985), (1027, 0.012845985706730421), (3682, 0.012839904879537253), (2446, 0.012823207820490243), (1553, 0.012814243844083282), (2265, 0.012810144193942254), (371, 0.012806994145180998), (543, 0.012783879359178603), (4453, 0.012772012841488026), (3034, 0.012765319876025548), (4256, 0.012758350768179657), (499, 0.012757751839264747), (4246, 0.01275736648939545), (2709, 0.012747227632092966), (1326, 0.012714135623041361), (3571, 0.01269877548954843), (1917, 0.012694146798299919), (2675, 0.012692641761027986), (3798, 0.01266622757406373), (3601, 0.012665382639196728), (2866, 0.0126640335136491), (18, 0.012652544578538729), (3435, 0.012644454045754391), (631, 0.012616983967259916), (1793, 0.01261634349609273), (3609, 0.012616069813314904), (1106, 0.0126040564419507), (1574, 0.012588324815316515), (4593, 0.012579718210616821), (509, 0.0125457381804233), (4181, 0.01253903139734737), (1537, 0.012526410169959838), (127, 0.012484273373629798), (1409, 0.012483921441586303), (4653, 0.012476120872096028), (3689, 0.01247409237180155), (4634, 0.012453022413659757), (4514, 0.012426406040084792), (596, 0.012420148520061453), (887, 0.012408252604543635), (3039, 0.012401798413351725), (4393, 0.012386006706934013), (4557, 0.012360165162328322), (4337, 0.01235503567999813), (173, 0.012349547522229044), (4358, 0.01234856190510325), (1373, 0.01234106261572497), (1115, 0.012330715096407416), (2895, 0.012318540013092098), (3837, 0.012317849037554177), (1211, 0.012314902754152115), (1238, 0.01231363508504204), (3996, 0.012308455463316376), (4228, 0.012302776563807964), (4408, 0.012283385041139275), (4213, 0.01227572522524014), (2674, 0.012272353203724592), (2508, 0.012227059292840587), (2284, 0.012226902472383568), (1835, 0.01222315707353743), (4631, 0.01221946938130384), (2332, 0.012209789695113), (3302, 0.012200505162994538), (3985, 0.012157809530586507), (1931, 0.01215520641567757), (323, 0.0121415124771567), (3223, 0.012122930774739252), (4661, 0.012115842313150804), (3521, 0.012113609389883385), (4547, 0.012100010564428366), (3473, 0.01209100057162064), (3472, 0.012082499390683916), (466, 0.012074700927020588), (3232, 0.01206520168448419), (4304, 0.012054246972753938), (1843, 0.012037479859500946), (2423, 0.012033989972213102), (4691, 0.012031532647350903), (1658, 0.012025425106132607), (1162, 0.012020385162268355), (133, 0.012006815139809595), (346, 0.012000410277914746), (4127, 0.011988105215436076), (2244, 0.011985421140623814), (2903, 0.01197543006711821), (4520, 0.011965900286499673), (344, 0.01195092706988937), (4008, 0.011941099493907831), (3137, 0.011935798673192177), (3712, 0.011931639461362662), (489, 0.011904957912508252), (4468, 0.011903242736748814), (3987, 0.011901658157085656), (1444, 0.011889837622032348), (837, 0.011886698143921362), (3832, 0.01188003585937553), (655, 0.011877118682506915), (4567, 0.011863036600596469), (1256, 0.011850391591193289), (791, 0.011828445984182211), (2429, 0.011789756946881681), (1699, 0.011771261498360492), (4600, 0.011767029099527043), (293, 0.011766915693027279), (2050, 0.011756626659630889), (3002, 0.011745693108098015), (4544, 0.011736345723992195), (490, 0.011727657671010293), (2980, 0.011722742607670743), (3190, 0.011696288433854164), (2857, 0.011685363907723123), (4293, 0.011671948875396822), (4367, 0.01166409513927297), (4368, 0.011660563437642069), (2349, 0.011659237460525867), (2458, 0.011653645798008566), (571, 0.011642984037898891), (2428, 0.01162475445251224), (2651, 0.011620690880766362), (3743, 0.011614721922880145), (3662, 0.011538763144039222), (370, 0.011535134166387961), (1083, 0.011534110148242193), (3332, 0.011526999691271788), (3192, 0.011511726744438443), (2503, 0.01151068729791769), (3248, 0.011482194251866477), (3307, 0.011454464707083726), (4697, 0.011438347888918593), (2283, 0.011437495956538545), (4199, 0.011428245002986117), (470, 0.011422699999987514), (1803, 0.011421583613032162), (3267, 0.011411087042659045), (23, 0.011406760148049621), (4507, 0.011389454677545773), (2556, 0.011386991045598711), (1914, 0.011366239467556922), (3611, 0.011364958150597263), (3956, 0.011355481973870605), (794, 0.011354250786610983), (2565, 0.01135089968600644), (3755, 0.011345317195638496), (208, 0.011333487542112436), (1054, 0.011333415212060221), (3404, 0.0113002691152476), (4247, 0.011290077536137678), (4627, 0.011286550613182685), (2229, 0.011270757643284003), (3678, 0.011266268290228004), (2255, 0.011245881024495885), (1643, 0.011224610815401773), (2858, 0.011216018690992823), (4111, 0.01115986988074788), (2986, 0.01113296791498265), (1712, 0.011131970487692166), (1958, 0.01112748591082712), (3978, 0.011125463471277953), (1167, 0.011106176702980045), (4080, 0.011082000015710542), (2256, 0.01102853164146527), (3910, 0.011017243630072037), (4279, 0.011016887121203177), (711, 0.011008556695124487), (393, 0.010990079243650096), (1504, 0.01097081532471052), (2537, 0.010952838592777656), (1988, 0.010939929975828197), (4154, 0.010923734270270284), (244, 0.010919581380595582), (3905, 0.010907103608711208), (3951, 0.010883769398438667), (746, 0.010876779273410775), (1590, 0.01086610601563727), (3815, 0.010852045484807404), (1792, 0.010847866611366462), (2420, 0.010828384172726822), (1123, 0.010823945726473999), (4526, 0.010813428568373458), (4076, 0.010813017297780324), (1478, 0.010789877662511606), (382, 0.010784381922306194), (205, 0.010779632782176097), (3145, 0.010772903883673092), (1532, 0.010762747066509133), (3799, 0.010727957699974474), (3494, 0.010709613882049577), (1561, 0.010703030459296445), (3816, 0.010699743416235396), (4243, 0.010695889305525303), (4406, 0.01068607923295671), (2455, 0.010685232156875047), (4349, 0.01068359953748186), (2854, 0.0106682683940309), (4271, 0.010655245388092819), (4315, 0.010639873146233856), (1007, 0.010637413806044915), (1330, 0.010612604843301348), (759, 0.010558937483735384), (81, 0.010558374453206093), (1325, 0.010543008136615106), (534, 0.010525357022207367), (83, 0.01051763776886113), (2425, 0.010517308615405853), (1954, 0.010512609271916376), (3245, 0.010504001138019529), (2519, 0.01047402425528326), (3577, 0.010461564128729417), (752, 0.010434816564829105), (1751, 0.010433801829233848), (3557, 0.010427552835922081), (4683, 0.010414308868916998), (4400, 0.010396057298467402), (2967, 0.010387308047853138), (2059, 0.010371790281473477), (134, 0.010367693806350962), (4322, 0.010366354541735361), (1297, 0.010360806177042537), (1452, 0.010356524933164706), (1955, 0.010349800699098853), (1406, 0.01032542901465144), (3950, 0.010319922236871846), (619, 0.010319221038270498), (2715, 0.010316396109816264), (1626, 0.01030970710139822), (4427, 0.010291574477596347), (1352, 0.010283863948395963), (4231, 0.010252294477360232), (484, 0.010234337169508912), (3687, 0.010200252614522069), (4130, 0.010186407817596119), (1144, 0.010162185510917323), (2179, 0.010113939844777072), (1198, 0.0100972580015367), (4112, 0.010059886444994023), (4024, 0.01005064476653252), (1721, 0.01000332244849424), (3818, 0.009973792829444864), (4530, 0.009969895481940157), (4239, 0.009954042024927908), (621, 0.009948523231063761), (847, 0.009926912179040853), (890, 0.009891969954541897), (4108, 0.009888909917679264), (3615, 0.0098579062237865), (4633, 0.00985172895267947), (4190, 0.009844281955436171), (1892, 0.009842532906275531), (3422, 0.009806347816127775), (2594, 0.009785522849350149), (3733, 0.009777979617349315), (4401, 0.009760718572604665), (1655, 0.009720121675453657), (4074, 0.00968426401960486), (4687, 0.009632321588762822), (2462, 0.009604426968923621), (79, 0.009597880463782403), (681, 0.00957852873821876), (776, 0.009571805071074534), (1516, 0.009565066088598258), (1799, 0.009548250247766564), (3962, 0.009527397349567342), (959, 0.009512757873381652), (1399, 0.009506428709956601), (1767, 0.009496690132848637), (4156, 0.009455247774423149), (998, 0.009447058346112423), (4250, 0.009392845594454018), (2658, 0.009367745132667636), (4581, 0.009318663395218656), (4255, 0.009317582415896447), (2153, 0.009301986743903033), (3451, 0.00929009501763498), (4481, 0.00927307471008091), (4752, 0.009269684587518152), (3471, 0.009251018097444184), (2188, 0.009225388517554943), (2373, 0.009215726637970248), (3199, 0.00918451764387785), (1212, 0.009182555898285084), (505, 0.00917349954100134), (164, 0.0091605311819228), (1038, 0.009156433426456704), (643, 0.009152869983736576), (3501, 0.009149144341093034), (1072, 0.009113071904463478), (1965, 0.009066212047283381), (960, 0.00905500530369379), (2845, 0.009015150504378976), (3854, 0.00900399773370947), (2533, 0.009003302801890302), (1103, 0.00898980389671759), (4720, 0.008985067197386284), (2812, 0.008984576026524957), (3892, 0.008960321829835803), (2452, 0.008928851256492594), (4251, 0.00888903970550448), (4733, 0.008838233108981687), (937, 0.008831780822475915), (1986, 0.00878047090912161), (2441, 0.008761671036800603), (3881, 0.008752942972745745), (2307, 0.008735082727630857), (4421, 0.008684672904720098), (2204, 0.008674205682708498), (4722, 0.008664482848376256), (132, 0.00864769869061358), (3776, 0.008635007685617778), (4571, 0.00856290420012833), (2131, 0.008519250280749313), (4688, 0.008515568555645548), (1589, 0.00849518962297949), (4184, 0.008471254428766652), (3708, 0.00846235229662164), (3984, 0.00844920950770278), (826, 0.008437348717675819), (1286, 0.008424898567283545), (4623, 0.008422095793510265), (751, 0.008415846691365624), (899, 0.008415071469088908), (2448, 0.00840627016038516), (1036, 0.008388174853659789), (4599, 0.008381311187291135), (4579, 0.008375264238642445), (4726, 0.00835044706127443), (3551, 0.008310006971878411), (1360, 0.008307984637784269), (961, 0.008259380842027068), (197, 0.008244424188145388), (3604, 0.008240582313768827), (463, 0.008224916516532009), (2936, 0.008209942349744898), (1075, 0.008190703559751577), (2005, 0.008162373280407472), (2620, 0.008123752469410668), (2328, 0.00805747568161983), (793, 0.008016690812497746), (4336, 0.007993024713037046), (3855, 0.007977183989538688), (4728, 0.007923810642703123), (914, 0.007913190526755638), (4711, 0.007837056699156344), (2947, 0.007814879392546426), (4151, 0.007805521086693754), (1440, 0.0077837166835178), (2856, 0.007776021630989814), (2108, 0.007760093986126625), (1812, 0.007751233765243082), (3545, 0.007747582806168309), (1916, 0.00770103325459645), (2608, 0.0076897349005341595), (2345, 0.0076637033836461635), (2300, 0.007661799195665554), (2064, 0.007621229249605084), (2083, 0.007612814999778132), (2846, 0.007571638969276042), (3954, 0.007521771894937478), (4131, 0.007512969655247459), (1663, 0.007489220485400844), (1691, 0.0074816460054364185), (3821, 0.007475193627344596), (3989, 0.007451003407204766), (3992, 0.007439827817922613), (1732, 0.007370667678481448), (3842, 0.007369124358660068), (3898, 0.007366032983965546), (801, 0.007353260209969787), (2471, 0.007351272320448464), (3808, 0.007324697106205818), (3634, 0.007321729370116951), (1129, 0.0073173867131389415), (17, 0.007300455868679292), (2031, 0.00727328701324093), (2897, 0.007240398935297903), (3283, 0.0072199245712606394), (1960, 0.007195418763340071), (1572, 0.007173647220383832), (3062, 0.007110318455084701), (3056, 0.007069768897348923), (2496, 0.007066085339225586), (1327, 0.0070357266057292705), (2871, 0.006932028303133065), (2334, 0.006916194195053199), (4091, 0.006889412018710995), (709, 0.0068637777158666174), (3988, 0.006776529892859819), (3563, 0.006756907430126579), (1570, 0.006731899914736068), (4105, 0.00666115331515468), (4300, 0.00662434328116898), (2060, 0.006561651649531181), (3943, 0.006540454574952223), (1429, 0.006499110218674652), (2526, 0.006499109619153714), (3998, 0.006473082479734583), (4739, 0.006468555609740247), (4680, 0.00645604772622867), (2289, 0.0064548094087073845), (795, 0.006452944285782724), (2472, 0.006415820123309812), (901, 0.006403464761810014), (2768, 0.006379484480085809), (1745, 0.006365142488864654), (1293, 0.006352883228523204), (2886, 0.00635217176501866), (580, 0.006333351912217658), (4083, 0.006189040264197275), (296, 0.0061810030093786585), (3848, 0.006176616495132901), (190, 0.0061471201402269375), (535, 0.00607119985408327), (3197, 0.005964120833545851), (4542, 0.005957732500385512), (397, 0.00592829272448942), (4333, 0.005922743584753122), (4369, 0.0058965925677328165), (3595, 0.005895865034446164), (1989, 0.005882891783472233), (3967, 0.005834621635712641), (4690, 0.005781254404041246), (2941, 0.005713033912767844), (2676, 0.005687867936507588), (2025, 0.005634809843167413), (567, 0.005629586860850475), (1514, 0.005559413367974845), (487, 0.005482162342650523), (4044, 0.005454962378568348), (4125, 0.00540231447806368), (3936, 0.005365396751744234), (797, 0.005321379770757222), (503, 0.005294369886240698), (1018, 0.005278494020752348), (4041, 0.005276982033055854), (1708, 0.0052544740455983795), (4036, 0.005251689541994795), (4700, 0.005236553333759382), (4185, 0.005219946533469609), (1049, 0.005180646857685194), (3669, 0.005149355041968477), (1921, 0.005129129315962485), (1298, 0.005085461817331769), (1811, 0.005082285042657797), (4539, 0.0050797401655504676), (3713, 0.005061992737918426), (361, 0.005031641424514021), (667, 0.004958153991994285), (4121, 0.004866973238888947), (2500, 0.004804397479500165), (1685, 0.0047199122085378456), (3041, 0.004715676696191119), (1141, 0.004693661430352801), (1881, 0.004618433253061342), (4291, 0.004586956859441618), (1064, 0.004572149970654214), (4671, 0.004565905478577438), (4058, 0.004550893363869674), (2659, 0.004531672184605258), (4476, 0.00448417842990949), (4069, 0.004317564624171829), (1813, 0.004314294644740696), (2346, 0.004250811404747088), (2923, 0.004247725786252508), (3495, 0.004246917534890202), (2468, 0.004235901227261915), (431, 0.004233077555928093), (4253, 0.004195590071485226), (4446, 0.004192773823548578), (2325, 0.004107621008924906), (4254, 0.00410305571339324), (3640, 0.004077440256364654), (2875, 0.0039078847632738455), (2445, 0.003774386586020876), (2987, 0.0036744084051709043), (1154, 0.0036350266675808413), (2253, 0.0036113714998805965), (3329, 0.003597663380147562), (3889, 0.003552360545936572), (4434, 0.0035266209860394934), (4484, 0.0035170951237933753), (4710, 0.0034714131849360058), (4686, 0.0034204383859461943), (230, 0.003216188813802768), (3241, 0.0032028491047279587), (3863, 0.0031686492544661504), (4098, 0.003067306040145421), (2214, 0.003058786553249236), (1851, 0.003001468741601138), (2602, 0.0027849734098921285), (4301, 0.002778202436569433), (3025, 0.0027337036272145026), (1311, 0.0026724294634215195), (3971, 0.0026076632715391302), (2282, 0.002422938472835863), (2002, 0.002378991770113521), (3836, 0.0021851967574433276), (2657, 0.001653884975233667), (3072, 0.0014592284858223168), (3119, 0.0014277188716812586), (2249, 0.001416451883540133), (1938, 0.0014045504063713067), (1353, 0.0013448694842722964), (1628, 0.0013193174880972108), (972, 0.0012911927626838007), (4759, 0.001262761750273455), (4359, 0.001216691104116992), (1227, 0.0011958889204876717), (2806, 0.0006989565942878053), (1051, 0.0006689278879037934), (3762, 0.0006257580618450001), (3224, 0.0006162364625533074), (71, 0.0006041387887418987), (4702, 0.0005526835058749552), (2787, 0.0005151564598895257), (3676, 0.00016353525284118476), (4561, 0.0), (4729, 0.0)]\n"
          ]
        }
      ]
    },
    {
      "cell_type": "code",
      "source": [
        "print('Top 30 Movies Suggested for You : \\n')\n",
        "i = 1\n",
        "for movie in Sorted_Similar_Movies:\n",
        "  index = movie[0]\n",
        "  title_from_index = df[df.index==index]['Movie_Title'].values[0]\n",
        "  if (i<31):\n",
        "    print(i, '.', title_from_index)\n",
        "    i+=1"
      ],
      "metadata": {
        "colab": {
          "base_uri": "https://localhost:8080/"
        },
        "id": "Z6rUFdXQd-Io",
        "outputId": "90970fde-2b03-4bf0-d0a6-7974c0e22773"
      },
      "execution_count": null,
      "outputs": [
        {
          "output_type": "stream",
          "name": "stdout",
          "text": [
            "Top 30 Movies Suggested for You : \n",
            "\n",
            "1 . Niagara\n",
            "2 . The Ballad of Jack and Rose\n",
            "3 . The Greatest\n",
            "4 . The Rose\n",
            "5 . Silent Hill\n",
            "6 . Sky Captain and the World of Tomorrow\n",
            "7 . Among Giants\n",
            "8 . Blow\n",
            "9 . Novocaine\n",
            "10 . Shopgirl\n",
            "11 . Insidious\n",
            "12 . Titanic\n",
            "13 . Knowing\n",
            "14 . It's a Wonderful Life\n",
            "15 . Wicker Park\n",
            "16 . Dead Like Me: Life After Death\n",
            "17 . If I Stay\n",
            "18 . Good Night, and Good Luck.\n",
            "19 . My Week with Marilyn\n",
            "20 . Teeth\n",
            "21 . Two Evil Eyes\n",
            "22 . Rushmore\n",
            "23 . What's Love Got to Do with It\n",
            "24 . George of the Jungle\n",
            "25 . H.\n",
            "26 . The Princess and the Frog\n",
            "27 . Forrest Gump\n",
            "28 . The Net\n",
            "29 . Bang\n",
            "30 . The Exorcist\n"
          ]
        }
      ]
    },
    {
      "cell_type": "code",
      "source": [
        "Movie_Name = input('Enter your favourite movie name : ')\n",
        "list_of_all_titles = df['Movie_Title'].tolist()\n",
        "Find_Close_Match = difflib.get_close_matches(Movie_Name, list_of_all_titles)\n",
        "Close_Match = Find_Close_Match[0]\n",
        "Index_of_Movie = df[df.Movie_Title == Close_Match]['Movie_ID'].values[0]\n",
        "Recommendation_Score = list(enumerate(Similarity_Score[Index_of_Movie]))\n",
        "sorted_similar_movies = sorted(Recommendation_Score, key = lambda x:x[1], reverse = True)\n",
        "print(\"Top 10 Movies suggested for you :\\n\")\n",
        "i = 1\n",
        "for movie in sorted_similar_movies:\n",
        "  index = movie[0]\n",
        "  title_from_index = df[df.Movie_ID==index]['Movie_Title'].values\n",
        "  if (i<11):\n",
        "    print(i,'.', title_from_index)\n",
        "    i+=1"
      ],
      "metadata": {
        "colab": {
          "base_uri": "https://localhost:8080/"
        },
        "id": "RTWS1iK3e1Eu",
        "outputId": "d511003b-84a3-47ec-a991-f108fed0dee3"
      },
      "execution_count": null,
      "outputs": [
        {
          "output_type": "stream",
          "name": "stdout",
          "text": [
            "Enter your favourite movie name : avtaar\n",
            "Top 10 Movies suggested for you :\n",
            "\n",
            "1 . ['Avatar']\n",
            "2 . ['Agent Cody Banks 2: Destination London']\n",
            "3 . ['Marci X']\n",
            "4 . ['Serenity']\n",
            "5 . ['Big Fish']\n",
            "6 . ['Martian Child']\n",
            "7 . ['The Incredible Burt Wonderstone']\n",
            "8 . ['The Transporter']\n",
            "9 . [\"But I'm a Cheerleader\"]\n",
            "10 . ['Born on the Fourth of July']\n"
          ]
        }
      ]
    },
    {
      "cell_type": "code",
      "source": [],
      "metadata": {
        "id": "K25HXBP7hekm"
      },
      "execution_count": null,
      "outputs": []
    }
  ]
}